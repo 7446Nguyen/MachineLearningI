{
 "cells": [
  {
   "cell_type": "markdown",
   "metadata": {
    "colab_type": "text",
    "id": "fbCFSJkrZknc"
   },
   "source": [
    "# Project 2: Classification\n",
    "**Group 5:** Jeff Nguyen, William Hinton, Adam Ruthford  \n",
    "**05JUL2020**"
   ]
  },
  {
   "cell_type": "markdown",
   "metadata": {
    "colab_type": "text",
    "id": "KWZO5VxSZkne"
   },
   "source": [
    "# Data Preparation 1"
   ]
  },
  {
   "cell_type": "markdown",
   "metadata": {
    "colab_type": "text",
    "id": "gQ4fiALTZkno"
   },
   "source": [
    "Initial data cleaning and preparation code was derived from **Project 1**, where data types and null values were addressed.  Data were first imported into a pandas dataframe, followed by each feature getting set to the appropriate data type based on data dictionary definitions.  For example, features that have currencies are set to the float data type as they are a continuous feature; whereas features like **NewExist** is categorical in nature and set to the object data type."
   ]
  },
  {
   "cell_type": "code",
   "execution_count": 1,
   "metadata": {
    "colab": {
     "base_uri": "https://localhost:8080/",
     "height": 53
    },
    "colab_type": "code",
    "id": "ZikYRgAFZkno",
    "outputId": "3a695b12-a1ce-43f9-8f0f-9184459a20bc"
   },
   "outputs": [
    {
     "name": "stderr",
     "output_type": "stream",
     "text": [
      "C:\\ProgramData\\Anaconda3\\lib\\site-packages\\IPython\\core\\interactiveshell.py:3049: DtypeWarning: Columns (9) have mixed types. Specify dtype option on import or set low_memory=False.\n",
      "  interactivity=interactivity, compiler=compiler, result=result)\n"
     ]
    }
   ],
   "source": [
    "#Import data manipulation, vizulization, and ML Packages\n",
    "import pandas as pd\n",
    "\n",
    "#load data into pandas dataframe\n",
    "#loans = pd.read_csv('C:/Users/Jeff/Desktop/ML1/SBAnational.csv')\n",
    "loans = pd.read_csv('C:\\Data\\DS7331\\Project\\should-this-loan-be-approved-or-denied/SBAnational.csv')"
   ]
  },
  {
   "cell_type": "markdown",
   "metadata": {
    "colab_type": "text",
    "id": "jveFCBkTZkoI"
   },
   "source": [
    "**DisbursementGross**, **BalanceGross**, **ChgOffPrinGr**, **GrAppv**, **SBA_Appv** are features that deal with currency and are coded as strings which include '$' and ',' characters. Used this website for help with [converting currency to float.](\n",
    "https://stackoverflow.com/questions/32464280/converting-currency-with-to-numbers-in-python-pandas)\n",
    "\n",
    "To treat these features as continuous data the special characters were removed, and the data was converted to the float data type.  This will allow for the data to be used by methods that utilize continous data.  **ApprovalDate**, **ChgOffDate**, and **DisbursementDate** are features that contain dates and were converted to the date/time data type.  This will be usefull for potential time series analysis.  **NewExist** is a categorical feature but has a float data type.  This feature was converted to an integer data type since float is better suited for continuous data.  **Zip**, **NAICS**, **FranchiseCode** are nominal features, but will be converted to strings for ease of manipulation and data cleaning."
   ]
  },
  {
   "cell_type": "code",
   "execution_count": 2,
   "metadata": {
    "colab": {},
    "colab_type": "code",
    "id": "4EHw49FdZknt"
   },
   "outputs": [],
   "source": [
    "import numpy as np\n",
    "\n",
    "# Create lists of features that need their data types converted\n",
    "currency = ['DisbursementGross','BalanceGross','ChgOffPrinGr','GrAppv','SBA_Appv']\n",
    "date = ['ApprovalDate','ChgOffDate','DisbursementDate']\n",
    "cat_variables = ['Zip']\n",
    "\n",
    "# Convert features to appropriate data types\n",
    "loans[currency] = loans[currency].replace('[\\$,]', '', regex=True).astype(float)\n",
    "loans[date]= loans[date].astype(np.datetime64)\n",
    "loans['NewExist'] = loans['NewExist'].astype('Int64')\n",
    "loans[cat_variables] = loans[cat_variables].astype(str)"
   ]
  },
  {
   "cell_type": "markdown",
   "metadata": {
    "colab_type": "text",
    "id": "1KanFqxwrQmg"
   },
   "source": [
    "Several null values were also present in the City and State features. City contained 14 null values and State contained 30 null values. Both features describe the loan applicant's address information. For City null values, zip codes from the Zip feature and the United States Postal Service Zip Code Lookup tool (https://tools.usps.com/zip-code-lookup.htm?citybyzipcode) were used to identify the correct city or state name. Two zip-codes in City feature and two zip-codes in the State feature did not return a city in the United States and were left as 'NaN'. Since there are only 4 rows of data that do not have proper city or state data, they will be kept or removed depending on the machine learning algorithm used."
   ]
  },
  {
   "cell_type": "code",
   "execution_count": 3,
   "metadata": {
    "colab": {},
    "colab_type": "code",
    "id": "JDFMgqwPZknx"
   },
   "outputs": [],
   "source": [
    "# Replace City NA with appropriate state/city name\n",
    "cityList = ['Salt Lake City','New Orleans','Chicago','Chicago','San Diego','San Diego','San Diego','San Diego',\n",
    "            'San Diego','San Diego','Clevland','St. Louis','St. Louis','St. Louis','St. Louis','St. Louis',\n",
    "            'St. Louis','Seattle','Des Moines','San Antonio','Kansas City','Kansas City','Quincy','Quincy','Boston',\n",
    "            'NaN','NaN','Louisville','Wilmington','Flint']\n",
    "stateList = ['NaN','NaN','CA','AP','KS','TX','FL','WI','NJ','UT','MO','TX','TX','TX']\n",
    "\n",
    "#Replace Cities with NAs with appropriate City or State    \n",
    "loans.loc[loans.City.isnull(),'City'] = cityList\n",
    "loans.loc[loans.State.isnull(),'State'] = stateList"
   ]
  },
  {
   "cell_type": "markdown",
   "metadata": {
    "colab_type": "text",
    "id": "77v4TNEG6GgC"
   },
   "source": [
    "A new feature called **difference_in_days** was created by subtracting ApprovalDate minus DisbursementDate.  This will explain the relationship between time the loan was approved to disburment date. There may be some correlation to why a loan is defaulted on depending on disbursement date."
   ]
  },
  {
   "cell_type": "code",
   "execution_count": 4,
   "metadata": {
    "colab": {},
    "colab_type": "code",
    "id": "Bi4lLS5IG8Wz"
   },
   "outputs": [],
   "source": [
    "#Create new Time feature and convert to int\n",
    "from datetime import datetime, timedelta\n",
    "d1 = loans.DisbursementDate\n",
    "d2 = loans.ApprovalDate\n",
    "def days_between(d1, d2):\n",
    "    d1 = datetime.strptime(d1, \"%d-%m-%Y\")\n",
    "    d2 = datetime.strptime(d2, \"%d-%m-%Y\")\n",
    "    return abs((d2 - d1).days)\n",
    "\n",
    "difference_in_days = abs((d2-d1))/ timedelta(days=1)\n",
    "\n",
    "loans['difference_in_days'] = difference_in_days"
   ]
  },
  {
   "cell_type": "markdown",
   "metadata": {
    "colab_type": "text",
    "id": "EdyD9nqyraa_"
   },
   "source": [
    "Addressing 1997 null records for MIS_Status was unique in that it was depedent on several attributes in the dataset. There were four different combinations of code used to address the null records for this feature. The first combination identified null values that had a non-null value in the ChgOffDate feature and that the ChgOffPrinGr feature was not equal to zero; this combination of conditional requirements identified records that defaulted and had a charge off balance and renamed the null values as \"CHGOFF\". The second combination identified null values where DisbursementDate was not null and the BalanceGross was equal to zero; this combination of features identifies records that did not receive funds and do not have a balance, this labeled the null values as \"P I F\". The third and fourth combination identify null MIS_Status records where funds were not disbursed by checking DisbursementGross and BalanceGross features. If the DisbursementGross was zero or null and the BalanceGross was 0, the missing data was labels as \"Not Disbursed\".\n"
   ]
  },
  {
   "cell_type": "code",
   "execution_count": 5,
   "metadata": {
    "colab": {},
    "colab_type": "code",
    "id": "keGIuZ1cZkn6"
   },
   "outputs": [],
   "source": [
    "#--------------------------------------------------------------------------------------------------------------------\n",
    "#Fill In NaN fields\n",
    "loans.dropna(subset = ['Name'], inplace = True)\n",
    "loans[\"Bank\"].fillna(\"Not Listed\", inplace = True) \n",
    "loans[\"BankState\"].fillna(\"Not Listed\", inplace = True) \n",
    "loans['NewExist'].fillna(0, inplace = True)\n",
    "loans['RevLineCr'].fillna(\"Not Provided\", inplace = True)\n",
    "loans['LowDoc'].fillna(\"Not Provided\", inplace = True)\n",
    "loans['ChgOffDate'].fillna(\"0000-00-00\",inplace = True)\n",
    "loans['DisbursementDate'].fillna(\"0000-00-00\",inplace = True)\n",
    "\n",
    "#Replace NaT MIS_status with CHGOFF if their ChgOffDate is not null\n",
    "#If MIS_Status has value, \n",
    "loans['MIS_Status'].mask((loans['MIS_Status'].isnull()) & \n",
    "                         ((loans['ChgOffDate'].notnull()) |\n",
    "                          (loans['ChgOffPrinGr']!=0.0)),'CHGOFF',inplace=True) \n",
    "\n",
    "loans['MIS_Status'].mask((loans['MIS_Status'].isnull()) &\n",
    "                         (loans['DisbursementDate'].notnull()) & \n",
    "                         (loans['BalanceGross']==0.0),'P I F',inplace=True)\n",
    "\n",
    "loans['MIS_Status'].mask((loans['MIS_Status'].isnull()) &\n",
    "                         (loans['DisbursementGross'].isnull()) & \n",
    "                         (loans['BalanceGross']==0.0),'Not Disbursed',inplace=True)\n",
    "\n",
    "loans['MIS_Status'].mask((loans['MIS_Status'].isnull()) &\n",
    "                         (loans['DisbursementGross']==0.0) & \n",
    "                         (loans['BalanceGross']==0.0),'Not Disbursed',inplace=True)\n",
    "\n",
    "#--------------------------------------------------------------------------------------------------------------------\n",
    "loans['MIS_Status'].replace(to_replace = 'P I F', value = 1, inplace = True)\n",
    "loans['MIS_Status'].replace(to_replace = 'CHGOFF', value = 0, inplace = True)"
   ]
  },
  {
   "cell_type": "markdown",
   "metadata": {
    "colab_type": "text",
    "id": "bggH3PV8Zkn9"
   },
   "source": [
    "After null values were removed, the index was reset for the loans data frame.  When rows are removed from a data frame, the index for that row remains.  If the indcies are not reset, null values will be assigned to indicies that had rows removed. Since sklearn algorithms require matricies and arrays, when a data frame with surplus incies are converted to a matrix, there will be a shape mismatch causing an error.  The .info() function was run to check on null values and the range index."
   ]
  },
  {
   "cell_type": "code",
   "execution_count": 6,
   "metadata": {
    "colab": {},
    "colab_type": "code",
    "id": "kQXVveN2AlpL"
   },
   "outputs": [],
   "source": [
    "loans = loans.dropna()#drops 14 records\n",
    "loans = loans.reset_index(drop=True) #resets index, important when converting to array"
   ]
  },
  {
   "cell_type": "code",
   "execution_count": 7,
   "metadata": {
    "colab": {
     "base_uri": "https://localhost:8080/",
     "height": 654
    },
    "colab_type": "code",
    "id": "1SSyeIdrZkn-",
    "outputId": "4b027b48-08d1-4935-a804-96d47e3a8c8a"
   },
   "outputs": [
    {
     "name": "stdout",
     "output_type": "stream",
     "text": [
      "<class 'pandas.core.frame.DataFrame'>\n",
      "RangeIndex: 896782 entries, 0 to 896781\n",
      "Data columns (total 28 columns):\n",
      "LoanNr_ChkDgt         896782 non-null int64\n",
      "Name                  896782 non-null object\n",
      "City                  896782 non-null object\n",
      "State                 896782 non-null object\n",
      "Zip                   896782 non-null object\n",
      "Bank                  896782 non-null object\n",
      "BankState             896782 non-null object\n",
      "NAICS                 896782 non-null int64\n",
      "ApprovalDate          896782 non-null datetime64[ns]\n",
      "ApprovalFY            896782 non-null object\n",
      "Term                  896782 non-null int64\n",
      "NoEmp                 896782 non-null int64\n",
      "NewExist              896782 non-null Int64\n",
      "CreateJob             896782 non-null int64\n",
      "RetainedJob           896782 non-null int64\n",
      "FranchiseCode         896782 non-null int64\n",
      "UrbanRural            896782 non-null int64\n",
      "RevLineCr             896782 non-null object\n",
      "LowDoc                896782 non-null object\n",
      "ChgOffDate            896782 non-null object\n",
      "DisbursementDate      896782 non-null object\n",
      "DisbursementGross     896782 non-null float64\n",
      "BalanceGross          896782 non-null float64\n",
      "MIS_Status            896782 non-null int64\n",
      "ChgOffPrinGr          896782 non-null float64\n",
      "GrAppv                896782 non-null float64\n",
      "SBA_Appv              896782 non-null float64\n",
      "difference_in_days    896782 non-null float64\n",
      "dtypes: Int64(1), datetime64[ns](1), float64(6), int64(9), object(11)\n",
      "memory usage: 192.4+ MB\n"
     ]
    }
   ],
   "source": [
    "loans.info()"
   ]
  },
  {
   "cell_type": "markdown",
   "metadata": {
    "colab_type": "text",
    "id": "s7TWKfMGZkoB"
   },
   "source": [
    "## Response and Explanatory Feature Descriptions, and Feature Engineering"
   ]
  },
  {
   "cell_type": "markdown",
   "metadata": {
    "colab_type": "text",
    "id": "OeCRoXsYZkoC"
   },
   "source": [
    "### Response Feature\n",
    "\n",
    "Three features in the SBAnational dataset can serve as response variables.  Two are continuous and one is categorical.  These features were choosen to be response variables as they are good indicators of loan success or failure.\n",
    "\n",
    "**CreateJob and RetainedJob:** These columns are presented as an integer. The column records the number of jobs created or retained, respectively. These variables cannot be used as explanatory variables as they indicate the success of the loan. They are a proxy for loan success. However, these variables can be used as the response variable in a model that would attempt to maximize job creation and or retention. Thus, any of these response terms correlated with explanatory terms are significant and noteworthy due to their possible predictive power.  Since we are more interested in the classification of accounts having paid in full or were charged off; these featuers will be exclued from the model.\n",
    "\n",
    "**MIS_Status:** This column is presented as an object/string. The column is categorical data with values \"P I F\" and \"CHGOFF\". This column is the main response column of the dataset.  This feature will be used to determine if a loan has succeeded or failed, where 'P I F' is a success, and a 'CHGOFF' is a failure.  Approximately 18% of loans were marked for a 'CHGOFF' and 82% successful repaid their loans.  This feature will serve as the response feature for our logistic and SVM models as it is dichotmous and indicates weither or not a loan applicant has paid their loan back or not.  **MIS_Status** will also be converted to numeric values instead of character for use in the model."
   ]
  },
  {
   "cell_type": "code",
   "execution_count": 8,
   "metadata": {
    "colab": {
     "base_uri": "https://localhost:8080/",
     "height": 443
    },
    "colab_type": "code",
    "id": "gSSjGbNHZkoD",
    "outputId": "40053d47-8ea1-41ad-cec9-e4a5686e0563"
   },
   "outputs": [],
   "source": [
    "import matplotlib.pyplot as plt\n",
    "import seaborn as sns\n",
    "\n",
    "plt.figure(figsize=(8, 6))\n",
    "ax = sns.countplot(x =loans['MIS_Status'] )\n",
    "plt.title(\"Response Feature (MIS_Status) Frequency\",fontsize= 16)\n",
    "\n",
    "for p in ax.patches:\n",
    "    ax.annotate(p.get_height(),\n",
    "                (p.get_x() + p.get_width() / 2, p.get_height()),  ha = 'center', va = 'center', \n",
    "                xytext = (0, 10), textcoords = 'offset points')"
   ]
  },
  {
   "cell_type": "markdown",
   "metadata": {
    "colab_type": "text",
    "id": "5aTrYJbMZkoG"
   },
   "source": [
    "### Explanatory Features"
   ]
  },
  {
   "cell_type": "markdown",
   "metadata": {
    "colab_type": "text",
    "id": "bPT-5l1lZkoH"
   },
   "source": [
    "**ApprovalDate**, **DisbursementDate**, and **ChgOffDate** are features that contain dates.  Since there are a large volume of dates, these features would not be suited for conversion to categorical features unless they were binned.  **ApprovalFY** is similar to **ApprovalDate** and may better be suited for use in the model; this feature can be binned to reduce the number of levels in the feature. This model does not address time series analysis or autocorrelation structures.  If a record contains a value from **ChgOffDate**, then the loan defaulted.  This information is more sussenctly captured in the **MIS_Status** level 'CHGOFF'; due to the redundancy **ChgOffDate** would be more useful in a new feature that captures a time difference with another time feild.\n",
    "\n",
    "One assumption for logistic regression is minimal multicollinearity.  **DisbursmentGross**, **GRAppv**, and **SBA_Appv** are highly correlated (r > 0.90) with each other as they all describe the amount of money that is given to a loan applicant. **SBA_Appv** will be kept, while **DisbursementGross** and **GrAppv** will be removed as they are both like **SBA_Appv**, but do not represent the final loan amount an applicant will receive.  Please see the correlation matrix in the **Data Preparation** section for more details.\n",
    "\n",
    "**LoannNr_ChkDgt** is the primary key for this dataset.  There are large removed. \n",
    "**Name** remove – there was no need to know the name of the loan applicate or business.\n",
    "**City** remove - how this might be useful we decided that there is no need to have city due to loans can originate from different cities where the applicant works and uses the loan. \n",
    "**Zip** remove – it is ideal to have the zip code of where the loan originated so we can see where the demographics of most loans are generated but that is not part of this exercise, so we got rid of the zip. \n",
    "**BankState** remove – this is not good to use because well known banks will be in most popular area and not the rural area. The demographic is skewed as we have identified in the bank state demographic graph. \n",
    "**ChgOffDate** remove – once a loan has defaulted, there is a charge off date. We are not using it. \n",
    "**Term** keep – this is a good indicator to determine if the loan will be defaulted due to the terms, some loans have short terms and most of them have long terms. \n",
    "**NoEmp** keep – this is the number of employees generated from the loan.  \n",
    "**FranchiseCode** keep – this indicates what type of businesses are requesting loans and which ones are likely to pay back the loan.  \n",
    "**BalanceGross** keep – this variable indicates how much needs to be repaid. Larger loan might have large balances if they are not paid back quickly.  \n"
   ]
  },
  {
   "cell_type": "markdown",
   "metadata": {
    "colab_type": "text",
    "id": "-lvRtp_vZkoJ"
   },
   "source": [
    "### Feature Engineering"
   ]
  },
  {
   "cell_type": "markdown",
   "metadata": {
    "colab_type": "text",
    "id": "QbZNiPlHZkoJ"
   },
   "source": [
    "**State**, **Bank**, **NAICS**, **ApprovalFY, **NewExist**, **UrbanRural**, **RevlineCr**, and **LowDoc** are features that require binning and/or one-hot-encoding.  These features may require additional cleaning and may have many categories.  Consolidating the number of categories can assist with reducing overfitting and reduce the computational load it would take to find weights for the numerous levels that exist in some of the features."
   ]
  },
  {
   "cell_type": "markdown",
   "metadata": {
    "colab_type": "text",
    "id": "TT_AiPgEZkoL"
   },
   "source": [
    "#### Categorical Features"
   ]
  },
  {
   "cell_type": "markdown",
   "metadata": {
    "colab_type": "text",
    "id": "4wj0HCfOZkoL"
   },
   "source": [
    "**Bank** contains over 5,803 unique levels.  Using this many levels in a model may lead to overfitting.  To avoid this situation the large volume of banks will be reduced by consolidating and binning into nine bins.  These bins will contain the top eight banks, and an 'other' category containing the other smaller banks.  The other category was created by renaming all banks that were not in the 'major_banks' list to 'other'.  The .describe() function was then run on the modified feature to confirm that the correct number of categories were created."
   ]
  },
  {
   "cell_type": "code",
   "execution_count": 9,
   "metadata": {
    "colab": {
     "base_uri": "https://localhost:8080/",
     "height": 308
    },
    "colab_type": "code",
    "id": "vfrlck4sZkoP",
    "outputId": "e32ccc57-a205-4f5b-daeb-e20a09786d19"
   },
   "outputs": [
    {
     "data": {
      "text/plain": [
       "BANK OF AMERICA NATL ASSOC        86498\n",
       "WELLS FARGO BANK NATL ASSOC       63371\n",
       "JPMORGAN CHASE BANK NATL ASSOC    47730\n",
       "U.S. BANK NATIONAL ASSOCIATION    35068\n",
       "CITIZENS BANK NATL ASSOC          34861\n",
       "PNC BANK, NATIONAL ASSOCIATION    27285\n",
       "BBCN BANK                         22887\n",
       "CAPITAL ONE NATL ASSOC            22244\n",
       "MANUFACTURERS & TRADERS TR CO     11246\n",
       "READYCAP LENDING, LLC             10656\n",
       "THE HUNTINGTON NATIONAL BANK       9587\n",
       "KEYBANK NATIONAL ASSOCIATION       9249\n",
       "TD BANK, NATIONAL ASSOCIATION      8982\n",
       "BRANCH BK. & TR CO                 8251\n",
       "ZIONS FIRST NATIONAL BANK          7943\n",
       "Name: Bank, dtype: int64"
      ]
     },
     "execution_count": 9,
     "metadata": {},
     "output_type": "execute_result"
    }
   ],
   "source": [
    "loans['Bank'].value_counts().head(15)"
   ]
  },
  {
   "cell_type": "code",
   "execution_count": 10,
   "metadata": {
    "colab": {},
    "colab_type": "code",
    "id": "9j2Ek81CZkoT"
   },
   "outputs": [],
   "source": [
    "# Banks create buckets for top 19 banks + other\n",
    "major_bank = ['BANK OF AMERICA NATL ASSOC', 'WELLS FARGO BANK NATL ASSOC',\n",
    "              'JPMORGAN CHASE BANK NATL ASSOC','U.S. BANK NATIONAL ASSOCIATION',\n",
    "              'CITIZENS BANK NATL ASSOC','PNC BANK, NATIONAL ASSOCIATION',\n",
    "             'BBCN BANK','CAPITAL ONE NATL ASSOC']\n",
    "\n",
    "loans.loc[~loans[\"Bank\"].isin(major_bank), \"Bank\"] = \"Other\""
   ]
  },
  {
   "cell_type": "markdown",
   "metadata": {
    "colab_type": "text",
    "id": "ybwRZPI0ZkoV"
   },
   "source": [
    "A barchart was also created for the modified **Bank** to visually confirm that there are eight major banks followed by an 'other' category.  We can see that the Bank of America is one of the larger banks by loan applicaiton volume followed by Wells Fargo.  However, many loans are aquired through other banks, perhaps many of them local.  A for loop was applied to show the frequencies of loans that the banks have per bin."
   ]
  },
  {
   "cell_type": "code",
   "execution_count": 11,
   "metadata": {
    "colab": {
     "base_uri": "https://localhost:8080/",
     "height": 536
    },
    "colab_type": "code",
    "id": "d3sGQ_9NZkoW",
    "outputId": "096ac271-c3c9-4615-f715-d0a171790833"
   },
   "outputs": [
    {
     "data": {
      "image/png": "[encoded data removed]",
      "text/plain": [
       "<Figure size 720x432 with 1 Axes>"
      ]
     },
     "metadata": {
      "needs_background": "light"
     },
     "output_type": "display_data"
    }
   ],
   "source": [
    "plt.figure(figsize=(10, 6))\n",
    "ax = sns.countplot(x =loans['Bank'] )\n",
    "plt.title(\"Bank Requency\",fontsize= 16)\n",
    "plt.xticks(rotation=45, horizontalalignment='right', fontweight='light', fontsize='medium')\n",
    "\n",
    "for p in ax.patches:#provides frequency counts\n",
    "    ax.annotate(p.get_height(),\n",
    "                (p.get_x() + p.get_width() / 2, p.get_height()),  ha = 'center', va = 'center', \n",
    "                xytext = (0, 10), textcoords = 'offset points')"
   ]
  },
  {
   "cell_type": "markdown",
   "metadata": {
    "colab_type": "text",
    "id": "Lkbm0XdiZkoa"
   },
   "source": [
    "The North American Industry Classification System (**NAICS**) is used to classify a business into 19+ sectors that specialize in different services.  To reduce the number of levels, sectors were grouped based on similar attributes. The list of sectors can be viewed in the 'Data Dictionary' section of this link:https://www.kaggle.com/mirbektoktogaraev/should-this-loan-be-approved-or-denied?select=SBAnational.csv \n",
    "\n",
    "Sectors were grouped by the first digit in their code as seen below:\n",
    "- 1 Agriculture\n",
    "- 2 Mining, Utilities, Construction\n",
    "- 3 Manufacturing\n",
    "- 4 Trade and Transportation\n",
    "- 5 Professional and Scientific\n",
    "- 6 Education and Health\n",
    "- 7 Arts and Hospitality\n",
    "- 8 other\n",
    "- 9 Public Administration\n"
   ]
  },
  {
   "cell_type": "code",
   "execution_count": 12,
   "metadata": {
    "colab": {},
    "colab_type": "code",
    "id": "_hN9Q-5RZkoa"
   },
   "outputs": [],
   "source": [
    "# create NAICS bins for 0,1,2,3,4,5,6,7,8,9\n",
    "'NAICS'\n",
    "loans['NAICS'].replace(to_replace = 0, value = 800000, inplace = True)\n",
    "loans['NAICS']= pd.cut(loans['NAICS'],\n",
    "                       [100000,200000,300000,400000,500000,600000,700000,800000,900000,1000000],\n",
    "                       labels = ['1','2','3','4','5','6','7','8','9'])"
   ]
  },
  {
   "cell_type": "code",
   "execution_count": 13,
   "metadata": {
    "colab": {
     "base_uri": "https://localhost:8080/",
     "height": 408
    },
    "colab_type": "code",
    "id": "jr2LtIcMZkod",
    "outputId": "b9154b0f-6c0b-4af4-88f5-e9b12f3aef23"
   },
   "outputs": [
    {
     "data": {
      "image/png": "[encoded data removed]",
      "text/plain": [
       "<Figure size 720x432 with 1 Axes>"
      ]
     },
     "metadata": {
      "needs_background": "light"
     },
     "output_type": "display_data"
    }
   ],
   "source": [
    "plt.figure(figsize=(10, 6))\n",
    "ax = sns.countplot(x =loans['NAICS'] )\n",
    "plt.title(\"NAICS Sectors\",fontsize= 16)\n",
    "plt.xticks(rotation=45, horizontalalignment='right', fontweight='light', fontsize='medium')\n",
    "\n",
    "for p in ax.patches:\n",
    "    ax.annotate(p.get_height(),\n",
    "                (p.get_x() + p.get_width() / 2, p.get_height()), \n",
    "                ha = 'center', va = 'center', \n",
    "                xytext = (0, 10), textcoords = 'offset points')"
   ]
  },
  {
   "cell_type": "markdown",
   "metadata": {
    "colab_type": "text",
    "id": "3K9xDueGZkof"
   },
   "source": [
    "**ApprovalFY** has values from 1962 to 2014, with several values coded 1976A in an object format.  Since there is a large range of values and characters present in some of the values, 1976A will be converted to 1976, followed binning values by decade.  This will result in 5 bins.  We can see that after preforming the binning, the 2000-2010 bucket has the most values at 509174 loan applications.  The .describe funtion was run to confirm that the correct number of categories were created, followed by a barchart for visual inspection.  Many loan applications occured during the 2000-2010 decade, followed by the 1990-2000 decade."
   ]
  },
  {
   "cell_type": "code",
   "execution_count": 14,
   "metadata": {
    "colab": {
     "base_uri": "https://localhost:8080/",
     "height": 108
    },
    "colab_type": "code",
    "id": "OBPOiPwVZkog",
    "outputId": "0344f8df-596b-402d-b626-9e8ca18d5554"
   },
   "outputs": [],
   "source": [
    "# Create ApprovalFY buckets spread by decade, 1976A need to be cleaned\n",
    "loans['ApprovalFY'].replace(to_replace = '1976A', value = '1976', inplace = True)\n",
    "loans['ApprovalFY'] = loans['ApprovalFY'].astype(int)\n",
    "loans['ApprovalFY_decade']= pd.cut(loans['ApprovalFY'],[1970,1980,1990,2000,2010,2020])\n",
    "#loans['ApprovalFY_decade'].describe()"
   ]
  },
  {
   "cell_type": "code",
   "execution_count": 15,
   "metadata": {},
   "outputs": [],
   "source": [
    "# look at failure rate at month of term\n",
    "# decade loan becomes proxy for term\n",
    "# don't use this feature??? \n",
    "# charge off rate/"
   ]
  },
  {
   "cell_type": "code",
   "execution_count": 16,
   "metadata": {
    "colab": {
     "base_uri": "https://localhost:8080/",
     "height": 450
    },
    "colab_type": "code",
    "id": "MG8Hhj00Zkoj",
    "outputId": "cefdd813-23c0-4898-e749-b67a21d62beb"
   },
   "outputs": [
    {
     "data": {
      "image/png": "[encoded data removed]",
      "text/plain": [
       "<Figure size 720x432 with 1 Axes>"
      ]
     },
     "metadata": {
      "needs_background": "light"
     },
     "output_type": "display_data"
    }
   ],
   "source": [
    "#Bucket ApprovalFY by decade\n",
    "plt.figure(figsize=(10, 6))\n",
    "ax = sns.countplot(x =loans['ApprovalFY_decade'] )\n",
    "plt.title(\"ApprovalFY by Decade\",fontsize= 16)\n",
    "plt.xticks(rotation=45, horizontalalignment='right', fontweight='light', fontsize='medium')\n",
    "\n",
    "for p in ax.patches:\n",
    "    ax.annotate(p.get_height(),\n",
    "                (p.get_x() + p.get_width() / 2, p.get_height()), \n",
    "                ha = 'center', va = 'center', \n",
    "                xytext = (0, 10), textcoords = 'offset points')"
   ]
  },
  {
   "cell_type": "markdown",
   "metadata": {
    "colab_type": "text",
    "id": "YXtCnh2_Zkol"
   },
   "source": [
    "**RevLineCr**, or Revolving Line of Credit should have values coded \"Y\" or \"N\".  We can see that there are 18 categories when there should be two.  All values coded \"0\" were converted to \"N\"; all values with \"1\" were coded to \"Y\", and all character values were coded as \"N\".  A plot below confirms that after cleaning that there are two classes."
   ]
  },
  {
   "cell_type": "code",
   "execution_count": 17,
   "metadata": {
    "colab": {
     "base_uri": "https://localhost:8080/",
     "height": 376
    },
    "colab_type": "code",
    "id": "vaxqO16yZkom",
    "outputId": "86f06b69-57b7-4829-aebc-a1aba6bf37db"
   },
   "outputs": [
    {
     "data": {
      "text/plain": [
       "(array([ 0,  1,  2,  3,  4,  5,  6,  7,  8,  9, 10, 11, 12, 13, 14, 15, 16,\n",
       "        17, 18]), <a list of 19 Text xticklabel objects>)"
      ]
     },
     "execution_count": 17,
     "metadata": {},
     "output_type": "execute_result"
    },
    {
     "data": {
      "image/png": "[encoded data removed]",
      "text/plain": [
       "<Figure size 432x288 with 1 Axes>"
      ]
     },
     "metadata": {
      "needs_background": "light"
     },
     "output_type": "display_data"
    }
   ],
   "source": [
    "# RevLineCredit: delete special characters 14 total, recode numbers to letters\n",
    "ax = sns.countplot(x =loans['RevLineCr'] )\n",
    "plt.title(\"RevLineCr Frequencies\",fontsize= 16)\n",
    "plt.xticks(rotation=45, horizontalalignment='right', fontweight='light', fontsize='medium')"
   ]
  },
  {
   "cell_type": "code",
   "execution_count": 18,
   "metadata": {
    "colab": {
     "base_uri": "https://localhost:8080/",
     "height": 317
    },
    "colab_type": "code",
    "id": "bIJ84rA2Zkoo",
    "outputId": "cc33c194-bb49-4919-c0b5-91aa431e2296"
   },
   "outputs": [
    {
     "data": {
      "text/plain": [
       "(array([0, 1]), <a list of 2 Text xticklabel objects>)"
      ]
     },
     "execution_count": 18,
     "metadata": {},
     "output_type": "execute_result"
    },
    {
     "data": {
      "image/png": "[encoded data removed]",
      "text/plain": [
       "<Figure size 432x288 with 1 Axes>"
      ]
     },
     "metadata": {
      "needs_background": "light"
     },
     "output_type": "display_data"
    }
   ],
   "source": [
    "loans['RevLineCr'].replace(to_replace = ['Y','1'], value = 1, inplace = True)\n",
    "loans['RevLineCr'].replace(to_replace = ['N','0'], value = 0, inplace = True)\n",
    "no = ['T','`','Not Provided',\",\",'C','3','2','R','7','A','5','.','4',\"'\",'Q','-']\n",
    "loans['RevLineCr'].replace(to_replace = no, value = 0, inplace = True)\n",
    "\n",
    "ax = sns.countplot(x =loans['RevLineCr'] )\n",
    "plt.title(\"RevLineCr Frequencies\",fontsize= 16)\n",
    "plt.xticks(rotation=45, horizontalalignment='right', fontweight='light', fontsize='medium')"
   ]
  },
  {
   "cell_type": "markdown",
   "metadata": {
    "colab_type": "text",
    "id": "I5co8qWPZkor"
   },
   "source": [
    "**LowDoc** has 9 categories when it should have 3.  All values with \"Y\" will be coded as 1; values with \"N\" will be coded as 0; all other values will be coded as 0.  We can see that most loan applicants are not part of the LowDoc loan program in the barchart below.  After reorganization we can see that there are 2 categories with 0 being the largest with 788,817 records."
   ]
  },
  {
   "cell_type": "code",
   "execution_count": 19,
   "metadata": {
    "colab": {
     "base_uri": "https://localhost:8080/",
     "height": 376
    },
    "colab_type": "code",
    "id": "rGwoZ2nUZkou",
    "outputId": "700694e5-f230-4913-fa02-4385bc16205c"
   },
   "outputs": [
    {
     "data": {
      "text/plain": [
       "(array([0, 1, 2, 3, 4, 5, 6, 7, 8]), <a list of 9 Text xticklabel objects>)"
      ]
     },
     "execution_count": 19,
     "metadata": {},
     "output_type": "execute_result"
    },
    {
     "data": {
      "image/png": "[encoded data removed]",
      "text/plain": [
       "<Figure size 432x288 with 1 Axes>"
      ]
     },
     "metadata": {
      "needs_background": "light"
     },
     "output_type": "display_data"
    }
   ],
   "source": [
    "# LowDoc: covert everything to Y or N\n",
    "ax = sns.countplot(x =loans['LowDoc'] )\n",
    "plt.title(\"LowDoc Frequencies\",fontsize= 16)\n",
    "plt.xticks(rotation=45, horizontalalignment='right', fontweight='light', fontsize='medium')"
   ]
  },
  {
   "cell_type": "code",
   "execution_count": 20,
   "metadata": {
    "colab": {},
    "colab_type": "code",
    "id": "JBBCJ7qRZkow"
   },
   "outputs": [],
   "source": [
    "loans['LowDoc'].replace(to_replace = ['Y','1'], value = 1, inplace = True)\n",
    "loans['LowDoc'].replace(to_replace = ['N','0'], value = 0, inplace = True)\n",
    "no = ['C','S','Not Provided','S','R','A']\n",
    "loans['LowDoc'].replace(to_replace = no, value = 0, inplace = True)"
   ]
  },
  {
   "cell_type": "code",
   "execution_count": 21,
   "metadata": {
    "colab": {
     "base_uri": "https://localhost:8080/",
     "height": 317
    },
    "colab_type": "code",
    "id": "JfKfuChtZkoy",
    "outputId": "57c4dac9-8896-45f1-c986-81de8e34a163"
   },
   "outputs": [
    {
     "data": {
      "text/plain": [
       "(array([0, 1]), <a list of 2 Text xticklabel objects>)"
      ]
     },
     "execution_count": 21,
     "metadata": {},
     "output_type": "execute_result"
    },
    {
     "data": {
      "image/png": "[encoded data removed]",
      "text/plain": [
       "<Figure size 432x288 with 1 Axes>"
      ]
     },
     "metadata": {
      "needs_background": "light"
     },
     "output_type": "display_data"
    }
   ],
   "source": [
    "ax = sns.countplot(x =loans['LowDoc'] )\n",
    "plt.title(\"LowDoc Frequencies\",fontsize= 16)\n",
    "plt.xticks(rotation=45, horizontalalignment='right', fontweight='light', fontsize='medium')"
   ]
  },
  {
   "cell_type": "markdown",
   "metadata": {
    "colab_type": "text",
    "id": "zEULAVtxZko1"
   },
   "source": [
    "**FRANCHISE CODE** is a feature that describes if a business is a franchise or not and id denoted with '0' being no, and '1' being yes.  All records that were not coded as '0' were recoded to '1'.  Some examples of this would be records with 'Y', which would then be recoded to '1'.  The plot below confirms the cleaning and that two classes remain."
   ]
  },
  {
   "cell_type": "code",
   "execution_count": 22,
   "metadata": {
    "colab": {
     "base_uri": "https://localhost:8080/",
     "height": 408
    },
    "colab_type": "code",
    "id": "F76CLTq7Zko1",
    "outputId": "a891901d-8a36-4f0b-fc26-08ae98e1868f"
   },
   "outputs": [
    {
     "name": "stderr",
     "output_type": "stream",
     "text": [
      "C:\\ProgramData\\Anaconda3\\lib\\site-packages\\pandas\\core\\indexing.py:190: SettingWithCopyWarning: \n",
      "A value is trying to be set on a copy of a slice from a DataFrame\n",
      "\n",
      "See the caveats in the documentation: http://pandas.pydata.org/pandas-docs/stable/indexing.html#indexing-view-versus-copy\n",
      "  self._setitem_with_indexer(indexer, value)\n"
     ]
    },
    {
     "data": {
      "text/plain": [
       "(array([0, 1]), <a list of 2 Text xticklabel objects>)"
      ]
     },
     "execution_count": 22,
     "metadata": {},
     "output_type": "execute_result"
    },
    {
     "data": {
      "image/png": "[encoded data removed]",
      "text/plain": [
       "<Figure size 432x288 with 1 Axes>"
      ]
     },
     "metadata": {
      "needs_background": "light"
     },
     "output_type": "display_data"
    }
   ],
   "source": [
    "loans['FranchiseCode'].loc[(loans['FranchiseCode'] !=0)] = 1\n",
    "\n",
    "ax = sns.countplot(x =loans['FranchiseCode'] )\n",
    "plt.title(\"FranchiseCode Frequencies\",fontsize= 16)\n",
    "plt.xticks(rotation=45, horizontalalignment='right', fontweight='light', fontsize='medium')"
   ]
  },
  {
   "cell_type": "markdown",
   "metadata": {
    "colab_type": "text",
    "id": "PMsU-FAvZko4"
   },
   "source": [
    "There are over 50 categories for the **State** feature, where each category is a state or military address.  If all the states were converted via one-hot-encoding, or dummy coding, there would be a risk of overfitting.  To address this states will be grouped into the following regions: West, Midwest, Southwest, Southeast, and Northeast."
   ]
  },
  {
   "cell_type": "code",
   "execution_count": 23,
   "metadata": {
    "colab": {
     "base_uri": "https://localhost:8080/",
     "height": 600
    },
    "colab_type": "code",
    "id": "zVeMNdzvZko5",
    "outputId": "4aebcfc8-33bd-457b-e5b2-c0f0627309fe"
   },
   "outputs": [
    {
     "data": {
      "text/plain": [
       "(array([ 0,  1,  2,  3,  4,  5,  6,  7,  8,  9, 10, 11, 12, 13, 14, 15, 16,\n",
       "        17, 18, 19, 20, 21, 22, 23, 24, 25, 26, 27, 28, 29, 30, 31, 32, 33,\n",
       "        34, 35, 36, 37, 38, 39, 40, 41, 42, 43, 44, 45, 46, 47, 48, 49, 50,\n",
       "        51, 52]), <a list of 53 Text xticklabel objects>)"
      ]
     },
     "execution_count": 23,
     "metadata": {},
     "output_type": "execute_result"
    },
    {
     "data": {
      "image/png": "[encoded data removed]",
      "text/plain": [
       "<Figure size 1152x576 with 1 Axes>"
      ]
     },
     "metadata": {
      "needs_background": "light"
     },
     "output_type": "display_data"
    }
   ],
   "source": [
    "# State Distribution\n",
    "plt.figure(figsize=(16,8))\n",
    "ax = sns.countplot(x =loans['State'] )\n",
    "plt.title(\"State Frequencies\",fontsize= 16)\n",
    "plt.xticks(rotation=45, horizontalalignment='right', fontweight='light', fontsize='medium')"
   ]
  },
  {
   "cell_type": "markdown",
   "metadata": {
    "colab_type": "text",
    "id": "ZUsJp4jCZko6"
   },
   "source": [
    "After the **State** feature was binned by region, we can see that the 'West' has the most loan applocations, followed by the 'Northeast' and 'Midwest'.  The code below assigns each state to a region based on this map found on National Geographic:https://www.nationalgeographic.org/maps/united-states-regions/\n",
    "\n",
    "The binning was confirmed by a barchart to ensure that all states were properly assigned to a region.  The barchart include frequency counts for ease of reading and was generated using a for loop."
   ]
  },
  {
   "cell_type": "code",
   "execution_count": 24,
   "metadata": {
    "colab": {
     "base_uri": "https://localhost:8080/",
     "height": 548
    },
    "colab_type": "code",
    "id": "4-ljO1jZZko7",
    "outputId": "81d8dee1-975b-4e12-fd94-5fee9f69233a"
   },
   "outputs": [
    {
     "data": {
      "image/png": "[encoded data removed]",
      "text/plain": [
       "<Figure size 1152x576 with 1 Axes>"
      ]
     },
     "metadata": {
      "needs_background": "light"
     },
     "output_type": "display_data"
    }
   ],
   "source": [
    "#Generate list of states\n",
    "west = ['WA','OR','CA','NV','UT','CO','WY','MT','ID','AK','HI','AP','NaN']\n",
    "midwest =['ND','SD','NE','KS','MO','IA','MN','MI','IL','IN','OH','WI']\n",
    "southeast = ['AR','LA','MS','TN','KY','WV','VA','NC','SC','GA','FL','AL']\n",
    "southwest = ['AZ','TX','NM','OK']\n",
    "northeast = ['ME','VT','NH','CT','RI','NY','NJ','DE','MD','MA','PA','DC']\n",
    "\n",
    "loans['State'].replace(to_replace = west, value = 'west', inplace = True)\n",
    "loans['State'].replace(to_replace = midwest, value = 'midwest', inplace = True)\n",
    "loans['State'].replace(to_replace = southeast, value = 'southeast', inplace = True)\n",
    "loans['State'].replace(to_replace = southwest, value = 'southwest', inplace = True)\n",
    "loans['State'].replace(to_replace = northeast, value = 'northeast', inplace = True)\n",
    "\n",
    "plt.figure(figsize=(16,8))\n",
    "ax = sns.countplot(x =loans['State'] )\n",
    "plt.title(\"US Region Frequencies\",fontsize= 16)\n",
    "plt.xticks(rotation=45, horizontalalignment='right', fontweight='light', fontsize='medium')\n",
    "\n",
    "for p in ax.patches:\n",
    "    ax.annotate(p.get_height(),\n",
    "                (p.get_x() + p.get_width() / 2, p.get_height()), \n",
    "                ha = 'center', va = 'center', \n",
    "                xytext = (0, 10), textcoords = 'offset points')"
   ]
  },
  {
   "cell_type": "markdown",
   "metadata": {
    "colab_type": "text",
    "id": "tXXY-ddBZko-"
   },
   "source": [
    "#### Categorical One-hot-encoding"
   ]
  },
  {
   "cell_type": "markdown",
   "metadata": {
    "colab_type": "text",
    "id": "QKr83tF_Zko_"
   },
   "source": [
    "**Bank**, **NAICS**, **ApprovalFY_decade**, **UrbanRural**, **NewExist**, and **State** are nominal categorical features and are best represented by one-hot-encoding or as an integer.  For our models, these features will be converted to on hot encoding and the old feature will be removed.  After one-hot-encoding was complete, the .info() function was run to visually check to ensure that the function created new features and removed the old features.  Failure to remove features used to create on-hot-encoded features would introduce multicollinearity.  This property would result in an over-inflation of model metrics."
   ]
  },
  {
   "cell_type": "code",
   "execution_count": 25,
   "metadata": {
    "colab": {},
    "colab_type": "code",
    "id": "SaIJUXqtZkpA"
   },
   "outputs": [],
   "source": [
    "loans = pd.get_dummies(loans,columns=['Bank','NAICS','ApprovalFY_decade',\n",
    "                                      'UrbanRural','NewExist','State'])\n",
    "\n",
    "#Clean up dataset\n",
    "'Bank','NAICS','ApprovalFY_decade'\n",
    "if 'Bank' in loans:\n",
    "    del loans['Bank']\n",
    "    \n",
    "if 'NAICS' in loans:    \n",
    "    del loans['NAICS']\n",
    "    \n",
    "if 'ApprovalFY' in loans:    \n",
    "    del loans['ApprovalFY']\n",
    "    \n",
    "if 'State' in loans:    \n",
    "    del loans['State']  \n",
    "\n",
    "if 'UrbanRural' in loans:    \n",
    "    del loans['UrbanRural']  \n",
    "        \n",
    "if 'NewExist' in loans:    \n",
    "    del loans['NewExist']  "
   ]
  },
  {
   "cell_type": "code",
   "execution_count": 26,
   "metadata": {
    "colab": {},
    "colab_type": "code",
    "id": "BXdTbkuJsRrt"
   },
   "outputs": [],
   "source": [
    "loans = loans.dropna()#drops 14 records\n",
    "loans = loans.reset_index(drop=True) #resets index, important when converting to array"
   ]
  },
  {
   "cell_type": "code",
   "execution_count": 27,
   "metadata": {
    "colab": {
     "base_uri": "https://localhost:8080/",
     "height": 1000
    },
    "colab_type": "code",
    "id": "U_-kAd51ZkpC",
    "outputId": "f8ba937a-bff0-40f6-9123-c54a3f869860"
   },
   "outputs": [
    {
     "name": "stdout",
     "output_type": "stream",
     "text": [
      "<class 'pandas.core.frame.DataFrame'>\n",
      "RangeIndex: 896782 entries, 0 to 896781\n",
      "Data columns (total 56 columns):\n",
      "LoanNr_ChkDgt                          896782 non-null int64\n",
      "Name                                   896782 non-null object\n",
      "City                                   896782 non-null object\n",
      "Zip                                    896782 non-null object\n",
      "BankState                              896782 non-null object\n",
      "ApprovalDate                           896782 non-null datetime64[ns]\n",
      "Term                                   896782 non-null int64\n",
      "NoEmp                                  896782 non-null int64\n",
      "CreateJob                              896782 non-null int64\n",
      "RetainedJob                            896782 non-null int64\n",
      "FranchiseCode                          896782 non-null int64\n",
      "RevLineCr                              896782 non-null int64\n",
      "LowDoc                                 896782 non-null int64\n",
      "ChgOffDate                             896782 non-null object\n",
      "DisbursementDate                       896782 non-null object\n",
      "DisbursementGross                      896782 non-null float64\n",
      "BalanceGross                           896782 non-null float64\n",
      "MIS_Status                             896782 non-null int64\n",
      "ChgOffPrinGr                           896782 non-null float64\n",
      "GrAppv                                 896782 non-null float64\n",
      "SBA_Appv                               896782 non-null float64\n",
      "difference_in_days                     896782 non-null float64\n",
      "Bank_BANK OF AMERICA NATL ASSOC        896782 non-null uint8\n",
      "Bank_BBCN BANK                         896782 non-null uint8\n",
      "Bank_CAPITAL ONE NATL ASSOC            896782 non-null uint8\n",
      "Bank_CITIZENS BANK NATL ASSOC          896782 non-null uint8\n",
      "Bank_JPMORGAN CHASE BANK NATL ASSOC    896782 non-null uint8\n",
      "Bank_Other                             896782 non-null uint8\n",
      "Bank_PNC BANK, NATIONAL ASSOCIATION    896782 non-null uint8\n",
      "Bank_U.S. BANK NATIONAL ASSOCIATION    896782 non-null uint8\n",
      "Bank_WELLS FARGO BANK NATL ASSOC       896782 non-null uint8\n",
      "NAICS_1                                896782 non-null uint8\n",
      "NAICS_2                                896782 non-null uint8\n",
      "NAICS_3                                896782 non-null uint8\n",
      "NAICS_4                                896782 non-null uint8\n",
      "NAICS_5                                896782 non-null uint8\n",
      "NAICS_6                                896782 non-null uint8\n",
      "NAICS_7                                896782 non-null uint8\n",
      "NAICS_8                                896782 non-null uint8\n",
      "NAICS_9                                896782 non-null uint8\n",
      "ApprovalFY_decade_(1970, 1980]         896782 non-null uint8\n",
      "ApprovalFY_decade_(1980, 1990]         896782 non-null uint8\n",
      "ApprovalFY_decade_(1990, 2000]         896782 non-null uint8\n",
      "ApprovalFY_decade_(2000, 2010]         896782 non-null uint8\n",
      "ApprovalFY_decade_(2010, 2020]         896782 non-null uint8\n",
      "UrbanRural_0                           896782 non-null uint8\n",
      "UrbanRural_1                           896782 non-null uint8\n",
      "UrbanRural_2                           896782 non-null uint8\n",
      "NewExist_0                             896782 non-null uint8\n",
      "NewExist_1                             896782 non-null uint8\n",
      "NewExist_2                             896782 non-null uint8\n",
      "State_midwest                          896782 non-null uint8\n",
      "State_northeast                        896782 non-null uint8\n",
      "State_southeast                        896782 non-null uint8\n",
      "State_southwest                        896782 non-null uint8\n",
      "State_west                             896782 non-null uint8\n",
      "dtypes: datetime64[ns](1), float64(6), int64(9), object(6), uint8(34)\n",
      "memory usage: 179.6+ MB\n"
     ]
    }
   ],
   "source": [
    "loans.info()"
   ]
  },
  {
   "cell_type": "markdown",
   "metadata": {
    "colab_type": "text",
    "id": "Wz6uOvNIZkpE"
   },
   "source": [
    "After additional cleaning and binning of the categorical features we can see that the number of unique levels has decreased.  Having fewer levels per features should reduce the computational load and potential overfitting when running our classification algorithms."
   ]
  },
  {
   "cell_type": "markdown",
   "metadata": {
    "colab_type": "text",
    "id": "m1hoIm-4ZkpF"
   },
   "source": [
    "### Quantitative Features"
   ]
  },
  {
   "cell_type": "markdown",
   "metadata": {
    "colab_type": "text",
    "id": "0raKEMwEZkpF"
   },
   "source": [
    "The correlation matrix below shows continuous features that help determine if a loan is paid in full or if it defaults.  The correlation matrix shows that **DisbursementGross** is strongly and positively with **SBA_Appr** and **GrAppv**; and **SBA_Appr** is strongly and positively correlated with **GrAppv**. **NoEmp** and **Term** feature show moderate or low correlation compared to the remaining features. **DisbursementGross**, **SBA_Appr** and **GrAppv** all relate to the amount of money a small business is approved for or received and the correlation matrix shows how strongly correlated those values are. It is most likely that values from DisbursementGross, **SBA_Appr** and **GrAppv** are the same or are very close to each other.\n",
    "\n",
    "One assumption for logistic regression is minimal multicollinearity.  **DisbursmentGross**, **GRAppv**, and **SBA_Appv** are highly correlated (r > 0.90) with each other as they all describe the amount of money that is given to a loan applicant.  Since the **SBA_Appv** feature describes the amount of money that is approved and guaranteed to an applicant it will be kept.  **DisbursementGross** and **GrAppv** will be removed as they are both like **SBA_Appv**, but do not represent the final loan amount an applicant will receive."
   ]
  },
  {
   "cell_type": "code",
   "execution_count": 28,
   "metadata": {
    "colab": {
     "base_uri": "https://localhost:8080/",
     "height": 388
    },
    "colab_type": "code",
    "id": "IMKZIorqZkpF",
    "outputId": "833ea2cf-d47d-4b04-826e-fb6cef8e046e"
   },
   "outputs": [
    {
     "data": {
      "text/plain": [
       "<matplotlib.axes._subplots.AxesSubplot at 0x291198ffdd8>"
      ]
     },
     "execution_count": 28,
     "metadata": {},
     "output_type": "execute_result"
    },
    {
     "data": {
      "image/png": "[encoded data removed]",
      "text/plain": [
       "<Figure size 432x288 with 2 Axes>"
      ]
     },
     "metadata": {},
     "output_type": "display_data"
    }
   ],
   "source": [
    "normal_data =['DisbursementGross', 'GrAppv', 'NoEmp', 'Term', 'SBA_Appv','ChgOffPrinGr', \n",
    "              'BalanceGross','BankState','difference_in_days']\n",
    "loans_corr = loans[normal_data]\n",
    "\n",
    "cmap = sns.diverging_palette(220, 10, as_cmap=True) # one of the many color mappings\n",
    "\n",
    "#Generate a correlation matrix of transformed data\n",
    "sns.set(style=\"darkgrid\") # one of the many styles to plot using\n",
    "sns.heatmap(loans_corr.corr(), cmap=cmap, annot=True)"
   ]
  },
  {
   "cell_type": "markdown",
   "metadata": {
    "colab_type": "text",
    "id": "TN1gE1ZqZkpH"
   },
   "source": [
    "#### PCA Features"
   ]
  },
  {
   "cell_type": "markdown",
   "metadata": {
    "colab_type": "text",
    "id": "zP_V4y9xZkpI"
   },
   "source": [
    "An alternative to removing highly correlated continuous features is to preform principal component analysis on all continious features, keeping the principal components that explain most of the variation in the continuous data, and removing the features that were used to create the principal components.\n"
   ]
  },
  {
   "cell_type": "code",
   "execution_count": 29,
   "metadata": {
    "colab": {
     "base_uri": "https://localhost:8080/",
     "height": 206
    },
    "colab_type": "code",
    "id": "AMghP-ESZkpI",
    "outputId": "d93daf6a-9ae5-441e-b517-b614721c0851"
   },
   "outputs": [
    {
     "name": "stderr",
     "output_type": "stream",
     "text": [
      "C:\\ProgramData\\Anaconda3\\lib\\site-packages\\sklearn\\preprocessing\\data.py:645: DataConversionWarning: Data with input dtype int64, float64 were all converted to float64 by StandardScaler.\n",
      "  return self.partial_fit(X, y)\n",
      "C:\\ProgramData\\Anaconda3\\lib\\site-packages\\sklearn\\base.py:464: DataConversionWarning: Data with input dtype int64, float64 were all converted to float64 by StandardScaler.\n",
      "  return self.fit(X, **fit_params).transform(X)\n"
     ]
    },
    {
     "data": {
      "text/html": [
       "<div>\n",
       "<style scoped>\n",
       "    .dataframe tbody tr th:only-of-type {\n",
       "        vertical-align: middle;\n",
       "    }\n",
       "\n",
       "    .dataframe tbody tr th {\n",
       "        vertical-align: top;\n",
       "    }\n",
       "\n",
       "    .dataframe thead th {\n",
       "        text-align: right;\n",
       "    }\n",
       "</style>\n",
       "<table border=\"1\" class=\"dataframe\">\n",
       "  <thead>\n",
       "    <tr style=\"text-align: right;\">\n",
       "      <th></th>\n",
       "      <th>NoEmp</th>\n",
       "      <th>Term</th>\n",
       "      <th>DisbursementGross</th>\n",
       "      <th>GrAppv</th>\n",
       "      <th>SBA_Appv</th>\n",
       "      <th>difference_in_days</th>\n",
       "    </tr>\n",
       "  </thead>\n",
       "  <tbody>\n",
       "    <tr>\n",
       "      <th>0</th>\n",
       "      <td>-0.099985</td>\n",
       "      <td>-0.340615</td>\n",
       "      <td>-0.491416</td>\n",
       "      <td>-0.469020</td>\n",
       "      <td>-0.444992</td>\n",
       "      <td>3.277715</td>\n",
       "    </tr>\n",
       "    <tr>\n",
       "      <th>1</th>\n",
       "      <td>-0.126939</td>\n",
       "      <td>-0.644810</td>\n",
       "      <td>-0.560919</td>\n",
       "      <td>-0.539596</td>\n",
       "      <td>-0.515010</td>\n",
       "      <td>-0.116814</td>\n",
       "    </tr>\n",
       "    <tr>\n",
       "      <th>2</th>\n",
       "      <td>-0.059555</td>\n",
       "      <td>0.876162</td>\n",
       "      <td>0.297435</td>\n",
       "      <td>0.332007</td>\n",
       "      <td>0.286922</td>\n",
       "      <td>1.021790</td>\n",
       "    </tr>\n",
       "    <tr>\n",
       "      <th>3</th>\n",
       "      <td>-0.126939</td>\n",
       "      <td>-0.644810</td>\n",
       "      <td>-0.578294</td>\n",
       "      <td>-0.557239</td>\n",
       "      <td>-0.532515</td>\n",
       "      <td>0.042803</td>\n",
       "    </tr>\n",
       "    <tr>\n",
       "      <th>4</th>\n",
       "      <td>0.034783</td>\n",
       "      <td>1.636648</td>\n",
       "      <td>0.095878</td>\n",
       "      <td>0.127339</td>\n",
       "      <td>0.347094</td>\n",
       "      <td>-0.207264</td>\n",
       "    </tr>\n",
       "  </tbody>\n",
       "</table>\n",
       "</div>"
      ],
      "text/plain": [
       "      NoEmp      Term  DisbursementGross    GrAppv  SBA_Appv  \\\n",
       "0 -0.099985 -0.340615          -0.491416 -0.469020 -0.444992   \n",
       "1 -0.126939 -0.644810          -0.560919 -0.539596 -0.515010   \n",
       "2 -0.059555  0.876162           0.297435  0.332007  0.286922   \n",
       "3 -0.126939 -0.644810          -0.578294 -0.557239 -0.532515   \n",
       "4  0.034783  1.636648           0.095878  0.127339  0.347094   \n",
       "\n",
       "   difference_in_days  \n",
       "0            3.277715  \n",
       "1           -0.116814  \n",
       "2            1.021790  \n",
       "3            0.042803  \n",
       "4           -0.207264  "
      ]
     },
     "execution_count": 29,
     "metadata": {},
     "output_type": "execute_result"
    }
   ],
   "source": [
    "from sklearn.preprocessing import StandardScaler #standardizes data\n",
    "from sklearn.preprocessing import LabelEncoder # converts categories to int\n",
    "\n",
    "pca_data = ['NoEmp','Term','DisbursementGross','GrAppv','SBA_Appv','difference_in_days']\n",
    "pca_df = loans[pca_data]\n",
    "\n",
    "# Standardize continuous data\n",
    "df_scaled = pd.DataFrame(StandardScaler().fit_transform(pca_df),columns = pca_df.columns)\n",
    "\n",
    "#Check that data frame is complete\n",
    "df_scaled.head()"
   ]
  },
  {
   "cell_type": "markdown",
   "metadata": {
    "colab_type": "text",
    "id": "GeCP2jrhswTR"
   },
   "source": [
    "The scree plot reveals that the first two principal components explain most of the variation in the continous data.  These two principal components are contained in the \"X_pca\" data frame and will be appended to the **loans** data frame, while **NoEmp**, **Term**, **DisbursementGross**, **ChgOffPrinGr**, **GrAppv**, **'difference_in_days'**, and **SBA_Appv** will be removed.  This version of the **loans** data will be used to test and compare a logistic model/svm with highly correlated continuous features removed, and a logistic/svm model that utilizes prinicpal components."
   ]
  },
  {
   "cell_type": "code",
   "execution_count": 30,
   "metadata": {
    "colab": {
     "base_uri": "https://localhost:8080/",
     "height": 319
    },
    "colab_type": "code",
    "id": "_6FHl6lRZkpK",
    "outputId": "1bbabdf1-bd9f-4a93-ebbc-b12097bcbb88"
   },
   "outputs": [
    {
     "data": {
      "text/plain": [
       "Text(0.5, 1.0, 'PCA Scree Plot')"
      ]
     },
     "execution_count": 30,
     "metadata": {},
     "output_type": "execute_result"
    },
    {
     "data": {
      "image/png": "[encoded data removed]",
      "text/plain": [
       "<Figure size 432x288 with 1 Axes>"
      ]
     },
     "metadata": {},
     "output_type": "display_data"
    }
   ],
   "source": [
    "from sklearn.decomposition import PCA\n",
    "#run PCA\n",
    "pca = PCA(n_components=5)\n",
    "X_pca = pca.fit(df_scaled).transform(df_scaled)\n",
    "\n",
    "#Scree Plot\n",
    "percent_variance = np.round(pca.explained_variance_ratio_* 100, decimals =2)\n",
    "plt.plot(range(1,6),percent_variance)\n",
    "plt.ylabel('Percentate of Variance Explained')\n",
    "plt.xlabel('Principal Component')\n",
    "plt.title('PCA Scree Plot')"
   ]
  },
  {
   "cell_type": "code",
   "execution_count": 31,
   "metadata": {
    "colab": {},
    "colab_type": "code",
    "id": "hEYuEtkAZkpO"
   },
   "outputs": [],
   "source": [
    "#Run PCA on continuous features\n",
    "pca = PCA(n_components=2)\n",
    "X_sm_pca2 = pca.fit_transform(df_scaled)\n",
    "\n",
    "#Isolate 1st 2 principal components as indicated in scree plot\n",
    "prin_com = pd.DataFrame(X_sm_pca2)\n",
    "prin_com = prin_com.rename(columns={0: \"PC1\", 1: \"PC2\"})"
   ]
  },
  {
   "cell_type": "markdown",
   "metadata": {},
   "source": [
    "# Data Preparation 2"
   ]
  },
  {
   "cell_type": "markdown",
   "metadata": {},
   "source": [
    "# select features that will be used based on mini lab 1\n",
    "### Train and Test data sets\n",
    "\n",
    "Standardized data sets were created to simplify and improve model creation and evaluation. All categorical variables were one hot encoded. All continuous explanatory variables were scaled. Lastly principle component variables were included in the data set as well. The response data set was the classifier column “MIS_Status” which is encoded “0” for failed loans and “1” for successful loans. All data sets take the form of pandas data frames with the same index numbers used throughout.\n",
    "\n",
    "Since the data set is extremely large , almost 900K records, it was possible to create a separate test data set from 30% of the data. The remaining 70% of the data was adequate for training purposes. A specialized “gridsearch” helper function is created below that automatically takes advantage of the four different test sets."
   ]
  },
  {
   "cell_type": "code",
   "execution_count": 32,
   "metadata": {},
   "outputs": [
    {
     "name": "stdout",
     "output_type": "stream",
     "text": [
      "(627747, 31) Index(['NAICS_1', 'NAICS_2', 'NAICS_3', 'NAICS_4', 'NAICS_5', 'NAICS_6',\n",
      "       'NAICS_7', 'NAICS_8', 'NAICS_9', 'ApprovalFY_decade_(1970, 1980]',\n",
      "       'ApprovalFY_decade_(1980, 1990]', 'ApprovalFY_decade_(1990, 2000]',\n",
      "       'ApprovalFY_decade_(2000, 2010]', 'ApprovalFY_decade_(2010, 2020]',\n",
      "       'UrbanRural_0', 'UrbanRural_1', 'UrbanRural_2', 'NewExist_0',\n",
      "       'NewExist_1', 'NewExist_2', 'State_midwest', 'State_northeast',\n",
      "       'State_southeast', 'State_southwest', 'State_west', 'NoEmp', 'Term',\n",
      "       'DisbursementGross', 'difference_in_days', 'PC1', 'PC2'],\n",
      "      dtype='object')\n",
      "(269035, 31) Index(['NAICS_1', 'NAICS_2', 'NAICS_3', 'NAICS_4', 'NAICS_5', 'NAICS_6',\n",
      "       'NAICS_7', 'NAICS_8', 'NAICS_9', 'ApprovalFY_decade_(1970, 1980]',\n",
      "       'ApprovalFY_decade_(1980, 1990]', 'ApprovalFY_decade_(1990, 2000]',\n",
      "       'ApprovalFY_decade_(2000, 2010]', 'ApprovalFY_decade_(2010, 2020]',\n",
      "       'UrbanRural_0', 'UrbanRural_1', 'UrbanRural_2', 'NewExist_0',\n",
      "       'NewExist_1', 'NewExist_2', 'State_midwest', 'State_northeast',\n",
      "       'State_southeast', 'State_southwest', 'State_west', 'NoEmp', 'Term',\n",
      "       'DisbursementGross', 'difference_in_days', 'PC1', 'PC2'],\n",
      "      dtype='object')\n",
      "(627747, 1) Index(['MIS_Status'], dtype='object')\n",
      "(269035, 1) Index(['MIS_Status'], dtype='object')\n"
     ]
    }
   ],
   "source": [
    "#Create Master train and test sets including PCA on scaled data for classification\n",
    "\n",
    "from sklearn.model_selection import train_test_split\n",
    "\n",
    "#combine principle components, one hot encoded and scaled data\n",
    "\n",
    "df1hot = loans[['NAICS_1', 'NAICS_2', 'NAICS_3',\n",
    "                   'NAICS_4', 'NAICS_5', 'NAICS_6', 'NAICS_7', 'NAICS_8', 'NAICS_9',\n",
    "                   'ApprovalFY_decade_(1970, 1980]', 'ApprovalFY_decade_(1980, 1990]',\n",
    "                   'ApprovalFY_decade_(1990, 2000]', 'ApprovalFY_decade_(2000, 2010]',\n",
    "                   'ApprovalFY_decade_(2010, 2020]', 'UrbanRural_0', 'UrbanRural_1',\n",
    "                   'UrbanRural_2', 'NewExist_0', 'NewExist_1', 'NewExist_2',\n",
    "                   'State_midwest', 'State_northeast', 'State_southeast',\n",
    "                   'State_southwest', 'State_west']]\n",
    "\n",
    "dfscaled = df_scaled[['NoEmp', 'Term', 'DisbursementGross', 'difference_in_days']]\n",
    "\n",
    "dfcombined = pd.concat([df1hot, dfscaled, prin_com], axis=1, join='inner')\n",
    "\n",
    "# dataframe for the classifier response MIS_status as 0 or 1\n",
    "dfrspcl = loans[['MIS_Status']] # nest values to create dataframe for results\n",
    "\n",
    "# create dataframes for master train and test sets on scaled data. Data is split 70% train, 30% test\n",
    "X_mtrain_cl, X_mtest_cl, y_mtrain_cl, y_mtest_cl = train_test_split(dfcombined, dfrspcl, test_size = .3, random_state = 42)\n",
    "\n",
    "print(X_mtrain_cl.shape, X_mtrain_cl.columns)\n",
    "print(X_mtest_cl.shape, X_mtest_cl.columns)\n",
    "print(y_mtrain_cl.shape, y_mtrain_cl.columns)\n",
    "print(y_mtest_cl.shape, y_mtest_cl.columns)\n"
   ]
  },
  {
   "cell_type": "markdown",
   "metadata": {},
   "source": [
    "### Balanced data set using undersampling\n",
    "\n",
    "The response variable in the data set is unbalanced. Approximately one sixth of the response indicate a failed loan. The remaining five sixths responses indicate successful loans. Balanced training sets with equal numbers of failed and successful loans were created using under sampling."
   ]
  },
  {
   "cell_type": "code",
   "execution_count": 33,
   "metadata": {},
   "outputs": [
    {
     "name": "stdout",
     "output_type": "stream",
     "text": [
      "(222350, 31) Index(['NAICS_1', 'NAICS_2', 'NAICS_3', 'NAICS_4', 'NAICS_5', 'NAICS_6',\n",
      "       'NAICS_7', 'NAICS_8', 'NAICS_9', 'ApprovalFY_decade_(1970, 1980]',\n",
      "       'ApprovalFY_decade_(1980, 1990]', 'ApprovalFY_decade_(1990, 2000]',\n",
      "       'ApprovalFY_decade_(2000, 2010]', 'ApprovalFY_decade_(2010, 2020]',\n",
      "       'UrbanRural_0', 'UrbanRural_1', 'UrbanRural_2', 'NewExist_0',\n",
      "       'NewExist_1', 'NewExist_2', 'State_midwest', 'State_northeast',\n",
      "       'State_southeast', 'State_southwest', 'State_west', 'NoEmp', 'Term',\n",
      "       'DisbursementGross', 'difference_in_days', 'PC1', 'PC2'],\n",
      "      dtype='object')\n",
      "(222350, 1) Index(['MIS_Status'], dtype='object')\n"
     ]
    }
   ],
   "source": [
    "#create balanced response set out of just training data. We have more 1's than 0's so find the number of 0's and \n",
    "#undersample from the 1's. All final datasets will still be Pandas Dataframes\n",
    "\n",
    "# first get the indexes for all 0's and all 1's\n",
    "\n",
    "y_mtrain_cl_1_idx = y_mtrain_cl.loc[y_mtrain_cl.MIS_Status==1].index.values.tolist()\n",
    "y_mtrain_cl_0_idx = y_mtrain_cl.loc[y_mtrain_cl.MIS_Status==0].index.values.tolist()\n",
    "\n",
    "#Create data sets that correspond to the response variable while preserving the original index\n",
    "\n",
    "X_mtrain_cl_0 = X_mtrain_cl[X_mtrain_cl.index.isin(y_mtrain_cl_0_idx)]\n",
    "y_mtrain_cl_0 = y_mtrain_cl[y_mtrain_cl.index.isin(y_mtrain_cl_0_idx)]\n",
    "\n",
    "X_mtrain_cl_1 = X_mtrain_cl[X_mtrain_cl.index.isin(y_mtrain_cl_1_idx)]\n",
    "y_mtrain_cl_1 = y_mtrain_cl[y_mtrain_cl.index.isin(y_mtrain_cl_1_idx)]\n",
    "\n",
    "# create an undersample of correct length from the 1's. must have the same number of entries as the 0's datasets\n",
    "countSamples = y_mtrain_cl_0.shape[0]\n",
    "\n",
    "X_mtrain_cl_1_sub = X_mtrain_cl_1.sample(n=countSamples, random_state=42)\n",
    "\n",
    "#get the index so we can pick the corresponding y's\n",
    "\n",
    "subsample_1s_idx = X_mtrain_cl_1_sub.index.values.tolist()\n",
    "y_mtrain_cl_1_sub = y_mtrain_cl_1[y_mtrain_cl_1.index.isin(subsample_1s_idx)]\n",
    "\n",
    "#Combined undersampled 1's with original 0's to form undersampled data\n",
    "\n",
    "X_mtrain_cl_us = pd.concat([X_mtrain_cl_0, X_mtrain_cl_1_sub])\n",
    "y_mtrain_cl_us = pd.concat([y_mtrain_cl_0, y_mtrain_cl_1_sub])\n",
    "\n",
    "print(X_mtrain_cl_us.shape, X_mtrain_cl_us.columns)\n",
    "print(y_mtrain_cl_us.shape, y_mtrain_cl_us.columns)\n"
   ]
  },
  {
   "cell_type": "markdown",
   "metadata": {},
   "source": [
    "### Data Sets representing continuous variables with PCA and non PCA attributes\n",
    "\n",
    "The master data sets contain both PCA and non PCA continuous variables. Subsets of the master data sets that contain either PCA or continuous variables were created. As a reminder all continuous variables are scaled."
   ]
  },
  {
   "cell_type": "code",
   "execution_count": 34,
   "metadata": {},
   "outputs": [],
   "source": [
    "# Create dataset with no PCA data only the continuous variables\n",
    "\n",
    "X_mtrain_cl_npca = X_mtrain_cl.drop(['PC1','PC2'], axis=1)\n",
    "X_mtrain_cl_us_npca = X_mtrain_cl_us.drop(['PC1','PC2'], axis=1)\n",
    "X_mtest_cl_npca = X_mtest_cl.drop(['PC1','PC2'], axis=1)\n",
    "\n",
    "# Create dataset with PCA data only, no continuous variables\n",
    "\n",
    "X_mtrain_cl_pca = X_mtrain_cl.drop(['NoEmp', 'Term', 'DisbursementGross', 'difference_in_days'], axis=1)\n",
    "X_mtrain_cl_us_pca = X_mtrain_cl_us.drop(['NoEmp', 'Term', 'DisbursementGross', 'difference_in_days'], axis=1)\n",
    "X_mtest_cl_pca = X_mtest_cl.drop(['NoEmp', 'Term', 'DisbursementGross', 'difference_in_days'], axis=1)"
   ]
  },
  {
   "cell_type": "markdown",
   "metadata": {},
   "source": [
    "### Data sets for Regression\n",
    "\n",
    "The second problem solved in this paper uses regression. However, regression is applied only over the subset of loans that failed. The regression models attempt to predict the amount of failure for the loan. The data set utilize the same 70-30 train test split as the base classification data sets. However it only includes records where the “MIS_Status” indicates a failed loan"
   ]
  },
  {
   "cell_type": "code",
   "execution_count": 35,
   "metadata": {},
   "outputs": [
    {
     "name": "stdout",
     "output_type": "stream",
     "text": [
      "(109582, 31) Index(['NAICS_1', 'NAICS_2', 'NAICS_3', 'NAICS_4', 'NAICS_5', 'NAICS_6',\n",
      "       'NAICS_7', 'NAICS_8', 'NAICS_9', 'ApprovalFY_decade_(1970, 1980]',\n",
      "       'ApprovalFY_decade_(1980, 1990]', 'ApprovalFY_decade_(1990, 2000]',\n",
      "       'ApprovalFY_decade_(2000, 2010]', 'ApprovalFY_decade_(2010, 2020]',\n",
      "       'UrbanRural_0', 'UrbanRural_1', 'UrbanRural_2', 'NewExist_0',\n",
      "       'NewExist_1', 'NewExist_2', 'State_midwest', 'State_northeast',\n",
      "       'State_southeast', 'State_southwest', 'State_west', 'NoEmp', 'Term',\n",
      "       'DisbursementGross', 'difference_in_days', 'PC1', 'PC2'],\n",
      "      dtype='object')\n",
      "(47154, 31) Index(['NAICS_1', 'NAICS_2', 'NAICS_3', 'NAICS_4', 'NAICS_5', 'NAICS_6',\n",
      "       'NAICS_7', 'NAICS_8', 'NAICS_9', 'ApprovalFY_decade_(1970, 1980]',\n",
      "       'ApprovalFY_decade_(1980, 1990]', 'ApprovalFY_decade_(1990, 2000]',\n",
      "       'ApprovalFY_decade_(2000, 2010]', 'ApprovalFY_decade_(2010, 2020]',\n",
      "       'UrbanRural_0', 'UrbanRural_1', 'UrbanRural_2', 'NewExist_0',\n",
      "       'NewExist_1', 'NewExist_2', 'State_midwest', 'State_northeast',\n",
      "       'State_southeast', 'State_southwest', 'State_west', 'NoEmp', 'Term',\n",
      "       'DisbursementGross', 'difference_in_days', 'PC1', 'PC2'],\n",
      "      dtype='object')\n",
      "(109582, 1) Index(['ChgOffPrinGr'], dtype='object')\n",
      "(47154, 1) Index(['ChgOffPrinGr'], dtype='object')\n"
     ]
    }
   ],
   "source": [
    "# Data for Regression\n",
    "# We want only data for failed loans that have a postive value for chrgoffpriciple\n",
    "# We drop less than 2K records by specifying a positive chrgoffpriciple\n",
    "\n",
    "# Identify indexes of failed laons with posiitve chrgoffprinciple\n",
    "\n",
    "failed_loan_idx = loans.loc[(loans.MIS_Status==0) & (loans.ChgOffPrinGr > 0)].index.values.tolist()\n",
    "\n",
    "X_mtrain_rg = X_mtrain_cl[X_mtrain_cl.index.isin(failed_loan_idx)]\n",
    "\n",
    "X_mtest_rg = X_mtest_cl[X_mtest_cl.index.isin(failed_loan_idx)]\n",
    "\n",
    "train_idx = y_mtrain_cl.index.values.tolist()\n",
    "test_idx = y_mtest_cl.index.values.tolist()\n",
    "\n",
    "y_mtrain_rg = loans.loc[(loans.index.isin(failed_loan_idx)) & (loans.index.isin(train_idx)),['ChgOffPrinGr']]\n",
    "y_mtest_rg = loans.loc[(loans.index.isin(failed_loan_idx)) & (loans.index.isin(test_idx)),['ChgOffPrinGr']]\n",
    "\n",
    "print(X_mtrain_rg.shape, X_mtrain_rg.columns)\n",
    "print(X_mtest_rg.shape, X_mtest_rg.columns)\n",
    "print(y_mtrain_rg.shape, y_mtrain_rg.columns)\n",
    "print(y_mtest_rg.shape, y_mtest_rg.columns)"
   ]
  },
  {
   "cell_type": "markdown",
   "metadata": {
    "colab_type": "text",
    "id": "hrZHAbXUZkpQ"
   },
   "source": [
    "# Model and Evaluation 1"
   ]
  },
  {
   "cell_type": "markdown",
   "metadata": {},
   "source": [
    "For classification tasks in this project the **F1-Score**, a custom metric called \"Mean True Accuracy Squared\" (**MTAS**), and confusion matrices will be used to measure model performance.\n",
    "\n",
    "#### Task 1: Classificaiton\n",
    "##### F1-Score\n",
    "**F1-Score** is used for measuring classification performance and is the harmonic mean between precision and recall.  Where precision is a ratio of true positives for set of items selected, and recall is a proportion of true positives that are identified in all positive classifications.  This metric was chosen to measure our model performance because it incorporates both precision and recall.  To generate a model with the best blend of both precision and recall the f1-score should be maximized.  \n",
    "\n",
    "##### MTAS\n",
    "The data set we are classifying has an unbalanced response variable. Approximately five loans succeed for every loan that fails. Unlike in other unbalanced response problems neither the positive nor the negative response is necessarily favored for our model development. Thus, ideally, we would seek to optimize acceptable levels of accuracy for both true positive and true negative response. A new measure or scorer is needed that can be used in automated parameter searches such as “GridSearchCV”. Accuracy does examine both the positive and negative responses, but it does have a fatal flaw, “Accuracy” tends to favor one part of an unbalanced  response over the other. As an example, if using accuracy, it is simple to get a model that is about 83% accurate for this data set, just predict that every loan succeeds.\n",
    "\n",
    "A new metric was created, Mean True Accuracy Squared or *MTAS* for short.\n",
    "\n",
    "$$MTAS = \\frac{\\left(\\frac{True Positive}{Total Actual Positive}\\right)^2 + \\left(\\frac{True Negative}{Total Actual Negative}\\right)^2}{2}$$\n",
    "\n",
    "*Mean:* Separate scores are created for the True and False responses. The results are averaged together.\n",
    "\n",
    "*True Accuracy:* Each score is evaluated independently and measures the total predicted response divided by the actual responses for False and True, respectively.\n",
    "\n",
    "*Squared:* Before the True Accuracy scores are averaged together each term is itself squared. The intention of this is to introduce a “penalty” into the process. Since increases in the value of one True Accuracy score typically come at the cost of decreases in the other True Accuracy score the penalty is designed to produce more middle of the road scores on both sides, lower highs balanced against higher lows.\n",
    "\n",
    "As an example, consider the following two confusion matrixes(these results are from the Naive Bayes classifier model below:\n",
    "\n",
    "|Scorer is Accuracy|<blank>|Smoothing=0.70|\n",
    "|---|---|---|\n",
    "|<blank>|Prediction|<blank>|\n",
    "|Actual|False|True|\n",
    "|False|44290|66885|\n",
    "|True|22071|494501|\n",
    "\n",
    "True Negative score trained with Accuracy: 44290/(44920+66885) = 0.398\n",
    "\n",
    "True Positive score trained with Accuracy: 494501/(494501+22071) = 0.957\n",
    "\n",
    "MTAS trained with Accuracy: (0.398^ + 0.957^2) = 0.537\n",
    "\n",
    "|Scorer is MTAS|<blank>|Smoothing=0.64|\n",
    "|---|---|---|\n",
    "|<blank>|Prediction|<blank>|\n",
    "|Actual|False|True|\n",
    "|False|55701|55474|\n",
    "|True|39263|477309|\n",
    "\n",
    "True Negative score trained with MTAS: 55701/(55701+55474) = 0.501\n",
    "\n",
    "True Positive score trained with MTAS: 477309/(477309+39263) = 0.924\n",
    "\n",
    "MTAS trained with MTAS: (0.501^2 + 0.924^2)/2 = 0.552\n",
    "\n",
    "Both matrices were fitted on the same data using a grid search. The search parameter range was sufficient that neither model used a parameter value that was bound against one limit or the other(smoothing 0.5 to 0.8 increments of 0.02). The only difference here was the scorer used. The MTAS results show an increase of slightly over 10% in the True negative accuracy when compared to the True negative score from the Accuracy optimized model. This is balanced against a decrease of just over 3% in the True positive score.\n",
    "\n",
    "It is incumbent upon the data scientist to determine if this scoring method is appropriate for their problem, consider these factors in reaching a decision. MTAS cannot be directly compared to other scoring methods, the raw number does not tell us anything vs accuracy or F1, etc.… The value of MTAS was left squared since this is intended to be used by machines to score models. Taking the square root of the results would only add another calculation  step. When examining run time for the models created above the MTAS scored model actual runs slightly faster than accuracy scored model. MTAS would only provide benefits for unbalanced responses where balancing the True positive and True negative score is desirable."
   ]
  },
  {
   "cell_type": "code",
   "execution_count": 36,
   "metadata": {},
   "outputs": [],
   "source": [
    "# New accuarcy measure MTAS - Mean True Accuracy Squared\n",
    "from sklearn.metrics import f1_score\n",
    "from sklearn.metrics import mean_squared_error\n",
    "from sklearn.metrics import mean_absolute_error\n",
    "from sklearn.metrics import accuracy_score\n",
    "from sklearn.metrics import make_scorer\n",
    "from sklearn import metrics as mt\n",
    "\n",
    "def MTAS(ytest, yhat):\n",
    "    # total number of records\n",
    "    total_num = ytest.size\n",
    "\n",
    "    # number of actual positive and negative responses in the test data\n",
    "    Positive = np.sum(ytest)\n",
    "    Negative = total_num - Positive\n",
    "\n",
    "    # Find the number of True Positives and True Negatives\n",
    "    TP = np.sum(ytest[yhat == 1])\n",
    "    TN = np.sum(np.logical_not(ytest[yhat == 0]))\n",
    "\n",
    "    # convert to float and Calculate score \n",
    "\n",
    "    rv = ((TP.astype(float)/Positive.astype(float))**2 + (TN.astype(float)/Negative.astype(float))**2)/2\n",
    "    #    ((TP/(TP + FN))**2 + (TN/(TN + FP))**2)/2\n",
    "    # Measure the poportion of class predicted against total count of class for both classes\n",
    "    # Squared term is a penalty because the difference between .9 - .5 < .9**2 - .5**2 for\n",
    "    # classifiers with a greater than even chance of being right\n",
    "    \n",
    "    return rv"
   ]
  },
  {
   "cell_type": "code",
   "execution_count": 37,
   "metadata": {},
   "outputs": [
    {
     "name": "stdout",
     "output_type": "stream",
     "text": [
      "Fitting 10 folds for each of 8 candidates, totalling 80 fits\n"
     ]
    },
    {
     "name": "stderr",
     "output_type": "stream",
     "text": [
      "[Parallel(n_jobs=-1)]: Using backend LokyBackend with 8 concurrent workers.\n",
      "[Parallel(n_jobs=-1)]: Done  34 tasks      | elapsed:   39.4s\n",
      "[Parallel(n_jobs=-1)]: Done  80 out of  80 | elapsed:  1.3min finished\n",
      "C:\\ProgramData\\Anaconda3\\lib\\site-packages\\sklearn\\utils\\validation.py:761: DataConversionWarning: A column-vector y was passed when a 1d array was expected. Please change the shape of y to (n_samples, ), for example using ravel().\n",
      "  y = column_or_1d(y, warn=True)\n"
     ]
    },
    {
     "name": "stdout",
     "output_type": "stream",
     "text": [
      "Fitting 10 folds for each of 8 candidates, totalling 80 fits\n"
     ]
    },
    {
     "name": "stderr",
     "output_type": "stream",
     "text": [
      "[Parallel(n_jobs=-1)]: Using backend LokyBackend with 8 concurrent workers.\n",
      "[Parallel(n_jobs=-1)]: Done  34 tasks      | elapsed:   36.7s\n",
      "[Parallel(n_jobs=-1)]: Done  80 out of  80 | elapsed:  1.3min finished\n",
      "C:\\ProgramData\\Anaconda3\\lib\\site-packages\\sklearn\\utils\\validation.py:761: DataConversionWarning: A column-vector y was passed when a 1d array was expected. Please change the shape of y to (n_samples, ), for example using ravel().\n",
      "  y = column_or_1d(y, warn=True)\n"
     ]
    },
    {
     "name": "stdout",
     "output_type": "stream",
     "text": [
      "GaussianNB(priors=None, var_smoothing=0.7)\n",
      "Confusion matrix Model trained with accuracy scorer non PCA data\n",
      "[[ 44290  66885]\n",
      " [ 22071 494501]]\n",
      "Confusion matrix Model trained with MTAS scorer non PCA data\n",
      "[[ 55701  55474]\n",
      " [ 39263 477309]]\n"
     ]
    }
   ],
   "source": [
    "# Code for MTAS explanation\n",
    "from sklearn.model_selection import GridSearchCV\n",
    "from sklearn.naive_bayes import GaussianNB\n",
    "\n",
    "smoothing_values = [.6, .62, .64, .66, .68, .7, .72, .74]\n",
    "\n",
    "param_grid = [{'var_smoothing':smoothing_values}]\n",
    "\n",
    "scoring = {'Accuracy': make_scorer(accuracy_score),\n",
    "           'MTAS': make_scorer(MTAS)}\n",
    "\n",
    "NBG_acc = GridSearchCV(estimator = GaussianNB(),\n",
    "                        param_grid=param_grid,\n",
    "                        scoring=scoring,\n",
    "                        cv = 10, n_jobs=-1, verbose=1, refit='Accuracy', return_train_score=True)\n",
    "\n",
    "NBG_acc.fit(X_mtrain_cl_npca, y_mtrain_cl)\n",
    "\n",
    "cv_results_NBG_acc = NBG_acc.cv_results_\n",
    "best_estimator_NBG_acc = NBG_acc.best_estimator_\n",
    "best_index_NBG_acc = NBG_acc.best_index_\n",
    "best_score_NBG_acc = NBG_acc.best_score_\n",
    "best_params_NBG_acc = NBG_acc.best_params_\n",
    "\n",
    "NBG_MTAS = GridSearchCV(estimator = GaussianNB(),\n",
    "                        param_grid=param_grid,\n",
    "                        scoring=scoring,\n",
    "                        cv = 10, n_jobs=-1, verbose=1, refit='MTAS', return_train_score=True)\n",
    "\n",
    "NBG_MTAS.fit(X_mtrain_cl_npca, y_mtrain_cl)\n",
    "\n",
    "cv_results_NBG_MTAS = NBG_MTAS.cv_results_\n",
    "best_estimator_NBG_MTAS = NBG_MTAS.best_estimator_\n",
    "best_index_NBG_MTAS = NBG_MTAS.best_index_\n",
    "best_score_NBG_MTAS = NBG_MTAS.best_score_\n",
    "best_params_NBG_MTAS = NBG_MTAS.best_params_\n",
    "\n",
    "from sklearn import metrics as mt\n",
    "\n",
    "print(best_estimator_NBG_acc)\n",
    "y_hat_cl_npca_acc = best_estimator_NBG_acc.predict(X_mtrain_cl_npca)\n",
    "cm_npca_acc = mt.confusion_matrix(y_mtrain_cl,y_hat_cl_npca_acc)\n",
    "print(\"Confusion matrix Model trained with accuracy scorer non PCA data\")\n",
    "print(cm_npca_acc)\n",
    "\n",
    "y_hat_cl_npca_MTAS = best_estimator_NBG_MTAS.predict(X_mtrain_cl_npca)\n",
    "cm_npca_MTAS = mt.confusion_matrix(y_mtrain_cl,y_hat_cl_npca_MTAS)\n",
    "print(\"Confusion matrix Model trained with MTAS scorer non PCA data\")\n",
    "print(cm_npca_MTAS)\n"
   ]
  },
  {
   "cell_type": "markdown",
   "metadata": {},
   "source": [
    "#### Task 2: Regression\n",
    "##### MAE\n",
    "\n",
    "For Task 2, the mean absolute error (**MAE**) will be used to measure model performance.  MAE is a measurement of the mean magnitude of errors between predicted values and actual values.  For our regression model, **ChgOffPrinGr** was selected as the response.  This feature captures the amount of money remaining on a loan when it charged-off.  MAE is the chosen metric for regression model performance because it easy to interpret as its value explains the dollar value the model varies by.\n"
   ]
  },
  {
   "cell_type": "markdown",
   "metadata": {},
   "source": [
    "\n",
    "\n",
    "# Model and Evaluation 2"
   ]
  },
  {
   "cell_type": "markdown",
   "metadata": {},
   "source": [
    "Stratified K-Fold cross validation was used to create training and testing sets for use in grid search.  This method of cross validation because each fold is representative of the original dataset.  This is good for imbalanced data, such as the SBA dataset as it maintains the proportion of records across features for each fold; in normal cross validation, if there is a class within a feature with a low volume of observations, it may not be present in one of the folds.  By stratifying the folds this issue is mitigated.\n",
    "\n",
    "For cross validation the 70% training data set shown in the \"Data Preparation 2\" section was used to train the models, while the final model performance measurement of grid-searched models was preformed using the 30% testing data set.  Please see the \"Data Preparation 2\" section for more details.\n",
    "\n",
    "For the purposes of rapid prototyping and troubleshooting 5-folds were used for the stratified k-fold CV object for Random Forest and 10-folds were used for the remaining algorithms.  10-fold CV provides a good balance between variance and bias.  However, since the volume of data was very large, preforming 10 fold CV within a gird search for Random Forest would take several hours; reducing to 5-folds allows for results to be output roughly within the same amount of time it takes to complete 10-folds for the other algorithms.\n",
    "\n",
    "A gridsearch() helper function was created help to tune hyperparameters, display final performance metrics, and return CV metrics.  The gridsearch() function takes in the following arguments: model, the model name, a parameter grid, training and testing data, model type (classifier or regression), and a cross validation object.  Once the helper function has the following arguments it performs a grid search, runs a fit on the model generated by grid search using the test data, outputs model performance and cv metrics, and outputs a plot of the f1-score by response class for classification models.  The helper function also has the argument notations inside of the function to clearly define what each input for each argument should be and sets n_jobs to -1 to allow for multi-core parallelization.\n",
    "\n",
    "The intent of grid search is to run multiple iterations of a cross-validation - as defined by the cv object - to test different combinations of model parameters.  Each iteration of the grid search are compared to determine the best model parameters based on a user defined metric that the model is optimized on.  In a normal 10-fold CV, there are 10 iterations of a model; for a grid search with 3 sets of parameters and a 10-fold cv, there could be at least 30 iterations of a model. \n",
    "The per_class_accuracy() and plot_class_acc() helper functions derived from code provided in class were used to generate the f1-score by response class plot for the gridsearch() helper function.  These helper functions take in the y_test and y_hat sets to generate the necessary plots."
   ]
  },
  {
   "cell_type": "code",
   "execution_count": 38,
   "metadata": {},
   "outputs": [],
   "source": [
    "from sklearn.model_selection import GridSearchCV\n",
    "from sklearn.model_selection import StratifiedKFold\n",
    "import time\n",
    "\n",
    "def per_class_accuracy(ytrue,yhat):\n",
    "    conf = mt.confusion_matrix(ytrue,yhat)\n",
    "    norm_conf = conf.astype('float') / conf.sum(axis=1)[:, np.newaxis]\n",
    "    return np.diag(norm_conf)\n",
    "\n",
    "def plot_class_acc(ytrue,yhat, title=''):\n",
    "    acc_list = per_class_accuracy(ytrue,yhat)\n",
    "    plt.bar(range(len(acc_list)), acc_list)\n",
    "    plt.xlabel('Class value')\n",
    "    plt.ylabel('f1-score within class')\n",
    "    plt.title(title+\", Total f1-Score=%.1f\"%(100*mt.f1_score(ytrue,yhat)))\n",
    "    plt.grid()\n",
    "    plt.ylim([0,1])\n",
    "    plt.show()\n",
    "\n",
    "cv = StratifiedKFold(n_splits=2,shuffle=True, random_state=42)\n",
    "def gridsearch(model,modelName, grid, rf, scoring, x_test, y_test, X_train, y_train,modelType = 0, cv=cv):\n",
    "    # model - input model object\n",
    "    # grid - parameters used for gridsearch\n",
    "    # rf - refit parameter for gridsearch aka performance metric\n",
    "    # scoring - metric of choice for model preformance\n",
    "    # x_test - testing df\n",
    "    # X_train - features\n",
    "    # y_train - target\n",
    "    # cv - cv object\n",
    "    \n",
    "    start = time.time() #Start timer\n",
    "    #Preform Grid Search and get predictions\n",
    "    cv_results = GridSearchCV(model, grid, cv=cv, scoring = scoring, refit = rf, return_train_score = True, n_jobs=-1)\n",
    "    cv_results.fit(X_train,y_train)  # train object\n",
    "    y_hat = cv_results.predict(x_test)\n",
    "    elapsed_time = (time.time() - start)  #end timer\n",
    "    \n",
    "    if modelType == 'classifier':\n",
    "        #print out preformance metics and confusion matrix for classification\n",
    "        #########################################################\n",
    "        print('MTAS score: ', MTAS(y_test,y_hat))\n",
    "        print('F1 Score : ' + str(f1_score(y_test,y_hat)))\n",
    "        print('Grid Search Time: ', elapsed_time)\n",
    "        print(\"==== Confusion Matrix ====\")\n",
    "        print(\"\\nconfusion matrix\\n\",mt.confusion_matrix(y_test,y_hat))\n",
    "        print(\"\\nPer Class Accuracy\\n\")\n",
    "        plot_class_acc(y_test,y_hat, title=modelName)\n",
    "    else:\n",
    "        #print out preformance metics for regression\n",
    "        #########################################################\n",
    "        print('MAE Score : ', mean_absolute_error(y_test,y_hat))\n",
    "        print('Grid Search Time: ', elapsed_time)\n",
    "        #[cv_results.best_estimator_,cv_results.best_score_, cv_results.best_params_]\n",
    "    return [cv_results.best_estimator_,cv_results.best_score_, cv_results.best_params_] #return grid search results"
   ]
  },
  {
   "cell_type": "markdown",
   "metadata": {},
   "source": [
    "# Model and Evaluation 3"
   ]
  },
  {
   "cell_type": "markdown",
   "metadata": {},
   "source": [
    "Random Forest, Naive Bayes, and Logistic Regression were used for Task 1 to classify **MIS_Status**.  Where \"P I F\" is a success, and \"CHGOFF\" is a failure.  For each model a grid search was preformed to tune the hyper paramters to allow for optimal preformance metrics.\n",
    "\n",
    "Random Forest, KNN, and Linear Regression were used for Task 2 to predict charge-off principal gross values.  For these models, data was filtered for records that had a \"CHGOFF\".  These records have an associated Charge-off Principal Gross to capture the amount of money that remained on a loan after it charged-off.  For each model a grid search was preformed to tune the hyper paramters to allow for optimal preformance metrics.\n",
    "\n",
    "Models metrics and CV details will be compared and discussed witheach their own tasks at the end of this section. "
   ]
  },
  {
   "cell_type": "markdown",
   "metadata": {},
   "source": [
    "## Task 1: Random Forest Classification"
   ]
  },
  {
   "cell_type": "markdown",
   "metadata": {},
   "source": [
    "A 5-fold cross-validation using a Random Forrest Classifier with model performance judged on the f1-score.  Data frames were fed into the algorithm for both training and testing, where the target feature for both training and test sets were converted to arrays for model use.  The model, cross-validation object, and data were put into the stratified_cross_validate() helper function and run with 5 folds. the mean f1-score was 0.955 and the CV time was approximately 3000 seconds. \n",
    "\n",
    "The gridsearch() helper function was used to intake the necessary data and parameters to preform a grid search.  An exhuastive search accross all Random Forest parameters would have generated more optimal results; however, since there are many parameters to adjust and the dataset is very large, three parameters were choosen to tune hyper parameters for the sack of a more rapid cross validation and parameter tunning process.\n",
    "\n",
    "For hyperparameter tuning the three parameters selected were: 'min_samples_leaf', 'min_samples_split', and 'n_estimators'.  The 'min_samples_leaf' parameters controls the minimul number of records in a leaf node; the 'min_samples_split' controls the minimum number of records in a node before it is split; and 'n_estimators' controls the number of trees that are in the forest. Each parameter has 3 different settings, totaling 27 settings that were tested through grid search.\n",
    "\n",
    "**F1-Score** and **MTAS** were used compare model preformance between classifcation model types.  Based on the grid search cross validation, the Random Forrest classifier took approximately 3000 seconds to run with an F1-score of .955, and an MTAS score of 0.731.  The f1-score and MTAS score suggest that the Random Forrest classifier was able to correctly predict successes and failures for **MIS_Status** well.  \n",
    "\n",
    "A confusion matrix was run by taking predictions from a model fit on the best parameters generated by the grid search and comparing them to the 30% hold-out test set created at the begining of this project.  The benifit of having a separate hold-out test set in addition to the CV process utilized, was that model preformance was judged on data that the trained model was never exposed to.  This allows for better preformance measuring.  The confusion matrix confirmed that the f1-score and MTAS werer good measures.  This was determined by looking at the ratio of true postives and true negatives.  The ratio of \"P I F\" and \"CHGOFF\" from the \"Data Preparation 1\" section was approximately 17%.  When looking at the confusion matrix the ratio was appoximately 14%.  This suggests that the tunned model can correctly classify our response."
   ]
  },
  {
   "cell_type": "code",
   "execution_count": 114,
   "metadata": {
    "scrolled": true
   },
   "outputs": [
    {
     "name": "stdout",
     "output_type": "stream",
     "text": [
      "MTAS score:  0.7322895541294926\n",
      "F1 Score : 0.9555195550395646\n",
      "Grid Search Time:  2571.3705728054047\n",
      "==== Confusion Matrix ====\n",
      "\n",
      "confusion matrix\n",
      " [[ 34675  13185]\n",
      " [  6776 214399]]\n",
      "\n",
      "Per Class Accuracy\n",
      "\n"
     ]
    },
    {
     "data": {
      "image/png": "[encoded data removed]",
      "text/plain": [
       "<Figure size 432x288 with 1 Axes>"
      ]
     },
     "metadata": {},
     "output_type": "display_data"
    },
    {
     "data": {
      "text/plain": [
       "[RandomForestClassifier(bootstrap=True, ccp_alpha=0.0, class_weight=None,\n",
       "                        criterion='gini', max_depth=50, max_features='auto',\n",
       "                        max_leaf_nodes=None, max_samples=None,\n",
       "                        min_impurity_decrease=0.0, min_impurity_split=None,\n",
       "                        min_samples_leaf=2, min_samples_split=10,\n",
       "                        min_weight_fraction_leaf=0.0, n_estimators=200,\n",
       "                        n_jobs=-1, oob_score=True, random_state=None, verbose=0,\n",
       "                        warm_start=False),\n",
       " 0.9551762031059955,\n",
       " {'min_samples_leaf': 2, 'min_samples_split': 10, 'n_estimators': 200}]"
      ]
     },
     "execution_count": 114,
     "metadata": {},
     "output_type": "execute_result"
    }
   ],
   "source": [
    "from sklearn.ensemble import RandomForestClassifier\n",
    "#data for model and preformance measuring\n",
    "X = X_mtrain_cl\n",
    "y = y_mtrain_cl.values.ravel()\n",
    "x_test = X_mtest_cl\n",
    "y_test = y_mtest_cl.values.ravel()\n",
    "\n",
    "#initialize model and cv objects\n",
    "rfc = RandomForestClassifier(max_depth=50, n_estimators=150, n_jobs=-1, oob_score=True)\n",
    "cv = StratifiedKFold(n_splits=5, shuffle=True, random_state=42)\n",
    "\n",
    "#set up parameters and metrics to tune hyperparameters by\n",
    "grid = {'min_samples_leaf':[2, 5, 10],\n",
    "        'min_samples_split': [5, 10, 15],\n",
    "        'n_estimators': [100, 200, 300]}\n",
    "rf = \"f1\"\n",
    "scoring = {'f1': make_scorer(f1_score),\n",
    "           'MTAS':make_scorer(MTAS)}\n",
    "\n",
    "#execute grid search\n",
    "gridsearch(rfc,\"Random Forest\",grid, rf, scoring, x_test, y_test, X, y,'classifier', cv=cv)#12:42AM"
   ]
  },
  {
   "cell_type": "code",
   "execution_count": null,
   "metadata": {},
   "outputs": [],
   "source": [
    "# Best model parameters for Random Forest\n",
    "grid = {'min_samples_leaf':[2],\n",
    "        'min_samples_split': [5],\n",
    "        'n_estimators': [200]}\n",
    "rf = \"MTAS\"\n",
    "RF_clf_Estimator, RF_clf_Score, RF_clf_Params = gridsearch(rfc,\"Random Forest\",grid, rf, scoring, x_test, y_test, X, y,'classifier', cv=cv)"
   ]
  },
  {
   "cell_type": "markdown",
   "metadata": {},
   "source": [
    "## Task 1: Naive Bayes Classification"
   ]
  },
  {
   "cell_type": "markdown",
   "metadata": {},
   "source": [
    "A Naive Bayes model was trained for classification. Initially the model was scored using F1, and MTAS. Also, models trained on the PCA data set were created. The PCA trained models did not return any predictions for negative outcomes. Since the models predicted that no loans would fail, the PCA trained models were discarded.\n",
    "\n",
    "The non PCA data models’ results are shown below. The MTAS scored model confusion matrix reveals that just over half the negative results were predicted correctly 0.527 = 25224/(25224 + 22636), and correct positive results are 0.909 = 201023/(201023 + 20152). This contrasts with the results of the F1 scored model where correct negative results are 0.315 = 15083/(15083 + 32777), and the correct positive results are 0.973 = 215197/(215197 + 5978). So, for a decrease in predicting correct positive of just over 6% we gain and increase in predicting negative results of over 20%. The MTAS scored model was chosen.\n",
    "\n",
    "Additionally, the Naïve Bayes model was trained with the under sampled data set. The results were not useful having a low F1 and MTAS scores. However, a special use for these models might exist. The models captured 87.6% of the true negatives. (0.876 = 41942/(41942 + 5918)). This comes at a cost of creating more than two and a half times the false negative as really exist. If a business requirement necessitated predicting as many negative outcomes as possible and the costs associated with a high false negative count are not to great this models results might be of interest."
   ]
  },
  {
   "cell_type": "code",
   "execution_count": 39,
   "metadata": {},
   "outputs": [
    {
     "name": "stdout",
     "output_type": "stream",
     "text": [
      "MTAS score:  0.5519215522678951\n",
      "F1 Score : 0.903811309387322\n",
      "Grid Search Time:  110.50850820541382\n",
      "==== Confusion Matrix ====\n",
      "\n",
      "confusion matrix\n",
      " [[ 25224  22636]\n",
      " [ 20152 201023]]\n",
      "\n",
      "Per Class Accuracy\n",
      "\n"
     ]
    },
    {
     "data": {
      "image/png": "[encoded data removed]",
      "text/plain": [
       "<Figure size 432x288 with 1 Axes>"
      ]
     },
     "metadata": {},
     "output_type": "display_data"
    },
    {
     "name": "stdout",
     "output_type": "stream",
     "text": [
      "MTAS score:  0.522996136275299\n",
      "F1 Score : 0.9173929817605921\n",
      "Grid Search Time:  110.8840069770813\n",
      "==== Confusion Matrix ====\n",
      "\n",
      "confusion matrix\n",
      " [[ 15083  32777]\n",
      " [  5978 215197]]\n",
      "\n",
      "Per Class Accuracy\n",
      "\n"
     ]
    },
    {
     "data": {
      "image/png": "[encoded data removed]",
      "text/plain": [
       "<Figure size 432x288 with 1 Axes>"
      ]
     },
     "metadata": {},
     "output_type": "display_data"
    },
    {
     "name": "stdout",
     "output_type": "stream",
     "text": [
      "MTAS score:  0.5084580927409008\n",
      "F1 Score : 0.6485129497109878\n",
      "Grid Search Time:  38.34114480018616\n",
      "==== Confusion Matrix ====\n",
      "\n",
      "confusion matrix\n",
      " [[ 42121   5739]\n",
      " [112290 108885]]\n",
      "\n",
      "Per Class Accuracy\n",
      "\n"
     ]
    },
    {
     "data": {
      "image/png": "[encoded data removed]",
      "text/plain": [
       "<Figure size 432x288 with 1 Axes>"
      ]
     },
     "metadata": {},
     "output_type": "display_data"
    },
    {
     "name": "stdout",
     "output_type": "stream",
     "text": [
      "MTAS score:  0.5084021668620322\n",
      "F1 Score : 0.653940649459574\n",
      "Grid Search Time:  39.19364285469055\n",
      "==== Confusion Matrix ====\n",
      "\n",
      "confusion matrix\n",
      " [[ 41942   5918]\n",
      " [110849 110326]]\n",
      "\n",
      "Per Class Accuracy\n",
      "\n"
     ]
    },
    {
     "data": {
      "image/png": "[encoded data removed]",
      "text/plain": [
       "<Figure size 432x288 with 1 Axes>"
      ]
     },
     "metadata": {},
     "output_type": "display_data"
    }
   ],
   "source": [
    "# Naive Bayes Accuracy score\n",
    "#sklearn.naive_bayes.GaussianNB(*, priors=None, var_smoothing=1e-09\n",
    "from sklearn.naive_bayes import GaussianNB\n",
    "\n",
    "smoothing_values = [.6, .62, .64, .66, .68, .7, .72, .74, .76, .78, .8]\n",
    "\n",
    "param_grid = [{'var_smoothing':smoothing_values}]\n",
    "\n",
    "scoring = {'f1': make_scorer(f1_score),\n",
    "           'MTAS':make_scorer(MTAS)}\n",
    "\n",
    "nbc =  GaussianNB()\n",
    "\n",
    "rf = 'MTAS'\n",
    "\n",
    "cv = StratifiedKFold(n_splits=10, shuffle=True, random_state=42)\n",
    "\n",
    "X = X_mtrain_cl_npca\n",
    "y = y_mtrain_cl.values.ravel()\n",
    "x_test = X_mtest_cl_npca\n",
    "y_test = y_mtest_cl.values.ravel()\n",
    "\n",
    "NB_clf_Estimator, NB_clf_Score, NB_clf_Params = gridsearch(nbc,\"Naive Bayes, MTAS scoring\",param_grid, rf, scoring, x_test, y_test\n",
    "                                                           , X, y,'classifier', cv=cv)\n",
    "\n",
    "rf = 'f1'\n",
    "NB_clf_Estimator_f1, NB_clf_Score_f1, NB_clf_Params_f1 = gridsearch(nbc,\"Naive Bayes, F1 scoring\",param_grid, rf, scoring, x_test, y_test\n",
    "                                                           , X, y,'classifier', cv=cv)\n",
    "\n",
    "# use undersampled data\n",
    "\n",
    "X = X_mtrain_cl_us_npca\n",
    "y = y_mtrain_cl_us.values.ravel()\n",
    "\n",
    "rf = 'MTAS'\n",
    "NB_us_clf_Estimator, NB_us_clf_Score, NB_us_clf_Params = gridsearch(nbc,\"Naive Bayes, MTAS scoring, under sampled data set\",param_grid, rf, scoring, x_test, y_test\n",
    "                                                           , X, y,'classifier', cv=cv)\n",
    "\n",
    "rf = 'f1'\n",
    "NB_us_clf_Estimator_f1, NB_us_clf_Score_f1, NB_us_clf_Params_f1 = gridsearch(nbc,\"Naive Bayes, F1 scoring, under sampled data set\",param_grid, rf, scoring, x_test, y_test\n",
    "                                                           , X, y,'classifier', cv=cv)"
   ]
  },
  {
   "cell_type": "code",
   "execution_count": 129,
   "metadata": {},
   "outputs": [
    {
     "name": "stdout",
     "output_type": "stream",
     "text": [
      "GaussianNB(priors=None, var_smoothing=0.64)\n",
      "0.5499435928210177\n",
      "{'var_smoothing': 0.64}\n",
      "GaussianNB(priors=None, var_smoothing=0.72)\n",
      "0.917225133936936\n",
      "{'var_smoothing': 0.72}\n"
     ]
    }
   ],
   "source": [
    "print(NB_clf_Estimator)\n",
    "print(NB_clf_Score)\n",
    "print(NB_clf_Params)\n",
    "print(NB_clf_Estimator_f1)\n",
    "print(NB_clf_Score_f1)\n",
    "print(NB_clf_Params_f1)"
   ]
  },
  {
   "cell_type": "markdown",
   "metadata": {},
   "source": [
    "## Task 1: Logistic Regression Classification"
   ]
  },
  {
   "cell_type": "code",
   "execution_count": 82,
   "metadata": {},
   "outputs": [],
   "source": [
    "from sklearn.linear_model import LogisticRegression\n",
    "lr_clf = LogisticRegression(penalty='l2', solver='liblinear', random_state=42)\n",
    "C = np.logspace(0, 4, 12)\n",
    "param_grid = {'C': C}\n",
    "score = {'f1': make_scorer(f1_score)}"
   ]
  },
  {
   "cell_type": "code",
   "execution_count": 83,
   "metadata": {},
   "outputs": [
    {
     "name": "stderr",
     "output_type": "stream",
     "text": [
      "C:\\ProgramData\\Anaconda3\\lib\\site-packages\\sklearn\\utils\\validation.py:761: DataConversionWarning: A column-vector y was passed when a 1d array was expected. Please change the shape of y to (n_samples, ), for example using ravel().\n",
      "  y = column_or_1d(y, warn=True)\n"
     ]
    },
    {
     "name": "stdout",
     "output_type": "stream",
     "text": [
      "MTAS score:  MIS_Status    0.516649\n",
      "dtype: float64\n",
      "F1 Score : 0.9154569798133838\n",
      "Grid Search Time:  1203.559728384018\n",
      "==== Confusion Matrix ====\n",
      "\n",
      "confusion matrix\n",
      " [[ 14079  33781]\n",
      " [  5968 215207]]\n",
      "\n",
      "Per Class Accuracy\n",
      "\n"
     ]
    },
    {
     "data": {
      "image/png": "[encoded data removed]",
      "text/plain": [
       "<Figure size 432x288 with 1 Axes>"
      ]
     },
     "metadata": {},
     "output_type": "display_data"
    }
   ],
   "source": [
    "# Create grid search using 5-fold cross validation\n",
    "# gridsearch(model,modelName, grid, rf, scoring, x_test, y_test, X_train, y_train,modelType = 0, cv=cv):\n",
    "\n",
    "x_test = X_mtest_cl\n",
    "y_test = y_mtest_cl\n",
    "X_us2= X_mtrain_cl\n",
    "y_us2= y_mtrain_cl\n",
    "\n",
    "#Run gridsearch\n",
    "cv = StratifiedKFold(n_splits =10, shuffle = True, random_state=42)\n",
    "lr_clf_Estimator, lr_clf_Score, lr_clf_Params = gridsearch(lr_clf,'Logistic Regression',param_grid,'f1', score,  x_test, y_test, X_us2, y_us2, 'classifier', cv)"
   ]
  },
  {
   "cell_type": "markdown",
   "metadata": {},
   "source": [
    "**Retain using parameters to get weights**"
   ]
  },
  {
   "cell_type": "markdown",
   "metadata": {},
   "source": [
    "## Task 2: Random Forest Regression"
   ]
  },
  {
   "cell_type": "markdown",
   "metadata": {},
   "source": [
    "A 5-fold cross-validation using a Random Forrest regressor with model performance judged on the mean-absolute error was run.  Data frames were fed into the algorithm for both training and testing, where the target feature for both training and test sets were converted to arrays for model use.  The model, cross-validation object, and data were put into the stratified_cross_validate() helper function and run with 5 folds. the mean MAE score was 80388.94 and the CV time was approximately 4000 seconds. \n",
    "\n",
    "The gridsearch() helper function was used to intake the necessary data and parameters to preform a grid search.  An exhuastive search accross all Random Forest parameters would have generated more optimal results; however, since there are many parameters to adjust and the dataset is very large, three parameters were choosen to tune hyper parameters for the sack of a more rapid cross validation and parameter tunning process.\n",
    "\n",
    "For hyperparameter tuning the three parameters selected were: 'min_samples_leaf', 'min_samples_split', and 'n_estimators'.  The 'min_samples_leaf' parameters controls the minimul number of records in a leaf node; the 'min_samples_split' controls the minimum number of records in a node before it is split; and 'n_estimators' controls the number of trees that are in the forest. Each parameter has 3 different settings, totaling 27 settings that were tested through grid search."
   ]
  },
  {
   "cell_type": "code",
   "execution_count": 53,
   "metadata": {},
   "outputs": [
    {
     "name": "stderr",
     "output_type": "stream",
     "text": [
      "C:\\Users\\Jeff\\Anaconda3\\lib\\site-packages\\sklearn\\model_selection\\_split.py:667: UserWarning: The least populated class in y has only 1 members, which is less than n_splits=10.\n",
      "  % (min_groups, self.n_splits)), UserWarning)\n",
      "C:\\Users\\Jeff\\Anaconda3\\lib\\site-packages\\joblib\\externals\\loky\\process_executor.py:706: UserWarning: A worker stopped while some jobs were given to the executor. This can be caused by a too short worker timeout or by a memory leak.\n",
      "  \"timeout or by a memory leak.\", UserWarning\n"
     ]
    },
    {
     "name": "stdout",
     "output_type": "stream",
     "text": [
      "MAE Score :  80388.94469473587\n",
      "Grid Search Time:  4364.0381898880005\n"
     ]
    }
   ],
   "source": [
    "from sklearn.ensemble import RandomForestRegressor\n",
    "\n",
    "X = X_mtrain_rg\n",
    "y = y_mtrain_rg.values.ravel()\n",
    "x_test = X_mtest_rg\n",
    "y_test = y_mtest_rg.values.ravel()\n",
    "\n",
    "rf_reg = RandomForestRegressor(oob_score = True, n_jobs = -1, random_state = 42)\n",
    "\n",
    "#parameters to tune\n",
    "grid = {'n_estimators': [100,200,300],\n",
    "        'min_samples_leaf':[1, 2, 5, 10],\n",
    "        'min_samples_split': [5, 10, 15]\n",
    "       }\n",
    "#metrics for measuring preformance\n",
    "scoring = {'MAE': make_scorer(mean_absolute_error)}\n",
    "\n",
    "cv = StratifiedKFold(n_splits=5, shuffle=True, random_state=42)\n",
    "rf = \"MAE\"\n",
    "rf_cv = gridsearch(model = rf_reg,modelName = 'Random Forest', grid = grid, rf = rf, scoring = scoring, x_test = x_test, y_test = y_test, \n",
    "           X_train = X, y_train = y, modelType='regression', cv=cv)"
   ]
  },
  {
   "cell_type": "code",
   "execution_count": 118,
   "metadata": {},
   "outputs": [
    {
     "data": {
      "text/plain": [
       "[RandomForestRegressor(bootstrap=True, ccp_alpha=0.0, criterion='mse',\n",
       "                       max_depth=None, max_features='auto', max_leaf_nodes=None,\n",
       "                       max_samples=None, min_impurity_decrease=0.0,\n",
       "                       min_impurity_split=None, min_samples_leaf=1,\n",
       "                       min_samples_split=5, min_weight_fraction_leaf=0.0,\n",
       "                       n_estimators=100, n_jobs=-1, oob_score=True,\n",
       "                       random_state=42, verbose=0, warm_start=False),\n",
       " 81342.7962551672,\n",
       " {'min_samples_leaf': 1, 'min_samples_split': 5, 'n_estimators': 100}]"
      ]
     },
     "execution_count": 118,
     "metadata": {},
     "output_type": "execute_result"
    }
   ],
   "source": [
    "rf_cv"
   ]
  },
  {
   "cell_type": "markdown",
   "metadata": {},
   "source": [
    "### KNN Regression\n",
    "kNN regression was performed on the data set. The “n_neighbors” and “leaf_size” parameters were adjusted in a grid search. “n_neighbors” refers to how many neighbors of the data point are examined. “leaf_size” refers to how many how many records are stored in a leaf for BallTree and KDTree algorithms. The algorithm parameter itself was left as “auto” so it could determine the best algorithm to use. The best mean absolute error was obtained by running the model with parameters n_neighbors = 4 and leaf_size = 50, the MAE is 83795. The GridSearch helper function was used to test different combinations of parameters. kNN regression did run for a considerable length of time. Six different parameters were tried for “n_neighbors” and 3 for “leaf_size”."
   ]
  },
  {
   "cell_type": "code",
   "execution_count": 41,
   "metadata": {},
   "outputs": [
    {
     "name": "stderr",
     "output_type": "stream",
     "text": [
      "C:\\ProgramData\\Anaconda3\\lib\\site-packages\\sklearn\\model_selection\\_split.py:652: Warning: The least populated class in y has only 1 members, which is too few. The minimum number of members in any class cannot be less than n_splits=10.\n",
      "  % (min_groups, self.n_splits)), Warning)\n",
      "C:\\ProgramData\\Anaconda3\\lib\\site-packages\\sklearn\\model_selection\\_search.py:841: DeprecationWarning: The default of the `iid` parameter will change from True to False in version 0.22 and will be removed in 0.24. This will change numeric results when test-set sizes are unequal.\n",
      "  DeprecationWarning)\n"
     ]
    },
    {
     "name": "stdout",
     "output_type": "stream",
     "text": [
      "MAE Score :  83795.43963926708\n",
      "Grid Search Time:  11846.250994205475\n"
     ]
    },
    {
     "ename": "NameError",
     "evalue": "name 'rfc' is not defined",
     "output_type": "error",
     "traceback": [
      "\u001b[1;31m---------------------------------------------------------------------------\u001b[0m",
      "\u001b[1;31mNameError\u001b[0m                                 Traceback (most recent call last)",
      "\u001b[1;32m<ipython-input-41-2379398ddf07>\u001b[0m in \u001b[0;36m<module>\u001b[1;34m\u001b[0m\n\u001b[0;32m     27\u001b[0m \u001b[0mrf\u001b[0m \u001b[1;33m=\u001b[0m \u001b[1;34m\"MTAS\"\u001b[0m\u001b[1;33m\u001b[0m\u001b[1;33m\u001b[0m\u001b[0m\n\u001b[0;32m     28\u001b[0m \u001b[1;33m\u001b[0m\u001b[0m\n\u001b[1;32m---> 29\u001b[1;33m \u001b[0mRF_clf_Estimator\u001b[0m\u001b[1;33m,\u001b[0m \u001b[0mRF_clf_Score\u001b[0m\u001b[1;33m,\u001b[0m \u001b[0mRF_clf_Params\u001b[0m \u001b[1;33m=\u001b[0m \u001b[0mgridsearch\u001b[0m\u001b[1;33m(\u001b[0m\u001b[0mrfc\u001b[0m\u001b[1;33m,\u001b[0m\u001b[1;34m\"Random Forest\"\u001b[0m\u001b[1;33m,\u001b[0m\u001b[0mgrid\u001b[0m\u001b[1;33m,\u001b[0m \u001b[0mrf\u001b[0m\u001b[1;33m,\u001b[0m \u001b[0mscoring\u001b[0m\u001b[1;33m,\u001b[0m \u001b[0mx_test\u001b[0m\u001b[1;33m,\u001b[0m \u001b[0my_test\u001b[0m\u001b[1;33m,\u001b[0m \u001b[0mX\u001b[0m\u001b[1;33m,\u001b[0m \u001b[0my\u001b[0m\u001b[1;33m,\u001b[0m\u001b[1;34m'classifier'\u001b[0m\u001b[1;33m,\u001b[0m \u001b[0mcv\u001b[0m\u001b[1;33m=\u001b[0m\u001b[0mcv\u001b[0m\u001b[1;33m)\u001b[0m\u001b[1;33m\u001b[0m\u001b[1;33m\u001b[0m\u001b[0m\n\u001b[0m\u001b[0;32m     30\u001b[0m \u001b[1;33m\u001b[0m\u001b[0m\n\u001b[0;32m     31\u001b[0m \u001b[0mprint\u001b[0m\u001b[1;33m(\u001b[0m\u001b[0mRF_clf_Estimator\u001b[0m\u001b[1;33m)\u001b[0m\u001b[1;33m\u001b[0m\u001b[1;33m\u001b[0m\u001b[0m\n",
      "\u001b[1;31mNameError\u001b[0m: name 'rfc' is not defined"
     ]
    }
   ],
   "source": [
    "from sklearn.neighbors import KNeighborsRegressor\n",
    "\n",
    "X = X_mtrain_rg\n",
    "y = y_mtrain_rg.values.ravel()\n",
    "x_test = X_mtest_rg\n",
    "y_test = y_mtest_rg.values.ravel()\n",
    "\n",
    "knn_reg = KNeighborsRegressor(n_neighbors=2, p=2, algorithm='kd_tree')\n",
    "\n",
    "\n",
    "grid = {'n_neighbors': [4,6,8,10,12,14],\n",
    "        'algorithm': ['auto'],\n",
    "        'leaf_size': [50, 100, 1000]\n",
    "       }\n",
    "#metrics for measuring preformance\n",
    "scoring = {'MAE': make_scorer(mean_absolute_error)}\n",
    "\n",
    "cv = StratifiedKFold(n_splits=10, shuffle=True, random_state=42)\n",
    "rf = \"MAE\"\n",
    "kNN_rg_Estimator, kNN_rg_Score, kNN_rg_Params = gridsearch(model = knn_reg, modelName = 'kNN Regression', grid = grid, rf = rf, scoring = scoring, x_test = x_test, y_test = y_test, \n",
    "                                                           X_train = X, y_train = y, modelType='regression', cv=cv)\n",
    "\n"
   ]
  },
  {
   "cell_type": "markdown",
   "metadata": {},
   "source": [
    "### Linear Regression"
   ]
  },
  {
   "cell_type": "code",
   "execution_count": 42,
   "metadata": {},
   "outputs": [
    {
     "name": "stdout",
     "output_type": "stream",
     "text": [
      "KNeighborsRegressor(algorithm='auto', leaf_size=50, metric='minkowski',\n",
      "          metric_params=None, n_jobs=None, n_neighbors=4, p=2,\n",
      "          weights='uniform')\n",
      "79466.55811401508\n",
      "{'algorithm': 'auto', 'leaf_size': 50, 'n_neighbors': 4}\n"
     ]
    }
   ],
   "source": [
    "print(kNN_rg_Estimator)\n",
    "print(kNN_rg_Score)\n",
    "print(kNN_rg_Params)"
   ]
  },
  {
   "cell_type": "markdown",
   "metadata": {},
   "source": [
    "## Parameter Investigation"
   ]
  },
  {
   "cell_type": "markdown",
   "metadata": {},
   "source": [
    "### Task 1: Classification Parameter Investigation"
   ]
  },
  {
   "cell_type": "markdown",
   "metadata": {},
   "source": [
    "When comparing grid-search times between classificaiton algorithms, the Random Forest Classifier took ~50 times longer than the Logistic Regression and ~20 times longer compared to Naive bayes; considering that the Random Forest Classifier only ran 5-fold CV verses 10-folds for both Naive Bayes and Logisitic - is this differnce in time worth the time?\n",
    "\n",
    "Considering the time it takes to execute the classificaiton algorithms, the Random Forest classifier is ~4% higher compared to the other classifiers. While the MTAS is ~20% better compared to the other classifiers.  The question of \"best classifier depends on how these algorithms will be applied.\n",
    "\n",
    "If results from a classifiers is for a one-time report, the Random Forrest Classifier would be best as it has the highest preformance metrics;  if the results need to be updated frequently the Naive Bayes would be a better option since it is much faster to run, has a comparable F1-score to Logistic Regression, but has ~4% better MTAS than Logistic Regression.\n",
    "\n",
    "For parameter investigation the **Random Forrest Classifier** was used."
   ]
  },
  {
   "cell_type": "code",
   "execution_count": 123,
   "metadata": {},
   "outputs": [
    {
     "data": {
      "text/html": [
       "<style  type=\"text/css\" >\n",
       "</style><table id=\"T_97256dac_be2a_11ea_a329_98af65ff76e7\" ><thead>    <tr>        <th class=\"col_heading level0 col0\" >Classification Model</th>        <th class=\"col_heading level0 col1\" >F1-Score</th>        <th class=\"col_heading level0 col2\" >MTAS</th>        <th class=\"col_heading level0 col3\" >Folds</th>        <th class=\"col_heading level0 col4\" >Grid Search Time (s)</th>    </tr></thead><tbody>\n",
       "                <tr>\n",
       "                                <td id=\"T_97256dac_be2a_11ea_a329_98af65ff76e7row0_col0\" class=\"data row0 col0\" >Random Forest</td>\n",
       "                        <td id=\"T_97256dac_be2a_11ea_a329_98af65ff76e7row0_col1\" class=\"data row0 col1\" >0.955000</td>\n",
       "                        <td id=\"T_97256dac_be2a_11ea_a329_98af65ff76e7row0_col2\" class=\"data row0 col2\" >0.732000</td>\n",
       "                        <td id=\"T_97256dac_be2a_11ea_a329_98af65ff76e7row0_col3\" class=\"data row0 col3\" >5</td>\n",
       "                        <td id=\"T_97256dac_be2a_11ea_a329_98af65ff76e7row0_col4\" class=\"data row0 col4\" >2571.371000</td>\n",
       "            </tr>\n",
       "            <tr>\n",
       "                                <td id=\"T_97256dac_be2a_11ea_a329_98af65ff76e7row1_col0\" class=\"data row1 col0\" >Naive Bayes</td>\n",
       "                        <td id=\"T_97256dac_be2a_11ea_a329_98af65ff76e7row1_col1\" class=\"data row1 col1\" >0.904000</td>\n",
       "                        <td id=\"T_97256dac_be2a_11ea_a329_98af65ff76e7row1_col2\" class=\"data row1 col2\" >0.552000</td>\n",
       "                        <td id=\"T_97256dac_be2a_11ea_a329_98af65ff76e7row1_col3\" class=\"data row1 col3\" >10</td>\n",
       "                        <td id=\"T_97256dac_be2a_11ea_a329_98af65ff76e7row1_col4\" class=\"data row1 col4\" >122.000000</td>\n",
       "            </tr>\n",
       "            <tr>\n",
       "                                <td id=\"T_97256dac_be2a_11ea_a329_98af65ff76e7row2_col0\" class=\"data row2 col0\" >Logistic Regression</td>\n",
       "                        <td id=\"T_97256dac_be2a_11ea_a329_98af65ff76e7row2_col1\" class=\"data row2 col1\" >0.915000</td>\n",
       "                        <td id=\"T_97256dac_be2a_11ea_a329_98af65ff76e7row2_col2\" class=\"data row2 col2\" >0.517000</td>\n",
       "                        <td id=\"T_97256dac_be2a_11ea_a329_98af65ff76e7row2_col3\" class=\"data row2 col3\" >10</td>\n",
       "                        <td id=\"T_97256dac_be2a_11ea_a329_98af65ff76e7row2_col4\" class=\"data row2 col4\" >56.553000</td>\n",
       "            </tr>\n",
       "    </tbody></table>"
      ],
      "text/plain": [
       "<pandas.io.formats.style.Styler at 0x2105eaeca48>"
      ]
     },
     "execution_count": 123,
     "metadata": {},
     "output_type": "execute_result"
    }
   ],
   "source": [
    "d = {'Classification Model':['Random Forest', 'Naive Bayes','Logistic Regression'],\n",
    "     'F1-Score':[0.955,0.904,0.915], 'MTAS':[.732,0.552,0.517],'Folds':[5,10,10], 'Grid Search Time (s)':[2571.371,122,56.553]}\n",
    "pd.DataFrame(d).style.hide_index()"
   ]
  },
  {
   "cell_type": "markdown",
   "metadata": {},
   "source": [
    "After running grid search, the best Random Forrest Classifier had the parameters shown in the table below in addition to default values of: \n",
    "\n",
    "- min_weight_fraction_leaf = 0\n",
    "- max_features = 'auto'\n",
    "- max_leaf_nodes=None\n",
    "- min_impurity_decrease = 0\n",
    "- min_impurity_split = None\n",
    "- bootstrap = True\n",
    "- ccp_alpha = 0\n",
    "- max_samples = None\n",
    "\n",
    "'min_samples_leaf' and 'min_samples_split' both determine stopping conditions for node/lead creation.  The larger the values are the higher tendancy a tree has to be over-fit to the data.  'min_samples_leaf' dicates the minimum number of samples for a leaf to exist - where leafs are terminal portions of a tree that have no further nodes.  While 'min_samples_split' specifies the minimum number of records to split a node that contains leafs. 'n_estimators' dictates how many trees will be run to generate a result that maximizes the preformance metric of choice.  For this Random Forrest Classifier, grid search determined that the minimum samples per leaf was 2, the minimum samples for a split to occur was 5, and the number of trees generated to reach the best f1-score was 200 trees."
   ]
  },
  {
   "cell_type": "code",
   "execution_count": 112,
   "metadata": {},
   "outputs": [
    {
     "data": {
      "text/html": [
       "<style  type=\"text/css\" >\n",
       "</style><table id=\"T_62d1096c_be15_11ea_b675_98af65ff76e7\" ><thead>    <tr>        <th class=\"col_heading level0 col0\" >min_samples_leaf</th>        <th class=\"col_heading level0 col1\" >min_samples_split</th>        <th class=\"col_heading level0 col2\" >n_estimators</th>    </tr></thead><tbody>\n",
       "                <tr>\n",
       "                                <td id=\"T_62d1096c_be15_11ea_b675_98af65ff76e7row0_col0\" class=\"data row0 col0\" >2</td>\n",
       "                        <td id=\"T_62d1096c_be15_11ea_b675_98af65ff76e7row0_col1\" class=\"data row0 col1\" >5</td>\n",
       "                        <td id=\"T_62d1096c_be15_11ea_b675_98af65ff76e7row0_col2\" class=\"data row0 col2\" >200</td>\n",
       "            </tr>\n",
       "    </tbody></table>"
      ],
      "text/plain": [
       "<pandas.io.formats.style.Styler at 0x2105eaeed48>"
      ]
     },
     "execution_count": 112,
     "metadata": {},
     "output_type": "execute_result"
    }
   ],
   "source": [
    "rf_cv_res = {'min_samples_leaf': [2], 'min_samples_split': [5], 'n_estimators': [200]}\n",
    "pd.DataFrame(rf_cv_res).style.hide_index()"
   ]
  },
  {
   "cell_type": "markdown",
   "metadata": {},
   "source": [
    "### Task 2: Regression Parameter Investigation"
   ]
  },
  {
   "cell_type": "markdown",
   "metadata": {},
   "source": []
  },
  {
   "cell_type": "code",
   "execution_count": 124,
   "metadata": {},
   "outputs": [
    {
     "data": {
      "text/html": [
       "<style  type=\"text/css\" >\n",
       "</style><table id=\"T_9184fee8_be2f_11ea_926b_98af65ff76e7\" ><thead>    <tr>        <th class=\"col_heading level0 col0\" >Regression Model</th>        <th class=\"col_heading level0 col1\" >MAE</th>        <th class=\"col_heading level0 col2\" >Folds</th>        <th class=\"col_heading level0 col3\" >Grid Search Time (s)</th>    </tr></thead><tbody>\n",
       "                <tr>\n",
       "                                <td id=\"T_9184fee8_be2f_11ea_926b_98af65ff76e7row0_col0\" class=\"data row0 col0\" >Random Forest</td>\n",
       "                        <td id=\"T_9184fee8_be2f_11ea_926b_98af65ff76e7row0_col1\" class=\"data row0 col1\" >80338.940000</td>\n",
       "                        <td id=\"T_9184fee8_be2f_11ea_926b_98af65ff76e7row0_col2\" class=\"data row0 col2\" >5</td>\n",
       "                        <td id=\"T_9184fee8_be2f_11ea_926b_98af65ff76e7row0_col3\" class=\"data row0 col3\" >4364.040000</td>\n",
       "            </tr>\n",
       "            <tr>\n",
       "                                <td id=\"T_9184fee8_be2f_11ea_926b_98af65ff76e7row1_col0\" class=\"data row1 col0\" >KNN</td>\n",
       "                        <td id=\"T_9184fee8_be2f_11ea_926b_98af65ff76e7row1_col1\" class=\"data row1 col1\" >83796.240000</td>\n",
       "                        <td id=\"T_9184fee8_be2f_11ea_926b_98af65ff76e7row1_col2\" class=\"data row1 col2\" >10</td>\n",
       "                        <td id=\"T_9184fee8_be2f_11ea_926b_98af65ff76e7row1_col3\" class=\"data row1 col3\" >4413.790000</td>\n",
       "            </tr>\n",
       "            <tr>\n",
       "                                <td id=\"T_9184fee8_be2f_11ea_926b_98af65ff76e7row2_col0\" class=\"data row2 col0\" >Linear Regression</td>\n",
       "                        <td id=\"T_9184fee8_be2f_11ea_926b_98af65ff76e7row2_col1\" class=\"data row2 col1\" >0.000000</td>\n",
       "                        <td id=\"T_9184fee8_be2f_11ea_926b_98af65ff76e7row2_col2\" class=\"data row2 col2\" >10</td>\n",
       "                        <td id=\"T_9184fee8_be2f_11ea_926b_98af65ff76e7row2_col3\" class=\"data row2 col3\" >0.000000</td>\n",
       "            </tr>\n",
       "    </tbody></table>"
      ],
      "text/plain": [
       "<pandas.io.formats.style.Styler at 0x2105eb47f48>"
      ]
     },
     "execution_count": 124,
     "metadata": {},
     "output_type": "execute_result"
    }
   ],
   "source": [
    "d = {'Regression Model':['Random Forest', 'KNN','Linear Regression'],\n",
    "     'MAE':[80338.94,83796.24,0],\n",
    "     'Folds':[5,10,10],\n",
    "     'Grid Search Time (s)':[4364.04,4413.79,0]}\n",
    "model_df = pd.DataFrame(d)\n",
    "model_df.style.hide_index()"
   ]
  },
  {
   "cell_type": "markdown",
   "metadata": {},
   "source": [
    "After running grid search, the best Random Forrest regressor had the parameters shown in the table below in addition to default values of: \n",
    "\n",
    "- min_weight_fraction_leaf = 0\n",
    "- max_features = 'auto'\n",
    "- max_leaf_nodes=None\n",
    "- min_impurity_decrease = 0\n",
    "- min_impurity_split = None\n",
    "- bootstrap = True\n",
    "- ccp_alpha = 0\n",
    "- max_samples = None\n",
    "\n",
    "'min_samples_leaf' and 'min_samples_split' both determine stopping conditions for node/lead creation.  The larger the values are the higher tendancy a tree has to be over-fit to the data.  'min_samples_leaf' dicates the minimum number of samples for a leaf to exist - where leafs are terminal portions of a tree that have no further nodes.  While 'min_samples_split' specifies the minimum number of records to split a node that contains leafs. 'n_estimators' dictates how many trees will be run to generate a result that maximizes the preformance metric of choice.  For this Random Forrest Classifier, grid search determined that the minimum samples per leaf was 1, the minimum samples for a split to occur was 5, and the number of trees generated to reach the best f1-score was 100 trees."
   ]
  },
  {
   "cell_type": "code",
   "execution_count": 113,
   "metadata": {},
   "outputs": [
    {
     "data": {
      "text/html": [
       "<style  type=\"text/css\" >\n",
       "</style><table id=\"T_6f43f5a8_be15_11ea_b5e3_98af65ff76e7\" ><thead>    <tr>        <th class=\"col_heading level0 col0\" >min_samples_leaf</th>        <th class=\"col_heading level0 col1\" >min_samples_split</th>        <th class=\"col_heading level0 col2\" >n_estimators</th>    </tr></thead><tbody>\n",
       "                <tr>\n",
       "                                <td id=\"T_6f43f5a8_be15_11ea_b5e3_98af65ff76e7row0_col0\" class=\"data row0 col0\" >1</td>\n",
       "                        <td id=\"T_6f43f5a8_be15_11ea_b5e3_98af65ff76e7row0_col1\" class=\"data row0 col1\" >5</td>\n",
       "                        <td id=\"T_6f43f5a8_be15_11ea_b5e3_98af65ff76e7row0_col2\" class=\"data row0 col2\" >100</td>\n",
       "            </tr>\n",
       "    </tbody></table>"
      ],
      "text/plain": [
       "<pandas.io.formats.style.Styler at 0x2105eaed508>"
      ]
     },
     "execution_count": 113,
     "metadata": {},
     "output_type": "execute_result"
    }
   ],
   "source": [
    "rfrg_cv_res = {'min_samples_leaf': [1], 'min_samples_split': [5], 'n_estimators': [100]}\n",
    "pd.DataFrame(rfrg_cv_res).style.hide_index()"
   ]
  },
  {
   "cell_type": "markdown",
   "metadata": {},
   "source": [
    "# Model and Evaluation 4"
   ]
  },
  {
   "cell_type": "markdown",
   "metadata": {},
   "source": [
    "Analyze the results using your chosen method of evaluation. Use visualizations of the results to bolster the analysis. Explain any visuals and analyze why they are interesting to someone that might use this model."
   ]
  },
  {
   "cell_type": "markdown",
   "metadata": {},
   "source": [
    "**USE yellow bricks**"
   ]
  },
  {
   "cell_type": "markdown",
   "metadata": {},
   "source": [
    "# Model and Evaluation 5"
   ]
  },
  {
   "cell_type": "markdown",
   "metadata": {},
   "source": [
    "Discuss the advantages of each model for each classification task, if any. If there are not advantages, explain why. Is any model better than another? Is the difference significant with 95% confidence? Use proper statistical comparison methods. You must use statistical comparison techniques—be sure they are appropriate for your chosen method of validation as discussed in unit 7 of the course."
   ]
  },
  {
   "cell_type": "markdown",
   "metadata": {},
   "source": [
    "### Classification: Statistical analysis and conclusions\n",
    "The differences in the three classification models were examined in a statistical sense. Multiple paired t-test were performed using the MTAS scoring metric. We assumed an alpha value of 0.05. For each set of paired models, we found that the p-value was less than the assumed alpha. Thus, in each case we reject the null hypothesis. Model performance between each pair of models is  statistically different with p-values ranging from 0.000 to 0.014.\n",
    "\n",
    "The model with the best MTAS score is Random Forest with 0.732. However, the Random Forest classifier takes significantly longer to run. This is acceptable for a nightly reports or other less frequent uses. The Naïve Bayes classifier does complete quickly and could be used frequently on an as needed basis. As an example, if the business use is an interactive loan questionnaire the Random Forest model would be unsuited due to its’ longer run time, the Naïve Bayes model should be used. However, for overnight reports Random Forest would be preferred.\n"
   ]
  },
  {
   "cell_type": "code",
   "execution_count": 42,
   "metadata": {},
   "outputs": [
    {
     "data": {
      "text/html": [
       "<div>\n",
       "<style scoped>\n",
       "    .dataframe tbody tr th:only-of-type {\n",
       "        vertical-align: middle;\n",
       "    }\n",
       "\n",
       "    .dataframe tbody tr th {\n",
       "        vertical-align: top;\n",
       "    }\n",
       "\n",
       "    .dataframe thead th {\n",
       "        text-align: right;\n",
       "    }\n",
       "</style>\n",
       "<table border=\"1\" class=\"dataframe\">\n",
       "  <thead>\n",
       "    <tr style=\"text-align: right;\">\n",
       "      <th></th>\n",
       "      <th>Classifiers_to_compare</th>\n",
       "      <th>t-statistic</th>\n",
       "      <th>p-value</th>\n",
       "    </tr>\n",
       "  </thead>\n",
       "  <tbody>\n",
       "    <tr>\n",
       "      <th>0</th>\n",
       "      <td>Random Forest versus Naive Bayes</td>\n",
       "      <td>38.204981</td>\n",
       "      <td>2.314842e-07</td>\n",
       "    </tr>\n",
       "    <tr>\n",
       "      <th>1</th>\n",
       "      <td>Random Forest versus Logistic Regression</td>\n",
       "      <td>100.336748</td>\n",
       "      <td>1.864411e-09</td>\n",
       "    </tr>\n",
       "    <tr>\n",
       "      <th>2</th>\n",
       "      <td>Logistic Regression versus Naive Bayes</td>\n",
       "      <td>3.674643</td>\n",
       "      <td>1.437362e-02</td>\n",
       "    </tr>\n",
       "  </tbody>\n",
       "</table>\n",
       "</div>"
      ],
      "text/plain": [
       "                     Classifiers_to_compare  t-statistic       p-value\n",
       "0          Random Forest versus Naive Bayes    38.204981  2.314842e-07\n",
       "1  Random Forest versus Logistic Regression   100.336748  1.864411e-09\n",
       "2    Logistic Regression versus Naive Bayes     3.674643  1.437362e-02"
      ]
     },
     "execution_count": 42,
     "metadata": {},
     "output_type": "execute_result"
    }
   ],
   "source": [
    "from mlxtend.evaluate import paired_ttest_5x2cv\n",
    "from sklearn.ensemble import RandomForestClassifier\n",
    "from sklearn.linear_model import LogisticRegression\n",
    "\n",
    "def applyPairedTTest(X, y, model1, model2, scoring):\n",
    "    \n",
    "    t, p = paired_ttest_5x2cv(estimator1=model1,\n",
    "                              estimator2=model2,\n",
    "                              X=X, y=y,\n",
    "                              scoring=scoring, random_seed=42)\n",
    "\n",
    "    return t, p\n",
    "\n",
    "# Use the best parameters for each model previouusly identified\n",
    "#Random Forest\n",
    "rfc = RandomForestClassifier(max_depth=50, n_jobs=-1, oob_score=True,min_samples_leaf=2,\n",
    "        min_samples_split=5, n_estimators=200)\n",
    "\n",
    "# Naive Bayes\n",
    "nbc = GaussianNB(priors=None, var_smoothing=0.64)\n",
    "\n",
    "# Logistic Regression\n",
    "lrc = LogisticRegression(C=1.0, class_weight=None, dual=False, fit_intercept=True,\n",
    "      intercept_scaling=1, max_iter=100, multi_class='warn',\n",
    "      n_jobs=None, penalty='l2', random_state=42, solver='liblinear',\n",
    "      tol=0.0001, verbose=0, warm_start=False)\n",
    "\n",
    "msMTAS = make_scorer(MTAS)\n",
    "X = X_mtest_cl\n",
    "y = y_mtest_cl.values.ravel()\n",
    "\n",
    "funcResults = []\n",
    "\n",
    "title = \"Random Forest versus Naive Bayes\"\n",
    "t, p = applyPairedTTest(X, y, rfc, nbc, msMTAS)\n",
    "funcResults.append([title, t, p])\n",
    "\n",
    "title = \"Random Forest versus Logistic Regression\"\n",
    "t, p = applyPairedTTest(X, y, rfc, lrc, msMTAS)\n",
    "funcResults.append([title, t, p])\n",
    "\n",
    "title = \"Logistic Regression versus Naive Bayes\"\n",
    "t, p = applyPairedTTest(X, y, lrc, nbc, msMTAS)\n",
    "funcResults.append([title, t, p])\n",
    "\n",
    "ClassificationResults = pd.DataFrame(funcResults, columns=['Classifiers_to_compare', 't-statistic', 'p-value'])\n",
    "ClassificationResults"
   ]
  },
  {
   "cell_type": "markdown",
   "metadata": {},
   "source": [
    "### Regression: Statistical analysis and conclusions\n",
    "The differences in the three classification models were examined in a statistical sense. Multiple paired t-test were performed using the “mean_absolute_error” scoring metric. We assumed an alpha value of 0.05. For each set of paired models, we found that the p-value was less than the assumed alpha. Thus, in each case we reject the null hypothesis. Model performance between each pair of models is  statistically different with p-values < 0.000.\n",
    "\n",
    "The model with the best mean_absolute_error score is lasso/Linear Regression with 73800. However, none of the models showed acceptable predictive power, please see the graphs from section “Model and Evaluation 4”. One or more of the following tasks need to be performed to improve model performance, gather additional data, perform more feature engineering, transform response or explanatory variables, or investigate additional models.\n"
   ]
  },
  {
   "cell_type": "code",
   "execution_count": 47,
   "metadata": {},
   "outputs": [
    {
     "data": {
      "text/html": [
       "<div>\n",
       "<style scoped>\n",
       "    .dataframe tbody tr th:only-of-type {\n",
       "        vertical-align: middle;\n",
       "    }\n",
       "\n",
       "    .dataframe tbody tr th {\n",
       "        vertical-align: top;\n",
       "    }\n",
       "\n",
       "    .dataframe thead th {\n",
       "        text-align: right;\n",
       "    }\n",
       "</style>\n",
       "<table border=\"1\" class=\"dataframe\">\n",
       "  <thead>\n",
       "    <tr style=\"text-align: right;\">\n",
       "      <th></th>\n",
       "      <th>Classifiers_to_compare</th>\n",
       "      <th>t-statistic</th>\n",
       "      <th>p-value</th>\n",
       "    </tr>\n",
       "  </thead>\n",
       "  <tbody>\n",
       "    <tr>\n",
       "      <th>0</th>\n",
       "      <td>Random Forest Regression versus kNN Regression</td>\n",
       "      <td>-8.135873</td>\n",
       "      <td>4.554444e-04</td>\n",
       "    </tr>\n",
       "    <tr>\n",
       "      <th>1</th>\n",
       "      <td>Random Forest Regression versus Linear Regression</td>\n",
       "      <td>29.223839</td>\n",
       "      <td>8.793960e-07</td>\n",
       "    </tr>\n",
       "    <tr>\n",
       "      <th>2</th>\n",
       "      <td>kNN Regression versus Linear Regression</td>\n",
       "      <td>37.037496</td>\n",
       "      <td>2.702151e-07</td>\n",
       "    </tr>\n",
       "  </tbody>\n",
       "</table>\n",
       "</div>"
      ],
      "text/plain": [
       "                              Classifiers_to_compare  t-statistic  \\\n",
       "0     Random Forest Regression versus kNN Regression    -8.135873   \n",
       "1  Random Forest Regression versus Linear Regression    29.223839   \n",
       "2            kNN Regression versus Linear Regression    37.037496   \n",
       "\n",
       "        p-value  \n",
       "0  4.554444e-04  \n",
       "1  8.793960e-07  \n",
       "2  2.702151e-07  "
      ]
     },
     "execution_count": 47,
     "metadata": {},
     "output_type": "execute_result"
    }
   ],
   "source": [
    "# Evaluate regression tasks\n",
    "from sklearn.ensemble import RandomForestRegressor\n",
    "from sklearn.neighbors import KNeighborsRegressor\n",
    "from sklearn.linear_model import Lasso\n",
    "import warnings\n",
    "\n",
    "warnings.filterwarnings('ignore')\n",
    "\n",
    "rfr = RandomForestRegressor(bootstrap=True, criterion='mse',\n",
    "                               max_features='auto',min_samples_leaf=1,\n",
    "                               min_samples_split=5, min_weight_fraction_leaf=0.0,\n",
    "                               n_estimators=100, n_jobs=-1, oob_score=True,\n",
    "                               random_state=42, verbose=0, warm_start=False)\n",
    "\n",
    "knnr = KNeighborsRegressor(algorithm='auto', leaf_size=50, metric='minkowski',\n",
    "                              metric_params=None, n_jobs=-1, n_neighbors=4, p=2,\n",
    "                              weights='uniform')\n",
    "\n",
    "lnr = Lasso(alpha=0.001)\n",
    "\n",
    "X = X_mtest_rg\n",
    "y = y_mtest_rg.values.ravel()\n",
    "\n",
    "funcResults = []\n",
    "msMAE = make_scorer(mean_absolute_error)\n",
    "\n",
    "title = \"Random Forest Regression versus kNN Regression\"\n",
    "t, p = applyPairedTTest(X, y, rfr, knnr, msMAE)\n",
    "funcResults.append([title, t, p])\n",
    "\n",
    "title = \"Random Forest Regression versus Linear Regression\"\n",
    "t, p = applyPairedTTest(X, y, rfr, lnr, msMAE)\n",
    "funcResults.append([title, t, p])\n",
    "\n",
    "title = \"kNN Regression versus Linear Regression\"\n",
    "t, p = applyPairedTTest(X, y, knnr, lnr, msMAE)\n",
    "funcResults.append([title, t, p])\n",
    "\n",
    "RegressionResults = pd.DataFrame(funcResults, columns=['Classifiers_to_compare', 't-statistic', 'p-value'])\n",
    "RegressionResults"
   ]
  },
  {
   "cell_type": "markdown",
   "metadata": {},
   "source": [
    "# Model and Evaluation 6"
   ]
  },
  {
   "cell_type": "markdown",
   "metadata": {},
   "source": [
    "Which attributes from your analysis are most important? Use proper methods discussed in class to evaluate the importance of different attributes. Discuss the results and hypothesize about why certain attributes are more important than others for a given classification task."
   ]
  },
  {
   "cell_type": "markdown",
   "metadata": {},
   "source": [
    "# Deployment"
   ]
  },
  {
   "cell_type": "markdown",
   "metadata": {},
   "source": [
    "Our models are designed to answer two different related questions. First, to what degree can it be determined whether a given small business loan succeeds or fails knowing only the information available before the loan is made. This is a classification problem. The data provided includes a very unbalanced response variable. Around five loans succeed for every loan that fails.  The measure invented for this problem, mean true accuracy squared or MTAS, seeks to balance the accuracy of negative outcome predictions with that of positive outcome predictions. The random forest classifier, optimized by MTAS score, correctly predicts negative outcomes 72% off the time, and positives outcomes 97% of the time. The big drawback to the Random Forest classifier is the length of time it takes to run. However, this should not affect its business use. The data in this data set is updated at most once a month. The data concerns loans and they are paid monthly, thus we can expect to see at most monthly updates to the data set. The model needs to be refreshed at most once a month. The easiest way to make this model available would be to run a report on proposed loans and predict based upon that data, it could be run nightly and the model itself refreshed monthly.\n",
    "\n",
    "The second question we sought to answer concerns the expected default amount for failed loans. Only loans that fail were examined in this section. The models as constructed do not provide acceptable predictive power to answer this question. Additional work will need to be performed to provide an acceptable model. Additional data related to expected sales and revenue would be desirable. \n",
    "\n",
    "Finally, some consideration must be made of the issues with “Term” and “ChgOffDate”.  We attempted to make a charge off rate to handle the problem posed by longer loans having more opportunity to fail simply because they are longer. Unfortunately, the “ChgOffDate” column proved useless to us in establishing a charge off rate. The problem is the “ChgOffDate” when the loan was formally written off and is in many cases after the normal term of the loan has expired. A better metric might be first late or missed payment. That data is sure to be available within the system and could be used as a substitute for “ChgOffDate” to feature engineer a “LatePaymnetRate” explanatory variable."
   ]
  },
  {
   "cell_type": "markdown",
   "metadata": {
    "colab_type": "text",
    "id": "sfYvCS0LZkps"
   },
   "source": [
    "# Exceptional Work"
   ]
  },
  {
   "cell_type": "markdown",
   "metadata": {
    "colab_type": "text",
    "id": "xFEujonaT9aD"
   },
   "source": [
    "We would like to have the following considered for exceptional work:\n",
    "1. The creation of a gridsearch() helper function that preforms grid-search for hyperparameter tunning, and displays a plot of f1-score per response class;  additionally this helper function is able to be used for both regression and classifcation tasks.\n",
    "2. We have a separate hold-out set for final model testing to prevent \"model-doping\" or the potenial of a model training on test data from a standard CV process\n",
    "3. MTAS\n",
    "4. T-Test for models in addition to ROC curves"
   ]
  }
 ],
 "metadata": {
  "colab": {
   "collapsed_sections": [],
   "name": "Mini-Project1_20200613.ipynb",
   "provenance": [],
   "toc_visible": true
  },
  "kernelspec": {
   "display_name": "Python 3",
   "language": "python",
   "name": "python3"
  },
  "language_info": {
   "codemirror_mode": {
    "name": "ipython",
    "version": 3
   },
   "file_extension": ".py",
   "mimetype": "text/x-python",
   "name": "python",
   "nbconvert_exporter": "python",
   "pygments_lexer": "ipython3",
   "version": "3.7.3"
  }
 },
 "nbformat": 4,
 "nbformat_minor": 1
}
