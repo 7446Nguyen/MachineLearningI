{
 "cells": [
  {
   "cell_type": "markdown",
   "metadata": {
    "colab_type": "text",
    "id": "fbCFSJkrZknc"
   },
   "source": [
    "# Project 2: Classification\n",
    "**Group 5:** Jeff Nguyen, William Hinton, Adam Ruthford  \n",
    "**05JUL2020**"
   ]
  },
  {
   "cell_type": "markdown",
   "metadata": {
    "colab_type": "text",
    "id": "KWZO5VxSZkne"
   },
   "source": [
    "# Data Preparation 1"
   ]
  },
  {
   "cell_type": "markdown",
   "metadata": {
    "colab_type": "text",
    "id": "gQ4fiALTZkno"
   },
   "source": [
    "Initial data cleaning and preparation code was derived from **Project 1**, where data types and null values were addressed.  Data were first imported into a pandas dataframe, followed by each feature getting set to the appropriate data type based on data dictionary definitions.  For example, features that have currencies are set to the float data type as they are a continuous feature; whereas features like **NewExist** is categorical in nature and set to the object data type."
   ]
  },
  {
   "cell_type": "code",
   "execution_count": 4,
   "metadata": {
    "colab": {
     "base_uri": "https://localhost:8080/",
     "height": 53
    },
    "colab_type": "code",
    "id": "ZikYRgAFZkno",
    "outputId": "3a695b12-a1ce-43f9-8f0f-9184459a20bc"
   },
   "outputs": [
    {
     "name": "stderr",
     "output_type": "stream",
     "text": [
      "C:\\ProgramData\\Anaconda3\\lib\\site-packages\\IPython\\core\\interactiveshell.py:3049: DtypeWarning: Columns (9) have mixed types. Specify dtype option on import or set low_memory=False.\n",
      "  interactivity=interactivity, compiler=compiler, result=result)\n"
     ]
    }
   ],
   "source": [
    "#Import data manipulation, vizulization, and ML Packages\n",
    "import pandas as pd\n",
    "\n",
    "#load data into pandas dataframe\n",
    "loans = loans = pd.read_csv('C:\\Data\\DS7331\\Project\\should-this-loan-be-approved-or-denied/SBAnational.csv')\n"
   ]
  },
  {
   "cell_type": "markdown",
   "metadata": {
    "colab_type": "text",
    "id": "jveFCBkTZkoI"
   },
   "source": [
    "**DisbursementGross**, **BalanceGross**, **ChgOffPrinGr**, **GrAppv**, **SBA_Appv** are features that deal with currency and are coded as strings which include '$' and ',' characters. Used this website for help with [converting currency to float.](\n",
    "https://stackoverflow.com/questions/32464280/converting-currency-with-to-numbers-in-python-pandas)\n",
    "\n",
    "To treat these features as continuous data the special characters were removed, and the data was converted to the float data type.  This will allow for the data to be used by methods that utilize continous data.  **ApprovalDate**, **ChgOffDate**, and **DisbursementDate** are features that contain dates and were converted to the date/time data type.  This will be usefull for potential time series analysis.  **NewExist** is a categorical feature but has a float data type.  This feature was converted to an integer data type since float is better suited for continuous data.  **Zip**, **NAICS**, **FranchiseCode** are nominal features, but will be converted to strings for ease of manipulation and data cleaning."
   ]
  },
  {
   "cell_type": "code",
   "execution_count": 5,
   "metadata": {
    "colab": {},
    "colab_type": "code",
    "id": "4EHw49FdZknt"
   },
   "outputs": [],
   "source": [
    "import numpy as np\n",
    "\n",
    "# Create lists of features that need their data types converted\n",
    "currency = ['DisbursementGross','BalanceGross','ChgOffPrinGr','GrAppv','SBA_Appv']\n",
    "date = ['ApprovalDate','ChgOffDate','DisbursementDate']\n",
    "cat_variables = ['Zip']\n",
    "\n",
    "# Convert features to appropriate data types\n",
    "loans[currency] = loans[currency].replace('[\\$,]', '', regex=True).astype(float)\n",
    "loans[date]= loans[date].astype(np.datetime64)\n",
    "loans['NewExist'] = loans['NewExist'].astype('Int64')\n",
    "loans[cat_variables] = loans[cat_variables].astype(str)"
   ]
  },
  {
   "cell_type": "markdown",
   "metadata": {
    "colab_type": "text",
    "id": "1KanFqxwrQmg"
   },
   "source": [
    "Several null values were also present in the City and State features. City contained 14 null values and State contained 30 null values. Both features describe the loan applicant's address information. For City null values, zip codes from the Zip feature and the United States Postal Service Zip Code Lookup tool (https://tools.usps.com/zip-code-lookup.htm?citybyzipcode) were used to identify the correct city or state name. Two zip-codes in City feature and two zip-codes in the State feature did not return a city in the United States and were left as 'NaN'. Since there are only 4 rows of data that do not have proper city or state data, they will be kept or removed depending on the machine learning algorithm used."
   ]
  },
  {
   "cell_type": "code",
   "execution_count": 6,
   "metadata": {
    "colab": {},
    "colab_type": "code",
    "id": "JDFMgqwPZknx"
   },
   "outputs": [],
   "source": [
    "# Replace City NA with appropriate state/city name\n",
    "cityList = ['Salt Lake City','New Orleans','Chicago','Chicago','San Diego','San Diego','San Diego','San Diego',\n",
    "            'San Diego','San Diego','Clevland','St. Louis','St. Louis','St. Louis','St. Louis','St. Louis',\n",
    "            'St. Louis','Seattle','Des Moines','San Antonio','Kansas City','Kansas City','Quincy','Quincy','Boston',\n",
    "            'NaN','NaN','Louisville','Wilmington','Flint']\n",
    "stateList = ['NaN','NaN','CA','AP','KS','TX','FL','WI','NJ','UT','MO','TX','TX','TX']\n",
    "\n",
    "#Replace Cities with NAs with appropriate City or State    \n",
    "loans.loc[loans.City.isnull(),'City'] = cityList\n",
    "loans.loc[loans.State.isnull(),'State'] = stateList"
   ]
  },
  {
   "cell_type": "markdown",
   "metadata": {
    "colab_type": "text",
    "id": "77v4TNEG6GgC"
   },
   "source": [
    "A new feature called **difference_in_days** was created by subtracting ApprovalDate minus DisbursementDate.  This will explain the relationship between time the loan was approved to disburment date. There may be some correlation to why a loan is defaulted on depending on disbursement date."
   ]
  },
  {
   "cell_type": "code",
   "execution_count": 7,
   "metadata": {
    "colab": {},
    "colab_type": "code",
    "id": "Bi4lLS5IG8Wz"
   },
   "outputs": [],
   "source": [
    "#Create new Time feature and convert to int\n",
    "from datetime import datetime, timedelta\n",
    "d1 = loans.DisbursementDate\n",
    "d2 = loans.ApprovalDate\n",
    "def days_between(d1, d2):\n",
    "    d1 = datetime.strptime(d1, \"%d-%m-%Y\")\n",
    "    d2 = datetime.strptime(d2, \"%d-%m-%Y\")\n",
    "    return abs((d2 - d1).days)\n",
    "\n",
    "difference_in_days = abs((d2-d1))/ timedelta(days=1)\n",
    "\n",
    "loans['difference_in_days'] = difference_in_days"
   ]
  },
  {
   "cell_type": "markdown",
   "metadata": {
    "colab_type": "text",
    "id": "EdyD9nqyraa_"
   },
   "source": [
    "Addressing 1997 null records for MIS_Status was unique in that it was depedent on several attributes in the dataset. There were four different combinations of code used to address the null records for this feature. The first combination identified null values that had a non-null value in the ChgOffDate feature and that the ChgOffPrinGr feature was not equal to zero; this combination of conditional requirements identified records that defaulted and had a charge off balance and renamed the null values as \"CHGOFF\". The second combination identified null values where DisbursementDate was not null and the BalanceGross was equal to zero; this combination of features identifies records that did not receive funds and do not have a balance, this labeled the null values as \"P I F\". The third and fourth combination identify null MIS_Status records where funds were not disbursed by checking DisbursementGross and BalanceGross features. If the DisbursementGross was zero or null and the BalanceGross was 0, the missing data was labels as \"Not Disbursed\".\n"
   ]
  },
  {
   "cell_type": "code",
   "execution_count": 8,
   "metadata": {
    "colab": {},
    "colab_type": "code",
    "id": "keGIuZ1cZkn6"
   },
   "outputs": [],
   "source": [
    "#--------------------------------------------------------------------------------------------------------------------\n",
    "#Fill In NaN fields\n",
    "loans.dropna(subset = ['Name'], inplace = True)\n",
    "loans[\"Bank\"].fillna(\"Not Listed\", inplace = True) \n",
    "loans[\"BankState\"].fillna(\"Not Listed\", inplace = True) \n",
    "loans['NewExist'].fillna(0, inplace = True)\n",
    "loans['RevLineCr'].fillna(\"Not Provided\", inplace = True)\n",
    "loans['LowDoc'].fillna(\"Not Provided\", inplace = True)\n",
    "loans['ChgOffDate'].fillna(\"0000-00-00\",inplace = True)\n",
    "loans['DisbursementDate'].fillna(\"0000-00-00\",inplace = True)\n",
    "\n",
    "#Replace NaT MIS_status with CHGOFF if their ChgOffDate is not null\n",
    "#If MIS_Status has value, \n",
    "loans['MIS_Status'].mask((loans['MIS_Status'].isnull()) & \n",
    "                         ((loans['ChgOffDate'].notnull()) |\n",
    "                          (loans['ChgOffPrinGr']!=0.0)),'CHGOFF',inplace=True) \n",
    "\n",
    "loans['MIS_Status'].mask((loans['MIS_Status'].isnull()) &\n",
    "                         (loans['DisbursementDate'].notnull()) & \n",
    "                         (loans['BalanceGross']==0.0),'P I F',inplace=True)\n",
    "\n",
    "loans['MIS_Status'].mask((loans['MIS_Status'].isnull()) &\n",
    "                         (loans['DisbursementGross'].isnull()) & \n",
    "                         (loans['BalanceGross']==0.0),'Not Disbursed',inplace=True)\n",
    "\n",
    "loans['MIS_Status'].mask((loans['MIS_Status'].isnull()) &\n",
    "                         (loans['DisbursementGross']==0.0) & \n",
    "                         (loans['BalanceGross']==0.0),'Not Disbursed',inplace=True)\n",
    "\n",
    "#--------------------------------------------------------------------------------------------------------------------\n",
    "loans['MIS_Status'].replace(to_replace = 'P I F', value = 1, inplace = True)\n",
    "loans['MIS_Status'].replace(to_replace = 'CHGOFF', value = 0, inplace = True)"
   ]
  },
  {
   "cell_type": "markdown",
   "metadata": {
    "colab_type": "text",
    "id": "bggH3PV8Zkn9"
   },
   "source": [
    "After null values were removed, the index was reset for the loans data frame.  When rows are removed from a data frame, the index for that row remains.  If the indcies are not reset, null values will be assigned to indicies that had rows removed. Since sklearn algorithms require matricies and arrays, when a data frame with surplus incies are converted to a matrix, there will be a shape mismatch causing an error.  The .info() function was run to check on null values and the range index."
   ]
  },
  {
   "cell_type": "code",
   "execution_count": 9,
   "metadata": {
    "colab": {},
    "colab_type": "code",
    "id": "kQXVveN2AlpL"
   },
   "outputs": [],
   "source": [
    "loans = loans.dropna()#drops 14 records\n",
    "loans = loans.reset_index(drop=True) #resets index, important when converting to array"
   ]
  },
  {
   "cell_type": "code",
   "execution_count": 10,
   "metadata": {
    "colab": {
     "base_uri": "https://localhost:8080/",
     "height": 654
    },
    "colab_type": "code",
    "id": "1SSyeIdrZkn-",
    "outputId": "4b027b48-08d1-4935-a804-96d47e3a8c8a"
   },
   "outputs": [
    {
     "name": "stdout",
     "output_type": "stream",
     "text": [
      "<class 'pandas.core.frame.DataFrame'>\n",
      "RangeIndex: 896782 entries, 0 to 896781\n",
      "Data columns (total 28 columns):\n",
      "LoanNr_ChkDgt         896782 non-null int64\n",
      "Name                  896782 non-null object\n",
      "City                  896782 non-null object\n",
      "State                 896782 non-null object\n",
      "Zip                   896782 non-null object\n",
      "Bank                  896782 non-null object\n",
      "BankState             896782 non-null object\n",
      "NAICS                 896782 non-null int64\n",
      "ApprovalDate          896782 non-null datetime64[ns]\n",
      "ApprovalFY            896782 non-null object\n",
      "Term                  896782 non-null int64\n",
      "NoEmp                 896782 non-null int64\n",
      "NewExist              896782 non-null Int64\n",
      "CreateJob             896782 non-null int64\n",
      "RetainedJob           896782 non-null int64\n",
      "FranchiseCode         896782 non-null int64\n",
      "UrbanRural            896782 non-null int64\n",
      "RevLineCr             896782 non-null object\n",
      "LowDoc                896782 non-null object\n",
      "ChgOffDate            896782 non-null object\n",
      "DisbursementDate      896782 non-null object\n",
      "DisbursementGross     896782 non-null float64\n",
      "BalanceGross          896782 non-null float64\n",
      "MIS_Status            896782 non-null int64\n",
      "ChgOffPrinGr          896782 non-null float64\n",
      "GrAppv                896782 non-null float64\n",
      "SBA_Appv              896782 non-null float64\n",
      "difference_in_days    896782 non-null float64\n",
      "dtypes: Int64(1), datetime64[ns](1), float64(6), int64(9), object(11)\n",
      "memory usage: 192.4+ MB\n"
     ]
    }
   ],
   "source": [
    "loans.info()"
   ]
  },
  {
   "cell_type": "markdown",
   "metadata": {
    "colab_type": "text",
    "id": "s7TWKfMGZkoB"
   },
   "source": [
    "## Response and Explanatory Feature Descriptions, and Feature Engineering"
   ]
  },
  {
   "cell_type": "markdown",
   "metadata": {
    "colab_type": "text",
    "id": "OeCRoXsYZkoC"
   },
   "source": [
    "### Response Feature\n",
    "\n",
    "Three features in the SBAnational dataset can serve as response variables.  Two are continuous and one is categorical.  These features were choosen to be response variables as they are good indicators of loan success or failure.\n",
    "\n",
    "**CreateJob and RetainedJob:** These columns are presented as an integer. The column records the number of jobs created or retained, respectively. These variables cannot be used as explanatory variables as they indicate the success of the loan. They are a proxy for loan success. However, these variables can be used as the response variable in a model that would attempt to maximize job creation and or retention. Thus, any of these response terms correlated with explanatory terms are significant and noteworthy due to their possible predictive power.  Since we are more interested in the classification of accounts having paid in full or were charged off; these featuers will be exclued from the model.\n",
    "\n",
    "**MIS_Status:** This column is presented as an object/string. The column is categorical data with values \"P I F\" and \"CHGOFF\". This column is the main response column of the dataset.  This feature will be used to determine if a loan has succeeded or failed, where 'P I F' is a success, and a 'CHGOFF' is a failure.  Approximately 18% of loans were marked for a 'CHGOFF' and 82% successful repaid their loans.  This feature will serve as the response feature for our logistic and SVM models as it is dichotmous and indicates weither or not a loan applicant has paid their loan back or not.  **MIS_Status** will also be converted to numeric values instead of character for use in the model."
   ]
  },
  {
   "cell_type": "code",
   "execution_count": 11,
   "metadata": {
    "colab": {
     "base_uri": "https://localhost:8080/",
     "height": 443
    },
    "colab_type": "code",
    "id": "gSSjGbNHZkoD",
    "outputId": "40053d47-8ea1-41ad-cec9-e4a5686e0563"
   },
   "outputs": [],
   "source": [
    "import matplotlib.pyplot as plt\n",
    "import seaborn as sns\n",
    "\n",
    "plt.figure(figsize=(8, 6))\n",
    "ax = sns.countplot(x =loans['MIS_Status'] )\n",
    "plt.title(\"Response Feature (MIS_Status) Frequency\",fontsize= 16)\n",
    "\n",
    "for p in ax.patches:\n",
    "    ax.annotate(p.get_height(),\n",
    "                (p.get_x() + p.get_width() / 2, p.get_height()),  ha = 'center', va = 'center', \n",
    "                xytext = (0, 10), textcoords = 'offset points')"
   ]
  },
  {
   "cell_type": "markdown",
   "metadata": {
    "colab_type": "text",
    "id": "5aTrYJbMZkoG"
   },
   "source": [
    "### Explanatory Features"
   ]
  },
  {
   "cell_type": "markdown",
   "metadata": {
    "colab_type": "text",
    "id": "bPT-5l1lZkoH"
   },
   "source": [
    "**ApprovalDate**, **DisbursementDate**, and **ChgOffDate** are features that contain dates.  Since there are a large volume of dates, these features would not be suited for conversion to categorical features unless they were binned.  **ApprovalFY** is similar to **ApprovalDate** and may better be suited for use in the model; this feature can be binned to reduce the number of levels in the feature. This model does not address time series analysis or autocorrelation structures.  If a record contains a value from **ChgOffDate**, then the loan defaulted.  This information is more sussenctly captured in the **MIS_Status** level 'CHGOFF'; due to the redundancy **ChgOffDate** would be more useful in a new feature that captures a time difference with another time feild.\n",
    "\n",
    "One assumption for logistic regression is minimal multicollinearity.  **DisbursmentGross**, **GRAppv**, and **SBA_Appv** are highly correlated (r > 0.90) with each other as they all describe the amount of money that is given to a loan applicant. **SBA_Appv** will be kept, while **DisbursementGross** and **GrAppv** will be removed as they are both like **SBA_Appv**, but do not represent the final loan amount an applicant will receive.  Please see the correlation matrix in the **Data Preparation** section for more details.\n",
    "\n",
    "**LoannNr_ChkDgt** is the primary key for this dataset.  There are large removed. \n",
    "**Name** remove – there was no need to know the name of the loan applicate or business.\n",
    "**City** remove - how this might be useful we decided that there is no need to have city due to loans can originate from different cities where the applicant works and uses the loan. \n",
    "**Zip** remove – it is ideal to have the zip code of where the loan originated so we can see where the demographics of most loans are generated but that is not part of this exercise, so we got rid of the zip. \n",
    "**BankState** remove – this is not good to use because well known banks will be in most popular area and not the rural area. The demographic is skewed as we have identified in the bank state demographic graph. \n",
    "**ChgOffDate** remove – once a loan has defaulted, there is a charge off date. We are not using it. \n",
    "**Term** keep – this is a good indicator to determine if the loan will be defaulted due to the terms, some loans have short terms and most of them have long terms. \n",
    "**NoEmp** keep – this is the number of employees generated from the loan.  \n",
    "**FranchiseCode** keep – this indicates what type of businesses are requesting loans and which ones are likely to pay back the loan.  \n",
    "**BalanceGross** keep – this variable indicates how much needs to be repaid. Larger loan might have large balances if they are not paid back quickly.  \n"
   ]
  },
  {
   "cell_type": "markdown",
   "metadata": {
    "colab_type": "text",
    "id": "-lvRtp_vZkoJ"
   },
   "source": [
    "### Feature Engineering"
   ]
  },
  {
   "cell_type": "markdown",
   "metadata": {
    "colab_type": "text",
    "id": "QbZNiPlHZkoJ"
   },
   "source": [
    "**State**, **Bank**, **NAICS**, **ApprovalFY, **NewExist**, **UrbanRural**, **RevlineCr**, and **LowDoc** are features that require binning and/or one-hot-encoding.  These features may require additional cleaning and may have many categories.  Consolidating the number of categories can assist with reducing overfitting and reduce the computational load it would take to find weights for the numerous levels that exist in some of the features."
   ]
  },
  {
   "cell_type": "markdown",
   "metadata": {
    "colab_type": "text",
    "id": "TT_AiPgEZkoL"
   },
   "source": [
    "#### Categorical Features"
   ]
  },
  {
   "cell_type": "markdown",
   "metadata": {
    "colab_type": "text",
    "id": "4wj0HCfOZkoL"
   },
   "source": [
    "**Bank** contains over 5,803 unique levels.  Using this many levels in a model may lead to overfitting.  To avoid this situation the large volume of banks will be reduced by consolidating and binning into nine bins.  These bins will contain the top eight banks, and an 'other' category containing the other smaller banks.  The other category was created by renaming all banks that were not in the 'major_banks' list to 'other'.  The .describe() function was then run on the modified feature to confirm that the correct number of categories were created."
   ]
  },
  {
   "cell_type": "code",
   "execution_count": 12,
   "metadata": {
    "colab": {
     "base_uri": "https://localhost:8080/",
     "height": 308
    },
    "colab_type": "code",
    "id": "vfrlck4sZkoP",
    "outputId": "e32ccc57-a205-4f5b-daeb-e20a09786d19"
   },
   "outputs": [
    {
     "data": {
      "text/plain": [
       "BANK OF AMERICA NATL ASSOC        86498\n",
       "WELLS FARGO BANK NATL ASSOC       63371\n",
       "JPMORGAN CHASE BANK NATL ASSOC    47730\n",
       "U.S. BANK NATIONAL ASSOCIATION    35068\n",
       "CITIZENS BANK NATL ASSOC          34861\n",
       "PNC BANK, NATIONAL ASSOCIATION    27285\n",
       "BBCN BANK                         22887\n",
       "CAPITAL ONE NATL ASSOC            22244\n",
       "MANUFACTURERS & TRADERS TR CO     11246\n",
       "READYCAP LENDING, LLC             10656\n",
       "THE HUNTINGTON NATIONAL BANK       9587\n",
       "KEYBANK NATIONAL ASSOCIATION       9249\n",
       "TD BANK, NATIONAL ASSOCIATION      8982\n",
       "BRANCH BK. & TR CO                 8251\n",
       "ZIONS FIRST NATIONAL BANK          7943\n",
       "Name: Bank, dtype: int64"
      ]
     },
     "execution_count": 12,
     "metadata": {},
     "output_type": "execute_result"
    }
   ],
   "source": [
    "loans['Bank'].value_counts().head(15)"
   ]
  },
  {
   "cell_type": "code",
   "execution_count": 13,
   "metadata": {
    "colab": {},
    "colab_type": "code",
    "id": "9j2Ek81CZkoT"
   },
   "outputs": [],
   "source": [
    "# Banks create buckets for top 19 banks + other\n",
    "major_bank = ['BANK OF AMERICA NATL ASSOC', 'WELLS FARGO BANK NATL ASSOC',\n",
    "              'JPMORGAN CHASE BANK NATL ASSOC','U.S. BANK NATIONAL ASSOCIATION',\n",
    "              'CITIZENS BANK NATL ASSOC','PNC BANK, NATIONAL ASSOCIATION',\n",
    "             'BBCN BANK','CAPITAL ONE NATL ASSOC']\n",
    "\n",
    "loans.loc[~loans[\"Bank\"].isin(major_bank), \"Bank\"] = \"Other\""
   ]
  },
  {
   "cell_type": "markdown",
   "metadata": {
    "colab_type": "text",
    "id": "ybwRZPI0ZkoV"
   },
   "source": [
    "A barchart was also created for the modified **Bank** to visually confirm that there are eight major banks followed by an 'other' category.  We can see that the Bank of America is one of the larger banks by loan applicaiton volume followed by Wells Fargo.  However, many loans are aquired through other banks, perhaps many of them local.  A for loop was applied to show the frequencies of loans that the banks have per bin."
   ]
  },
  {
   "cell_type": "code",
   "execution_count": 14,
   "metadata": {
    "colab": {
     "base_uri": "https://localhost:8080/",
     "height": 536
    },
    "colab_type": "code",
    "id": "d3sGQ_9NZkoW",
    "outputId": "096ac271-c3c9-4615-f715-d0a171790833"
   },
   "outputs": [
    {
     "data": {
      "image/png": "[encoded data removed]",
      "text/plain": [
       "<Figure size 720x432 with 1 Axes>"
      ]
     },
     "metadata": {
      "needs_background": "light"
     },
     "output_type": "display_data"
    }
   ],
   "source": [
    "plt.figure(figsize=(10, 6))\n",
    "ax = sns.countplot(x =loans['Bank'] )\n",
    "plt.title(\"Bank Requency\",fontsize= 16)\n",
    "plt.xticks(rotation=45, horizontalalignment='right', fontweight='light', fontsize='medium')\n",
    "\n",
    "for p in ax.patches:#provides frequency counts\n",
    "    ax.annotate(p.get_height(),\n",
    "                (p.get_x() + p.get_width() / 2, p.get_height()),  ha = 'center', va = 'center', \n",
    "                xytext = (0, 10), textcoords = 'offset points')"
   ]
  },
  {
   "cell_type": "markdown",
   "metadata": {
    "colab_type": "text",
    "id": "Lkbm0XdiZkoa"
   },
   "source": [
    "The North American Industry Classification System (**NAICS**) is used to classify a business into 19+ sectors that specialize in different services.  To reduce the number of levels, sectors were grouped based on similar attributes. The list of sectors can be viewed in the 'Data Dictionary' section of this link:https://www.kaggle.com/mirbektoktogaraev/should-this-loan-be-approved-or-denied?select=SBAnational.csv \n",
    "\n",
    "Sectors were grouped by the first digit in their code as seen below:\n",
    "- 1 Agriculture\n",
    "- 2 Mining, Utilities, Construction\n",
    "- 3 Manufacturing\n",
    "- 4 Trade and Transportation\n",
    "- 5 Professional and Scientific\n",
    "- 6 Education and Health\n",
    "- 7 Arts and Hospitality\n",
    "- 8 other\n",
    "- 9 Public Administration\n"
   ]
  },
  {
   "cell_type": "code",
   "execution_count": 15,
   "metadata": {
    "colab": {},
    "colab_type": "code",
    "id": "_hN9Q-5RZkoa"
   },
   "outputs": [],
   "source": [
    "# create NAICS bins for 0,1,2,3,4,5,6,7,8,9\n",
    "'NAICS'\n",
    "loans['NAICS'].replace(to_replace = 0, value = 800000, inplace = True)\n",
    "loans['NAICS']= pd.cut(loans['NAICS'],\n",
    "                       [100000,200000,300000,400000,500000,600000,700000,800000,900000,1000000],\n",
    "                       labels = ['1','2','3','4','5','6','7','8','9'])"
   ]
  },
  {
   "cell_type": "code",
   "execution_count": 16,
   "metadata": {
    "colab": {
     "base_uri": "https://localhost:8080/",
     "height": 408
    },
    "colab_type": "code",
    "id": "jr2LtIcMZkod",
    "outputId": "b9154b0f-6c0b-4af4-88f5-e9b12f3aef23"
   },
   "outputs": [
    {
     "data": {
      "image/png": "[encoded data removed]",
      "text/plain": [
       "<Figure size 720x432 with 1 Axes>"
      ]
     },
     "metadata": {
      "needs_background": "light"
     },
     "output_type": "display_data"
    }
   ],
   "source": [
    "plt.figure(figsize=(10, 6))\n",
    "ax = sns.countplot(x =loans['NAICS'] )\n",
    "plt.title(\"NAICS Sectors\",fontsize= 16)\n",
    "plt.xticks(rotation=45, horizontalalignment='right', fontweight='light', fontsize='medium')\n",
    "\n",
    "for p in ax.patches:\n",
    "    ax.annotate(p.get_height(),\n",
    "                (p.get_x() + p.get_width() / 2, p.get_height()), \n",
    "                ha = 'center', va = 'center', \n",
    "                xytext = (0, 10), textcoords = 'offset points')"
   ]
  },
  {
   "cell_type": "markdown",
   "metadata": {
    "colab_type": "text",
    "id": "3K9xDueGZkof"
   },
   "source": [
    "**ApprovalFY** has values from 1962 to 2014, with several values coded 1976A in an object format.  Since there is a large range of values and characters present in some of the values, 1976A will be converted to 1976, followed binning values by decade.  This will result in 5 bins.  We can see that after preforming the binning, the 2000-2010 bucket has the most values at 509174 loan applications.  The .describe funtion was run to confirm that the correct number of categories were created, followed by a barchart for visual inspection.  Many loan applications occured during the 2000-2010 decade, followed by the 1990-2000 decade."
   ]
  },
  {
   "cell_type": "code",
   "execution_count": 17,
   "metadata": {
    "colab": {
     "base_uri": "https://localhost:8080/",
     "height": 108
    },
    "colab_type": "code",
    "id": "OBPOiPwVZkog",
    "outputId": "0344f8df-596b-402d-b626-9e8ca18d5554"
   },
   "outputs": [],
   "source": [
    "# Create ApprovalFY buckets spread by decade, 1976A need to be cleaned\n",
    "loans['ApprovalFY'].replace(to_replace = '1976A', value = '1976', inplace = True)\n",
    "loans['ApprovalFY'] = loans['ApprovalFY'].astype(int)\n",
    "loans['ApprovalFY_decade']= pd.cut(loans['ApprovalFY'],[1970,1980,1990,2000,2010,2020])\n",
    "#loans['ApprovalFY_decade'].describe()"
   ]
  },
  {
   "cell_type": "code",
   "execution_count": 18,
   "metadata": {},
   "outputs": [],
   "source": [
    "# look at failure rate at month of term\n",
    "# decade loan becomes proxy for term\n",
    "# don't use this feature??? \n",
    "# charge off rate/"
   ]
  },
  {
   "cell_type": "code",
   "execution_count": 19,
   "metadata": {
    "colab": {
     "base_uri": "https://localhost:8080/",
     "height": 450
    },
    "colab_type": "code",
    "id": "MG8Hhj00Zkoj",
    "outputId": "cefdd813-23c0-4898-e749-b67a21d62beb"
   },
   "outputs": [
    {
     "data": {
      "image/png": "[encoded data removed]",
      "text/plain": [
       "<Figure size 720x432 with 1 Axes>"
      ]
     },
     "metadata": {
      "needs_background": "light"
     },
     "output_type": "display_data"
    }
   ],
   "source": [
    "#Bucket ApprovalFY by decade\n",
    "plt.figure(figsize=(10, 6))\n",
    "ax = sns.countplot(x =loans['ApprovalFY_decade'] )\n",
    "plt.title(\"ApprovalFY by Decade\",fontsize= 16)\n",
    "plt.xticks(rotation=45, horizontalalignment='right', fontweight='light', fontsize='medium')\n",
    "\n",
    "for p in ax.patches:\n",
    "    ax.annotate(p.get_height(),\n",
    "                (p.get_x() + p.get_width() / 2, p.get_height()), \n",
    "                ha = 'center', va = 'center', \n",
    "                xytext = (0, 10), textcoords = 'offset points')"
   ]
  },
  {
   "cell_type": "markdown",
   "metadata": {
    "colab_type": "text",
    "id": "YXtCnh2_Zkol"
   },
   "source": [
    "**RevLineCr**, or Revolving Line of Credit should have values coded \"Y\" or \"N\".  We can see that there are 18 categories when there should be two.  All values coded \"0\" were converted to \"N\"; all values with \"1\" were coded to \"Y\", and all character values were coded as \"N\".  A plot below confirms that after cleaning that there are two classes."
   ]
  },
  {
   "cell_type": "code",
   "execution_count": 20,
   "metadata": {
    "colab": {
     "base_uri": "https://localhost:8080/",
     "height": 376
    },
    "colab_type": "code",
    "id": "vaxqO16yZkom",
    "outputId": "86f06b69-57b7-4829-aebc-a1aba6bf37db"
   },
   "outputs": [
    {
     "data": {
      "text/plain": [
       "(array([ 0,  1,  2,  3,  4,  5,  6,  7,  8,  9, 10, 11, 12, 13, 14, 15, 16,\n",
       "        17, 18]), <a list of 19 Text xticklabel objects>)"
      ]
     },
     "execution_count": 20,
     "metadata": {},
     "output_type": "execute_result"
    },
    {
     "data": {
      "image/png": "[encoded data removed]",
      "text/plain": [
       "<Figure size 432x288 with 1 Axes>"
      ]
     },
     "metadata": {
      "needs_background": "light"
     },
     "output_type": "display_data"
    }
   ],
   "source": [
    "# RevLineCredit: delete special characters 14 total, recode numbers to letters\n",
    "ax = sns.countplot(x =loans['RevLineCr'] )\n",
    "plt.title(\"RevLineCr Frequencies\",fontsize= 16)\n",
    "plt.xticks(rotation=45, horizontalalignment='right', fontweight='light', fontsize='medium')"
   ]
  },
  {
   "cell_type": "code",
   "execution_count": 21,
   "metadata": {
    "colab": {
     "base_uri": "https://localhost:8080/",
     "height": 317
    },
    "colab_type": "code",
    "id": "bIJ84rA2Zkoo",
    "outputId": "cc33c194-bb49-4919-c0b5-91aa431e2296"
   },
   "outputs": [
    {
     "data": {
      "text/plain": [
       "(array([0, 1]), <a list of 2 Text xticklabel objects>)"
      ]
     },
     "execution_count": 21,
     "metadata": {},
     "output_type": "execute_result"
    },
    {
     "data": {
      "image/png": "[encoded data removed]",
      "text/plain": [
       "<Figure size 432x288 with 1 Axes>"
      ]
     },
     "metadata": {
      "needs_background": "light"
     },
     "output_type": "display_data"
    }
   ],
   "source": [
    "loans['RevLineCr'].replace(to_replace = ['Y','1'], value = 1, inplace = True)\n",
    "loans['RevLineCr'].replace(to_replace = ['N','0'], value = 0, inplace = True)\n",
    "no = ['T','`','Not Provided',\",\",'C','3','2','R','7','A','5','.','4',\"'\",'Q','-']\n",
    "loans['RevLineCr'].replace(to_replace = no, value = 0, inplace = True)\n",
    "\n",
    "ax = sns.countplot(x =loans['RevLineCr'] )\n",
    "plt.title(\"RevLineCr Frequencies\",fontsize= 16)\n",
    "plt.xticks(rotation=45, horizontalalignment='right', fontweight='light', fontsize='medium')"
   ]
  },
  {
   "cell_type": "markdown",
   "metadata": {
    "colab_type": "text",
    "id": "I5co8qWPZkor"
   },
   "source": [
    "**LowDoc** has 9 categories when it should have 3.  All values with \"Y\" will be coded as 1; values with \"N\" will be coded as 0; all other values will be coded as 0.  We can see that most loan applicants are not part of the LowDoc loan program in the barchart below.  After reorganization we can see that there are 2 categories with 0 being the largest with 788,817 records."
   ]
  },
  {
   "cell_type": "code",
   "execution_count": 22,
   "metadata": {
    "colab": {
     "base_uri": "https://localhost:8080/",
     "height": 376
    },
    "colab_type": "code",
    "id": "rGwoZ2nUZkou",
    "outputId": "700694e5-f230-4913-fa02-4385bc16205c"
   },
   "outputs": [
    {
     "data": {
      "text/plain": [
       "(array([0, 1, 2, 3, 4, 5, 6, 7, 8]), <a list of 9 Text xticklabel objects>)"
      ]
     },
     "execution_count": 22,
     "metadata": {},
     "output_type": "execute_result"
    },
    {
     "data": {
      "image/png": "[encoded data removed]",
      "text/plain": [
       "<Figure size 432x288 with 1 Axes>"
      ]
     },
     "metadata": {
      "needs_background": "light"
     },
     "output_type": "display_data"
    }
   ],
   "source": [
    "# LowDoc: covert everything to Y or N\n",
    "ax = sns.countplot(x =loans['LowDoc'] )\n",
    "plt.title(\"LowDoc Frequencies\",fontsize= 16)\n",
    "plt.xticks(rotation=45, horizontalalignment='right', fontweight='light', fontsize='medium')"
   ]
  },
  {
   "cell_type": "code",
   "execution_count": 23,
   "metadata": {
    "colab": {},
    "colab_type": "code",
    "id": "JBBCJ7qRZkow"
   },
   "outputs": [],
   "source": [
    "loans['LowDoc'].replace(to_replace = ['Y','1'], value = 1, inplace = True)\n",
    "loans['LowDoc'].replace(to_replace = ['N','0'], value = 0, inplace = True)\n",
    "no = ['C','S','Not Provided','S','R','A']\n",
    "loans['LowDoc'].replace(to_replace = no, value = 0, inplace = True)"
   ]
  },
  {
   "cell_type": "code",
   "execution_count": 24,
   "metadata": {
    "colab": {
     "base_uri": "https://localhost:8080/",
     "height": 317
    },
    "colab_type": "code",
    "id": "JfKfuChtZkoy",
    "outputId": "57c4dac9-8896-45f1-c986-81de8e34a163"
   },
   "outputs": [
    {
     "data": {
      "text/plain": [
       "(array([0, 1]), <a list of 2 Text xticklabel objects>)"
      ]
     },
     "execution_count": 24,
     "metadata": {},
     "output_type": "execute_result"
    },
    {
     "data": {
      "image/png": "[encoded data removed]",
      "text/plain": [
       "<Figure size 432x288 with 1 Axes>"
      ]
     },
     "metadata": {
      "needs_background": "light"
     },
     "output_type": "display_data"
    }
   ],
   "source": [
    "ax = sns.countplot(x =loans['LowDoc'] )\n",
    "plt.title(\"LowDoc Frequencies\",fontsize= 16)\n",
    "plt.xticks(rotation=45, horizontalalignment='right', fontweight='light', fontsize='medium')"
   ]
  },
  {
   "cell_type": "markdown",
   "metadata": {
    "colab_type": "text",
    "id": "zEULAVtxZko1"
   },
   "source": [
    "**FRANCHISE CODE** is a feature that describes if a business is a franchise or not and id denoted with '0' being no, and '1' being yes.  All records that were not coded as '0' were recoded to '1'.  Some examples of this would be records with 'Y', which would then be recoded to '1'.  The plot below confirms the cleaning and that two classes remain."
   ]
  },
  {
   "cell_type": "code",
   "execution_count": 25,
   "metadata": {
    "colab": {
     "base_uri": "https://localhost:8080/",
     "height": 408
    },
    "colab_type": "code",
    "id": "F76CLTq7Zko1",
    "outputId": "a891901d-8a36-4f0b-fc26-08ae98e1868f"
   },
   "outputs": [
    {
     "name": "stderr",
     "output_type": "stream",
     "text": [
      "C:\\ProgramData\\Anaconda3\\lib\\site-packages\\pandas\\core\\indexing.py:190: SettingWithCopyWarning: \n",
      "A value is trying to be set on a copy of a slice from a DataFrame\n",
      "\n",
      "See the caveats in the documentation: http://pandas.pydata.org/pandas-docs/stable/indexing.html#indexing-view-versus-copy\n",
      "  self._setitem_with_indexer(indexer, value)\n"
     ]
    },
    {
     "data": {
      "text/plain": [
       "(array([0, 1]), <a list of 2 Text xticklabel objects>)"
      ]
     },
     "execution_count": 25,
     "metadata": {},
     "output_type": "execute_result"
    },
    {
     "data": {
      "image/png": "[encoded data removed]",
      "text/plain": [
       "<Figure size 432x288 with 1 Axes>"
      ]
     },
     "metadata": {
      "needs_background": "light"
     },
     "output_type": "display_data"
    }
   ],
   "source": [
    "loans['FranchiseCode'].loc[(loans['FranchiseCode'] !=0)] = 1\n",
    "\n",
    "ax = sns.countplot(x =loans['FranchiseCode'] )\n",
    "plt.title(\"FranchiseCode Frequencies\",fontsize= 16)\n",
    "plt.xticks(rotation=45, horizontalalignment='right', fontweight='light', fontsize='medium')"
   ]
  },
  {
   "cell_type": "markdown",
   "metadata": {
    "colab_type": "text",
    "id": "PMsU-FAvZko4"
   },
   "source": [
    "There are over 50 categories for the **State** feature, where each category is a state or military address.  If all the states were converted via one-hot-encoding, or dummy coding, there would be a risk of overfitting.  To address this states will be grouped into the following regions: West, Midwest, Southwest, Southeast, and Northeast."
   ]
  },
  {
   "cell_type": "code",
   "execution_count": 26,
   "metadata": {
    "colab": {
     "base_uri": "https://localhost:8080/",
     "height": 600
    },
    "colab_type": "code",
    "id": "zVeMNdzvZko5",
    "outputId": "4aebcfc8-33bd-457b-e5b2-c0f0627309fe"
   },
   "outputs": [
    {
     "data": {
      "text/plain": [
       "(array([ 0,  1,  2,  3,  4,  5,  6,  7,  8,  9, 10, 11, 12, 13, 14, 15, 16,\n",
       "        17, 18, 19, 20, 21, 22, 23, 24, 25, 26, 27, 28, 29, 30, 31, 32, 33,\n",
       "        34, 35, 36, 37, 38, 39, 40, 41, 42, 43, 44, 45, 46, 47, 48, 49, 50,\n",
       "        51, 52]), <a list of 53 Text xticklabel objects>)"
      ]
     },
     "execution_count": 26,
     "metadata": {},
     "output_type": "execute_result"
    },
    {
     "data": {
      "image/png": "[encoded data removed]",
      "text/plain": [
       "<Figure size 1152x576 with 1 Axes>"
      ]
     },
     "metadata": {
      "needs_background": "light"
     },
     "output_type": "display_data"
    }
   ],
   "source": [
    "# State Distribution\n",
    "plt.figure(figsize=(16,8))\n",
    "ax = sns.countplot(x =loans['State'] )\n",
    "plt.title(\"State Frequencies\",fontsize= 16)\n",
    "plt.xticks(rotation=45, horizontalalignment='right', fontweight='light', fontsize='medium')"
   ]
  },
  {
   "cell_type": "markdown",
   "metadata": {
    "colab_type": "text",
    "id": "ZUsJp4jCZko6"
   },
   "source": [
    "After the **State** feature was binned by region, we can see that the 'West' has the most loan applocations, followed by the 'Northeast' and 'Midwest'.  The code below assigns each state to a region based on this map found on National Geographic:https://www.nationalgeographic.org/maps/united-states-regions/\n",
    "\n",
    "The binning was confirmed by a barchart to ensure that all states were properly assigned to a region.  The barchart include frequency counts for ease of reading and was generated using a for loop."
   ]
  },
  {
   "cell_type": "code",
   "execution_count": 27,
   "metadata": {
    "colab": {
     "base_uri": "https://localhost:8080/",
     "height": 548
    },
    "colab_type": "code",
    "id": "4-ljO1jZZko7",
    "outputId": "81d8dee1-975b-4e12-fd94-5fee9f69233a"
   },
   "outputs": [
    {
     "data": {
      "image/png": "[encoded data removed]",
      "text/plain": [
       "<Figure size 1152x576 with 1 Axes>"
      ]
     },
     "metadata": {
      "needs_background": "light"
     },
     "output_type": "display_data"
    }
   ],
   "source": [
    "#Generate list of states\n",
    "west = ['WA','OR','CA','NV','UT','CO','WY','MT','ID','AK','HI','AP','NaN']\n",
    "midwest =['ND','SD','NE','KS','MO','IA','MN','MI','IL','IN','OH','WI']\n",
    "southeast = ['AR','LA','MS','TN','KY','WV','VA','NC','SC','GA','FL','AL']\n",
    "southwest = ['AZ','TX','NM','OK']\n",
    "northeast = ['ME','VT','NH','CT','RI','NY','NJ','DE','MD','MA','PA','DC']\n",
    "\n",
    "loans['State'].replace(to_replace = west, value = 'west', inplace = True)\n",
    "loans['State'].replace(to_replace = midwest, value = 'midwest', inplace = True)\n",
    "loans['State'].replace(to_replace = southeast, value = 'southeast', inplace = True)\n",
    "loans['State'].replace(to_replace = southwest, value = 'southwest', inplace = True)\n",
    "loans['State'].replace(to_replace = northeast, value = 'northeast', inplace = True)\n",
    "\n",
    "plt.figure(figsize=(16,8))\n",
    "ax = sns.countplot(x =loans['State'] )\n",
    "plt.title(\"US Region Frequencies\",fontsize= 16)\n",
    "plt.xticks(rotation=45, horizontalalignment='right', fontweight='light', fontsize='medium')\n",
    "\n",
    "for p in ax.patches:\n",
    "    ax.annotate(p.get_height(),\n",
    "                (p.get_x() + p.get_width() / 2, p.get_height()), \n",
    "                ha = 'center', va = 'center', \n",
    "                xytext = (0, 10), textcoords = 'offset points')"
   ]
  },
  {
   "cell_type": "markdown",
   "metadata": {
    "colab_type": "text",
    "id": "tXXY-ddBZko-"
   },
   "source": [
    "#### Categorical One-hot-encoding"
   ]
  },
  {
   "cell_type": "markdown",
   "metadata": {
    "colab_type": "text",
    "id": "QKr83tF_Zko_"
   },
   "source": [
    "**Bank**, **NAICS**, **ApprovalFY_decade**, **UrbanRural**, **NewExist**, and **State** are nominal categorical features and are best represented by one-hot-encoding or as an integer.  For our models, these features will be converted to on hot encoding and the old feature will be removed.  After one-hot-encoding was complete, the .info() function was run to visually check to ensure that the function created new features and removed the old features.  Failure to remove features used to create on-hot-encoded features would introduce multicollinearity.  This property would result in an over-inflation of model metrics."
   ]
  },
  {
   "cell_type": "code",
   "execution_count": 28,
   "metadata": {
    "colab": {},
    "colab_type": "code",
    "id": "SaIJUXqtZkpA"
   },
   "outputs": [],
   "source": [
    "loans = pd.get_dummies(loans,columns=['Bank','NAICS','ApprovalFY_decade',\n",
    "                                      'UrbanRural','NewExist','State'])\n",
    "\n",
    "#Clean up dataset\n",
    "'Bank','NAICS','ApprovalFY_decade'\n",
    "if 'Bank' in loans:\n",
    "    del loans['Bank']\n",
    "    \n",
    "if 'NAICS' in loans:    \n",
    "    del loans['NAICS']\n",
    "    \n",
    "if 'ApprovalFY' in loans:    \n",
    "    del loans['ApprovalFY']\n",
    "    \n",
    "if 'State' in loans:    \n",
    "    del loans['State']  \n",
    "\n",
    "if 'UrbanRural' in loans:    \n",
    "    del loans['UrbanRural']  \n",
    "        \n",
    "if 'NewExist' in loans:    \n",
    "    del loans['NewExist']  "
   ]
  },
  {
   "cell_type": "code",
   "execution_count": 29,
   "metadata": {
    "colab": {},
    "colab_type": "code",
    "id": "BXdTbkuJsRrt"
   },
   "outputs": [],
   "source": [
    "loans = loans.dropna()#drops 14 records\n",
    "loans = loans.reset_index(drop=True) #resets index, important when converting to array"
   ]
  },
  {
   "cell_type": "code",
   "execution_count": 30,
   "metadata": {
    "colab": {
     "base_uri": "https://localhost:8080/",
     "height": 1000
    },
    "colab_type": "code",
    "id": "U_-kAd51ZkpC",
    "outputId": "f8ba937a-bff0-40f6-9123-c54a3f869860"
   },
   "outputs": [
    {
     "name": "stdout",
     "output_type": "stream",
     "text": [
      "<class 'pandas.core.frame.DataFrame'>\n",
      "RangeIndex: 896782 entries, 0 to 896781\n",
      "Data columns (total 56 columns):\n",
      "LoanNr_ChkDgt                          896782 non-null int64\n",
      "Name                                   896782 non-null object\n",
      "City                                   896782 non-null object\n",
      "Zip                                    896782 non-null object\n",
      "BankState                              896782 non-null object\n",
      "ApprovalDate                           896782 non-null datetime64[ns]\n",
      "Term                                   896782 non-null int64\n",
      "NoEmp                                  896782 non-null int64\n",
      "CreateJob                              896782 non-null int64\n",
      "RetainedJob                            896782 non-null int64\n",
      "FranchiseCode                          896782 non-null int64\n",
      "RevLineCr                              896782 non-null int64\n",
      "LowDoc                                 896782 non-null int64\n",
      "ChgOffDate                             896782 non-null object\n",
      "DisbursementDate                       896782 non-null object\n",
      "DisbursementGross                      896782 non-null float64\n",
      "BalanceGross                           896782 non-null float64\n",
      "MIS_Status                             896782 non-null int64\n",
      "ChgOffPrinGr                           896782 non-null float64\n",
      "GrAppv                                 896782 non-null float64\n",
      "SBA_Appv                               896782 non-null float64\n",
      "difference_in_days                     896782 non-null float64\n",
      "Bank_BANK OF AMERICA NATL ASSOC        896782 non-null uint8\n",
      "Bank_BBCN BANK                         896782 non-null uint8\n",
      "Bank_CAPITAL ONE NATL ASSOC            896782 non-null uint8\n",
      "Bank_CITIZENS BANK NATL ASSOC          896782 non-null uint8\n",
      "Bank_JPMORGAN CHASE BANK NATL ASSOC    896782 non-null uint8\n",
      "Bank_Other                             896782 non-null uint8\n",
      "Bank_PNC BANK, NATIONAL ASSOCIATION    896782 non-null uint8\n",
      "Bank_U.S. BANK NATIONAL ASSOCIATION    896782 non-null uint8\n",
      "Bank_WELLS FARGO BANK NATL ASSOC       896782 non-null uint8\n",
      "NAICS_1                                896782 non-null uint8\n",
      "NAICS_2                                896782 non-null uint8\n",
      "NAICS_3                                896782 non-null uint8\n",
      "NAICS_4                                896782 non-null uint8\n",
      "NAICS_5                                896782 non-null uint8\n",
      "NAICS_6                                896782 non-null uint8\n",
      "NAICS_7                                896782 non-null uint8\n",
      "NAICS_8                                896782 non-null uint8\n",
      "NAICS_9                                896782 non-null uint8\n",
      "ApprovalFY_decade_(1970, 1980]         896782 non-null uint8\n",
      "ApprovalFY_decade_(1980, 1990]         896782 non-null uint8\n",
      "ApprovalFY_decade_(1990, 2000]         896782 non-null uint8\n",
      "ApprovalFY_decade_(2000, 2010]         896782 non-null uint8\n",
      "ApprovalFY_decade_(2010, 2020]         896782 non-null uint8\n",
      "UrbanRural_0                           896782 non-null uint8\n",
      "UrbanRural_1                           896782 non-null uint8\n",
      "UrbanRural_2                           896782 non-null uint8\n",
      "NewExist_0                             896782 non-null uint8\n",
      "NewExist_1                             896782 non-null uint8\n",
      "NewExist_2                             896782 non-null uint8\n",
      "State_midwest                          896782 non-null uint8\n",
      "State_northeast                        896782 non-null uint8\n",
      "State_southeast                        896782 non-null uint8\n",
      "State_southwest                        896782 non-null uint8\n",
      "State_west                             896782 non-null uint8\n",
      "dtypes: datetime64[ns](1), float64(6), int64(9), object(6), uint8(34)\n",
      "memory usage: 179.6+ MB\n"
     ]
    }
   ],
   "source": [
    "loans.info()"
   ]
  },
  {
   "cell_type": "markdown",
   "metadata": {
    "colab_type": "text",
    "id": "Wz6uOvNIZkpE"
   },
   "source": [
    "After additional cleaning and binning of the categorical features we can see that the number of unique levels has decreased.  Having fewer levels per features should reduce the computational load and potential overfitting when running our classification algorithms."
   ]
  },
  {
   "cell_type": "markdown",
   "metadata": {
    "colab_type": "text",
    "id": "m1hoIm-4ZkpF"
   },
   "source": [
    "### Quantitative Features"
   ]
  },
  {
   "cell_type": "markdown",
   "metadata": {
    "colab_type": "text",
    "id": "0raKEMwEZkpF"
   },
   "source": [
    "The correlation matrix below shows continuous features that help determine if a loan is paid in full or if it defaults.  The correlation matrix shows that **DisbursementGross** is strongly and positively with **SBA_Appr** and **GrAppv**; and **SBA_Appr** is strongly and positively correlated with **GrAppv**. **NoEmp** and **Term** feature show moderate or low correlation compared to the remaining features. **DisbursementGross**, **SBA_Appr** and **GrAppv** all relate to the amount of money a small business is approved for or received and the correlation matrix shows how strongly correlated those values are. It is most likely that values from DisbursementGross, **SBA_Appr** and **GrAppv** are the same or are very close to each other.\n",
    "\n",
    "One assumption for logistic regression is minimal multicollinearity.  **DisbursmentGross**, **GRAppv**, and **SBA_Appv** are highly correlated (r > 0.90) with each other as they all describe the amount of money that is given to a loan applicant.  Since the **SBA_Appv** feature describes the amount of money that is approved and guaranteed to an applicant it will be kept.  **DisbursementGross** and **GrAppv** will be removed as they are both like **SBA_Appv**, but do not represent the final loan amount an applicant will receive."
   ]
  },
  {
   "cell_type": "code",
   "execution_count": 31,
   "metadata": {
    "colab": {
     "base_uri": "https://localhost:8080/",
     "height": 388
    },
    "colab_type": "code",
    "id": "IMKZIorqZkpF",
    "outputId": "833ea2cf-d47d-4b04-826e-fb6cef8e046e"
   },
   "outputs": [
    {
     "data": {
      "text/plain": [
       "<matplotlib.axes._subplots.AxesSubplot at 0x231bd9170b8>"
      ]
     },
     "execution_count": 31,
     "metadata": {},
     "output_type": "execute_result"
    },
    {
     "data": {
      "image/png": "[encoded data removed]",
      "text/plain": [
       "<Figure size 432x288 with 2 Axes>"
      ]
     },
     "metadata": {},
     "output_type": "display_data"
    }
   ],
   "source": [
    "normal_data =['DisbursementGross', 'GrAppv', 'NoEmp', 'Term', 'SBA_Appv','ChgOffPrinGr', \n",
    "              'BalanceGross','BankState','difference_in_days']\n",
    "loans_corr = loans[normal_data]\n",
    "\n",
    "cmap = sns.diverging_palette(220, 10, as_cmap=True) # one of the many color mappings\n",
    "\n",
    "#Generate a correlation matrix of transformed data\n",
    "sns.set(style=\"darkgrid\") # one of the many styles to plot using\n",
    "sns.heatmap(loans_corr.corr(), cmap=cmap, annot=True)"
   ]
  },
  {
   "cell_type": "markdown",
   "metadata": {
    "colab_type": "text",
    "id": "TN1gE1ZqZkpH"
   },
   "source": [
    "#### PCA Features"
   ]
  },
  {
   "cell_type": "markdown",
   "metadata": {
    "colab_type": "text",
    "id": "zP_V4y9xZkpI"
   },
   "source": [
    "An alternative to removing highly correlated continuous features is to preform principal component analysis on all continious features, keeping the principal components that explain most of the variation in the continuous data, and removing the features that were used to create the principal components.\n"
   ]
  },
  {
   "cell_type": "code",
   "execution_count": 32,
   "metadata": {
    "colab": {
     "base_uri": "https://localhost:8080/",
     "height": 206
    },
    "colab_type": "code",
    "id": "AMghP-ESZkpI",
    "outputId": "d93daf6a-9ae5-441e-b517-b614721c0851"
   },
   "outputs": [
    {
     "name": "stderr",
     "output_type": "stream",
     "text": [
      "C:\\ProgramData\\Anaconda3\\lib\\site-packages\\sklearn\\preprocessing\\data.py:645: DataConversionWarning: Data with input dtype int64, float64 were all converted to float64 by StandardScaler.\n",
      "  return self.partial_fit(X, y)\n",
      "C:\\ProgramData\\Anaconda3\\lib\\site-packages\\sklearn\\base.py:464: DataConversionWarning: Data with input dtype int64, float64 were all converted to float64 by StandardScaler.\n",
      "  return self.fit(X, **fit_params).transform(X)\n"
     ]
    },
    {
     "data": {
      "text/html": [
       "<div>\n",
       "<style scoped>\n",
       "    .dataframe tbody tr th:only-of-type {\n",
       "        vertical-align: middle;\n",
       "    }\n",
       "\n",
       "    .dataframe tbody tr th {\n",
       "        vertical-align: top;\n",
       "    }\n",
       "\n",
       "    .dataframe thead th {\n",
       "        text-align: right;\n",
       "    }\n",
       "</style>\n",
       "<table border=\"1\" class=\"dataframe\">\n",
       "  <thead>\n",
       "    <tr style=\"text-align: right;\">\n",
       "      <th></th>\n",
       "      <th>NoEmp</th>\n",
       "      <th>Term</th>\n",
       "      <th>DisbursementGross</th>\n",
       "      <th>GrAppv</th>\n",
       "      <th>SBA_Appv</th>\n",
       "      <th>difference_in_days</th>\n",
       "    </tr>\n",
       "  </thead>\n",
       "  <tbody>\n",
       "    <tr>\n",
       "      <th>0</th>\n",
       "      <td>-0.099985</td>\n",
       "      <td>-0.340615</td>\n",
       "      <td>-0.491416</td>\n",
       "      <td>-0.469020</td>\n",
       "      <td>-0.444992</td>\n",
       "      <td>3.277715</td>\n",
       "    </tr>\n",
       "    <tr>\n",
       "      <th>1</th>\n",
       "      <td>-0.126939</td>\n",
       "      <td>-0.644810</td>\n",
       "      <td>-0.560919</td>\n",
       "      <td>-0.539596</td>\n",
       "      <td>-0.515010</td>\n",
       "      <td>-0.116814</td>\n",
       "    </tr>\n",
       "    <tr>\n",
       "      <th>2</th>\n",
       "      <td>-0.059555</td>\n",
       "      <td>0.876162</td>\n",
       "      <td>0.297435</td>\n",
       "      <td>0.332007</td>\n",
       "      <td>0.286922</td>\n",
       "      <td>1.021790</td>\n",
       "    </tr>\n",
       "    <tr>\n",
       "      <th>3</th>\n",
       "      <td>-0.126939</td>\n",
       "      <td>-0.644810</td>\n",
       "      <td>-0.578294</td>\n",
       "      <td>-0.557239</td>\n",
       "      <td>-0.532515</td>\n",
       "      <td>0.042803</td>\n",
       "    </tr>\n",
       "    <tr>\n",
       "      <th>4</th>\n",
       "      <td>0.034783</td>\n",
       "      <td>1.636648</td>\n",
       "      <td>0.095878</td>\n",
       "      <td>0.127339</td>\n",
       "      <td>0.347094</td>\n",
       "      <td>-0.207264</td>\n",
       "    </tr>\n",
       "  </tbody>\n",
       "</table>\n",
       "</div>"
      ],
      "text/plain": [
       "      NoEmp      Term  DisbursementGross    GrAppv  SBA_Appv  \\\n",
       "0 -0.099985 -0.340615          -0.491416 -0.469020 -0.444992   \n",
       "1 -0.126939 -0.644810          -0.560919 -0.539596 -0.515010   \n",
       "2 -0.059555  0.876162           0.297435  0.332007  0.286922   \n",
       "3 -0.126939 -0.644810          -0.578294 -0.557239 -0.532515   \n",
       "4  0.034783  1.636648           0.095878  0.127339  0.347094   \n",
       "\n",
       "   difference_in_days  \n",
       "0            3.277715  \n",
       "1           -0.116814  \n",
       "2            1.021790  \n",
       "3            0.042803  \n",
       "4           -0.207264  "
      ]
     },
     "execution_count": 32,
     "metadata": {},
     "output_type": "execute_result"
    }
   ],
   "source": [
    "from sklearn.preprocessing import StandardScaler #standardizes data\n",
    "from sklearn.preprocessing import LabelEncoder # converts categories to int\n",
    "\n",
    "pca_data = ['NoEmp','Term','DisbursementGross','GrAppv','SBA_Appv','difference_in_days']\n",
    "pca_df = loans[pca_data]\n",
    "\n",
    "# Standardize continuous data\n",
    "df_scaled = pd.DataFrame(StandardScaler().fit_transform(pca_df),columns = pca_df.columns)\n",
    "\n",
    "#Check that data frame is complete\n",
    "df_scaled.head()"
   ]
  },
  {
   "cell_type": "markdown",
   "metadata": {
    "colab_type": "text",
    "id": "GeCP2jrhswTR"
   },
   "source": [
    "The scree plot reveals that the first two principal components explain most of the variation in the continous data.  These two principal components are contained in the \"X_pca\" data frame and will be appended to the **loans** data frame, while **NoEmp**, **Term**, **DisbursementGross**, **ChgOffPrinGr**, **GrAppv**, **'difference_in_days'**, and **SBA_Appv** will be removed.  This version of the **loans** data will be used to test and compare a logistic model/svm with highly correlated continuous features removed, and a logistic/svm model that utilizes prinicpal components."
   ]
  },
  {
   "cell_type": "code",
   "execution_count": 33,
   "metadata": {
    "colab": {
     "base_uri": "https://localhost:8080/",
     "height": 319
    },
    "colab_type": "code",
    "id": "_6FHl6lRZkpK",
    "outputId": "1bbabdf1-bd9f-4a93-ebbc-b12097bcbb88"
   },
   "outputs": [
    {
     "data": {
      "text/plain": [
       "Text(0.5, 1.0, 'PCA Scree Plot')"
      ]
     },
     "execution_count": 33,
     "metadata": {},
     "output_type": "execute_result"
    },
    {
     "data": {
      "image/png": "[encoded data removed]",
      "text/plain": [
       "<Figure size 432x288 with 1 Axes>"
      ]
     },
     "metadata": {},
     "output_type": "display_data"
    }
   ],
   "source": [
    "from sklearn.decomposition import PCA\n",
    "#run PCA\n",
    "pca = PCA(n_components=5)\n",
    "X_pca = pca.fit(df_scaled).transform(df_scaled)\n",
    "\n",
    "#Scree Plot\n",
    "percent_variance = np.round(pca.explained_variance_ratio_* 100, decimals =2)\n",
    "plt.plot(range(1,6),percent_variance)\n",
    "plt.ylabel('Percentate of Variance Explained')\n",
    "plt.xlabel('Principal Component')\n",
    "plt.title('PCA Scree Plot')"
   ]
  },
  {
   "cell_type": "code",
   "execution_count": 34,
   "metadata": {
    "colab": {},
    "colab_type": "code",
    "id": "hEYuEtkAZkpO"
   },
   "outputs": [],
   "source": [
    "#Run PCA on continuous features\n",
    "pca = PCA(n_components=2)\n",
    "X_sm_pca2 = pca.fit_transform(df_scaled)\n",
    "\n",
    "#Isolate 1st 2 principal components as indicated in scree plot\n",
    "prin_com = pd.DataFrame(X_sm_pca2)\n",
    "prin_com = prin_com.rename(columns={0: \"PC1\", 1: \"PC2\"})"
   ]
  },
  {
   "cell_type": "markdown",
   "metadata": {},
   "source": [
    "# Data Preparation 2"
   ]
  },
  {
   "cell_type": "markdown",
   "metadata": {},
   "source": [
    "# select features that will be used based on mini lab 1"
   ]
  },
  {
   "cell_type": "code",
   "execution_count": 49,
   "metadata": {},
   "outputs": [
    {
     "name": "stdout",
     "output_type": "stream",
     "text": [
      "(627747, 31) Index(['NAICS_1', 'NAICS_2', 'NAICS_3', 'NAICS_4', 'NAICS_5', 'NAICS_6',\n",
      "       'NAICS_7', 'NAICS_8', 'NAICS_9', 'ApprovalFY_decade_(1970, 1980]',\n",
      "       'ApprovalFY_decade_(1980, 1990]', 'ApprovalFY_decade_(1990, 2000]',\n",
      "       'ApprovalFY_decade_(2000, 2010]', 'ApprovalFY_decade_(2010, 2020]',\n",
      "       'UrbanRural_0', 'UrbanRural_1', 'UrbanRural_2', 'NewExist_0',\n",
      "       'NewExist_1', 'NewExist_2', 'State_midwest', 'State_northeast',\n",
      "       'State_southeast', 'State_southwest', 'State_west', 'NoEmp', 'Term',\n",
      "       'DisbursementGross', 'difference_in_days', 'PC1', 'PC2'],\n",
      "      dtype='object')\n",
      "(269035, 31) Index(['NAICS_1', 'NAICS_2', 'NAICS_3', 'NAICS_4', 'NAICS_5', 'NAICS_6',\n",
      "       'NAICS_7', 'NAICS_8', 'NAICS_9', 'ApprovalFY_decade_(1970, 1980]',\n",
      "       'ApprovalFY_decade_(1980, 1990]', 'ApprovalFY_decade_(1990, 2000]',\n",
      "       'ApprovalFY_decade_(2000, 2010]', 'ApprovalFY_decade_(2010, 2020]',\n",
      "       'UrbanRural_0', 'UrbanRural_1', 'UrbanRural_2', 'NewExist_0',\n",
      "       'NewExist_1', 'NewExist_2', 'State_midwest', 'State_northeast',\n",
      "       'State_southeast', 'State_southwest', 'State_west', 'NoEmp', 'Term',\n",
      "       'DisbursementGross', 'difference_in_days', 'PC1', 'PC2'],\n",
      "      dtype='object')\n",
      "(627747, 1) Index(['MIS_Status'], dtype='object')\n",
      "(269035, 1) Index(['MIS_Status'], dtype='object')\n"
     ]
    }
   ],
   "source": [
    "#Create Master train and test sets including PCA on scaled data for classification\n",
    "\n",
    "from sklearn.model_selection import train_test_split\n",
    "\n",
    "#combine principle components, one hot encoded and scaled data\n",
    "\n",
    "df1hot = loans[['NAICS_1', 'NAICS_2', 'NAICS_3',\n",
    "                   'NAICS_4', 'NAICS_5', 'NAICS_6', 'NAICS_7', 'NAICS_8', 'NAICS_9',\n",
    "                   'ApprovalFY_decade_(1970, 1980]', 'ApprovalFY_decade_(1980, 1990]',\n",
    "                   'ApprovalFY_decade_(1990, 2000]', 'ApprovalFY_decade_(2000, 2010]',\n",
    "                   'ApprovalFY_decade_(2010, 2020]', 'UrbanRural_0', 'UrbanRural_1',\n",
    "                   'UrbanRural_2', 'NewExist_0', 'NewExist_1', 'NewExist_2',\n",
    "                   'State_midwest', 'State_northeast', 'State_southeast',\n",
    "                   'State_southwest', 'State_west']]\n",
    "\n",
    "dfscaled = df_scaled[['NoEmp', 'Term', 'DisbursementGross', 'difference_in_days']]\n",
    "\n",
    "dfcombined = pd.concat([df1hot, dfscaled, prin_com], axis=1, join='inner')\n",
    "\n",
    "# dataframe for the classifier response MIS_status as 0 or 1\n",
    "dfrspcl = loans[['MIS_Status']] # nest values to create dataframe for results\n",
    "\n",
    "# create dataframes for master train and test sets on scaled data. Data is split 70% train, 30% test\n",
    "X_mtrain_cl, X_mtest_cl, y_mtrain_cl, y_mtest_cl = train_test_split(dfcombined, dfrspcl, test_size = .3, random_state = 42)\n",
    "\n",
    "print(X_mtrain_cl.shape, X_mtrain_cl.columns)\n",
    "print(X_mtest_cl.shape, X_mtest_cl.columns)\n",
    "print(y_mtrain_cl.shape, y_mtrain_cl.columns)\n",
    "print(y_mtest_cl.shape, y_mtest_cl.columns)\n"
   ]
  },
  {
   "cell_type": "markdown",
   "metadata": {},
   "source": [
    "**See if stratified sample exists**"
   ]
  },
  {
   "cell_type": "code",
   "execution_count": 36,
   "metadata": {},
   "outputs": [
    {
     "name": "stdout",
     "output_type": "stream",
     "text": [
      "(222350, 8) Index(['NoEmp', 'Term', 'DisbursementGross', 'GrAppv', 'SBA_Appv',\n",
      "       'difference_in_days', 'PC1', 'PC2'],\n",
      "      dtype='object')\n",
      "(222350, 1) Index(['MIS_Status'], dtype='object')\n"
     ]
    }
   ],
   "source": [
    "#create balanced response set out of just training data. We have more 1's than 0's so find the number of 0's and \n",
    "#undersample from the 1's. All final datasets will still be Pandas Dataframes\n",
    "\n",
    "# first get the indexes for all 0's and all 1's\n",
    "\n",
    "y_mtrain_cl_1_idx = y_mtrain_cl.loc[y_mtrain_cl.MIS_Status==1].index.values.tolist()\n",
    "y_mtrain_cl_0_idx = y_mtrain_cl.loc[y_mtrain_cl.MIS_Status==0].index.values.tolist()\n",
    "\n",
    "#Create data sets that correspond to the response variable while preserving the original index\n",
    "\n",
    "X_mtrain_cl_0 = X_mtrain_cl[X_mtrain_cl.index.isin(y_mtrain_cl_0_idx)]\n",
    "y_mtrain_cl_0 = y_mtrain_cl[y_mtrain_cl.index.isin(y_mtrain_cl_0_idx)]\n",
    "\n",
    "X_mtrain_cl_1 = X_mtrain_cl[X_mtrain_cl.index.isin(y_mtrain_cl_1_idx)]\n",
    "y_mtrain_cl_1 = y_mtrain_cl[y_mtrain_cl.index.isin(y_mtrain_cl_1_idx)]\n",
    "\n",
    "# create an undersample of correct length from the 1's. must have the same number of entries as the 0's datasets\n",
    "countSamples = y_mtrain_cl_0.shape[0]\n",
    "\n",
    "X_mtrain_cl_1_sub = X_mtrain_cl_1.sample(n=countSamples, random_state=42)\n",
    "\n",
    "#get the index so we can pick the corresponding y's\n",
    "\n",
    "subsample_1s_idx = X_mtrain_cl_1_sub.index.values.tolist()\n",
    "y_mtrain_cl_1_sub = y_mtrain_cl_1[y_mtrain_cl_1.index.isin(subsample_1s_idx)]\n",
    "\n",
    "#Combined undersampled 1's with original 0's to form undersampled data\n",
    "\n",
    "X_mtrain_cl_us = pd.concat([X_mtrain_cl_0, X_mtrain_cl_1_sub])\n",
    "y_mtrain_cl_us = pd.concat([y_mtrain_cl_0, y_mtrain_cl_1_sub])\n",
    "\n",
    "print(X_mtrain_cl_us.shape, X_mtrain_cl_us.columns)\n",
    "print(y_mtrain_cl_us.shape, y_mtrain_cl_us.columns)\n"
   ]
  },
  {
   "cell_type": "code",
   "execution_count": 51,
   "metadata": {},
   "outputs": [],
   "source": [
    "# Create dataset with no PCA data only the continuous variables\n",
    "\n",
    "X_mtrain_cl_npca = X_mtrain_cl.drop(['PC1','PC2'], axis=1)\n"
   ]
  },
  {
   "cell_type": "code",
   "execution_count": 53,
   "metadata": {},
   "outputs": [],
   "source": [
    "# Create dataset with PCA data only, no continuous variables\n",
    "\n",
    "X_mtrain_cl_pca = X_mtrain_cl.drop(['NoEmp', 'Term', 'DisbursementGross', 'difference_in_days'], axis=1)"
   ]
  },
  {
   "cell_type": "code",
   "execution_count": 79,
   "metadata": {},
   "outputs": [
    {
     "name": "stdout",
     "output_type": "stream",
     "text": [
      "(109582, 31) Index(['NAICS_1', 'NAICS_2', 'NAICS_3', 'NAICS_4', 'NAICS_5', 'NAICS_6',\n",
      "       'NAICS_7', 'NAICS_8', 'NAICS_9', 'ApprovalFY_decade_(1970, 1980]',\n",
      "       'ApprovalFY_decade_(1980, 1990]', 'ApprovalFY_decade_(1990, 2000]',\n",
      "       'ApprovalFY_decade_(2000, 2010]', 'ApprovalFY_decade_(2010, 2020]',\n",
      "       'UrbanRural_0', 'UrbanRural_1', 'UrbanRural_2', 'NewExist_0',\n",
      "       'NewExist_1', 'NewExist_2', 'State_midwest', 'State_northeast',\n",
      "       'State_southeast', 'State_southwest', 'State_west', 'NoEmp', 'Term',\n",
      "       'DisbursementGross', 'difference_in_days', 'PC1', 'PC2'],\n",
      "      dtype='object')\n",
      "(47154, 31) Index(['NAICS_1', 'NAICS_2', 'NAICS_3', 'NAICS_4', 'NAICS_5', 'NAICS_6',\n",
      "       'NAICS_7', 'NAICS_8', 'NAICS_9', 'ApprovalFY_decade_(1970, 1980]',\n",
      "       'ApprovalFY_decade_(1980, 1990]', 'ApprovalFY_decade_(1990, 2000]',\n",
      "       'ApprovalFY_decade_(2000, 2010]', 'ApprovalFY_decade_(2010, 2020]',\n",
      "       'UrbanRural_0', 'UrbanRural_1', 'UrbanRural_2', 'NewExist_0',\n",
      "       'NewExist_1', 'NewExist_2', 'State_midwest', 'State_northeast',\n",
      "       'State_southeast', 'State_southwest', 'State_west', 'NoEmp', 'Term',\n",
      "       'DisbursementGross', 'difference_in_days', 'PC1', 'PC2'],\n",
      "      dtype='object')\n",
      "(109582, 1) Index(['ChgOffPrinGr'], dtype='object')\n",
      "(47154, 1) Index(['ChgOffPrinGr'], dtype='object')\n"
     ]
    }
   ],
   "source": [
    "# Data for Regression\n",
    "# We want only data for failed loans that have a postive value for chrgoffpriciple\n",
    "# We drop less than 2K records by specifying a positive chrgoffpriciple\n",
    "\n",
    "# Identify indexes of failed laons with posiitve chrgoffprinciple\n",
    "\n",
    "failed_loan_idx = loans.loc[(loans.MIS_Status==0) & (loans.ChgOffPrinGr > 0)].index.values.tolist()\n",
    "\n",
    "X_mtrain_rg = X_mtrain_cl[X_mtrain_cl.index.isin(failed_loan_idx)]\n",
    "\n",
    "X_mtest_rg = X_mtest_cl[X_mtest_cl.index.isin(failed_loan_idx)]\n",
    "\n",
    "train_idx = y_mtrain_cl.index.values.tolist()\n",
    "test_idx = y_mtest_cl.index.values.tolist()\n",
    "\n",
    "y_mtrain_rg = loans.loc[(loans.index.isin(failed_loan_idx)) & (loans.index.isin(train_idx)),['ChgOffPrinGr']]\n",
    "y_mtest_rg = loans.loc[(loans.index.isin(failed_loan_idx)) & (loans.index.isin(test_idx)),['ChgOffPrinGr']]\n",
    "\n",
    "print(X_mtrain_rg.shape, X_mtrain_rg.columns)\n",
    "print(X_mtest_rg.shape, X_mtest_rg.columns)\n",
    "print(y_mtrain_rg.shape, y_mtrain_rg.columns)\n",
    "print(y_mtest_rg.shape, y_mtest_rg.columns)\n"
   ]
  },
  {
   "cell_type": "code",
   "execution_count": 37,
   "metadata": {},
   "outputs": [],
   "source": [
    "# response value one regression on number of jobs created or retained"
   ]
  },
  {
   "cell_type": "code",
   "execution_count": 38,
   "metadata": {},
   "outputs": [],
   "source": [
    "# Ensemble Naive Bayes"
   ]
  },
  {
   "cell_type": "markdown",
   "metadata": {
    "colab_type": "text",
    "id": "hrZHAbXUZkpQ"
   },
   "source": [
    "# Model and Evaluation 1"
   ]
  },
  {
   "cell_type": "code",
   "execution_count": 39,
   "metadata": {},
   "outputs": [],
   "source": [
    "# New accuarcy measure MTAS - Mean True Accuracy Squared\n",
    "\n",
    "def MTAS(ytest, yhat):\n",
    "    # total number of records\n",
    "    total_num = ytest.size\n",
    "\n",
    "    # number of actual positive and negative responses in the test data\n",
    "    Positive = np.sum(ytest)\n",
    "    Negative = total_num - Positive\n",
    "\n",
    "    # Find the number of True Positives and True Negatives\n",
    "    TP = np.sum(ytest[yhat == 1])\n",
    "    TN = np.sum(np.logical_not(ytest[yhat == 0]))\n",
    "\n",
    "    # convert to float and Calculate score \n",
    "\n",
    "    rv = ((TP.astype(float)/Positive.astype(float))**2 + (TN.astype(float)/Negative.astype(float))**2)/2\n",
    "    #    ((TP/(TP + FN))**2 + (TN/(TN + FP))**2)/2\n",
    "    # Measure the poportion of class predicted against total count of class for both classes\n",
    "    # Squared term is a penalty because the difference between .9 - .5 < .9**2 - .5**2 for\n",
    "    # classifiers with a greater than even chance of being right\n",
    "    \n",
    "    return rv"
   ]
  },
  {
   "cell_type": "markdown",
   "metadata": {},
   "source": [
    "Mean True Accuracy Squared  \n",
    "F1-Score"
   ]
  },
  {
   "cell_type": "code",
   "execution_count": 40,
   "metadata": {},
   "outputs": [],
   "source": [
    "from sklearn.model_selection import GridSearchCV\n",
    "from sklearn.model_selection import cross_validate\n",
    "from sklearn.model_selection import cross_val_predict\n",
    "from sklearn.model_selection import StratifiedKFold\n",
    "from sklearn.metrics import f1_score\n",
    "from sklearn.metrics import make_scorer\n",
    "from sklearn import metrics as mt\n",
    "import time\n",
    "\n",
    "cv = StratifiedKFold(n_splits=10,shuffle=True, random_state=42)\n",
    "\n",
    "def stratified_cross_validate(model,score, X, y,y_test, cv=cv):\n",
    "    # model - input model object\n",
    "    # score - preformance metric ie \"accuracy\", \"f1\"\n",
    "    # X - features\n",
    "    # y - target\n",
    "    # cv - cv object\n",
    "    \n",
    "    start = time.time() #start timer\n",
    "    #preform cross validations\n",
    "    cv_results = cross_validate(model, X, y, cv=cv, scoring=score, n_jobs=-1)\n",
    "    y_hat = cross_val_predict(model, X, y, cv=cv)\n",
    "    elapsed_time = (time.time() - start) #Stop timer\n",
    "    #Print Results\n",
    "    print ('Fold Scores:')\n",
    "    print(' ')\n",
    "    print(cv_results['test_score'])\n",
    "    print(' ')\n",
    "    print('Mean F1-Score: ', cv_results['test_score'].mean())\n",
    "    #print('MTAS score: '+ str(MTAS(y_test,y_hat)))\n",
    "    print('Mean Fit Time: ', cv_results['fit_time'].mean())\n",
    "    print('Mean Score Time: ', cv_results['score_time'].mean())\n",
    "    print('CV Time: ', elapsed_time)\n",
    "    return\n",
    "\n",
    "\n",
    "def gridsearch(model, grid, rf, scoring, x_test, y_test, X_train, y_train, cv=cv):\n",
    "    # model - input model object\n",
    "    # grid - parameters used for gridsearch\n",
    "    # rf - refit parameter for gridsearch aka performance metric\n",
    "    # scoring - \n",
    "    # x_test - testing df\n",
    "    # X_train - features\n",
    "    # y_train - target\n",
    "    # cv - cv object\n",
    "    \n",
    "    start = time.time() #Start timer\n",
    "    \n",
    "    #Preform Grid Search and get predictions\n",
    "    cv_results = GridSearchCV(model, grid, cv=cv, scoring = scoring, refit = rf, return_train_score = True)\n",
    "    cv_results.fit(X_train,y_train)  # train object\n",
    "    y_hat = cv_results.predict(x_test)\n",
    "   \n",
    "    elapsed_time = (time.time() - start)  #end timer\n",
    "  \n",
    "    #print out preformance metics and confusion matrix\n",
    "    #########################################################\n",
    "    print('MTAS score: ', MTAS(y_test,y_hat))\n",
    "    print('F1 Score : ' + str(f1_score(y_test,y_hat)))\n",
    "    print('Grid Search Time: ', elapsed_time)\n",
    "    print(\"==== Confusion Matrix ====\")\n",
    "    print(\"\\nconfusion matrix\\n\",mt.confusion_matrix(y_test,y_hat))\n",
    "    return\n",
    "\n",
    "def per_class_accuracy(ytrue,yhat):\n",
    "    conf = mt.confusion_matrix(ytrue,yhat)\n",
    "    norm_conf = conf.astype('float') / conf.sum(axis=1)[:, np.newaxis]\n",
    "    return np.diag(norm_conf)\n",
    "\n",
    "def plot_class_acc(ytrue,yhat, title=''):\n",
    "    acc_list = per_class_accuracy(ytrue,yhat)\n",
    "    plt.bar(range(len(acc_list)), acc_list)\n",
    "    plt.xlabel('Class value (one per face)')\n",
    "    plt.ylabel('Accuracy within class')\n",
    "    plt.title(title+\", Total Acc=%.1f\"%(100*mt.accuracy_score(ytrue,yhat)))\n",
    "    plt.grid()\n",
    "    plt.ylim([0,1])\n",
    "    plt.show()"
   ]
  },
  {
   "cell_type": "markdown",
   "metadata": {},
   "source": [
    "\n",
    "\n",
    "# Model and Evaluation 2"
   ]
  },
  {
   "cell_type": "markdown",
   "metadata": {},
   "source": [
    "Explain which CV method will be used"
   ]
  },
  {
   "cell_type": "markdown",
   "metadata": {},
   "source": [
    "# Model and Evaluation 3"
   ]
  },
  {
   "cell_type": "markdown",
   "metadata": {},
   "source": [
    "Create three different classification/regression models for each task (e.g., random forest, KNN, and SVM for task one and the same or different algorithms for task two). Two modeling techniques must be new (but the third could be SVM or logistic regression). Adjust parameters as appropriate to increase generalization performance using your chosen metric. You must investigate different parameters of the algorithms!"
   ]
  },
  {
   "cell_type": "markdown",
   "metadata": {},
   "source": [
    "Build and CV models here"
   ]
  },
  {
   "cell_type": "markdown",
   "metadata": {},
   "source": [
    "## Random Forest"
   ]
  },
  {
   "cell_type": "markdown",
   "metadata": {},
   "source": [
    "Run gini to test purity"
   ]
  },
  {
   "cell_type": "code",
   "execution_count": null,
   "metadata": {},
   "outputs": [],
   "source": [
    "from sklearn.ensemble import RandomForestClassifier\n",
    "\n",
    "X = X_mtrain_cl\n",
    "y = y_mtrain_cl.values.ravel()\n",
    "x_test = X_mtest_cl\n",
    "y_test = y_mtest_cl.values.ravel()\n",
    "\n",
    "cv = StratifiedKFold(n_splits=10, shuffle=True, random_state=42)\n",
    "rfc = RandomForestClassifier(max_depth=50, n_estimators=150, n_jobs=-1, oob_score=True)\n",
    "\n",
    "#Run 10-Fold CV on \n",
    "stratified_cross_validate(rfc,\"f1\", X, y,y_test, cv=cv)   "
   ]
  },
  {
   "cell_type": "code",
   "execution_count": null,
   "metadata": {
    "scrolled": true
   },
   "outputs": [],
   "source": [
    "cv = StratifiedKFold(n_splits=5, shuffle=True, random_state=42)\n",
    "\n",
    "grid = {'min_samples_leaf':[1, 2, 5, 10],\n",
    "        'min_samples_split': [5, 10, 15],\n",
    "        'n_estimators': [100, 200, 300]}\n",
    "rf = \"f1\"\n",
    "scoring = {'f1': make_scorer(f1_score)}\n",
    "\n",
    "gridsearch(rfc,grid, rf, scoring, x_test, y_test, X, y, cv=cv)#12:42AM"
   ]
  },
  {
   "cell_type": "markdown",
   "metadata": {},
   "source": [
    "## Naive Bayes"
   ]
  },
  {
   "cell_type": "code",
   "execution_count": null,
   "metadata": {},
   "outputs": [],
   "source": [
    "# Naive Bayes Accuracy score\n",
    "#sklearn.naive_bayes.GaussianNB(*, priors=None, var_smoothing=1e-09\n",
    "from sklearn.model_selection import GridSearchCV\n",
    "from sklearn.metrics import make_scorer\n",
    "from sklearn.naive_bayes import GaussianNB\n",
    "from sklearn.metrics import accuracy_score\n",
    "import time\n",
    "\n",
    "smoothing_values = [.4, .42, .44, .46, .48, .5, .52, .54, .56, .58, .6, .62, .64, .66, .68, .7]\n",
    "#smoothing_values = [.1, .2, .3, .4, .5, .6, .7, .8, .9, 1]\n",
    "\n",
    "param_grid = [{'var_smoothing':smoothing_values}]\n",
    "\n",
    "scoring = {'Accuracy': make_scorer(accuracy_score),\n",
    "           'MTAS': make_scorer(MTAS)}\n",
    "\n",
    "start = time.time()\n",
    "\n",
    "NBG_acc = GridSearchCV(estimator = GaussianNB(),\n",
    "                        param_grid=param_grid,\n",
    "                        scoring=scoring,\n",
    "                        cv = 10, n_jobs=-1, verbose=1, refit='Accuracy', return_train_score=True)\n",
    "\n",
    "NBG_acc.fit(X_mtrain_cl_npca, y_mtrain_cl)\n",
    "\n",
    "elapsed_time_NBG_acc = (time.time() - start)\n",
    "\n",
    "\n",
    "cv_results_NBG_acc = NBG_acc.cv_results_\n",
    "best_estimator_NBG_acc = NBG_acc.best_estimator_\n",
    "best_index_NBG_acc = NBG_acc.best_index_\n",
    "best_score_NBG_acc = NBG_acc.best_score_\n",
    "best_params_NBG_acc = NBG_acc.best_params_"
   ]
  },
  {
   "cell_type": "code",
   "execution_count": null,
   "metadata": {},
   "outputs": [],
   "source": [
    "NBG_MTAS = GridSearchCV(estimator = GaussianNB(),\n",
    "                        param_grid=param_grid,\n",
    "                        scoring=scoring,\n",
    "                        cv = 10, n_jobs=-1, verbose=1, refit='MTAS', return_train_score=True)\n",
    "\n",
    "NBG_MTAS.fit(X_mtrain_cl_npca, y_mtrain_cl)\n",
    "\n",
    "cv_results_NBG_MTAS = NBG_MTAS.cv_results_\n",
    "best_estimator_NBG_MTAS = NBG_MTAS.best_estimator_\n",
    "best_index_NBG_MTAS = NBG_MTAS.best_index_\n",
    "best_score_NBG_MTAS = NBG_MTAS.best_score_\n",
    "best_params_NBG_MTAS = NBG_MTAS.best_params_"
   ]
  },
  {
   "cell_type": "code",
   "execution_count": null,
   "metadata": {},
   "outputs": [],
   "source": [
    "Results non PCA data Accuracy and MTAS scorer\n",
    "from sklearn import metrics as mt\n",
    "\n",
    "#print(cv_results_NBG_acc)\n",
    "#print(best_score_NBG_acc[['mean_test_Accuracy']])\n",
    "#print(best_score_NBG_acc)\n",
    "#print(best_params_NBG_acc)\n",
    "print(best_estimator_NBG_acc)\n",
    "y_hat_cl_npca_acc = best_estimator_NBG_acc.predict(X_mtrain_cl_npca)\n",
    "cm_npca_acc = mt.confusion_matrix(y_mtrain_cl,y_hat_cl_npca_acc)\n",
    "print(\"Confusion matrix Model trained with accuracy scorer non PCA data\")\n",
    "print(cm_npca_acc)\n",
    "\n",
    "#print(cv_results_NBG_acc)\n",
    "#print(best_score_NBG_acc[['mean_test_Accuracy']])\n",
    "#print(best_score_NBG_MTAS)\n",
    "#print(best_params_NBG_MTAS)\n",
    "print(best_estimator_NBG_MTAS)\n",
    "\n",
    "y_hat_cl_npca_MTAS = best_estimator_NBG_MTAS.predict(X_mtrain_cl_npca)\n",
    "cm_npca_MTAS = mt.confusion_matrix(y_mtrain_cl,y_hat_cl_npca_MTAS)\n",
    "print(\"Confusion matrix Model trained with MTAS scorer non PCA data\")\n",
    "print(cm_npca_MTAS)\n"
   ]
  },
  {
   "cell_type": "code",
   "execution_count": null,
   "metadata": {},
   "outputs": [],
   "source": [
    "# PCA data Accuracy scorer\n",
    "\n",
    "smoothing_values = [.1, .2, .3, .4, .5, .6, .7, .8, .9, 1]\n",
    "\n",
    "param_grid = [{'var_smoothing':smoothing_values}]\n",
    "\n",
    "NBG_acc_pca = GridSearchCV(estimator = GaussianNB(),\n",
    "                           param_grid=param_grid,\n",
    "                           scoring=scoring,\n",
    "                           cv = 10, n_jobs=-1, verbose=1, refit='Accuracy', return_train_score=True)\n",
    "\n",
    "NBG_acc_pca.fit(X_mtrain_cl_pca, y_mtrain_cl)\n",
    "\n",
    "cv_results_NBG_acc_pca = NBG_acc_pca.cv_results_\n",
    "best_estimator_NBG_acc_pca = NBG_acc_pca.best_estimator_\n",
    "best_index_NBG_acc_pca = NBG_acc_pca.best_index_\n",
    "best_score_NBG_acc_pca = NBG_acc_pca.best_score_\n",
    "best_params_NBG_acc_pca = NBG_acc_pca.best_params_"
   ]
  },
  {
   "cell_type": "code",
   "execution_count": null,
   "metadata": {},
   "outputs": [],
   "source": [
    "# PCA data Accuracy scorer\n",
    "NBG_MTAS_pca = GridSearchCV(estimator = GaussianNB(),\n",
    "                           param_grid=param_grid,\n",
    "                           scoring=scoring,\n",
    "                           cv = 10, n_jobs=-1, verbose=1, refit='MTAS', return_train_score=True)\n",
    "\n",
    "NBG_MTAS_pca.fit(X_mtrain_cl_pca, y_mtrain_cl)\n",
    "\n",
    "cv_results_NBG_MTAS_pca = NBG_MTAS_pca.cv_results_\n",
    "best_estimator_NBG_MTAS_pca = NBG_MTAS_pca.best_estimator_\n",
    "best_index_NBG_MTAS_pca = NBG_MTAS_pca.best_index_\n",
    "best_score_NBG_MTAS_pca = NBG_MTAS_pca.best_score_\n",
    "best_params_NBG_MTAS_pca = NBG_MTAS_pca.best_params_"
   ]
  },
  {
   "cell_type": "code",
   "execution_count": null,
   "metadata": {},
   "outputs": [],
   "source": [
    "#Results PCA data Accuracy and MTAS scorer\n",
    "\n",
    "#print(cv_results_NBG_acc)\n",
    "#print(best_score_NBG_acc[['mean_test_Accuracy']])\n",
    "#print(best_score_NBG_acc)\n",
    "#print(best_params_NBG_acc)\n",
    "print(best_estimator_NBG_acc_pca)\n",
    "y_hat_cl_pca_acc = best_estimator_NBG_acc_pca.predict(X_mtrain_cl_pca)\n",
    "cm_pca_acc = mt.confusion_matrix(y_mtrain_cl,y_hat_cl_pca_acc)\n",
    "print(\"Confusion matrix Model trained with accuracy scorer PCA data\")\n",
    "print(cm_pca_acc)\n",
    "\n",
    "#print(cv_results_NBG_acc)\n",
    "#print(best_score_NBG_acc[['mean_test_Accuracy']])\n",
    "#print(best_score_NBG_MTAS)\n",
    "#print(best_params_NBG_MTAS)\n",
    "print(best_estimator_NBG_MTAS)\n",
    "\n",
    "y_hat_cl_pca_MTAS = best_estimator_NBG_MTAS_pca.predict(X_mtrain_cl_pca)\n",
    "cm_pca_MTAS = mt.confusion_matrix(y_mtrain_cl,y_hat_cl_pca_MTAS)\n",
    "print(\"Confusion matrix Model trained with MTAS scorer PCA data\")\n",
    "print(cm_pca_MTAS)\n"
   ]
  },
  {
   "cell_type": "markdown",
   "metadata": {},
   "source": [
    "## Logistic Regression"
   ]
  },
  {
   "cell_type": "markdown",
   "metadata": {
    "colab_type": "text",
    "id": "Vo_gGVzPtEUw"
   },
   "source": [
    "The loans dataframe was split into a target dataframe and the explanatory feature space.  For the logistic and SVM models the 'MIS_Status' feature will serve as the target, while the remaining features will serve as the feature space.  As models are refined, multiple new feature spaces will be created by elminating highly correlated explanatory features, adding principal components, adding new engineered features, or removing features that do not have weights that contribute a large weight to the models."
   ]
  },
  {
   "cell_type": "code",
   "execution_count": null,
   "metadata": {
    "colab": {},
    "colab_type": "code",
    "id": "nkz-W8GgZkpQ"
   },
   "outputs": [],
   "source": [
    "# Create feature space and target non PCA data\n",
    "y = loans['MIS_Status'].values\n",
    "explanatory = loans.drop(['MIS_Status','LoanNr_ChkDgt','Name','City','Zip','BankState',\n",
    "                          'ApprovalDate','ChgOffDate', 'DisbursementDate',\n",
    "                          'DisbursementGross','ChgOffPrinGr', 'GrAppv', 'CreateJob',\n",
    "                          'RetainedJob','BalanceGross'],axis = 1) \n",
    "X = explanatory.values"
   ]
  },
  {
   "cell_type": "markdown",
   "metadata": {
    "colab_type": "text",
    "id": "l9fG5xc7tH_z"
   },
   "source": [
    "A cross_validate() helper function was adapted from Dr. Jake Drew's stratified_cross_validate() helper Function found in the following notebook https://github.com/jakemdrew/MachineLearningExtras/blob/master/LFW%20Dataset%20and%20Class%20Imbalance.ipynb.\n",
    "\n",
    "The cross_validate() helper function takes model, feature_names, the feature space, the target, scaling, cv, and classifier type arguments.  This function generates several iterations of a model specified by the cv object, then averages the preformance metrics and the weights between each iteration. \n",
    "\n",
    "The helper function outputs accuracy, precision, f1-score, and recell preformance metrics and a feature weight plot.  The output generated from the helper funciton can help judge model preformance."
   ]
  },
  {
   "cell_type": "code",
   "execution_count": null,
   "metadata": {
    "colab": {},
    "colab_type": "code",
    "id": "J7AWXAEaZkpR"
   },
   "outputs": [],
   "source": [
    "from sklearn.linear_model import LogisticRegression\n",
    "from sklearn import metrics as mt\n",
    "from sklearn.model_selection import ShuffleSplit\n",
    "import time\n",
    "\n",
    "# Set test/train split to 80/20\n",
    "cv = ShuffleSplit(n_splits = 5, train_size  = 0.8, random_state=42)\n",
    "\n",
    "#helper function preforms cross validation and generates model preformance metrics\n",
    "def cross_validate(model,feature_names, X, y, scale = False, classifier = 0, cv=cv):\n",
    "    acc, pre, f1, recall, weights = ([] for i in range(5))\n",
    "        \n",
    "    start = time.time()\n",
    "    for iter_num, (train_indices, test_indices) in enumerate(cv.split(X,y)):\n",
    "        \n",
    "        model.fit(X[train_indices],y[train_indices])  # train object\n",
    "        y_hat = model.predict(X[test_indices]) # get test set precitions\n",
    "        \n",
    "        #present iteration model metrics\n",
    "        print(\"====Iteration\",iter_num + 1,\" ====\")\n",
    "        print(\"f1-score\", mt.f1_score(y[test_indices],y_hat))\n",
    "        print(\"\\nconfusion matrix\\n\",mt.confusion_matrix(y[test_indices],y_hat))\n",
    "        \n",
    "        #append iteration model metrics for later averaging\n",
    "        f1.append(mt.f1_score(y[test_indices],y_hat))\n",
    "        elapsed_time = (time.time() - start)\n",
    "        \n",
    "        if scale == True:\n",
    "            weights.append(model.named_steps[classifier].coef_)#logit_model\n",
    "        else:\n",
    "            weights.append(model.coef_)\n",
    "        print()\n",
    "    #Take average of CV metrics\n",
    "    print('--------------------------------')\n",
    "    print('Mean f1-score:', np.array(f1).mean())\n",
    "    print('CV Time: ', elapsed_time)\n",
    "        \n",
    "    mean_feature_weights = np.mean(np.array(weights), axis = 0)\n",
    "    \n",
    "    w = pd.Series(mean_feature_weights[0],index=feature_names)\n",
    "    plt.figure(figsize=(10,6))\n",
    "    w.plot(kind='bar')\n",
    "    plt.show()\n",
    "    return"
   ]
  },
  {
   "cell_type": "markdown",
   "metadata": {
    "colab_type": "text",
    "id": "LXAHWMOLZkpc"
   },
   "source": [
    "## Logistic Model Refinement"
   ]
  },
  {
   "cell_type": "markdown",
   "metadata": {
    "colab_type": "text",
    "id": "a6mHf3_ehcBS"
   },
   "source": [
    "Features with small weights from the scaled features for the logistic model were removed prior to preforming GridSearchCV().  These features identified and removed by visualy inspecting the features and removing features with weights less than 0.15.  Removing excess features helps reduce overfitting. Ten features were removed using this process, where 31 features remain.\n",
    "\n",
    "The new logistic model with reduced features had an F1-score that was very close to the original logistic model with scaled features.  This suggests that the features removed did not contribute very much to the model.\n",
    "\n",
    "The confusion matrix for the refined model shows that undersampling on the majority class has allowed the minority class to be equally represented.  Undersample improves the model's ability to detect the minority class.\n",
    "\n",
    "**Scaled Logistic**  \n",
    "Mean f1-score: 0.7668413414478861\n",
    "\n",
    "**Refined Scaled Logistic**  \n",
    "Mean f1-score: 0.7663960144427988"
   ]
  },
  {
   "cell_type": "code",
   "execution_count": null,
   "metadata": {
    "colab": {
     "base_uri": "https://localhost:8080/",
     "height": 1000
    },
    "colab_type": "code",
    "id": "gWoS_o3yZkpc",
    "outputId": "7b47de7b-3486-401d-e89b-4063f70dd090"
   },
   "outputs": [],
   "source": [
    "#initalize logistic regression\n",
    "lr_clf = LogisticRegression(penalty='l2', C=1, class_weight=None, solver='liblinear', random_state=42)\n",
    "\n",
    "#create data frame with features that have weights that contribute most and convert to matrix\n",
    "explanatory_improved = explanatory.drop(['Bank_CAPITAL ONE NATL ASSOC','Bank_CITIZENS BANK NATL ASSOC', \n",
    "                                         'Bank_JPMORGAN CHASE BANK NATL ASSOC', 'NAICS_2','NAICS_4','NAICS_8',\n",
    "                                         'NAICS_9','NewExist_0', 'NewExist_1','NewExist_2'],axis = 1)\n",
    "X2 = explanatory_improved.values\n",
    "\n",
    "#Undersample majority class to improve representation of minority class\n",
    "us = RandomUnderSampler(sampling_strategy='majority', random_state=42)\n",
    "X_us2, y_us2 = us.fit_sample(X2, y)\n",
    "\n",
    "#Scale data\n",
    "std_scl = StandardScaler()\n",
    "model2 = Pipeline([('scale', std_scl),('logit_model',lr_clf)])\n",
    "\n",
    "#Cross Validate\n",
    "cross_validate(model = model2 ,feature_names = explanatory_improved.columns,X = X_us2,y = y_us2, scale = True,classifier = 'logit_model')"
   ]
  },
  {
   "cell_type": "markdown",
   "metadata": {
    "colab_type": "text",
    "id": "C4TzYysmWsqC"
   },
   "source": [
    "### Logistic Regression Hyper-parameter Tunning"
   ]
  },
  {
   "cell_type": "markdown",
   "metadata": {
    "colab_type": "text",
    "id": "2AmbS5MnkNub"
   },
   "source": [
    "After the intial cross-validation, logistic regression, and parameter objects were defined they were inserted into the GridSearchCV() funciton.  This function exhaustively searches accross defined parameters to select the best values for those parameters and maximizes the model performance metric of choice as defined in the \"refit\" argument of the funciton.\n",
    "\n",
    "The cost parameter is the inverse of regularization strength with a range of 0 to infinity.  Values closer to 0 are at greater risk for over fitting, whereas larger values are at risk for under-fitting. \n",
    "\n",
    "F1-Score will be used to judge model preformance as it is a harmonic mean between precision and recall, or a ratio between the positive predictive value and the true positive rate.  This preformance metric can help describe how well a model is at identifying the correct response classes."
   ]
  },
  {
   "cell_type": "code",
   "execution_count": null,
   "metadata": {
    "colab": {},
    "colab_type": "code",
    "id": "ZiWVUP2KWsM8"
   },
   "outputs": [],
   "source": [
    "from sklearn.model_selection import StratifiedKFold\n",
    "from sklearn.model_selection import GridSearchCV\n",
    "from sklearn.metrics import f1_score\n",
    "from sklearn.metrics import make_scorer\n",
    "\n",
    "cv = StratifiedKFold(n_splits = 5, shuffle = True, random_state=42)\n",
    "C = np.logspace(0, 4, 12)\n",
    "param_grid = [{'logit_model__C': C}]\n",
    "scoring = {'f1': make_scorer(f1_score)}"
   ]
  },
  {
   "cell_type": "code",
   "execution_count": null,
   "metadata": {
    "colab": {},
    "colab_type": "code",
    "id": "wQs2SDmrW2Py"
   },
   "outputs": [],
   "source": [
    "# Create grid search using 5-fold cross validation\n",
    "clf = GridSearchCV(model2, param_grid, cv=cv, scoring = scoring, refit = 'f1', return_train_score = True)\n",
    "\n",
    "# Fit grid search\n",
    "start = time.time()\n",
    "grid_search = clf.fit(X_us2, y_us2)\n",
    "elapsed_time = (time.time() - start)"
   ]
  },
  {
   "cell_type": "markdown",
   "metadata": {
    "colab_type": "text",
    "id": "AOX3N-dJkHlM"
   },
   "source": [
    "After the grid search was complete and data was fit to the parameters selected by that function; the F1-score, the best parameter value, and a confusion matrix were output to help judge the preformance of the new model with tunned hyper-parameters.  The F1-score from the grid search cross validated model was marginally better than the refined model:\n",
    "\n",
    "**GridSearchCV Logistic**  \n",
    "Scaled F1-Score:  0.7670733373807981\n",
    "\n",
    "**Refined Scaled Logistic**  \n",
    "Mean f1-score: 0.7663960144427988\n",
    "\n",
    "This model benifitted from the grid search, but only maginally.  The cost value selected by GridSearchCV() was 1873.82.  This value is very lage and suggests that there is weaker regularization; this could potentially suggest that the model us underfit, however the f1-score shows that the preformance is slightly better than the scaled logistic regression."
   ]
  },
  {
   "cell_type": "code",
   "execution_count": null,
   "metadata": {
    "colab": {
     "base_uri": "https://localhost:8080/",
     "height": 163
    },
    "colab_type": "code",
    "id": "RIrFnFa8W4Ty",
    "outputId": "05abee1b-4de2-4f67-8421-fb5b1643b033",
    "scrolled": true
   },
   "outputs": [],
   "source": [
    "best_score_f1 = grid_search.best_score_\n",
    "best_params_f1 = grid_search.best_params_\n",
    "best_estimator_f1 = grid_search.best_estimator_\n",
    "\n",
    "print('Scaled F1-Score: ', best_score_f1)\n",
    "print('Best Cost value: ', best_params_f1)\n",
    "print('Total Grid Search Results: ', len(grid_search.cv_results_['params']))\n",
    "print('GridSearchCV Elapsed Time', elapsed_time)\n",
    "\n",
    "y_hat = best_estimator_f1.predict(X_us2)\n",
    "print(\"\\nconfusion matrix\\n\",mt.confusion_matrix(y_us2,y_hat))"
   ]
  },
  {
   "cell_type": "code",
   "execution_count": null,
   "metadata": {
    "colab": {},
    "colab_type": "code",
    "id": "5gWQNMVFRuo7"
   },
   "outputs": [],
   "source": [
    "#GridSearch\n",
    "#orderMagVals = [1E-5, 1E-4, 1E-3, 1E-2, 1E-1]\n",
    "\n",
    "l1_ratio_vals = np.arange(.6, 0.9, .1)\n",
    "alpha_vals = np.arange(.001, .002, .0002)\n",
    "\n",
    "iterations = 5\n",
    "\n",
    "param_grid = [{'sgd__loss': ['hinge'], 'sgd__alpha':alpha_vals, 'sgd__l1_ratio':l1_ratio_vals},\n",
    "             {'sgd__loss': ['squared_hinge'], 'sgd__alpha':alpha_vals, 'sgd__l1_ratio':l1_ratio_vals},\n",
    "             {'sgd__loss': ['perceptron'], 'sgd__alpha':alpha_vals, 'sgd__l1_ratio':l1_ratio_vals}]\n",
    "\n",
    "scoring = {'Accuracy': make_scorer(accuracy_score),#metrics for measuring preformance\n",
    "           'Recall': make_scorer(recall_score),\n",
    "           'Precision': make_scorer(precision_score),\n",
    "           'f1': make_scorer(f1_score)}\n",
    "#bundle scaler and model together\n",
    "pipe = Pipeline([('scaler', StandardScaler()), ('sgd', SGDClassifier(penalty='elasticnet', learning_rate='optimal',n_iter_no_change=iterations, random_state = 402))])\n",
    "\n",
    "start = time.time()\n",
    "\n",
    "gs_f1_sc = GridSearchCV(estimator=pipe, \n",
    "                        param_grid=param_grid, \n",
    "                        scoring=scoring,\n",
    "                        n_jobs=-1, verbose=1,cv=5, refit='f1', return_train_score=True)\n",
    "\n",
    "gs_f1_sc.fit(X_us,y_us)\n",
    "\n",
    "elapsed_time_sgd_sc = (time.time() - start)\n",
    "#store model metrics in objects\n",
    "cv_results_f1_sc = gs_f1_sc.cv_results_\n",
    "best_estimator_f1_sc = gs_f1_sc.best_estimator_\n",
    "best_index_f1_sc = gs_f1_sc.best_index_\n",
    "best_score_f1_sc = gs_f1_sc.best_score_\n",
    "best_params_f1_sc = gs_f1_sc.best_params_\n",
    "\n"
   ]
  },
  {
   "cell_type": "markdown",
   "metadata": {},
   "source": [
    "# Model and Evaluation 4"
   ]
  },
  {
   "cell_type": "markdown",
   "metadata": {},
   "source": [
    "Analyze the results using your chosen method of evaluation. Use visualizations of the results to bolster the analysis. Explain any visuals and analyze why they are interesting to someone that might use this model."
   ]
  },
  {
   "cell_type": "markdown",
   "metadata": {},
   "source": [
    "# Model and Evaluation 5"
   ]
  },
  {
   "cell_type": "markdown",
   "metadata": {},
   "source": [
    "Discuss the advantages of each model for each classification task, if any. If there are not advantages, explain why. Is any model better than another? Is the difference significant with 95% confidence? Use proper statistical comparison methods. You must use statistical comparison techniques—be sure they are appropriate for your chosen method of validation as discussed in unit 7 of the course."
   ]
  },
  {
   "cell_type": "markdown",
   "metadata": {},
   "source": [
    "# Model and Evaluation 6"
   ]
  },
  {
   "cell_type": "markdown",
   "metadata": {},
   "source": [
    "Which attributes from your analysis are most important? Use proper methods discussed in class to evaluate the importance of different attributes. Discuss the results and hypothesize about why certain attributes are more important than others for a given classification task."
   ]
  },
  {
   "cell_type": "markdown",
   "metadata": {},
   "source": [
    "# Deployment"
   ]
  },
  {
   "cell_type": "markdown",
   "metadata": {},
   "source": [
    "How useful is your model for interested parties (i.e., the companies or organizations that might want to use it for prediction)? How would you measure the model's value if it was used by these parties? How would your deploy your model for interested parties? What other data should be collected? How often would the model need to be updated, etc.? "
   ]
  },
  {
   "cell_type": "markdown",
   "metadata": {
    "colab_type": "text",
    "id": "sfYvCS0LZkps"
   },
   "source": [
    "# Exceptional Work"
   ]
  },
  {
   "cell_type": "markdown",
   "metadata": {
    "colab_type": "text",
    "id": "xFEujonaT9aD"
   },
   "source": [
    "We would like to have the following considered for exceptional work:\n",
    "1. Adaptating the cross_validate() shown in class to include model metrics and the mean feature weight charts\n",
    "2. gridSearchCV() for hyperparameter tunning\n",
    "3. The use of Pipelines to combine scaling with a model and it ability to work with the cross_validate() helper function\n",
    "4. ROC curve????"
   ]
  },
  {
   "cell_type": "code",
   "execution_count": null,
   "metadata": {},
   "outputs": [],
   "source": []
  }
 ],
 "metadata": {
  "colab": {
   "collapsed_sections": [],
   "name": "Mini-Project1_20200613.ipynb",
   "provenance": [],
   "toc_visible": true
  },
  "kernelspec": {
   "display_name": "Python 3",
   "language": "python",
   "name": "python3"
  },
  "language_info": {
   "codemirror_mode": {
    "name": "ipython",
    "version": 3
   },
   "file_extension": ".py",
   "mimetype": "text/x-python",
   "name": "python",
   "nbconvert_exporter": "python",
   "pygments_lexer": "ipython3",
   "version": "3.7.3"
  }
 },
 "nbformat": 4,
 "nbformat_minor": 1
}
