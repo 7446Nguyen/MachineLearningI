{
 "cells": [
  {
   "cell_type": "markdown",
   "metadata": {
    "colab_type": "text",
    "id": "fbCFSJkrZknc"
   },
   "source": [
    "# Project 3: Clustering\n",
    "**Group 5:** Jeff Nguyen, William Hinton, Adam Ruthford  \n",
    "**09AUG2020**"
   ]
  },
  {
   "cell_type": "markdown",
   "metadata": {},
   "source": [
    "# Business Understanding"
   ]
  },
  {
   "cell_type": "markdown",
   "metadata": {
    "colab_type": "text",
    "id": "KWZO5VxSZkne"
   },
   "source": [
    "# Data Understanding 1"
   ]
  },
  {
   "cell_type": "markdown",
   "metadata": {
    "colab_type": "text",
    "id": "gQ4fiALTZkno"
   },
   "source": [
    "Initial data cleaning and preparation code was derived from **Project 1**, where data types and null values were addressed.  Data were first imported into a pandas dataframe, followed by each feature getting set to the appropriate data type based on data dictionary definitions.  For example, features that have currencies are set to the float data type as they are a continuous feature; whereas features like **NewExist** is categorical in nature and set to the object data type."
   ]
  },
  {
   "cell_type": "code",
   "execution_count": 8,
   "metadata": {
    "colab": {
     "base_uri": "https://localhost:8080/",
     "height": 53
    },
    "colab_type": "code",
    "id": "ZikYRgAFZkno",
    "outputId": "3a695b12-a1ce-43f9-8f0f-9184459a20bc"
   },
   "outputs": [],
   "source": [
    "#Import data manipulation, vizulization, and ML Packages\n",
    "import pandas as pd\n",
    "import time\n",
    "nbstart = time.time()\n",
    "#load data into pandas dataframe\n",
    "loans = pd.read_csv('C:/Users/Jeff/Desktop/ML1/SBAnational.csv')\n",
    "#loans = pd.read_csv('C:\\Data\\DS7331\\Project\\should-this-loan-be-approved-or-denied/SBAnational.csv')"
   ]
  },
  {
   "cell_type": "markdown",
   "metadata": {
    "colab_type": "text",
    "id": "jveFCBkTZkoI"
   },
   "source": [
    "**DisbursementGross**, **BalanceGross**, **ChgOffPrinGr**, **GrAppv**, **SBA_Appv** are features that deal with currency and are coded as strings which include '$' and ',' characters. Used this website for help with [converting currency to float.](\n",
    "https://stackoverflow.com/questions/32464280/converting-currency-with-to-numbers-in-python-pandas)\n",
    "\n",
    "To treat these features as continuous data the special characters were removed, and the data was converted to the float data type.  This will allow for the data to be used by methods that utilize continous data.  **ApprovalDate**, **ChgOffDate**, and **DisbursementDate** are features that contain dates and were converted to the date/time data type.  This will be usefull for potential time series analysis.  **NewExist** is a categorical feature but has a float data type.  This feature was converted to an integer data type since float is better suited for continuous data.  **Zip**, **NAICS**, **FranchiseCode** are nominal features, but will be converted to strings for ease of manipulation and data cleaning."
   ]
  },
  {
   "cell_type": "code",
   "execution_count": 9,
   "metadata": {
    "colab": {},
    "colab_type": "code",
    "id": "4EHw49FdZknt"
   },
   "outputs": [],
   "source": [
    "import numpy as np\n",
    "\n",
    "# Create lists of features that need their data types converted\n",
    "currency = ['DisbursementGross','BalanceGross','ChgOffPrinGr','GrAppv','SBA_Appv']\n",
    "date = ['ApprovalDate','ChgOffDate','DisbursementDate']\n",
    "cat_variables = ['Zip']\n",
    "\n",
    "# Convert features to appropriate data types\n",
    "loans[currency] = loans[currency].replace('[\\$,]', '', regex=True).astype(float)\n",
    "loans[date]= loans[date].astype(np.datetime64)\n",
    "loans['NewExist'] = loans['NewExist'].astype('Int64')\n",
    "loans[cat_variables] = loans[cat_variables].astype(str)"
   ]
  },
  {
   "cell_type": "markdown",
   "metadata": {
    "colab_type": "text",
    "id": "1KanFqxwrQmg"
   },
   "source": [
    "Several null values were also present in the City and State features. City contained 14 null values and State contained 30 null values. Both features describe the loan applicant's address information. For City null values, zip codes from the Zip feature and the United States Postal Service Zip Code Lookup tool (https://tools.usps.com/zip-code-lookup.htm?citybyzipcode) were used to identify the correct city or state name. Two zip-codes in City feature and two zip-codes in the State feature did not return a city in the United States and were left as 'NaN'. Since there are only 4 rows of data that do not have proper city or state data, they will be kept or removed depending on the machine learning algorithm used."
   ]
  },
  {
   "cell_type": "code",
   "execution_count": 10,
   "metadata": {
    "colab": {},
    "colab_type": "code",
    "id": "JDFMgqwPZknx"
   },
   "outputs": [],
   "source": [
    "# Replace City NA with appropriate state/city name\n",
    "cityList = ['Salt Lake City','New Orleans','Chicago','Chicago','San Diego','San Diego','San Diego','San Diego',\n",
    "            'San Diego','San Diego','Clevland','St. Louis','St. Louis','St. Louis','St. Louis','St. Louis',\n",
    "            'St. Louis','Seattle','Des Moines','San Antonio','Kansas City','Kansas City','Quincy','Quincy','Boston',\n",
    "            'NaN','NaN','Louisville','Wilmington','Flint']\n",
    "stateList = ['NaN','NaN','CA','AP','KS','TX','FL','WI','NJ','UT','MO','TX','TX','TX']\n",
    "\n",
    "#Replace Cities with NAs with appropriate City or State    \n",
    "loans.loc[loans.City.isnull(),'City'] = cityList\n",
    "loans.loc[loans.State.isnull(),'State'] = stateList"
   ]
  },
  {
   "cell_type": "markdown",
   "metadata": {
    "colab_type": "text",
    "id": "77v4TNEG6GgC"
   },
   "source": [
    "A new feature called **difference_in_days** was created by subtracting DisbursementDate minus ApprovalDate.  This will explain the relationship between time the loan was approved to disbursement date. There may be some correlation to why a loan is defaulted on depending on disbursement date."
   ]
  },
  {
   "cell_type": "code",
   "execution_count": 11,
   "metadata": {
    "colab": {},
    "colab_type": "code",
    "id": "Bi4lLS5IG8Wz"
   },
   "outputs": [],
   "source": [
    "#Create new Time feature and convert to int\n",
    "from datetime import datetime, timedelta\n",
    "d1 = loans.DisbursementDate\n",
    "d2 = loans.ApprovalDate\n",
    "def days_between(d1, d2):\n",
    "    d1 = datetime.strptime(d1, \"%d-%m-%Y\")\n",
    "    d2 = datetime.strptime(d2, \"%d-%m-%Y\")\n",
    "    return abs((d2 - d1).days)\n",
    "\n",
    "difference_in_days = abs((d2-d1))/ timedelta(days=1)\n",
    "\n",
    "loans['difference_in_days'] = difference_in_days"
   ]
  },
  {
   "cell_type": "markdown",
   "metadata": {
    "colab_type": "text",
    "id": "EdyD9nqyraa_"
   },
   "source": [
    "Addressing 1997 null records for MIS_Status was unique in that it was depedent on several attributes in the dataset. There were four different combinations of code used to address the null records for this feature. The first combination identified null values that had a non-null value in the ChgOffDate feature and that the ChgOffPrinGr feature was not equal to zero; this combination of conditional requirements identified records that defaulted and had a charge off balance and renamed the null values as \"CHGOFF\". The second combination identified null values where DisbursementDate was not null and the BalanceGross was equal to zero; this combination of features identifies records that did not receive funds and do not have a balance, this labeled the null values as \"P I F\". The third and fourth combination identify null MIS_Status records where funds were not disbursed by checking DisbursementGross and BalanceGross features. If the DisbursementGross was zero or null and the BalanceGross was 0, the missing data was labels as \"Not Disbursed\".\n"
   ]
  },
  {
   "cell_type": "code",
   "execution_count": 17,
   "metadata": {},
   "outputs": [
    {
     "data": {
      "text/plain": [
       "1997"
      ]
     },
     "execution_count": 17,
     "metadata": {},
     "output_type": "execute_result"
    }
   ],
   "source": [
    "loans['MIS_Status'].isnull().sum()"
   ]
  },
  {
   "cell_type": "code",
   "execution_count": 18,
   "metadata": {
    "colab": {},
    "colab_type": "code",
    "id": "keGIuZ1cZkn6"
   },
   "outputs": [
    {
     "data": {
      "text/plain": [
       "1736"
      ]
     },
     "execution_count": 18,
     "metadata": {},
     "output_type": "execute_result"
    }
   ],
   "source": [
    "#--------------------------------------------------------------------------------------------------------------------\n",
    "#Fill In NaN fields\n",
    "loans.dropna(subset = ['Name'], inplace = True)\n",
    "loans[\"Bank\"].fillna(\"Not Listed\", inplace = True) \n",
    "loans[\"BankState\"].fillna(\"Not Listed\", inplace = True) \n",
    "loans['NewExist'].fillna(0, inplace = True)\n",
    "loans['RevLineCr'].fillna(\"Not Provided\", inplace = True)\n",
    "loans['LowDoc'].fillna(\"Not Provided\", inplace = True)\n",
    "#loans['ChgOffDate'].fillna(\"0000-00-00\",inplace = True)\n",
    "#loans['DisbursementDate'].fillna(\"0000-00-00\",inplace = True)\n",
    "\n",
    "#Replace NaT MIS_status with CHGOFF if their ChgOffDate is not null\n",
    "#If MIS_Status has value, \n",
    "loans['MIS_Status'].mask((loans['MIS_Status'].isnull()) & \n",
    "                         ((loans['ChgOffDate'].notnull()) |\n",
    "                          (loans['ChgOffPrinGr']!=0.0)),'CHGOFF',inplace=True) \n",
    "\n",
    "loans['MIS_Status'].isnull().sum()"
   ]
  },
  {
   "cell_type": "code",
   "execution_count": 19,
   "metadata": {},
   "outputs": [
    {
     "data": {
      "text/plain": [
       "117"
      ]
     },
     "execution_count": 19,
     "metadata": {},
     "output_type": "execute_result"
    }
   ],
   "source": [
    "loans['MIS_Status'].mask((loans['MIS_Status'].isnull()) &\n",
    "                         (loans['DisbursementDate'].notnull()) & \n",
    "                         (loans['BalanceGross']==0.0),'P I F',inplace=True)\n",
    "\n",
    "loans['MIS_Status'].isnull().sum()"
   ]
  },
  {
   "cell_type": "code",
   "execution_count": 20,
   "metadata": {},
   "outputs": [
    {
     "data": {
      "text/plain": [
       "117"
      ]
     },
     "execution_count": 20,
     "metadata": {},
     "output_type": "execute_result"
    }
   ],
   "source": [
    "loans['MIS_Status'].mask((loans['MIS_Status'].isnull()) &\n",
    "                         (loans['DisbursementGross'].isnull()) & \n",
    "                         (loans['BalanceGross']==0.0),'Not Disbursed',inplace=True)\n",
    "loans['MIS_Status'].isnull().sum()"
   ]
  },
  {
   "cell_type": "code",
   "execution_count": 24,
   "metadata": {},
   "outputs": [
    {
     "data": {
      "text/html": [
       "<div>\n",
       "<style scoped>\n",
       "    .dataframe tbody tr th:only-of-type {\n",
       "        vertical-align: middle;\n",
       "    }\n",
       "\n",
       "    .dataframe tbody tr th {\n",
       "        vertical-align: top;\n",
       "    }\n",
       "\n",
       "    .dataframe thead th {\n",
       "        text-align: right;\n",
       "    }\n",
       "</style>\n",
       "<table border=\"1\" class=\"dataframe\">\n",
       "  <thead>\n",
       "    <tr style=\"text-align: right;\">\n",
       "      <th></th>\n",
       "      <th>LoanNr_ChkDgt</th>\n",
       "      <th>Name</th>\n",
       "      <th>City</th>\n",
       "      <th>State</th>\n",
       "      <th>Zip</th>\n",
       "      <th>Bank</th>\n",
       "      <th>BankState</th>\n",
       "      <th>NAICS</th>\n",
       "      <th>ApprovalDate</th>\n",
       "      <th>ApprovalFY</th>\n",
       "      <th>...</th>\n",
       "      <th>LowDoc</th>\n",
       "      <th>ChgOffDate</th>\n",
       "      <th>DisbursementDate</th>\n",
       "      <th>DisbursementGross</th>\n",
       "      <th>BalanceGross</th>\n",
       "      <th>MIS_Status</th>\n",
       "      <th>ChgOffPrinGr</th>\n",
       "      <th>GrAppv</th>\n",
       "      <th>SBA_Appv</th>\n",
       "      <th>difference_in_days</th>\n",
       "    </tr>\n",
       "  </thead>\n",
       "  <tbody>\n",
       "    <tr>\n",
       "      <th>170781</th>\n",
       "      <td>2223875001</td>\n",
       "      <td>PROGRESS EXPRESS, INC.</td>\n",
       "      <td>INDIANAPOLIS</td>\n",
       "      <td>IN</td>\n",
       "      <td>46221</td>\n",
       "      <td>CITIZENS BANK NATL ASSOC</td>\n",
       "      <td>RI</td>\n",
       "      <td>484121</td>\n",
       "      <td>2007-01-17</td>\n",
       "      <td>2007</td>\n",
       "      <td>...</td>\n",
       "      <td>N</td>\n",
       "      <td>NaT</td>\n",
       "      <td>NaT</td>\n",
       "      <td>1000.0</td>\n",
       "      <td>0.0</td>\n",
       "      <td>NaN</td>\n",
       "      <td>0.0</td>\n",
       "      <td>1000.0</td>\n",
       "      <td>500.0</td>\n",
       "      <td>NaN</td>\n",
       "    </tr>\n",
       "    <tr>\n",
       "      <th>201277</th>\n",
       "      <td>2420116002</td>\n",
       "      <td>ABSOLUTE MACHINE LLC</td>\n",
       "      <td>HOUMA</td>\n",
       "      <td>LA</td>\n",
       "      <td>70364</td>\n",
       "      <td>SOUTH LOUISIANA BANK</td>\n",
       "      <td>LA</td>\n",
       "      <td>332710</td>\n",
       "      <td>2006-09-19</td>\n",
       "      <td>2006</td>\n",
       "      <td>...</td>\n",
       "      <td>N</td>\n",
       "      <td>NaT</td>\n",
       "      <td>NaT</td>\n",
       "      <td>250.0</td>\n",
       "      <td>0.0</td>\n",
       "      <td>NaN</td>\n",
       "      <td>0.0</td>\n",
       "      <td>25000.0</td>\n",
       "      <td>21250.0</td>\n",
       "      <td>NaN</td>\n",
       "    </tr>\n",
       "    <tr>\n",
       "      <th>201637</th>\n",
       "      <td>2422425009</td>\n",
       "      <td>DBAZA, INC.</td>\n",
       "      <td>PITTSBURGH</td>\n",
       "      <td>PA</td>\n",
       "      <td>15213</td>\n",
       "      <td>CITIZENS BANK NATL ASSOC</td>\n",
       "      <td>RI</td>\n",
       "      <td>541511</td>\n",
       "      <td>2007-04-27</td>\n",
       "      <td>2007</td>\n",
       "      <td>...</td>\n",
       "      <td>N</td>\n",
       "      <td>NaT</td>\n",
       "      <td>NaT</td>\n",
       "      <td>500.0</td>\n",
       "      <td>0.0</td>\n",
       "      <td>NaN</td>\n",
       "      <td>0.0</td>\n",
       "      <td>500.0</td>\n",
       "      <td>250.0</td>\n",
       "      <td>NaN</td>\n",
       "    </tr>\n",
       "    <tr>\n",
       "      <th>204823</th>\n",
       "      <td>2444305009</td>\n",
       "      <td>MBC ENTERPRISES LLC</td>\n",
       "      <td>BETHEL PARK</td>\n",
       "      <td>PA</td>\n",
       "      <td>15102</td>\n",
       "      <td>CITIZENS BANK NATL ASSOC</td>\n",
       "      <td>RI</td>\n",
       "      <td>722211</td>\n",
       "      <td>2007-05-09</td>\n",
       "      <td>2007</td>\n",
       "      <td>...</td>\n",
       "      <td>N</td>\n",
       "      <td>NaT</td>\n",
       "      <td>NaT</td>\n",
       "      <td>1000.0</td>\n",
       "      <td>0.0</td>\n",
       "      <td>NaN</td>\n",
       "      <td>0.0</td>\n",
       "      <td>1000.0</td>\n",
       "      <td>500.0</td>\n",
       "      <td>NaN</td>\n",
       "    </tr>\n",
       "    <tr>\n",
       "      <th>211417</th>\n",
       "      <td>2492765001</td>\n",
       "      <td>DELMARVA WETLAND MANAGEMENT, L</td>\n",
       "      <td>LEWES</td>\n",
       "      <td>DE</td>\n",
       "      <td>19958</td>\n",
       "      <td>CITIZENS BANK NATL ASSOC</td>\n",
       "      <td>RI</td>\n",
       "      <td>541620</td>\n",
       "      <td>2007-06-04</td>\n",
       "      <td>2007</td>\n",
       "      <td>...</td>\n",
       "      <td>N</td>\n",
       "      <td>NaT</td>\n",
       "      <td>NaT</td>\n",
       "      <td>1000.0</td>\n",
       "      <td>0.0</td>\n",
       "      <td>NaN</td>\n",
       "      <td>0.0</td>\n",
       "      <td>1000.0</td>\n",
       "      <td>500.0</td>\n",
       "      <td>NaN</td>\n",
       "    </tr>\n",
       "    <tr>\n",
       "      <th>218958</th>\n",
       "      <td>2547725009</td>\n",
       "      <td>DAVIS, DAVIS &amp; ASSOCIATES</td>\n",
       "      <td>PITTSBURGH</td>\n",
       "      <td>PA</td>\n",
       "      <td>15219</td>\n",
       "      <td>CITIZENS BANK NATL ASSOC</td>\n",
       "      <td>RI</td>\n",
       "      <td>541211</td>\n",
       "      <td>2007-06-29</td>\n",
       "      <td>2007</td>\n",
       "      <td>...</td>\n",
       "      <td>N</td>\n",
       "      <td>NaT</td>\n",
       "      <td>NaT</td>\n",
       "      <td>3000.0</td>\n",
       "      <td>0.0</td>\n",
       "      <td>NaN</td>\n",
       "      <td>0.0</td>\n",
       "      <td>3000.0</td>\n",
       "      <td>1500.0</td>\n",
       "      <td>NaN</td>\n",
       "    </tr>\n",
       "    <tr>\n",
       "      <th>222211</th>\n",
       "      <td>2570885009</td>\n",
       "      <td>BERKS LEISURE LIVING, INC.</td>\n",
       "      <td>LEESPORT</td>\n",
       "      <td>PA</td>\n",
       "      <td>19533</td>\n",
       "      <td>CITIZENS BANK NATL ASSOC</td>\n",
       "      <td>RI</td>\n",
       "      <td>624120</td>\n",
       "      <td>2007-07-13</td>\n",
       "      <td>2007</td>\n",
       "      <td>...</td>\n",
       "      <td>N</td>\n",
       "      <td>NaT</td>\n",
       "      <td>NaT</td>\n",
       "      <td>1000.0</td>\n",
       "      <td>0.0</td>\n",
       "      <td>NaN</td>\n",
       "      <td>0.0</td>\n",
       "      <td>1000.0</td>\n",
       "      <td>500.0</td>\n",
       "      <td>NaN</td>\n",
       "    </tr>\n",
       "    <tr>\n",
       "      <th>222642</th>\n",
       "      <td>2574175005</td>\n",
       "      <td>G &amp; S VENTURES, INC. DBA PLATI</td>\n",
       "      <td>PITTSBURGH</td>\n",
       "      <td>PA</td>\n",
       "      <td>15205</td>\n",
       "      <td>CITIZENS BANK NATL ASSOC</td>\n",
       "      <td>RI</td>\n",
       "      <td>713940</td>\n",
       "      <td>2007-07-16</td>\n",
       "      <td>2007</td>\n",
       "      <td>...</td>\n",
       "      <td>N</td>\n",
       "      <td>NaT</td>\n",
       "      <td>NaT</td>\n",
       "      <td>1000.0</td>\n",
       "      <td>0.0</td>\n",
       "      <td>NaN</td>\n",
       "      <td>0.0</td>\n",
       "      <td>1000.0</td>\n",
       "      <td>500.0</td>\n",
       "      <td>NaN</td>\n",
       "    </tr>\n",
       "    <tr>\n",
       "      <th>238004</th>\n",
       "      <td>2681215010</td>\n",
       "      <td>RAVENNA AUTO BODY, INC.</td>\n",
       "      <td>RAVENNA</td>\n",
       "      <td>OH</td>\n",
       "      <td>44266</td>\n",
       "      <td>CITIZENS BANK NATL ASSOC</td>\n",
       "      <td>RI</td>\n",
       "      <td>811121</td>\n",
       "      <td>2007-09-06</td>\n",
       "      <td>2007</td>\n",
       "      <td>...</td>\n",
       "      <td>N</td>\n",
       "      <td>NaT</td>\n",
       "      <td>NaT</td>\n",
       "      <td>1000.0</td>\n",
       "      <td>0.0</td>\n",
       "      <td>NaN</td>\n",
       "      <td>0.0</td>\n",
       "      <td>1000.0</td>\n",
       "      <td>500.0</td>\n",
       "      <td>NaN</td>\n",
       "    </tr>\n",
       "    <tr>\n",
       "      <th>238038</th>\n",
       "      <td>2681485010</td>\n",
       "      <td>EVOLUTION STAFFING, LLC</td>\n",
       "      <td>PHILADELPHIA</td>\n",
       "      <td>PA</td>\n",
       "      <td>19147</td>\n",
       "      <td>CITIZENS BANK NATL ASSOC</td>\n",
       "      <td>RI</td>\n",
       "      <td>561310</td>\n",
       "      <td>2007-09-06</td>\n",
       "      <td>2007</td>\n",
       "      <td>...</td>\n",
       "      <td>N</td>\n",
       "      <td>NaT</td>\n",
       "      <td>NaT</td>\n",
       "      <td>1000.0</td>\n",
       "      <td>0.0</td>\n",
       "      <td>NaN</td>\n",
       "      <td>0.0</td>\n",
       "      <td>1000.0</td>\n",
       "      <td>500.0</td>\n",
       "      <td>NaN</td>\n",
       "    </tr>\n",
       "    <tr>\n",
       "      <th>240317</th>\n",
       "      <td>2696395010</td>\n",
       "      <td>MURPHY MANAGEMENT, LLC</td>\n",
       "      <td>PAWCATUCK</td>\n",
       "      <td>CT</td>\n",
       "      <td>6379</td>\n",
       "      <td>CITIZENS BANK NATL ASSOC</td>\n",
       "      <td>RI</td>\n",
       "      <td>531311</td>\n",
       "      <td>2007-09-13</td>\n",
       "      <td>2007</td>\n",
       "      <td>...</td>\n",
       "      <td>N</td>\n",
       "      <td>NaT</td>\n",
       "      <td>NaT</td>\n",
       "      <td>1000.0</td>\n",
       "      <td>0.0</td>\n",
       "      <td>NaN</td>\n",
       "      <td>0.0</td>\n",
       "      <td>1000.0</td>\n",
       "      <td>500.0</td>\n",
       "      <td>NaN</td>\n",
       "    </tr>\n",
       "    <tr>\n",
       "      <th>240475</th>\n",
       "      <td>2697455006</td>\n",
       "      <td>ELDORADO'S PIZZA PIE, INC.</td>\n",
       "      <td>KENT</td>\n",
       "      <td>OH</td>\n",
       "      <td>44240</td>\n",
       "      <td>CITIZENS BANK NATL ASSOC</td>\n",
       "      <td>RI</td>\n",
       "      <td>722110</td>\n",
       "      <td>2007-09-13</td>\n",
       "      <td>2007</td>\n",
       "      <td>...</td>\n",
       "      <td>N</td>\n",
       "      <td>NaT</td>\n",
       "      <td>NaT</td>\n",
       "      <td>1000.0</td>\n",
       "      <td>0.0</td>\n",
       "      <td>NaN</td>\n",
       "      <td>0.0</td>\n",
       "      <td>1000.0</td>\n",
       "      <td>500.0</td>\n",
       "      <td>NaN</td>\n",
       "    </tr>\n",
       "    <tr>\n",
       "      <th>241865</th>\n",
       "      <td>2706495010</td>\n",
       "      <td>PITTSBURGH BINDING, INC.</td>\n",
       "      <td>PITTSBURGH</td>\n",
       "      <td>PA</td>\n",
       "      <td>15203</td>\n",
       "      <td>CITIZENS BANK NATL ASSOC</td>\n",
       "      <td>RI</td>\n",
       "      <td>323121</td>\n",
       "      <td>2007-09-18</td>\n",
       "      <td>2007</td>\n",
       "      <td>...</td>\n",
       "      <td>N</td>\n",
       "      <td>NaT</td>\n",
       "      <td>NaT</td>\n",
       "      <td>500.0</td>\n",
       "      <td>0.0</td>\n",
       "      <td>NaN</td>\n",
       "      <td>0.0</td>\n",
       "      <td>500.0</td>\n",
       "      <td>250.0</td>\n",
       "      <td>NaN</td>\n",
       "    </tr>\n",
       "    <tr>\n",
       "      <th>243123</th>\n",
       "      <td>2714615009</td>\n",
       "      <td>ACE FIX-IT HARDWARE OF HUNTING</td>\n",
       "      <td>DUNCANSVILLE</td>\n",
       "      <td>PA</td>\n",
       "      <td>16635</td>\n",
       "      <td>CITIZENS BANK NATL ASSOC</td>\n",
       "      <td>RI</td>\n",
       "      <td>444130</td>\n",
       "      <td>2007-09-21</td>\n",
       "      <td>2007</td>\n",
       "      <td>...</td>\n",
       "      <td>N</td>\n",
       "      <td>NaT</td>\n",
       "      <td>NaT</td>\n",
       "      <td>1000.0</td>\n",
       "      <td>0.0</td>\n",
       "      <td>NaN</td>\n",
       "      <td>0.0</td>\n",
       "      <td>1000.0</td>\n",
       "      <td>500.0</td>\n",
       "      <td>NaN</td>\n",
       "    </tr>\n",
       "    <tr>\n",
       "      <th>244010</th>\n",
       "      <td>2721095006</td>\n",
       "      <td>CLIFFORDS CARPET</td>\n",
       "      <td>OIL CITY</td>\n",
       "      <td>PA</td>\n",
       "      <td>16301</td>\n",
       "      <td>CITIZENS BANK NATL ASSOC</td>\n",
       "      <td>RI</td>\n",
       "      <td>442210</td>\n",
       "      <td>2007-09-25</td>\n",
       "      <td>2007</td>\n",
       "      <td>...</td>\n",
       "      <td>N</td>\n",
       "      <td>NaT</td>\n",
       "      <td>NaT</td>\n",
       "      <td>2500.0</td>\n",
       "      <td>0.0</td>\n",
       "      <td>NaN</td>\n",
       "      <td>0.0</td>\n",
       "      <td>2500.0</td>\n",
       "      <td>1250.0</td>\n",
       "      <td>NaN</td>\n",
       "    </tr>\n",
       "    <tr>\n",
       "      <th>244038</th>\n",
       "      <td>2721325003</td>\n",
       "      <td>MICHAEL J. MASNA DBA M. MASNA</td>\n",
       "      <td>ERIE</td>\n",
       "      <td>PA</td>\n",
       "      <td>16505</td>\n",
       "      <td>CITIZENS BANK NATL ASSOC</td>\n",
       "      <td>RI</td>\n",
       "      <td>238130</td>\n",
       "      <td>2007-09-25</td>\n",
       "      <td>2007</td>\n",
       "      <td>...</td>\n",
       "      <td>N</td>\n",
       "      <td>NaT</td>\n",
       "      <td>NaT</td>\n",
       "      <td>500.0</td>\n",
       "      <td>0.0</td>\n",
       "      <td>NaN</td>\n",
       "      <td>0.0</td>\n",
       "      <td>500.0</td>\n",
       "      <td>250.0</td>\n",
       "      <td>NaN</td>\n",
       "    </tr>\n",
       "    <tr>\n",
       "      <th>245270</th>\n",
       "      <td>2729595008</td>\n",
       "      <td>ADVANCED COMMERCIAL CLEANING S</td>\n",
       "      <td>KING OF PRUSSIA</td>\n",
       "      <td>PA</td>\n",
       "      <td>19406</td>\n",
       "      <td>CITIZENS BANK OF PENNSYLVANIA</td>\n",
       "      <td>PA</td>\n",
       "      <td>561720</td>\n",
       "      <td>2007-09-27</td>\n",
       "      <td>2007</td>\n",
       "      <td>...</td>\n",
       "      <td>N</td>\n",
       "      <td>NaT</td>\n",
       "      <td>NaT</td>\n",
       "      <td>500.0</td>\n",
       "      <td>0.0</td>\n",
       "      <td>NaN</td>\n",
       "      <td>0.0</td>\n",
       "      <td>500.0</td>\n",
       "      <td>250.0</td>\n",
       "      <td>NaN</td>\n",
       "    </tr>\n",
       "    <tr>\n",
       "      <th>250815</th>\n",
       "      <td>2764205002</td>\n",
       "      <td>PARIS BROTHERS &amp; COMPANY, INC.</td>\n",
       "      <td>ERIE</td>\n",
       "      <td>PA</td>\n",
       "      <td>16509</td>\n",
       "      <td>CITIZENS BANK OF PENNSYLVANIA</td>\n",
       "      <td>PA</td>\n",
       "      <td>238990</td>\n",
       "      <td>2007-10-17</td>\n",
       "      <td>2008</td>\n",
       "      <td>...</td>\n",
       "      <td>N</td>\n",
       "      <td>NaT</td>\n",
       "      <td>NaT</td>\n",
       "      <td>1000.0</td>\n",
       "      <td>0.0</td>\n",
       "      <td>NaN</td>\n",
       "      <td>0.0</td>\n",
       "      <td>1000.0</td>\n",
       "      <td>500.0</td>\n",
       "      <td>NaN</td>\n",
       "    </tr>\n",
       "    <tr>\n",
       "      <th>384765</th>\n",
       "      <td>3708304001</td>\n",
       "      <td>GIRL FRIDAY PRODUCTIONS INC</td>\n",
       "      <td>NEW YORK</td>\n",
       "      <td>NY</td>\n",
       "      <td>10023</td>\n",
       "      <td>BANCO POPULAR NORTH AMERICA</td>\n",
       "      <td>NY</td>\n",
       "      <td>0</td>\n",
       "      <td>2000-04-24</td>\n",
       "      <td>2000</td>\n",
       "      <td>...</td>\n",
       "      <td>N</td>\n",
       "      <td>NaT</td>\n",
       "      <td>NaT</td>\n",
       "      <td>1034.0</td>\n",
       "      <td>0.0</td>\n",
       "      <td>NaN</td>\n",
       "      <td>0.0</td>\n",
       "      <td>1000.0</td>\n",
       "      <td>500.0</td>\n",
       "      <td>NaN</td>\n",
       "    </tr>\n",
       "    <tr>\n",
       "      <th>511054</th>\n",
       "      <td>4945244005</td>\n",
       "      <td>INTEK CORPORATION</td>\n",
       "      <td>IMPERIAL</td>\n",
       "      <td>MO</td>\n",
       "      <td>63052</td>\n",
       "      <td>COMMERCE BANK</td>\n",
       "      <td>MO</td>\n",
       "      <td>335312</td>\n",
       "      <td>2001-09-27</td>\n",
       "      <td>2001</td>\n",
       "      <td>...</td>\n",
       "      <td>N</td>\n",
       "      <td>NaT</td>\n",
       "      <td>NaT</td>\n",
       "      <td>3000.0</td>\n",
       "      <td>0.0</td>\n",
       "      <td>NaN</td>\n",
       "      <td>0.0</td>\n",
       "      <td>3000.0</td>\n",
       "      <td>2700.0</td>\n",
       "      <td>NaN</td>\n",
       "    </tr>\n",
       "    <tr>\n",
       "      <th>564091</th>\n",
       "      <td>5553854006</td>\n",
       "      <td>PRONTO PRINTING</td>\n",
       "      <td>PITTSBURGH</td>\n",
       "      <td>PA</td>\n",
       "      <td>15226</td>\n",
       "      <td>CITIZENS BANK NATL ASSOC</td>\n",
       "      <td>RI</td>\n",
       "      <td>323119</td>\n",
       "      <td>2002-07-24</td>\n",
       "      <td>2002</td>\n",
       "      <td>...</td>\n",
       "      <td>N</td>\n",
       "      <td>NaT</td>\n",
       "      <td>NaT</td>\n",
       "      <td>1000.0</td>\n",
       "      <td>0.0</td>\n",
       "      <td>NaN</td>\n",
       "      <td>0.0</td>\n",
       "      <td>1000.0</td>\n",
       "      <td>500.0</td>\n",
       "      <td>NaN</td>\n",
       "    </tr>\n",
       "    <tr>\n",
       "      <th>571995</th>\n",
       "      <td>5640634008</td>\n",
       "      <td>SUPPLIES ETCETERA INC</td>\n",
       "      <td>MARSHFIELD (CENSUS NAME FOR MA</td>\n",
       "      <td>MA</td>\n",
       "      <td>2050</td>\n",
       "      <td>CITIZENS BANK NATL ASSOC</td>\n",
       "      <td>RI</td>\n",
       "      <td>561499</td>\n",
       "      <td>2002-08-23</td>\n",
       "      <td>2002</td>\n",
       "      <td>...</td>\n",
       "      <td>N</td>\n",
       "      <td>NaT</td>\n",
       "      <td>NaT</td>\n",
       "      <td>500.0</td>\n",
       "      <td>0.0</td>\n",
       "      <td>NaN</td>\n",
       "      <td>0.0</td>\n",
       "      <td>500.0</td>\n",
       "      <td>250.0</td>\n",
       "      <td>NaN</td>\n",
       "    </tr>\n",
       "    <tr>\n",
       "      <th>577307</th>\n",
       "      <td>5700313002</td>\n",
       "      <td>AMERICAN BRAKE SERVICES</td>\n",
       "      <td>WEST PEABODY</td>\n",
       "      <td>MA</td>\n",
       "      <td>1960</td>\n",
       "      <td>DANVERSBANK</td>\n",
       "      <td>MA</td>\n",
       "      <td>811111</td>\n",
       "      <td>1993-05-25</td>\n",
       "      <td>1993</td>\n",
       "      <td>...</td>\n",
       "      <td>N</td>\n",
       "      <td>NaT</td>\n",
       "      <td>NaT</td>\n",
       "      <td>1934.0</td>\n",
       "      <td>0.0</td>\n",
       "      <td>NaN</td>\n",
       "      <td>0.0</td>\n",
       "      <td>96000.0</td>\n",
       "      <td>76800.0</td>\n",
       "      <td>NaN</td>\n",
       "    </tr>\n",
       "    <tr>\n",
       "      <th>577821</th>\n",
       "      <td>5707134006</td>\n",
       "      <td>KAIVON RAGHAGHI</td>\n",
       "      <td>BALA-CYNWYD (RR NAME CYNWYD)</td>\n",
       "      <td>PA</td>\n",
       "      <td>19004</td>\n",
       "      <td>CITIZENS BANK NATL ASSOC</td>\n",
       "      <td>RI</td>\n",
       "      <td>621210</td>\n",
       "      <td>2002-09-19</td>\n",
       "      <td>2002</td>\n",
       "      <td>...</td>\n",
       "      <td>N</td>\n",
       "      <td>NaT</td>\n",
       "      <td>NaT</td>\n",
       "      <td>3000.0</td>\n",
       "      <td>0.0</td>\n",
       "      <td>NaN</td>\n",
       "      <td>0.0</td>\n",
       "      <td>5000.0</td>\n",
       "      <td>2500.0</td>\n",
       "      <td>NaN</td>\n",
       "    </tr>\n",
       "    <tr>\n",
       "      <th>584122</th>\n",
       "      <td>5764414003</td>\n",
       "      <td>LANDCAPE ARCHITECTURAL SERVICE</td>\n",
       "      <td>PITTSBURGH</td>\n",
       "      <td>PA</td>\n",
       "      <td>15218</td>\n",
       "      <td>CITIZENS BANK NATL ASSOC</td>\n",
       "      <td>RI</td>\n",
       "      <td>541320</td>\n",
       "      <td>2002-10-08</td>\n",
       "      <td>2003</td>\n",
       "      <td>...</td>\n",
       "      <td>N</td>\n",
       "      <td>NaT</td>\n",
       "      <td>NaT</td>\n",
       "      <td>2000.0</td>\n",
       "      <td>0.0</td>\n",
       "      <td>NaN</td>\n",
       "      <td>0.0</td>\n",
       "      <td>2000.0</td>\n",
       "      <td>1000.0</td>\n",
       "      <td>NaN</td>\n",
       "    </tr>\n",
       "    <tr>\n",
       "      <th>586119</th>\n",
       "      <td>5780054002</td>\n",
       "      <td>KARLIK OPHTHAMOLOGY INCORPORAT</td>\n",
       "      <td>PITTSBURGH</td>\n",
       "      <td>PA</td>\n",
       "      <td>15229</td>\n",
       "      <td>CITIZENS BANK NATL ASSOC</td>\n",
       "      <td>RI</td>\n",
       "      <td>621111</td>\n",
       "      <td>2002-10-16</td>\n",
       "      <td>2003</td>\n",
       "      <td>...</td>\n",
       "      <td>N</td>\n",
       "      <td>NaT</td>\n",
       "      <td>NaT</td>\n",
       "      <td>1000.0</td>\n",
       "      <td>0.0</td>\n",
       "      <td>NaN</td>\n",
       "      <td>0.0</td>\n",
       "      <td>1000.0</td>\n",
       "      <td>500.0</td>\n",
       "      <td>NaN</td>\n",
       "    </tr>\n",
       "    <tr>\n",
       "      <th>586533</th>\n",
       "      <td>5783664003</td>\n",
       "      <td>PRINT ASPECTS</td>\n",
       "      <td>ARLINGTON</td>\n",
       "      <td>MA</td>\n",
       "      <td>2470</td>\n",
       "      <td>CITIZENS BANK NATL ASSOC</td>\n",
       "      <td>RI</td>\n",
       "      <td>323110</td>\n",
       "      <td>2002-10-17</td>\n",
       "      <td>2003</td>\n",
       "      <td>...</td>\n",
       "      <td>N</td>\n",
       "      <td>NaT</td>\n",
       "      <td>NaT</td>\n",
       "      <td>1000.0</td>\n",
       "      <td>0.0</td>\n",
       "      <td>NaN</td>\n",
       "      <td>0.0</td>\n",
       "      <td>1000.0</td>\n",
       "      <td>500.0</td>\n",
       "      <td>NaN</td>\n",
       "    </tr>\n",
       "    <tr>\n",
       "      <th>586855</th>\n",
       "      <td>5786544008</td>\n",
       "      <td>KROHMALYS PRINTING INCORPORATE</td>\n",
       "      <td>PITTSBURGH</td>\n",
       "      <td>PA</td>\n",
       "      <td>15218</td>\n",
       "      <td>CITIZENS BANK NATL ASSOC</td>\n",
       "      <td>RI</td>\n",
       "      <td>323114</td>\n",
       "      <td>2002-10-18</td>\n",
       "      <td>2003</td>\n",
       "      <td>...</td>\n",
       "      <td>N</td>\n",
       "      <td>NaT</td>\n",
       "      <td>NaT</td>\n",
       "      <td>1000.0</td>\n",
       "      <td>0.0</td>\n",
       "      <td>NaN</td>\n",
       "      <td>0.0</td>\n",
       "      <td>1000.0</td>\n",
       "      <td>500.0</td>\n",
       "      <td>NaN</td>\n",
       "    </tr>\n",
       "    <tr>\n",
       "      <th>589982</th>\n",
       "      <td>5824134005</td>\n",
       "      <td>BIG TOP KIDDIE PLAYLAND AND RE</td>\n",
       "      <td>FALL RIVER</td>\n",
       "      <td>MA</td>\n",
       "      <td>2721</td>\n",
       "      <td>CITIZENS BANK NATL ASSOC</td>\n",
       "      <td>RI</td>\n",
       "      <td>722211</td>\n",
       "      <td>2002-10-30</td>\n",
       "      <td>2003</td>\n",
       "      <td>...</td>\n",
       "      <td>N</td>\n",
       "      <td>NaT</td>\n",
       "      <td>NaT</td>\n",
       "      <td>1000.0</td>\n",
       "      <td>0.0</td>\n",
       "      <td>NaN</td>\n",
       "      <td>0.0</td>\n",
       "      <td>1000.0</td>\n",
       "      <td>500.0</td>\n",
       "      <td>NaN</td>\n",
       "    </tr>\n",
       "    <tr>\n",
       "      <th>591028</th>\n",
       "      <td>5839934001</td>\n",
       "      <td>NORTHWIND CONSTRUCTION INC</td>\n",
       "      <td>MOUNT PLEASANT</td>\n",
       "      <td>PA</td>\n",
       "      <td>15666</td>\n",
       "      <td>CITIZENS BANK NATL ASSOC</td>\n",
       "      <td>RI</td>\n",
       "      <td>235990</td>\n",
       "      <td>2002-11-05</td>\n",
       "      <td>2003</td>\n",
       "      <td>...</td>\n",
       "      <td>N</td>\n",
       "      <td>NaT</td>\n",
       "      <td>NaT</td>\n",
       "      <td>2000.0</td>\n",
       "      <td>0.0</td>\n",
       "      <td>NaN</td>\n",
       "      <td>0.0</td>\n",
       "      <td>2000.0</td>\n",
       "      <td>1000.0</td>\n",
       "      <td>NaN</td>\n",
       "    </tr>\n",
       "    <tr>\n",
       "      <th>594860</th>\n",
       "      <td>5889064009</td>\n",
       "      <td>MAGNONE PURIFICATION SERVICES</td>\n",
       "      <td>NEW KENSINGTON</td>\n",
       "      <td>PA</td>\n",
       "      <td>15068</td>\n",
       "      <td>CITIZENS BANK NATL ASSOC</td>\n",
       "      <td>RI</td>\n",
       "      <td>333999</td>\n",
       "      <td>2002-11-21</td>\n",
       "      <td>2003</td>\n",
       "      <td>...</td>\n",
       "      <td>N</td>\n",
       "      <td>NaT</td>\n",
       "      <td>NaT</td>\n",
       "      <td>1000.0</td>\n",
       "      <td>0.0</td>\n",
       "      <td>NaN</td>\n",
       "      <td>0.0</td>\n",
       "      <td>1000.0</td>\n",
       "      <td>500.0</td>\n",
       "      <td>NaN</td>\n",
       "    </tr>\n",
       "    <tr>\n",
       "      <th>595788</th>\n",
       "      <td>5900824003</td>\n",
       "      <td>PRECISION ELOCTROLYSIS NEEDLES</td>\n",
       "      <td>BARRINGTON</td>\n",
       "      <td>RI</td>\n",
       "      <td>2806</td>\n",
       "      <td>CITIZENS BANK NATL ASSOC</td>\n",
       "      <td>RI</td>\n",
       "      <td>334510</td>\n",
       "      <td>2002-11-26</td>\n",
       "      <td>2003</td>\n",
       "      <td>...</td>\n",
       "      <td>N</td>\n",
       "      <td>NaT</td>\n",
       "      <td>NaT</td>\n",
       "      <td>1000.0</td>\n",
       "      <td>0.0</td>\n",
       "      <td>NaN</td>\n",
       "      <td>0.0</td>\n",
       "      <td>1000.0</td>\n",
       "      <td>500.0</td>\n",
       "      <td>NaN</td>\n",
       "    </tr>\n",
       "    <tr>\n",
       "      <th>602181</th>\n",
       "      <td>5974874010</td>\n",
       "      <td>GREATER PITTSBURGH TRAVEL AGEN</td>\n",
       "      <td>MCKEES ROCKS</td>\n",
       "      <td>PA</td>\n",
       "      <td>15136</td>\n",
       "      <td>CITIZENS BANK NATL ASSOC</td>\n",
       "      <td>RI</td>\n",
       "      <td>561510</td>\n",
       "      <td>2002-12-26</td>\n",
       "      <td>2003</td>\n",
       "      <td>...</td>\n",
       "      <td>N</td>\n",
       "      <td>NaT</td>\n",
       "      <td>NaT</td>\n",
       "      <td>3000.0</td>\n",
       "      <td>0.0</td>\n",
       "      <td>NaN</td>\n",
       "      <td>0.0</td>\n",
       "      <td>3000.0</td>\n",
       "      <td>1500.0</td>\n",
       "      <td>NaN</td>\n",
       "    </tr>\n",
       "    <tr>\n",
       "      <th>625529</th>\n",
       "      <td>6210644005</td>\n",
       "      <td>ENERGY CENTER INC</td>\n",
       "      <td>SOMERSET</td>\n",
       "      <td>PA</td>\n",
       "      <td>15501</td>\n",
       "      <td>CITIZENS BANK NATL ASSOC</td>\n",
       "      <td>RI</td>\n",
       "      <td>541710</td>\n",
       "      <td>2003-03-31</td>\n",
       "      <td>2003</td>\n",
       "      <td>...</td>\n",
       "      <td>N</td>\n",
       "      <td>NaT</td>\n",
       "      <td>NaT</td>\n",
       "      <td>1000.0</td>\n",
       "      <td>0.0</td>\n",
       "      <td>NaN</td>\n",
       "      <td>0.0</td>\n",
       "      <td>1000.0</td>\n",
       "      <td>500.0</td>\n",
       "      <td>NaN</td>\n",
       "    </tr>\n",
       "    <tr>\n",
       "      <th>647125</th>\n",
       "      <td>6478564006</td>\n",
       "      <td>FEDERAL VAN LINES INC</td>\n",
       "      <td>EAST PROVIDENCE</td>\n",
       "      <td>RI</td>\n",
       "      <td>2914</td>\n",
       "      <td>CITIZENS BANK NATL ASSOC</td>\n",
       "      <td>RI</td>\n",
       "      <td>484210</td>\n",
       "      <td>2003-07-09</td>\n",
       "      <td>2003</td>\n",
       "      <td>...</td>\n",
       "      <td>N</td>\n",
       "      <td>NaT</td>\n",
       "      <td>NaT</td>\n",
       "      <td>1000.0</td>\n",
       "      <td>0.0</td>\n",
       "      <td>NaN</td>\n",
       "      <td>0.0</td>\n",
       "      <td>1000.0</td>\n",
       "      <td>500.0</td>\n",
       "      <td>NaN</td>\n",
       "    </tr>\n",
       "    <tr>\n",
       "      <th>652081</th>\n",
       "      <td>6547634008</td>\n",
       "      <td>PIONEER TOOL &amp; FORGE INC</td>\n",
       "      <td>NEW KENSINGTON</td>\n",
       "      <td>PA</td>\n",
       "      <td>15068</td>\n",
       "      <td>CITIZENS BANK NATL ASSOC</td>\n",
       "      <td>RI</td>\n",
       "      <td>333514</td>\n",
       "      <td>2003-07-31</td>\n",
       "      <td>2003</td>\n",
       "      <td>...</td>\n",
       "      <td>N</td>\n",
       "      <td>NaT</td>\n",
       "      <td>NaT</td>\n",
       "      <td>2000.0</td>\n",
       "      <td>0.0</td>\n",
       "      <td>NaN</td>\n",
       "      <td>0.0</td>\n",
       "      <td>2000.0</td>\n",
       "      <td>1000.0</td>\n",
       "      <td>NaN</td>\n",
       "    </tr>\n",
       "  </tbody>\n",
       "</table>\n",
       "<p>36 rows × 28 columns</p>\n",
       "</div>"
      ],
      "text/plain": [
       "        LoanNr_ChkDgt                            Name  \\\n",
       "170781     2223875001          PROGRESS EXPRESS, INC.   \n",
       "201277     2420116002            ABSOLUTE MACHINE LLC   \n",
       "201637     2422425009                     DBAZA, INC.   \n",
       "204823     2444305009             MBC ENTERPRISES LLC   \n",
       "211417     2492765001  DELMARVA WETLAND MANAGEMENT, L   \n",
       "218958     2547725009       DAVIS, DAVIS & ASSOCIATES   \n",
       "222211     2570885009      BERKS LEISURE LIVING, INC.   \n",
       "222642     2574175005  G & S VENTURES, INC. DBA PLATI   \n",
       "238004     2681215010         RAVENNA AUTO BODY, INC.   \n",
       "238038     2681485010         EVOLUTION STAFFING, LLC   \n",
       "240317     2696395010          MURPHY MANAGEMENT, LLC   \n",
       "240475     2697455006      ELDORADO'S PIZZA PIE, INC.   \n",
       "241865     2706495010        PITTSBURGH BINDING, INC.   \n",
       "243123     2714615009  ACE FIX-IT HARDWARE OF HUNTING   \n",
       "244010     2721095006                CLIFFORDS CARPET   \n",
       "244038     2721325003   MICHAEL J. MASNA DBA M. MASNA   \n",
       "245270     2729595008  ADVANCED COMMERCIAL CLEANING S   \n",
       "250815     2764205002  PARIS BROTHERS & COMPANY, INC.   \n",
       "384765     3708304001     GIRL FRIDAY PRODUCTIONS INC   \n",
       "511054     4945244005               INTEK CORPORATION   \n",
       "564091     5553854006                 PRONTO PRINTING   \n",
       "571995     5640634008           SUPPLIES ETCETERA INC   \n",
       "577307     5700313002         AMERICAN BRAKE SERVICES   \n",
       "577821     5707134006                 KAIVON RAGHAGHI   \n",
       "584122     5764414003  LANDCAPE ARCHITECTURAL SERVICE   \n",
       "586119     5780054002  KARLIK OPHTHAMOLOGY INCORPORAT   \n",
       "586533     5783664003                   PRINT ASPECTS   \n",
       "586855     5786544008  KROHMALYS PRINTING INCORPORATE   \n",
       "589982     5824134005  BIG TOP KIDDIE PLAYLAND AND RE   \n",
       "591028     5839934001      NORTHWIND CONSTRUCTION INC   \n",
       "594860     5889064009   MAGNONE PURIFICATION SERVICES   \n",
       "595788     5900824003  PRECISION ELOCTROLYSIS NEEDLES   \n",
       "602181     5974874010  GREATER PITTSBURGH TRAVEL AGEN   \n",
       "625529     6210644005               ENERGY CENTER INC   \n",
       "647125     6478564006           FEDERAL VAN LINES INC   \n",
       "652081     6547634008        PIONEER TOOL & FORGE INC   \n",
       "\n",
       "                                  City State    Zip  \\\n",
       "170781                    INDIANAPOLIS    IN  46221   \n",
       "201277                           HOUMA    LA  70364   \n",
       "201637                      PITTSBURGH    PA  15213   \n",
       "204823                     BETHEL PARK    PA  15102   \n",
       "211417                           LEWES    DE  19958   \n",
       "218958                      PITTSBURGH    PA  15219   \n",
       "222211                        LEESPORT    PA  19533   \n",
       "222642                      PITTSBURGH    PA  15205   \n",
       "238004                         RAVENNA    OH  44266   \n",
       "238038                    PHILADELPHIA    PA  19147   \n",
       "240317                       PAWCATUCK    CT   6379   \n",
       "240475                            KENT    OH  44240   \n",
       "241865                      PITTSBURGH    PA  15203   \n",
       "243123                    DUNCANSVILLE    PA  16635   \n",
       "244010                        OIL CITY    PA  16301   \n",
       "244038                            ERIE    PA  16505   \n",
       "245270                 KING OF PRUSSIA    PA  19406   \n",
       "250815                            ERIE    PA  16509   \n",
       "384765                        NEW YORK    NY  10023   \n",
       "511054                        IMPERIAL    MO  63052   \n",
       "564091                      PITTSBURGH    PA  15226   \n",
       "571995  MARSHFIELD (CENSUS NAME FOR MA    MA   2050   \n",
       "577307                    WEST PEABODY    MA   1960   \n",
       "577821    BALA-CYNWYD (RR NAME CYNWYD)    PA  19004   \n",
       "584122                      PITTSBURGH    PA  15218   \n",
       "586119                      PITTSBURGH    PA  15229   \n",
       "586533                       ARLINGTON    MA   2470   \n",
       "586855                      PITTSBURGH    PA  15218   \n",
       "589982                      FALL RIVER    MA   2721   \n",
       "591028                  MOUNT PLEASANT    PA  15666   \n",
       "594860                  NEW KENSINGTON    PA  15068   \n",
       "595788                      BARRINGTON    RI   2806   \n",
       "602181                    MCKEES ROCKS    PA  15136   \n",
       "625529                        SOMERSET    PA  15501   \n",
       "647125                 EAST PROVIDENCE    RI   2914   \n",
       "652081                  NEW KENSINGTON    PA  15068   \n",
       "\n",
       "                                 Bank BankState   NAICS ApprovalDate  \\\n",
       "170781       CITIZENS BANK NATL ASSOC        RI  484121   2007-01-17   \n",
       "201277           SOUTH LOUISIANA BANK        LA  332710   2006-09-19   \n",
       "201637       CITIZENS BANK NATL ASSOC        RI  541511   2007-04-27   \n",
       "204823       CITIZENS BANK NATL ASSOC        RI  722211   2007-05-09   \n",
       "211417       CITIZENS BANK NATL ASSOC        RI  541620   2007-06-04   \n",
       "218958       CITIZENS BANK NATL ASSOC        RI  541211   2007-06-29   \n",
       "222211       CITIZENS BANK NATL ASSOC        RI  624120   2007-07-13   \n",
       "222642       CITIZENS BANK NATL ASSOC        RI  713940   2007-07-16   \n",
       "238004       CITIZENS BANK NATL ASSOC        RI  811121   2007-09-06   \n",
       "238038       CITIZENS BANK NATL ASSOC        RI  561310   2007-09-06   \n",
       "240317       CITIZENS BANK NATL ASSOC        RI  531311   2007-09-13   \n",
       "240475       CITIZENS BANK NATL ASSOC        RI  722110   2007-09-13   \n",
       "241865       CITIZENS BANK NATL ASSOC        RI  323121   2007-09-18   \n",
       "243123       CITIZENS BANK NATL ASSOC        RI  444130   2007-09-21   \n",
       "244010       CITIZENS BANK NATL ASSOC        RI  442210   2007-09-25   \n",
       "244038       CITIZENS BANK NATL ASSOC        RI  238130   2007-09-25   \n",
       "245270  CITIZENS BANK OF PENNSYLVANIA        PA  561720   2007-09-27   \n",
       "250815  CITIZENS BANK OF PENNSYLVANIA        PA  238990   2007-10-17   \n",
       "384765    BANCO POPULAR NORTH AMERICA        NY       0   2000-04-24   \n",
       "511054                  COMMERCE BANK        MO  335312   2001-09-27   \n",
       "564091       CITIZENS BANK NATL ASSOC        RI  323119   2002-07-24   \n",
       "571995       CITIZENS BANK NATL ASSOC        RI  561499   2002-08-23   \n",
       "577307                    DANVERSBANK        MA  811111   1993-05-25   \n",
       "577821       CITIZENS BANK NATL ASSOC        RI  621210   2002-09-19   \n",
       "584122       CITIZENS BANK NATL ASSOC        RI  541320   2002-10-08   \n",
       "586119       CITIZENS BANK NATL ASSOC        RI  621111   2002-10-16   \n",
       "586533       CITIZENS BANK NATL ASSOC        RI  323110   2002-10-17   \n",
       "586855       CITIZENS BANK NATL ASSOC        RI  323114   2002-10-18   \n",
       "589982       CITIZENS BANK NATL ASSOC        RI  722211   2002-10-30   \n",
       "591028       CITIZENS BANK NATL ASSOC        RI  235990   2002-11-05   \n",
       "594860       CITIZENS BANK NATL ASSOC        RI  333999   2002-11-21   \n",
       "595788       CITIZENS BANK NATL ASSOC        RI  334510   2002-11-26   \n",
       "602181       CITIZENS BANK NATL ASSOC        RI  561510   2002-12-26   \n",
       "625529       CITIZENS BANK NATL ASSOC        RI  541710   2003-03-31   \n",
       "647125       CITIZENS BANK NATL ASSOC        RI  484210   2003-07-09   \n",
       "652081       CITIZENS BANK NATL ASSOC        RI  333514   2003-07-31   \n",
       "\n",
       "       ApprovalFY  ...  LowDoc  ChgOffDate  DisbursementDate  \\\n",
       "170781       2007  ...       N         NaT               NaT   \n",
       "201277       2006  ...       N         NaT               NaT   \n",
       "201637       2007  ...       N         NaT               NaT   \n",
       "204823       2007  ...       N         NaT               NaT   \n",
       "211417       2007  ...       N         NaT               NaT   \n",
       "218958       2007  ...       N         NaT               NaT   \n",
       "222211       2007  ...       N         NaT               NaT   \n",
       "222642       2007  ...       N         NaT               NaT   \n",
       "238004       2007  ...       N         NaT               NaT   \n",
       "238038       2007  ...       N         NaT               NaT   \n",
       "240317       2007  ...       N         NaT               NaT   \n",
       "240475       2007  ...       N         NaT               NaT   \n",
       "241865       2007  ...       N         NaT               NaT   \n",
       "243123       2007  ...       N         NaT               NaT   \n",
       "244010       2007  ...       N         NaT               NaT   \n",
       "244038       2007  ...       N         NaT               NaT   \n",
       "245270       2007  ...       N         NaT               NaT   \n",
       "250815       2008  ...       N         NaT               NaT   \n",
       "384765       2000  ...       N         NaT               NaT   \n",
       "511054       2001  ...       N         NaT               NaT   \n",
       "564091       2002  ...       N         NaT               NaT   \n",
       "571995       2002  ...       N         NaT               NaT   \n",
       "577307       1993  ...       N         NaT               NaT   \n",
       "577821       2002  ...       N         NaT               NaT   \n",
       "584122       2003  ...       N         NaT               NaT   \n",
       "586119       2003  ...       N         NaT               NaT   \n",
       "586533       2003  ...       N         NaT               NaT   \n",
       "586855       2003  ...       N         NaT               NaT   \n",
       "589982       2003  ...       N         NaT               NaT   \n",
       "591028       2003  ...       N         NaT               NaT   \n",
       "594860       2003  ...       N         NaT               NaT   \n",
       "595788       2003  ...       N         NaT               NaT   \n",
       "602181       2003  ...       N         NaT               NaT   \n",
       "625529       2003  ...       N         NaT               NaT   \n",
       "647125       2003  ...       N         NaT               NaT   \n",
       "652081       2003  ...       N         NaT               NaT   \n",
       "\n",
       "        DisbursementGross  BalanceGross  MIS_Status  ChgOffPrinGr   GrAppv  \\\n",
       "170781             1000.0           0.0         NaN           0.0   1000.0   \n",
       "201277              250.0           0.0         NaN           0.0  25000.0   \n",
       "201637              500.0           0.0         NaN           0.0    500.0   \n",
       "204823             1000.0           0.0         NaN           0.0   1000.0   \n",
       "211417             1000.0           0.0         NaN           0.0   1000.0   \n",
       "218958             3000.0           0.0         NaN           0.0   3000.0   \n",
       "222211             1000.0           0.0         NaN           0.0   1000.0   \n",
       "222642             1000.0           0.0         NaN           0.0   1000.0   \n",
       "238004             1000.0           0.0         NaN           0.0   1000.0   \n",
       "238038             1000.0           0.0         NaN           0.0   1000.0   \n",
       "240317             1000.0           0.0         NaN           0.0   1000.0   \n",
       "240475             1000.0           0.0         NaN           0.0   1000.0   \n",
       "241865              500.0           0.0         NaN           0.0    500.0   \n",
       "243123             1000.0           0.0         NaN           0.0   1000.0   \n",
       "244010             2500.0           0.0         NaN           0.0   2500.0   \n",
       "244038              500.0           0.0         NaN           0.0    500.0   \n",
       "245270              500.0           0.0         NaN           0.0    500.0   \n",
       "250815             1000.0           0.0         NaN           0.0   1000.0   \n",
       "384765             1034.0           0.0         NaN           0.0   1000.0   \n",
       "511054             3000.0           0.0         NaN           0.0   3000.0   \n",
       "564091             1000.0           0.0         NaN           0.0   1000.0   \n",
       "571995              500.0           0.0         NaN           0.0    500.0   \n",
       "577307             1934.0           0.0         NaN           0.0  96000.0   \n",
       "577821             3000.0           0.0         NaN           0.0   5000.0   \n",
       "584122             2000.0           0.0         NaN           0.0   2000.0   \n",
       "586119             1000.0           0.0         NaN           0.0   1000.0   \n",
       "586533             1000.0           0.0         NaN           0.0   1000.0   \n",
       "586855             1000.0           0.0         NaN           0.0   1000.0   \n",
       "589982             1000.0           0.0         NaN           0.0   1000.0   \n",
       "591028             2000.0           0.0         NaN           0.0   2000.0   \n",
       "594860             1000.0           0.0         NaN           0.0   1000.0   \n",
       "595788             1000.0           0.0         NaN           0.0   1000.0   \n",
       "602181             3000.0           0.0         NaN           0.0   3000.0   \n",
       "625529             1000.0           0.0         NaN           0.0   1000.0   \n",
       "647125             1000.0           0.0         NaN           0.0   1000.0   \n",
       "652081             2000.0           0.0         NaN           0.0   2000.0   \n",
       "\n",
       "       SBA_Appv difference_in_days  \n",
       "170781    500.0                NaN  \n",
       "201277  21250.0                NaN  \n",
       "201637    250.0                NaN  \n",
       "204823    500.0                NaN  \n",
       "211417    500.0                NaN  \n",
       "218958   1500.0                NaN  \n",
       "222211    500.0                NaN  \n",
       "222642    500.0                NaN  \n",
       "238004    500.0                NaN  \n",
       "238038    500.0                NaN  \n",
       "240317    500.0                NaN  \n",
       "240475    500.0                NaN  \n",
       "241865    250.0                NaN  \n",
       "243123    500.0                NaN  \n",
       "244010   1250.0                NaN  \n",
       "244038    250.0                NaN  \n",
       "245270    250.0                NaN  \n",
       "250815    500.0                NaN  \n",
       "384765    500.0                NaN  \n",
       "511054   2700.0                NaN  \n",
       "564091    500.0                NaN  \n",
       "571995    250.0                NaN  \n",
       "577307  76800.0                NaN  \n",
       "577821   2500.0                NaN  \n",
       "584122   1000.0                NaN  \n",
       "586119    500.0                NaN  \n",
       "586533    500.0                NaN  \n",
       "586855    500.0                NaN  \n",
       "589982    500.0                NaN  \n",
       "591028   1000.0                NaN  \n",
       "594860    500.0                NaN  \n",
       "595788    500.0                NaN  \n",
       "602181   1500.0                NaN  \n",
       "625529    500.0                NaN  \n",
       "647125    500.0                NaN  \n",
       "652081   1000.0                NaN  \n",
       "\n",
       "[36 rows x 28 columns]"
      ]
     },
     "execution_count": 24,
     "metadata": {},
     "output_type": "execute_result"
    }
   ],
   "source": [
    "loans['MIS_Status'].mask((loans['MIS_Status'].isnull()) &\n",
    "                         (loans['DisbursementGross']==0.0) & \n",
    "                         (loans['BalanceGross']==0.0),'Not Disbursed',inplace=True)\n",
    "loans[loans['MIS_Status'].isnull()]"
   ]
  },
  {
   "cell_type": "code",
   "execution_count": 31,
   "metadata": {},
   "outputs": [
    {
     "data": {
      "text/plain": [
       "0"
      ]
     },
     "execution_count": 31,
     "metadata": {},
     "output_type": "execute_result"
    }
   ],
   "source": [
    "loans['MIS_Status'].mask((loans['MIS_Status'].isnull()) &\n",
    "                         (loans['DisbursementGross'].notnull()) & \n",
    "                         (loans['BalanceGross']== 0.0),'P I F', inplace = True) \n",
    "loans['MIS_Status'].isnull().sum()\n",
    "# delete these records instead"
   ]
  },
  {
   "cell_type": "code",
   "execution_count": 11,
   "metadata": {},
   "outputs": [],
   "source": [
    "#--------------------------------------------------------------------------------------------------------------------\n",
    "loans['MIS_Status'].replace(to_replace = 'P I F', value = 1, inplace = True)\n",
    "loans['MIS_Status'].replace(to_replace = 'CHGOFF', value = 0, inplace = True)"
   ]
  },
  {
   "cell_type": "markdown",
   "metadata": {
    "colab_type": "text",
    "id": "bggH3PV8Zkn9"
   },
   "source": [
    "After null values were removed, the index was reset for the loans data frame.  When rows are removed from a data frame, the index for that row remains.  If the indcies are not reset, null values will be assigned to indicies that had rows removed. Since sklearn algorithms require matricies and arrays, when a data frame with surplus incies are converted to a matrix, there will be a shape mismatch causing an error.  The .info() function was run to check on null values and the range index."
   ]
  },
  {
   "cell_type": "code",
   "execution_count": 12,
   "metadata": {
    "colab": {},
    "colab_type": "code",
    "id": "kQXVveN2AlpL"
   },
   "outputs": [],
   "source": [
    "loans = loans.dropna()#drops 14 records\n",
    "loans = loans.reset_index(drop=True) #resets index, important when converting to array"
   ]
  },
  {
   "cell_type": "code",
   "execution_count": 13,
   "metadata": {
    "colab": {
     "base_uri": "https://localhost:8080/",
     "height": 654
    },
    "colab_type": "code",
    "id": "1SSyeIdrZkn-",
    "outputId": "4b027b48-08d1-4935-a804-96d47e3a8c8a"
   },
   "outputs": [
    {
     "name": "stdout",
     "output_type": "stream",
     "text": [
      "<class 'pandas.core.frame.DataFrame'>\n",
      "RangeIndex: 162288 entries, 0 to 162287\n",
      "Data columns (total 28 columns):\n",
      " #   Column              Non-Null Count   Dtype         \n",
      "---  ------              --------------   -----         \n",
      " 0   LoanNr_ChkDgt       162288 non-null  int64         \n",
      " 1   Name                162288 non-null  object        \n",
      " 2   City                162288 non-null  object        \n",
      " 3   State               162288 non-null  object        \n",
      " 4   Zip                 162288 non-null  object        \n",
      " 5   Bank                162288 non-null  object        \n",
      " 6   BankState           162288 non-null  object        \n",
      " 7   NAICS               162288 non-null  int64         \n",
      " 8   ApprovalDate        162288 non-null  datetime64[ns]\n",
      " 9   ApprovalFY          162288 non-null  object        \n",
      " 10  Term                162288 non-null  int64         \n",
      " 11  NoEmp               162288 non-null  int64         \n",
      " 12  NewExist            162288 non-null  Int64         \n",
      " 13  CreateJob           162288 non-null  int64         \n",
      " 14  RetainedJob         162288 non-null  int64         \n",
      " 15  FranchiseCode       162288 non-null  int64         \n",
      " 16  UrbanRural          162288 non-null  int64         \n",
      " 17  RevLineCr           162288 non-null  object        \n",
      " 18  LowDoc              162288 non-null  object        \n",
      " 19  ChgOffDate          162288 non-null  datetime64[ns]\n",
      " 20  DisbursementDate    162288 non-null  datetime64[ns]\n",
      " 21  DisbursementGross   162288 non-null  float64       \n",
      " 22  BalanceGross        162288 non-null  float64       \n",
      " 23  MIS_Status          162288 non-null  object        \n",
      " 24  ChgOffPrinGr        162288 non-null  float64       \n",
      " 25  GrAppv              162288 non-null  float64       \n",
      " 26  SBA_Appv            162288 non-null  float64       \n",
      " 27  difference_in_days  162288 non-null  float64       \n",
      "dtypes: Int64(1), datetime64[ns](3), float64(6), int64(8), object(10)\n",
      "memory usage: 34.8+ MB\n"
     ]
    }
   ],
   "source": [
    "loans.info()"
   ]
  },
  {
   "cell_type": "markdown",
   "metadata": {
    "colab_type": "text",
    "id": "s7TWKfMGZkoB"
   },
   "source": [
    "## Response and Explanatory Feature Descriptions, and Feature Engineering"
   ]
  },
  {
   "cell_type": "markdown",
   "metadata": {
    "colab_type": "text",
    "id": "OeCRoXsYZkoC"
   },
   "source": [
    "### Response Feature\n",
    "\n",
    "Three features in the SBAnational dataset can serve as response variables.  Two are continuous and one is categorical.  These features were choosen to be response variables as they are good indicators of loan success or failure.\n",
    "\n",
    "**CreateJob and RetainedJob:** These columns are presented as an integer. The column records the number of jobs created or retained, respectively. These variables cannot be used as explanatory variables as they indicate the success of the loan. They are a proxy for loan success. However, these variables can be used as the response variable in a model that would attempt to maximize job creation and or retention. Thus, any of these response terms correlated with explanatory terms are significant and noteworthy due to their possible predictive power.  Since we are more interested in the classification of accounts having paid in full or were charged off; these featuers will be exclued from the model.\n",
    "\n",
    "**MIS_Status:** This column is presented as an object/string. The column is categorical data with values \"P I F\" and \"CHGOFF\". This column is the main response column of the dataset.  This feature will be used to determine if a loan has succeeded or failed, where 'P I F' is a success, and a 'CHGOFF' is a failure.  Approximately 18% of loans were marked for a 'CHGOFF' and 82% successful repaid their loans.  This feature will serve as the response feature for our logistic and SVM models as it is dichotmous and indicates whether or not a loan applicant has paid their loan back or not.  **MIS_Status** will also be converted to numeric values instead of character for use in the model."
   ]
  },
  {
   "cell_type": "code",
   "execution_count": 14,
   "metadata": {
    "colab": {
     "base_uri": "https://localhost:8080/",
     "height": 443
    },
    "colab_type": "code",
    "id": "gSSjGbNHZkoD",
    "outputId": "40053d47-8ea1-41ad-cec9-e4a5686e0563"
   },
   "outputs": [
    {
     "data": {
      "image/png": "[encoded data removed]",
      "text/plain": [
       "<Figure size 576x432 with 1 Axes>"
      ]
     },
     "metadata": {
      "needs_background": "light"
     },
     "output_type": "display_data"
    }
   ],
   "source": [
    "import matplotlib.pyplot as plt\n",
    "import seaborn as sns\n",
    "\n",
    "plt.figure(figsize=(8, 6))\n",
    "ax = sns.countplot(x =loans['MIS_Status'] )\n",
    "plt.title(\"Response Feature (MIS_Status) Frequency\",fontsize= 16)\n",
    "\n",
    "for p in ax.patches:\n",
    "    ax.annotate(p.get_height(),\n",
    "                (p.get_x() + p.get_width() / 2, p.get_height()),  ha = 'center', va = 'center', \n",
    "                xytext = (0, 10), textcoords = 'offset points')"
   ]
  },
  {
   "cell_type": "markdown",
   "metadata": {
    "colab_type": "text",
    "id": "5aTrYJbMZkoG"
   },
   "source": [
    "### Explanatory Features"
   ]
  },
  {
   "cell_type": "markdown",
   "metadata": {
    "colab_type": "text",
    "id": "bPT-5l1lZkoH"
   },
   "source": [
    "**ApprovalDate**, **DisbursementDate**, and **ChgOffDate** are features that contain dates.  Since there are a large volume of dates, these features would not be suited for conversion to categorical features unless they were binned.  **ApprovalFY** is similar to **ApprovalDate** and may better be suited for use in the model; this feature can be binned to reduce the number of levels in the feature. This model does not address time series analysis or autocorrelation structures.  If a record contains a value from **ChgOffDate**, then the loan defaulted.  This information is more sussenctly captured in the **MIS_Status** level 'CHGOFF'; due to the redundancy **ChgOffDate** would be more useful in a new feature that captures a time difference with another time feild.\n",
    "\n",
    "One assumption for logistic regression is minimal multicollinearity.  **DisbursmentGross**, **GRAppv**, and **SBA_Appv** are highly correlated (r > 0.90) with each other as they all describe the amount of money that is given to a loan applicant. **SBA_Appv** will be kept, while **DisbursementGross** and **GrAppv** will be removed as they are both like **SBA_Appv**, but do not represent the final loan amount an applicant will receive.  Please see the correlation matrix in the **Data Preparation** section for more details.\n",
    "\n",
    "**LoannNr_ChkDgt** is the primary key for this dataset.  They were removed.   \n",
    "**Name** remove – there was no need to know the name of the loan applicate or business.  \n",
    "**City** remove - how this might be useful we decided that there is no need to have city due to loans can originate from different cities where the applicant works and uses the loan.   \n",
    "**Zip** remove – it is ideal to have the zip code of where the loan originated so we can see where the demographics of most loans are generated but that is not part of this exercise, so we got rid of the zip.   \n",
    "**BankState** remove – this is not good to use because well known banks will be in most popular area and not the rural area. The demographic is skewed as we have identified in the bank state demographic graph.   \n",
    "**ChgOffDate** remove – once a loan has defaulted, there is a charge off date. We are not using it.   \n",
    "**Term** keep – this is a good indicator to determine if the loan will be defaulted due to the terms, some loans have short terms and most of them have long terms.   \n",
    "**NoEmp** keep – this is the number of employees generated from the loan.    \n",
    "**FranchiseCode** keep – this indicates what type of businesses are requesting loans and which ones are likely to pay back the loan.    \n",
    "**BalanceGross** keep – this variable indicates how much needs to be repaid. Larger loan might have large balances if they are not paid back quickly.  \n"
   ]
  },
  {
   "cell_type": "markdown",
   "metadata": {
    "colab_type": "text",
    "id": "-lvRtp_vZkoJ"
   },
   "source": [
    "### Feature Engineering"
   ]
  },
  {
   "cell_type": "markdown",
   "metadata": {
    "colab_type": "text",
    "id": "QbZNiPlHZkoJ"
   },
   "source": [
    "**State**, **Bank**, **NAICS**, **ApprovalFY, **NewExist**, **UrbanRural**, **RevlineCr**, and **LowDoc** are features that require binning and/or one-hot-encoding.  These features may require additional cleaning and may have many categories.  Consolidating the number of categories can assist with reducing overfitting and reduce the computational load it would take to find weights for the numerous levels that exist in some of the features."
   ]
  },
  {
   "cell_type": "markdown",
   "metadata": {
    "colab_type": "text",
    "id": "TT_AiPgEZkoL"
   },
   "source": [
    "#### Categorical Features"
   ]
  },
  {
   "cell_type": "markdown",
   "metadata": {
    "colab_type": "text",
    "id": "4wj0HCfOZkoL"
   },
   "source": [
    "**Bank** contains over 5,803 unique levels.  Using this many levels in a model may lead to overfitting.  To avoid this situation the large volume of banks will be reduced by consolidating and binning into nine bins.  These bins will contain the top eight banks, and an 'other' category containing the other smaller banks.  The other category was created by renaming all banks that were not in the 'major_banks' list to 'other'.  The .describe() function was then run on the modified feature to confirm that the correct number of categories were created."
   ]
  },
  {
   "cell_type": "code",
   "execution_count": 15,
   "metadata": {
    "colab": {
     "base_uri": "https://localhost:8080/",
     "height": 308
    },
    "colab_type": "code",
    "id": "vfrlck4sZkoP",
    "outputId": "e32ccc57-a205-4f5b-daeb-e20a09786d19"
   },
   "outputs": [
    {
     "data": {
      "text/plain": [
       "BANK OF AMERICA NATL ASSOC        24845\n",
       "BBCN BANK                         13690\n",
       "JPMORGAN CHASE BANK NATL ASSOC    13446\n",
       "CAPITAL ONE NATL ASSOC             9479\n",
       "WELLS FARGO BANK NATL ASSOC        9146\n",
       "CITIZENS BANK NATL ASSOC           7893\n",
       "U.S. BANK NATIONAL ASSOCIATION     6285\n",
       "PNC BANK, NATIONAL ASSOCIATION     5505\n",
       "SUPERIOR FINANCIAL GROUP, LLC      3733\n",
       "BANCO POPULAR NORTH AMERICA        3101\n",
       "READYCAP LENDING, LLC              2843\n",
       "BUSINESS LOAN CENTER, LLC          2002\n",
       "HSBC BK USA NATL ASSOC             1776\n",
       "UMPQUA BANK                        1663\n",
       "CALIFORNIA BANK & TRUST            1629\n",
       "Name: Bank, dtype: int64"
      ]
     },
     "execution_count": 15,
     "metadata": {},
     "output_type": "execute_result"
    }
   ],
   "source": [
    "loans['Bank'].value_counts().head(15)"
   ]
  },
  {
   "cell_type": "code",
   "execution_count": 16,
   "metadata": {
    "colab": {},
    "colab_type": "code",
    "id": "9j2Ek81CZkoT"
   },
   "outputs": [],
   "source": [
    "# Banks create buckets for top 19 banks + other\n",
    "major_bank = ['BANK OF AMERICA NATL ASSOC', 'WELLS FARGO BANK NATL ASSOC',\n",
    "              'JPMORGAN CHASE BANK NATL ASSOC','U.S. BANK NATIONAL ASSOCIATION',\n",
    "              'CITIZENS BANK NATL ASSOC','PNC BANK, NATIONAL ASSOCIATION',\n",
    "             'BBCN BANK','CAPITAL ONE NATL ASSOC']\n",
    "\n",
    "loans.loc[~loans[\"Bank\"].isin(major_bank), \"Bank\"] = \"Other\""
   ]
  },
  {
   "cell_type": "markdown",
   "metadata": {
    "colab_type": "text",
    "id": "ybwRZPI0ZkoV"
   },
   "source": [
    "A barchart was also created for the modified **Bank** to visually confirm that there are eight major banks followed by an 'other' category.  We can see that the Bank of America is one of the larger banks by loan applicaiton volume followed by Wells Fargo.  However, many loans are aquired through other banks, perhaps many of them local.  A for loop was applied to show the frequencies of loans that the banks have per bin."
   ]
  },
  {
   "cell_type": "code",
   "execution_count": 17,
   "metadata": {
    "colab": {
     "base_uri": "https://localhost:8080/",
     "height": 536
    },
    "colab_type": "code",
    "id": "d3sGQ_9NZkoW",
    "outputId": "096ac271-c3c9-4615-f715-d0a171790833"
   },
   "outputs": [
    {
     "data": {
      "image/png": "[encoded data removed]",
      "text/plain": [
       "<Figure size 720x432 with 1 Axes>"
      ]
     },
     "metadata": {
      "needs_background": "light"
     },
     "output_type": "display_data"
    }
   ],
   "source": [
    "plt.figure(figsize=(10, 6))\n",
    "ax = sns.countplot(x =loans['Bank'] )\n",
    "plt.title(\"Bank Requency\",fontsize= 16)\n",
    "plt.xticks(rotation=45, horizontalalignment='right', fontweight='light', fontsize='medium')\n",
    "\n",
    "for p in ax.patches:#provides frequency counts\n",
    "    ax.annotate(p.get_height(),\n",
    "                (p.get_x() + p.get_width() / 2, p.get_height()),  ha = 'center', va = 'center', \n",
    "                xytext = (0, 10), textcoords = 'offset points')"
   ]
  },
  {
   "cell_type": "markdown",
   "metadata": {
    "colab_type": "text",
    "id": "Lkbm0XdiZkoa"
   },
   "source": [
    "The North American Industry Classification System (**NAICS**) is used to classify a business into 19+ sectors that specialize in different services.  To reduce the number of levels, sectors were grouped based on similar attributes. The list of sectors can be viewed in the 'Data Dictionary' section of this link:https://www.kaggle.com/mirbektoktogaraev/should-this-loan-be-approved-or-denied?select=SBAnational.csv \n",
    "\n",
    "Sectors were grouped by the first digit in their code as seen below:\n",
    "- 1 Agriculture\n",
    "- 2 Mining, Utilities, Construction\n",
    "- 3 Manufacturing\n",
    "- 4 Trade and Transportation\n",
    "- 5 Professional and Scientific\n",
    "- 6 Education and Health\n",
    "- 7 Arts and Hospitality\n",
    "- 8 other\n",
    "- 9 Public Administration\n"
   ]
  },
  {
   "cell_type": "code",
   "execution_count": 18,
   "metadata": {
    "colab": {},
    "colab_type": "code",
    "id": "_hN9Q-5RZkoa"
   },
   "outputs": [],
   "source": [
    "# create NAICS bins for 0,1,2,3,4,5,6,7,8,9\n",
    "'NAICS'\n",
    "loans['NAICS'].replace(to_replace = 0, value = 800000, inplace = True)\n",
    "loans['NAICS']= pd.cut(loans['NAICS'],\n",
    "                       [100000,200000,300000,400000,500000,600000,700000,800000,900000,1000000],\n",
    "                       labels = ['1','2','3','4','5','6','7','8','9'])"
   ]
  },
  {
   "cell_type": "code",
   "execution_count": 19,
   "metadata": {
    "colab": {
     "base_uri": "https://localhost:8080/",
     "height": 408
    },
    "colab_type": "code",
    "id": "jr2LtIcMZkod",
    "outputId": "b9154b0f-6c0b-4af4-88f5-e9b12f3aef23"
   },
   "outputs": [
    {
     "data": {
      "image/png": "[encoded data removed]",
      "text/plain": [
       "<Figure size 720x432 with 1 Axes>"
      ]
     },
     "metadata": {
      "needs_background": "light"
     },
     "output_type": "display_data"
    }
   ],
   "source": [
    "plt.figure(figsize=(10, 6))\n",
    "ax = sns.countplot(x =loans['NAICS'] )\n",
    "plt.title(\"NAICS Sectors\",fontsize= 16)\n",
    "plt.xticks(rotation=45, horizontalalignment='right', fontweight='light', fontsize='medium')\n",
    "\n",
    "for p in ax.patches:\n",
    "    ax.annotate(p.get_height(),\n",
    "                (p.get_x() + p.get_width() / 2, p.get_height()), \n",
    "                ha = 'center', va = 'center', \n",
    "                xytext = (0, 10), textcoords = 'offset points')"
   ]
  },
  {
   "cell_type": "markdown",
   "metadata": {
    "colab_type": "text",
    "id": "3K9xDueGZkof"
   },
   "source": [
    "**ApprovalFY** has values from 1962 to 2014, with several values coded 1976A in an object format.  Since there is a large range of values and characters present in some of the values, 1976A will be converted to 1976, followed binning values by decade.  This will result in 5 bins.  We can see that after preforming the binning, the 2000-2010 bucket has the most values at 509174 loan applications.  The .describe funtion was run to confirm that the correct number of categories were created, followed by a barchart for visual inspection.  Many loan applications occured during the 2000-2010 decade, followed by the 1990-2000 decade."
   ]
  },
  {
   "cell_type": "code",
   "execution_count": 20,
   "metadata": {
    "colab": {
     "base_uri": "https://localhost:8080/",
     "height": 108
    },
    "colab_type": "code",
    "id": "OBPOiPwVZkog",
    "outputId": "0344f8df-596b-402d-b626-9e8ca18d5554"
   },
   "outputs": [],
   "source": [
    "# Create ApprovalFY buckets spread by decade, 1976A need to be cleaned\n",
    "loans['ApprovalFY'].replace(to_replace = '1976A', value = '1976', inplace = True)\n",
    "loans['ApprovalFY'] = loans['ApprovalFY'].astype(int)\n",
    "loans['ApprovalFY_decade']= pd.cut(loans['ApprovalFY'],[1970,1980,1990,2000,2010,2020])\n",
    "#loans['ApprovalFY_decade'].describe()"
   ]
  },
  {
   "cell_type": "code",
   "execution_count": 21,
   "metadata": {},
   "outputs": [],
   "source": [
    "# look at failure rate at month of term\n",
    "# decade loan becomes proxy for term\n",
    "# don't use this feature??? \n",
    "# charge off rate/"
   ]
  },
  {
   "cell_type": "code",
   "execution_count": 22,
   "metadata": {
    "colab": {
     "base_uri": "https://localhost:8080/",
     "height": 450
    },
    "colab_type": "code",
    "id": "MG8Hhj00Zkoj",
    "outputId": "cefdd813-23c0-4898-e749-b67a21d62beb"
   },
   "outputs": [
    {
     "data": {
      "image/png": "[encoded data removed]",
      "text/plain": [
       "<Figure size 720x432 with 1 Axes>"
      ]
     },
     "metadata": {
      "needs_background": "light"
     },
     "output_type": "display_data"
    }
   ],
   "source": [
    "#Bucket ApprovalFY by decade\n",
    "plt.figure(figsize=(10, 6))\n",
    "ax = sns.countplot(x =loans['ApprovalFY_decade'] )\n",
    "plt.title(\"ApprovalFY by Decade\",fontsize= 16)\n",
    "plt.xticks(rotation=45, horizontalalignment='right', fontweight='light', fontsize='medium')\n",
    "\n",
    "for p in ax.patches:\n",
    "    ax.annotate(p.get_height(),\n",
    "                (p.get_x() + p.get_width() / 2, p.get_height()), \n",
    "                ha = 'center', va = 'center', \n",
    "                xytext = (0, 10), textcoords = 'offset points')"
   ]
  },
  {
   "cell_type": "markdown",
   "metadata": {
    "colab_type": "text",
    "id": "YXtCnh2_Zkol"
   },
   "source": [
    "**RevLineCr**, or Revolving Line of Credit should have values coded \"Y\" or \"N\".  We can see that there are 18 categories when there should be two.  All values coded \"0\" were converted to \"N\"; all values with \"1\" were coded to \"Y\", and all character values were coded as \"N\".  A plot below confirms that after cleaning that there are two classes."
   ]
  },
  {
   "cell_type": "code",
   "execution_count": 23,
   "metadata": {
    "colab": {
     "base_uri": "https://localhost:8080/",
     "height": 376
    },
    "colab_type": "code",
    "id": "vaxqO16yZkom",
    "outputId": "86f06b69-57b7-4829-aebc-a1aba6bf37db"
   },
   "outputs": [
    {
     "data": {
      "text/plain": [
       "(array([0, 1, 2, 3, 4, 5, 6]), <a list of 7 Text xticklabel objects>)"
      ]
     },
     "execution_count": 23,
     "metadata": {},
     "output_type": "execute_result"
    },
    {
     "data": {
      "image/png": "[encoded data removed]",
      "text/plain": [
       "<Figure size 432x288 with 1 Axes>"
      ]
     },
     "metadata": {
      "needs_background": "light"
     },
     "output_type": "display_data"
    }
   ],
   "source": [
    "# RevLineCredit: delete special characters 14 total, recode numbers to letters\n",
    "ax = sns.countplot(x =loans['RevLineCr'] )\n",
    "plt.title(\"RevLineCr Frequencies\",fontsize= 16)\n",
    "plt.xticks(rotation=45, horizontalalignment='right', fontweight='light', fontsize='medium')"
   ]
  },
  {
   "cell_type": "code",
   "execution_count": 24,
   "metadata": {
    "colab": {
     "base_uri": "https://localhost:8080/",
     "height": 317
    },
    "colab_type": "code",
    "id": "bIJ84rA2Zkoo",
    "outputId": "cc33c194-bb49-4919-c0b5-91aa431e2296"
   },
   "outputs": [
    {
     "data": {
      "text/plain": [
       "(array([0, 1]), <a list of 2 Text xticklabel objects>)"
      ]
     },
     "execution_count": 24,
     "metadata": {},
     "output_type": "execute_result"
    },
    {
     "data": {
      "image/png": "[encoded data removed]",
      "text/plain": [
       "<Figure size 432x288 with 1 Axes>"
      ]
     },
     "metadata": {
      "needs_background": "light"
     },
     "output_type": "display_data"
    }
   ],
   "source": [
    "loans['RevLineCr'].replace(to_replace = ['Y','1'], value = 1, inplace = True)\n",
    "loans['RevLineCr'].replace(to_replace = ['N','0'], value = 0, inplace = True)\n",
    "no = ['T','`','Not Provided',\",\",'C','3','2','R','7','A','5','.','4',\"'\",'Q','-']\n",
    "loans['RevLineCr'].replace(to_replace = no, value = 0, inplace = True)\n",
    "\n",
    "ax = sns.countplot(x =loans['RevLineCr'] )\n",
    "plt.title(\"RevLineCr Frequencies\",fontsize= 16)\n",
    "plt.xticks(rotation=45, horizontalalignment='right', fontweight='light', fontsize='medium')"
   ]
  },
  {
   "cell_type": "markdown",
   "metadata": {
    "colab_type": "text",
    "id": "I5co8qWPZkor"
   },
   "source": [
    "**LowDoc** has 9 categories when it should have 3.  All values with \"Y\" will be coded as 1; values with \"N\" will be coded as 0; all other values will be coded as 0.  We can see that most loan applicants are not part of the LowDoc loan program in the barchart below.  After reorganization we can see that there are 2 categories with 0 being the largest with 788,817 records."
   ]
  },
  {
   "cell_type": "code",
   "execution_count": 25,
   "metadata": {
    "colab": {
     "base_uri": "https://localhost:8080/",
     "height": 376
    },
    "colab_type": "code",
    "id": "rGwoZ2nUZkou",
    "outputId": "700694e5-f230-4913-fa02-4385bc16205c"
   },
   "outputs": [
    {
     "data": {
      "text/plain": [
       "(array([0, 1, 2, 3, 4, 5, 6, 7]), <a list of 8 Text xticklabel objects>)"
      ]
     },
     "execution_count": 25,
     "metadata": {},
     "output_type": "execute_result"
    },
    {
     "data": {
      "image/png": "[encoded data removed]",
      "text/plain": [
       "<Figure size 432x288 with 1 Axes>"
      ]
     },
     "metadata": {
      "needs_background": "light"
     },
     "output_type": "display_data"
    }
   ],
   "source": [
    "# LowDoc: covert everything to Y or N\n",
    "ax = sns.countplot(x =loans['LowDoc'] )\n",
    "plt.title(\"LowDoc Frequencies\",fontsize= 16)\n",
    "plt.xticks(rotation=45, horizontalalignment='right', fontweight='light', fontsize='medium')"
   ]
  },
  {
   "cell_type": "code",
   "execution_count": 26,
   "metadata": {
    "colab": {},
    "colab_type": "code",
    "id": "JBBCJ7qRZkow"
   },
   "outputs": [],
   "source": [
    "loans['LowDoc'].replace(to_replace = ['Y','1'], value = 1, inplace = True)\n",
    "loans['LowDoc'].replace(to_replace = ['N','0'], value = 0, inplace = True)\n",
    "no = ['C','S','Not Provided','S','R','A']\n",
    "loans['LowDoc'].replace(to_replace = no, value = 0, inplace = True)"
   ]
  },
  {
   "cell_type": "code",
   "execution_count": 27,
   "metadata": {
    "colab": {
     "base_uri": "https://localhost:8080/",
     "height": 317
    },
    "colab_type": "code",
    "id": "JfKfuChtZkoy",
    "outputId": "57c4dac9-8896-45f1-c986-81de8e34a163"
   },
   "outputs": [
    {
     "data": {
      "text/plain": [
       "(array([0, 1]), <a list of 2 Text xticklabel objects>)"
      ]
     },
     "execution_count": 27,
     "metadata": {},
     "output_type": "execute_result"
    },
    {
     "data": {
      "image/png": "[encoded data removed]",
      "text/plain": [
       "<Figure size 432x288 with 1 Axes>"
      ]
     },
     "metadata": {
      "needs_background": "light"
     },
     "output_type": "display_data"
    }
   ],
   "source": [
    "ax = sns.countplot(x =loans['LowDoc'] )\n",
    "plt.title(\"LowDoc Frequencies\",fontsize= 16)\n",
    "plt.xticks(rotation=45, horizontalalignment='right', fontweight='light', fontsize='medium')"
   ]
  },
  {
   "cell_type": "markdown",
   "metadata": {
    "colab_type": "text",
    "id": "zEULAVtxZko1"
   },
   "source": [
    "**FRANCHISE CODE** is a feature that describes if a business is a franchise or not and is denoted with '0' being no, and '1' being yes.  All records that were not coded as '0' were recoded to '1'.  Some examples of this would be records with 'Y', which would then be recoded to '1'.  The plot below confirms the cleaning and that two classes remain."
   ]
  },
  {
   "cell_type": "code",
   "execution_count": 28,
   "metadata": {
    "colab": {
     "base_uri": "https://localhost:8080/",
     "height": 408
    },
    "colab_type": "code",
    "id": "F76CLTq7Zko1",
    "outputId": "a891901d-8a36-4f0b-fc26-08ae98e1868f"
   },
   "outputs": [
    {
     "name": "stderr",
     "output_type": "stream",
     "text": [
      "C:\\Users\\Jeff\\Anaconda3\\lib\\site-packages\\pandas\\core\\indexing.py:670: SettingWithCopyWarning: \n",
      "A value is trying to be set on a copy of a slice from a DataFrame\n",
      "\n",
      "See the caveats in the documentation: https://pandas.pydata.org/pandas-docs/stable/user_guide/indexing.html#returning-a-view-versus-a-copy\n",
      "  self._setitem_with_indexer(indexer, value)\n"
     ]
    },
    {
     "data": {
      "text/plain": [
       "(array([0, 1]), <a list of 2 Text xticklabel objects>)"
      ]
     },
     "execution_count": 28,
     "metadata": {},
     "output_type": "execute_result"
    },
    {
     "data": {
      "image/png": "[encoded data removed]",
      "text/plain": [
       "<Figure size 432x288 with 1 Axes>"
      ]
     },
     "metadata": {
      "needs_background": "light"
     },
     "output_type": "display_data"
    }
   ],
   "source": [
    "loans['FranchiseCode'].loc[(loans['FranchiseCode'] !=0)] = 1\n",
    "\n",
    "ax = sns.countplot(x =loans['FranchiseCode'] )\n",
    "plt.title(\"FranchiseCode Frequencies\",fontsize= 16)\n",
    "plt.xticks(rotation=45, horizontalalignment='right', fontweight='light', fontsize='medium')"
   ]
  },
  {
   "cell_type": "markdown",
   "metadata": {
    "colab_type": "text",
    "id": "PMsU-FAvZko4"
   },
   "source": [
    "There are over 50 categories for the **State** feature, where each category is a state or military address.  If all the states were converted via one-hot-encoding, or dummy coding, there would be a risk of overfitting.  To address this states will be grouped into the following regions: West, Midwest, Southwest, Southeast, and Northeast."
   ]
  },
  {
   "cell_type": "code",
   "execution_count": 29,
   "metadata": {
    "colab": {
     "base_uri": "https://localhost:8080/",
     "height": 600
    },
    "colab_type": "code",
    "id": "zVeMNdzvZko5",
    "outputId": "4aebcfc8-33bd-457b-e5b2-c0f0627309fe"
   },
   "outputs": [
    {
     "data": {
      "text/plain": [
       "(array([ 0,  1,  2,  3,  4,  5,  6,  7,  8,  9, 10, 11, 12, 13, 14, 15, 16,\n",
       "        17, 18, 19, 20, 21, 22, 23, 24, 25, 26, 27, 28, 29, 30, 31, 32, 33,\n",
       "        34, 35, 36, 37, 38, 39, 40, 41, 42, 43, 44, 45, 46, 47, 48, 49, 50,\n",
       "        51, 52]),\n",
       " <a list of 53 Text xticklabel objects>)"
      ]
     },
     "execution_count": 29,
     "metadata": {},
     "output_type": "execute_result"
    },
    {
     "data": {
      "image/png": "[encoded data removed]",
      "text/plain": [
       "<Figure size 1152x576 with 1 Axes>"
      ]
     },
     "metadata": {
      "needs_background": "light"
     },
     "output_type": "display_data"
    }
   ],
   "source": [
    "# State Distribution\n",
    "plt.figure(figsize=(16,8))\n",
    "ax = sns.countplot(x =loans['State'] )\n",
    "plt.title(\"State Frequencies\",fontsize= 16)\n",
    "plt.xticks(rotation=45, horizontalalignment='right', fontweight='light', fontsize='medium')"
   ]
  },
  {
   "cell_type": "markdown",
   "metadata": {
    "colab_type": "text",
    "id": "ZUsJp4jCZko6"
   },
   "source": [
    "After the **State** feature was binned by region, we can see that the 'West' has the most loan applocations, followed by the 'Northeast' and 'Midwest'.  The code below assigns each state to a region based on this map found on National Geographic:https://www.nationalgeographic.org/maps/united-states-regions/\n",
    "\n",
    "The binning was confirmed by a barchart to ensure that all states were properly assigned to a region.  The barchart include frequency counts for ease of reading and was generated using a for loop."
   ]
  },
  {
   "cell_type": "code",
   "execution_count": 30,
   "metadata": {
    "colab": {
     "base_uri": "https://localhost:8080/",
     "height": 548
    },
    "colab_type": "code",
    "id": "4-ljO1jZZko7",
    "outputId": "81d8dee1-975b-4e12-fd94-5fee9f69233a"
   },
   "outputs": [
    {
     "data": {
      "image/png": "[encoded data removed]",
      "text/plain": [
       "<Figure size 1152x576 with 1 Axes>"
      ]
     },
     "metadata": {
      "needs_background": "light"
     },
     "output_type": "display_data"
    }
   ],
   "source": [
    "#Generate list of states\n",
    "west = ['WA','OR','CA','NV','UT','CO','WY','MT','ID','AK','HI','AP','NaN']\n",
    "midwest =['ND','SD','NE','KS','MO','IA','MN','MI','IL','IN','OH','WI']\n",
    "southeast = ['AR','LA','MS','TN','KY','WV','VA','NC','SC','GA','FL','AL']\n",
    "southwest = ['AZ','TX','NM','OK']\n",
    "northeast = ['ME','VT','NH','CT','RI','NY','NJ','DE','MD','MA','PA','DC']\n",
    "\n",
    "loans['State'].replace(to_replace = west, value = 'west', inplace = True)\n",
    "loans['State'].replace(to_replace = midwest, value = 'midwest', inplace = True)\n",
    "loans['State'].replace(to_replace = southeast, value = 'southeast', inplace = True)\n",
    "loans['State'].replace(to_replace = southwest, value = 'southwest', inplace = True)\n",
    "loans['State'].replace(to_replace = northeast, value = 'northeast', inplace = True)\n",
    "\n",
    "plt.figure(figsize=(16,8))\n",
    "ax = sns.countplot(x =loans['State'] )\n",
    "plt.title(\"US Region Frequencies\",fontsize= 16)\n",
    "plt.xticks(rotation=45, horizontalalignment='right', fontweight='light', fontsize='medium')\n",
    "\n",
    "for p in ax.patches:\n",
    "    ax.annotate(p.get_height(),\n",
    "                (p.get_x() + p.get_width() / 2, p.get_height()), \n",
    "                ha = 'center', va = 'center', \n",
    "                xytext = (0, 10), textcoords = 'offset points')"
   ]
  },
  {
   "cell_type": "markdown",
   "metadata": {
    "colab_type": "text",
    "id": "tXXY-ddBZko-"
   },
   "source": [
    "#### Categorical One-hot-encoding"
   ]
  },
  {
   "cell_type": "markdown",
   "metadata": {
    "colab_type": "text",
    "id": "QKr83tF_Zko_"
   },
   "source": [
    "**Bank**, **NAICS**, **ApprovalFY_decade**, **UrbanRural**, **NewExist**, and **State** are nominal categorical features and are best represented by one-hot-encoding or as an integer.  For our models, these features will be converted to on hot encoding and the old feature will be removed.  After one-hot-encoding was complete, the .info() function was run to visually check to ensure that the function created new features and removed the old features.  Failure to remove features used to create on-hot-encoded features would introduce multicollinearity.  This property would result in an over-inflation of model metrics."
   ]
  },
  {
   "cell_type": "code",
   "execution_count": 31,
   "metadata": {
    "colab": {},
    "colab_type": "code",
    "id": "SaIJUXqtZkpA"
   },
   "outputs": [],
   "source": [
    "loans = pd.get_dummies(loans,columns=['Bank','NAICS','ApprovalFY_decade',\n",
    "                                      'UrbanRural','NewExist','State'])\n",
    "\n",
    "#Clean up dataset\n",
    "'Bank','NAICS','ApprovalFY_decade'\n",
    "if 'Bank' in loans:\n",
    "    del loans['Bank']\n",
    "    \n",
    "if 'NAICS' in loans:    \n",
    "    del loans['NAICS']\n",
    "    \n",
    "if 'ApprovalFY' in loans:    \n",
    "    del loans['ApprovalFY']\n",
    "    \n",
    "if 'State' in loans:    \n",
    "    del loans['State']  \n",
    "\n",
    "if 'UrbanRural' in loans:    \n",
    "    del loans['UrbanRural']  \n",
    "        \n",
    "if 'NewExist' in loans:    \n",
    "    del loans['NewExist']  "
   ]
  },
  {
   "cell_type": "code",
   "execution_count": 32,
   "metadata": {
    "colab": {},
    "colab_type": "code",
    "id": "BXdTbkuJsRrt"
   },
   "outputs": [],
   "source": [
    "loans = loans.dropna()#drops 14 records\n",
    "loans = loans.reset_index(drop=True) #resets index, important when converting to array"
   ]
  },
  {
   "cell_type": "code",
   "execution_count": 33,
   "metadata": {
    "colab": {
     "base_uri": "https://localhost:8080/",
     "height": 1000
    },
    "colab_type": "code",
    "id": "U_-kAd51ZkpC",
    "outputId": "f8ba937a-bff0-40f6-9123-c54a3f869860"
   },
   "outputs": [
    {
     "name": "stdout",
     "output_type": "stream",
     "text": [
      "<class 'pandas.core.frame.DataFrame'>\n",
      "RangeIndex: 162288 entries, 0 to 162287\n",
      "Data columns (total 56 columns):\n",
      " #   Column                               Non-Null Count   Dtype         \n",
      "---  ------                               --------------   -----         \n",
      " 0   LoanNr_ChkDgt                        162288 non-null  int64         \n",
      " 1   Name                                 162288 non-null  object        \n",
      " 2   City                                 162288 non-null  object        \n",
      " 3   Zip                                  162288 non-null  object        \n",
      " 4   BankState                            162288 non-null  object        \n",
      " 5   ApprovalDate                         162288 non-null  datetime64[ns]\n",
      " 6   Term                                 162288 non-null  int64         \n",
      " 7   NoEmp                                162288 non-null  int64         \n",
      " 8   CreateJob                            162288 non-null  int64         \n",
      " 9   RetainedJob                          162288 non-null  int64         \n",
      " 10  FranchiseCode                        162288 non-null  int64         \n",
      " 11  RevLineCr                            162288 non-null  int64         \n",
      " 12  LowDoc                               162288 non-null  int64         \n",
      " 13  ChgOffDate                           162288 non-null  datetime64[ns]\n",
      " 14  DisbursementDate                     162288 non-null  datetime64[ns]\n",
      " 15  DisbursementGross                    162288 non-null  float64       \n",
      " 16  BalanceGross                         162288 non-null  float64       \n",
      " 17  MIS_Status                           162288 non-null  object        \n",
      " 18  ChgOffPrinGr                         162288 non-null  float64       \n",
      " 19  GrAppv                               162288 non-null  float64       \n",
      " 20  SBA_Appv                             162288 non-null  float64       \n",
      " 21  difference_in_days                   162288 non-null  float64       \n",
      " 22  Bank_BANK OF AMERICA NATL ASSOC      162288 non-null  uint8         \n",
      " 23  Bank_BBCN BANK                       162288 non-null  uint8         \n",
      " 24  Bank_CAPITAL ONE NATL ASSOC          162288 non-null  uint8         \n",
      " 25  Bank_CITIZENS BANK NATL ASSOC        162288 non-null  uint8         \n",
      " 26  Bank_JPMORGAN CHASE BANK NATL ASSOC  162288 non-null  uint8         \n",
      " 27  Bank_Other                           162288 non-null  uint8         \n",
      " 28  Bank_PNC BANK, NATIONAL ASSOCIATION  162288 non-null  uint8         \n",
      " 29  Bank_U.S. BANK NATIONAL ASSOCIATION  162288 non-null  uint8         \n",
      " 30  Bank_WELLS FARGO BANK NATL ASSOC     162288 non-null  uint8         \n",
      " 31  NAICS_1                              162288 non-null  uint8         \n",
      " 32  NAICS_2                              162288 non-null  uint8         \n",
      " 33  NAICS_3                              162288 non-null  uint8         \n",
      " 34  NAICS_4                              162288 non-null  uint8         \n",
      " 35  NAICS_5                              162288 non-null  uint8         \n",
      " 36  NAICS_6                              162288 non-null  uint8         \n",
      " 37  NAICS_7                              162288 non-null  uint8         \n",
      " 38  NAICS_8                              162288 non-null  uint8         \n",
      " 39  NAICS_9                              162288 non-null  uint8         \n",
      " 40  ApprovalFY_decade_(1970, 1980]       162288 non-null  uint8         \n",
      " 41  ApprovalFY_decade_(1980, 1990]       162288 non-null  uint8         \n",
      " 42  ApprovalFY_decade_(1990, 2000]       162288 non-null  uint8         \n",
      " 43  ApprovalFY_decade_(2000, 2010]       162288 non-null  uint8         \n",
      " 44  ApprovalFY_decade_(2010, 2020]       162288 non-null  uint8         \n",
      " 45  UrbanRural_0                         162288 non-null  uint8         \n",
      " 46  UrbanRural_1                         162288 non-null  uint8         \n",
      " 47  UrbanRural_2                         162288 non-null  uint8         \n",
      " 48  NewExist_0                           162288 non-null  uint8         \n",
      " 49  NewExist_1                           162288 non-null  uint8         \n",
      " 50  NewExist_2                           162288 non-null  uint8         \n",
      " 51  State_midwest                        162288 non-null  uint8         \n",
      " 52  State_northeast                      162288 non-null  uint8         \n",
      " 53  State_southeast                      162288 non-null  uint8         \n",
      " 54  State_southwest                      162288 non-null  uint8         \n",
      " 55  State_west                           162288 non-null  uint8         \n",
      "dtypes: datetime64[ns](3), float64(6), int64(8), object(5), uint8(34)\n",
      "memory usage: 32.5+ MB\n"
     ]
    }
   ],
   "source": [
    "loans.info()"
   ]
  },
  {
   "cell_type": "markdown",
   "metadata": {
    "colab_type": "text",
    "id": "Wz6uOvNIZkpE"
   },
   "source": [
    "After additional cleaning and binning of the categorical features we can see that the number of unique levels has decreased.  Having fewer levels per features should reduce the computational load and potential overfitting when running our classification algorithms."
   ]
  },
  {
   "cell_type": "markdown",
   "metadata": {
    "colab_type": "text",
    "id": "m1hoIm-4ZkpF"
   },
   "source": [
    "### Quantitative Features"
   ]
  },
  {
   "cell_type": "markdown",
   "metadata": {
    "colab_type": "text",
    "id": "0raKEMwEZkpF"
   },
   "source": [
    "The correlation matrix below shows continuous features that help determine if a loan is paid in full or if it defaults.  The correlation matrix shows that **DisbursementGross** is strongly and positively with **SBA_Appr** and **GrAppv**; and **SBA_Appr** is strongly and positively correlated with **GrAppv**. **NoEmp** and **Term** feature show moderate or low correlation compared to the remaining features. **DisbursementGross**, **SBA_Appr** and **GrAppv** all relate to the amount of money a small business is approved for or received and the correlation matrix shows how strongly correlated those values are. It is most likely that values from DisbursementGross, **SBA_Appr** and **GrAppv** are the same or are very close to each other.\n",
    "\n",
    "One assumption for logistic regression is minimal multicollinearity.  **DisbursmentGross**, **GRAppv**, and **SBA_Appv** are highly correlated (r > 0.90) with each other as they all describe the amount of money that is given to a loan applicant.  Since the **SBA_Appv** feature describes the amount of money that is approved and guaranteed to an applicant it will be kept.  **DisbursementGross** and **GrAppv** will be removed as they are both like **SBA_Appv**, but do not represent the final loan amount an applicant will receive."
   ]
  },
  {
   "cell_type": "code",
   "execution_count": 41,
   "metadata": {
    "colab": {
     "base_uri": "https://localhost:8080/",
     "height": 388
    },
    "colab_type": "code",
    "id": "IMKZIorqZkpF",
    "outputId": "833ea2cf-d47d-4b04-826e-fb6cef8e046e"
   },
   "outputs": [
    {
     "data": {
      "text/plain": [
       "<matplotlib.axes._subplots.AxesSubplot at 0x22935aa3148>"
      ]
     },
     "execution_count": 41,
     "metadata": {},
     "output_type": "execute_result"
    },
    {
     "data": {
      "image/png": "[encoded data removed]",
      "text/plain": [
       "<Figure size 432x288 with 2 Axes>"
      ]
     },
     "metadata": {},
     "output_type": "display_data"
    }
   ],
   "source": [
    "normal_data =['DisbursementGross', 'GrAppv', 'NoEmp', 'Term', 'SBA_Appv','ChgOffPrinGr', \n",
    "              'BalanceGross','BankState','difference_in_days']\n",
    "loans_corr = loans[normal_data]\n",
    "\n",
    "cmap = sns.diverging_palette(220, 10, as_cmap=True) # one of the many color mappings\n",
    "\n",
    "#Generate a correlation matrix of transformed data\n",
    "sns.set(style=\"darkgrid\") # one of the many styles to plot using\n",
    "sns.heatmap(loans_corr.corr(), cmap=cmap, annot=True)"
   ]
  },
  {
   "cell_type": "code",
   "execution_count": 42,
   "metadata": {},
   "outputs": [
    {
     "data": {
      "text/html": [
       "<div>\n",
       "<style scoped>\n",
       "    .dataframe tbody tr th:only-of-type {\n",
       "        vertical-align: middle;\n",
       "    }\n",
       "\n",
       "    .dataframe tbody tr th {\n",
       "        vertical-align: top;\n",
       "    }\n",
       "\n",
       "    .dataframe thead th {\n",
       "        text-align: right;\n",
       "    }\n",
       "</style>\n",
       "<table border=\"1\" class=\"dataframe\">\n",
       "  <thead>\n",
       "    <tr style=\"text-align: right;\">\n",
       "      <th></th>\n",
       "      <th>NoEmp</th>\n",
       "      <th>Term</th>\n",
       "      <th>DisbursementGross</th>\n",
       "      <th>GrAppv</th>\n",
       "      <th>SBA_Appv</th>\n",
       "      <th>difference_in_days</th>\n",
       "    </tr>\n",
       "  </thead>\n",
       "  <tbody>\n",
       "    <tr>\n",
       "      <th>0</th>\n",
       "      <td>0.577632</td>\n",
       "      <td>-0.253604</td>\n",
       "      <td>2.240397</td>\n",
       "      <td>2.302824</td>\n",
       "      <td>2.698044</td>\n",
       "      <td>-0.088879</td>\n",
       "    </tr>\n",
       "    <tr>\n",
       "      <th>1</th>\n",
       "      <td>-0.079410</td>\n",
       "      <td>1.733576</td>\n",
       "      <td>-0.395441</td>\n",
       "      <td>-0.332451</td>\n",
       "      <td>-0.290884</td>\n",
       "      <td>0.383456</td>\n",
       "    </tr>\n",
       "    <tr>\n",
       "      <th>2</th>\n",
       "      <td>0.134511</td>\n",
       "      <td>1.366379</td>\n",
       "      <td>0.321836</td>\n",
       "      <td>0.396657</td>\n",
       "      <td>0.435666</td>\n",
       "      <td>-0.088879</td>\n",
       "    </tr>\n",
       "    <tr>\n",
       "      <th>3</th>\n",
       "      <td>0.027551</td>\n",
       "      <td>2.381569</td>\n",
       "      <td>5.815223</td>\n",
       "      <td>5.876886</td>\n",
       "      <td>6.010843</td>\n",
       "      <td>-0.279125</td>\n",
       "    </tr>\n",
       "    <tr>\n",
       "      <th>4</th>\n",
       "      <td>0.042831</td>\n",
       "      <td>-1.074396</td>\n",
       "      <td>-0.500303</td>\n",
       "      <td>-0.437290</td>\n",
       "      <td>-0.453130</td>\n",
       "      <td>1.774220</td>\n",
       "    </tr>\n",
       "  </tbody>\n",
       "</table>\n",
       "</div>"
      ],
      "text/plain": [
       "      NoEmp      Term  DisbursementGross    GrAppv  SBA_Appv  \\\n",
       "0  0.577632 -0.253604           2.240397  2.302824  2.698044   \n",
       "1 -0.079410  1.733576          -0.395441 -0.332451 -0.290884   \n",
       "2  0.134511  1.366379           0.321836  0.396657  0.435666   \n",
       "3  0.027551  2.381569           5.815223  5.876886  6.010843   \n",
       "4  0.042831 -1.074396          -0.500303 -0.437290 -0.453130   \n",
       "\n",
       "   difference_in_days  \n",
       "0           -0.088879  \n",
       "1            0.383456  \n",
       "2           -0.088879  \n",
       "3           -0.279125  \n",
       "4            1.774220  "
      ]
     },
     "execution_count": 42,
     "metadata": {},
     "output_type": "execute_result"
    }
   ],
   "source": [
    "from sklearn.preprocessing import StandardScaler #standardizes data\n",
    "from sklearn.preprocessing import LabelEncoder # converts categories to int\n",
    "\n",
    "pca_data = ['NoEmp','Term','DisbursementGross','GrAppv','SBA_Appv','difference_in_days']\n",
    "pca_df = loans[pca_data]\n",
    "\n",
    "# Standardize continuous data\n",
    "df_scaled = pd.DataFrame(StandardScaler().fit_transform(pca_df),columns = pca_df.columns)\n",
    "\n",
    "#Check that data frame is complete\n",
    "df_scaled.head()"
   ]
  },
  {
   "cell_type": "code",
   "execution_count": 43,
   "metadata": {},
   "outputs": [
    {
     "data": {
      "text/plain": [
       "Text(0.5, 1.0, 'PCA Scree Plot')"
      ]
     },
     "execution_count": 43,
     "metadata": {},
     "output_type": "execute_result"
    },
    {
     "data": {
      "image/png": "[encoded data removed]",
      "text/plain": [
       "<Figure size 432x288 with 1 Axes>"
      ]
     },
     "metadata": {},
     "output_type": "display_data"
    }
   ],
   "source": [
    "from sklearn.decomposition import PCA\n",
    "#run PCA\n",
    "pca = PCA(n_components=5)\n",
    "X_pca = pca.fit(df_scaled).transform(df_scaled)\n",
    "\n",
    "#Scree Plot\n",
    "percent_variance = np.round(pca.explained_variance_ratio_* 100, decimals =2)\n",
    "plt.plot(range(1,6),percent_variance)\n",
    "plt.ylabel('Percentate of Variance Explained')\n",
    "plt.xlabel('Principal Component')\n",
    "plt.title('PCA Scree Plot')"
   ]
  },
  {
   "cell_type": "code",
   "execution_count": 44,
   "metadata": {},
   "outputs": [],
   "source": [
    "#Run PCA on continuous features\n",
    "pca = PCA(n_components=2)\n",
    "X_sm_pca2 = pca.fit_transform(df_scaled)\n",
    "\n",
    "#Isolate 1st 2 principal components as indicated in scree plot\n",
    "prin_com = pd.DataFrame(X_sm_pca2)\n",
    "prin_com = prin_com.rename(columns={0: \"PC1\", 1: \"PC2\"})"
   ]
  },
  {
   "cell_type": "code",
   "execution_count": 47,
   "metadata": {},
   "outputs": [
    {
     "data": {
      "text/plain": [
       "<matplotlib.collections.PathCollection at 0x22935993648>"
      ]
     },
     "execution_count": 47,
     "metadata": {},
     "output_type": "execute_result"
    },
    {
     "data": {
      "image/png": "[encoded data removed]",
      "text/plain": [
       "<Figure size 432x288 with 1 Axes>"
      ]
     },
     "metadata": {},
     "output_type": "display_data"
    }
   ],
   "source": [
    "import matplotlib.pyplot as plt\n",
    "\n",
    "normal_data =['DisbursementGross', 'GrAppv', 'NoEmp', 'Term', 'SBA_Appv','ChgOffPrinGr', \n",
    "              'BalanceGross','BankState','difference_in_days']\n",
    "\n",
    "plt.scatter(loans['DisbursementGross'],loans['GrAppv'])"
   ]
  },
  {
   "cell_type": "code",
   "execution_count": 48,
   "metadata": {},
   "outputs": [
    {
     "data": {
      "text/plain": [
       "<matplotlib.collections.PathCollection at 0x229359ba5c8>"
      ]
     },
     "execution_count": 48,
     "metadata": {},
     "output_type": "execute_result"
    },
    {
     "data": {
      "image/png": "[encoded data removed]",
      "text/plain": [
       "<Figure size 432x288 with 1 Axes>"
      ]
     },
     "metadata": {},
     "output_type": "display_data"
    }
   ],
   "source": [
    "plt.scatter(loans['DisbursementGross'],loans['ChgOffPrinGr'])"
   ]
  },
  {
   "cell_type": "code",
   "execution_count": 50,
   "metadata": {},
   "outputs": [
    {
     "data": {
      "text/plain": [
       "<matplotlib.collections.PathCollection at 0x22935987e48>"
      ]
     },
     "execution_count": 50,
     "metadata": {},
     "output_type": "execute_result"
    },
    {
     "data": {
      "image/png": "[encoded data removed]",
      "text/plain": [
       "<Figure size 432x288 with 1 Axes>"
      ]
     },
     "metadata": {},
     "output_type": "display_data"
    }
   ],
   "source": [
    "plt.scatter(loans['SBA_Appv'],loans['ChgOffPrinGr'])"
   ]
  },
  {
   "cell_type": "code",
   "execution_count": 64,
   "metadata": {},
   "outputs": [
    {
     "data": {
      "text/plain": [
       "<matplotlib.collections.PathCollection at 0x2293589a688>"
      ]
     },
     "execution_count": 64,
     "metadata": {},
     "output_type": "execute_result"
    },
    {
     "data": {
      "image/png": "[encoded data removed]",
      "text/plain": [
       "<Figure size 432x288 with 1 Axes>"
      ]
     },
     "metadata": {},
     "output_type": "display_data"
    }
   ],
   "source": [
    "plt.scatter(loans['Term'],loans['SBA_Appv'])"
   ]
  },
  {
   "cell_type": "code",
   "execution_count": 62,
   "metadata": {},
   "outputs": [
    {
     "data": {
      "text/plain": [
       "KMeans(algorithm='auto', copy_x=True, init='k-means++', max_iter=300,\n",
       "       n_clusters=20, n_init=5, n_jobs=-1, precompute_distances='auto',\n",
       "       random_state=None, tol=0.0001, verbose=0)"
      ]
     },
     "execution_count": 62,
     "metadata": {},
     "output_type": "execute_result"
    }
   ],
   "source": [
    "from sklearn.cluster import KMeans\n",
    "\n",
    "cluster = ['Term','ChgOffPrinGr']\n",
    "cluster_data = loans[cluster]\n",
    "\n",
    "#--------Change parameters below this line---------------------------\n",
    "# CHANGE THE PARAMETERS HERE TO GET A CONSISTENTLY OPTIMAL CLUSTERING\n",
    "# run kmeans algorithm (this is the most traditional use of k-means)\n",
    "kmeans = KMeans(\n",
    "    init='k-means++',    # initialization\n",
    "    n_clusters=20,    # number of clusters\n",
    "    n_init=5,         # number of different times to run k-means\n",
    "    n_jobs=-1)\n",
    "#--------Change parameters above this line---------------------------\n",
    "\n",
    "kmeans.fit(cluster_data)"
   ]
  },
  {
   "cell_type": "code",
   "execution_count": 59,
   "metadata": {},
   "outputs": [
    {
     "data": {
      "text/html": [
       "<div>\n",
       "<style scoped>\n",
       "    .dataframe tbody tr th:only-of-type {\n",
       "        vertical-align: middle;\n",
       "    }\n",
       "\n",
       "    .dataframe tbody tr th {\n",
       "        vertical-align: top;\n",
       "    }\n",
       "\n",
       "    .dataframe thead th {\n",
       "        text-align: right;\n",
       "    }\n",
       "</style>\n",
       "<table border=\"1\" class=\"dataframe\">\n",
       "  <thead>\n",
       "    <tr style=\"text-align: right;\">\n",
       "      <th></th>\n",
       "      <th>Term</th>\n",
       "      <th>ChgOffPrinGr</th>\n",
       "    </tr>\n",
       "  </thead>\n",
       "  <tbody>\n",
       "    <tr>\n",
       "      <th>0</th>\n",
       "      <td>45</td>\n",
       "      <td>208959.0</td>\n",
       "    </tr>\n",
       "    <tr>\n",
       "      <th>1</th>\n",
       "      <td>137</td>\n",
       "      <td>14084.0</td>\n",
       "    </tr>\n",
       "    <tr>\n",
       "      <th>2</th>\n",
       "      <td>120</td>\n",
       "      <td>44374.0</td>\n",
       "    </tr>\n",
       "    <tr>\n",
       "      <th>3</th>\n",
       "      <td>167</td>\n",
       "      <td>1043508.0</td>\n",
       "    </tr>\n",
       "    <tr>\n",
       "      <th>4</th>\n",
       "      <td>7</td>\n",
       "      <td>23484.0</td>\n",
       "    </tr>\n",
       "    <tr>\n",
       "      <th>...</th>\n",
       "      <td>...</td>\n",
       "      <td>...</td>\n",
       "    </tr>\n",
       "    <tr>\n",
       "      <th>162283</th>\n",
       "      <td>6</td>\n",
       "      <td>6351.0</td>\n",
       "    </tr>\n",
       "    <tr>\n",
       "      <th>162284</th>\n",
       "      <td>42</td>\n",
       "      <td>78494.0</td>\n",
       "    </tr>\n",
       "    <tr>\n",
       "      <th>162285</th>\n",
       "      <td>62</td>\n",
       "      <td>124847.0</td>\n",
       "    </tr>\n",
       "    <tr>\n",
       "      <th>162286</th>\n",
       "      <td>119</td>\n",
       "      <td>0.0</td>\n",
       "    </tr>\n",
       "    <tr>\n",
       "      <th>162287</th>\n",
       "      <td>60</td>\n",
       "      <td>46383.0</td>\n",
       "    </tr>\n",
       "  </tbody>\n",
       "</table>\n",
       "<p>162288 rows × 2 columns</p>\n",
       "</div>"
      ],
      "text/plain": [
       "        Term  ChgOffPrinGr\n",
       "0         45      208959.0\n",
       "1        137       14084.0\n",
       "2        120       44374.0\n",
       "3        167     1043508.0\n",
       "4          7       23484.0\n",
       "...      ...           ...\n",
       "162283     6        6351.0\n",
       "162284    42       78494.0\n",
       "162285    62      124847.0\n",
       "162286   119           0.0\n",
       "162287    60       46383.0\n",
       "\n",
       "[162288 rows x 2 columns]"
      ]
     },
     "execution_count": 59,
     "metadata": {},
     "output_type": "execute_result"
    }
   ],
   "source": [
    "cluster_data"
   ]
  },
  {
   "cell_type": "code",
   "execution_count": 63,
   "metadata": {},
   "outputs": [
    {
     "data": {
      "image/png": "[encoded data removed]",
      "text/plain": [
       "<Figure size 432x288 with 1 Axes>"
      ]
     },
     "metadata": {},
     "output_type": "display_data"
    }
   ],
   "source": [
    "import numpy as np\n",
    "# visualize the data\n",
    "centroids = kmeans.cluster_centers_\n",
    "plt.plot(cluster_data['Term'], cluster_data['ChgOffPrinGr'], 'r.', markersize=2) #plot the data\n",
    "plt.scatter(centroids[:, 0], centroids[:, 1],\n",
    "            marker='+', s=200, linewidths=3, color='k')  # plot the centroids\n",
    "plt.title('K-means clustering for X1')\n",
    "plt.xlabel('cluster_data, Feature 1')\n",
    "plt.ylabel('cluster_data, Feature 2')\n",
    "plt.grid()\n",
    "plt.show()"
   ]
  },
  {
   "cell_type": "code",
   "execution_count": null,
   "metadata": {},
   "outputs": [],
   "source": [
    "from sklearn.cluster import DBSCAN\n",
    "\n",
    "#=====================================\n",
    "# ENTER YOUR CODE HERE TO CHANGE MINPTS AND EPS FOR EACH DATASET\n",
    "X2_minpts = 2 # from above\n",
    "X2_eps = 0.13\n",
    "X3_minpts = 40 # from above\n",
    "X3_eps = 0.18\n",
    "#=====================================\n",
    "\n",
    "for i, (data, minpts, eps) in enumerate(zip([X2,X3],[X2_minpts,X3_minpts],[X2_eps,X3_eps])):\n",
    "\n",
    "    db = DBSCAN(eps=eps, min_samples=minpts).fit(data)\n",
    "    labels = db.labels_\n",
    "\n",
    "    # Number of clusters in labels, ignoring noise if present.\n",
    "    n_clusters_ = len(set(labels)) - (1 if -1 in labels else 0)\n",
    "\n",
    "    # mark the samples that are considered \"core\"\n",
    "    core_samples_mask = np.zeros_like(db.labels_, dtype=bool)\n",
    "    core_samples_mask[db.core_sample_indices_] = True\n",
    "\n",
    "    plt.figure(figsize=(15,4))\n",
    "    unique_labels = set(labels) # the unique labels\n",
    "    colors = plt.cm.Spectral(np.linspace(0, 1, len(unique_labels)))\n",
    "    for k, col in zip(unique_labels, colors):\n",
    "        if k == -1:\n",
    "            # Black used for noise.\n",
    "            col = 'k'\n",
    "\n",
    "        class_member_mask = (labels == k)\n",
    "\n",
    "        xy = data[class_member_mask & core_samples_mask]\n",
    "        # plot the core points in this class\n",
    "        plt.plot(xy[:, 0], xy[:, 1], 'o', markerfacecolor=col,\n",
    "                 markeredgecolor='w', markersize=6)\n",
    "\n",
    "        # plot the remaining points that are edge points\n",
    "        xy = data[class_member_mask & ~core_samples_mask]\n",
    "        plt.plot(xy[:, 0], xy[:, 1], 'o', markerfacecolor=col,\n",
    "                 markeredgecolor='w', markersize=3)\n",
    "\n",
    "    plt.title('Estimated number of clusters: %d' % n_clusters_)\n",
    "    plt.grid()\n",
    "    plt.show()"
   ]
  },
  {
   "cell_type": "markdown",
   "metadata": {},
   "source": [
    "# Data Understanding 2"
   ]
  },
  {
   "cell_type": "markdown",
   "metadata": {},
   "source": [
    "### Train and Test data sets\n",
    "\n",
    "Standardized data sets were created to simplify and improve model creation and evaluation. All categorical variables were one hot encoded. All continuous explanatory variables were scaled. Lastly principle component variables were included in the data set as well. The response data set was the classifier column “MIS_Status” which is encoded “0” for failed loans and “1” for successful loans. All data sets take the form of pandas data frames with the same index numbers used throughout.\n",
    "\n",
    "Since the data set is extremely large , almost 900K records, it was possible to create a separate test data set from 30% of the data. The remaining 70% of the data was adequate for training purposes. A specialized “gridsearch” helper function is created below that automatically takes advantage of the four different test sets."
   ]
  },
  {
   "cell_type": "code",
   "execution_count": 45,
   "metadata": {},
   "outputs": [
    {
     "name": "stdout",
     "output_type": "stream",
     "text": [
      "(113601, 31) Index(['NAICS_1', 'NAICS_2', 'NAICS_3', 'NAICS_4', 'NAICS_5', 'NAICS_6',\n",
      "       'NAICS_7', 'NAICS_8', 'NAICS_9', 'ApprovalFY_decade_(1970, 1980]',\n",
      "       'ApprovalFY_decade_(1980, 1990]', 'ApprovalFY_decade_(1990, 2000]',\n",
      "       'ApprovalFY_decade_(2000, 2010]', 'ApprovalFY_decade_(2010, 2020]',\n",
      "       'UrbanRural_0', 'UrbanRural_1', 'UrbanRural_2', 'NewExist_0',\n",
      "       'NewExist_1', 'NewExist_2', 'State_midwest', 'State_northeast',\n",
      "       'State_southeast', 'State_southwest', 'State_west', 'NoEmp', 'Term',\n",
      "       'DisbursementGross', 'difference_in_days', 'PC1', 'PC2'],\n",
      "      dtype='object')\n",
      "(48687, 31) Index(['NAICS_1', 'NAICS_2', 'NAICS_3', 'NAICS_4', 'NAICS_5', 'NAICS_6',\n",
      "       'NAICS_7', 'NAICS_8', 'NAICS_9', 'ApprovalFY_decade_(1970, 1980]',\n",
      "       'ApprovalFY_decade_(1980, 1990]', 'ApprovalFY_decade_(1990, 2000]',\n",
      "       'ApprovalFY_decade_(2000, 2010]', 'ApprovalFY_decade_(2010, 2020]',\n",
      "       'UrbanRural_0', 'UrbanRural_1', 'UrbanRural_2', 'NewExist_0',\n",
      "       'NewExist_1', 'NewExist_2', 'State_midwest', 'State_northeast',\n",
      "       'State_southeast', 'State_southwest', 'State_west', 'NoEmp', 'Term',\n",
      "       'DisbursementGross', 'difference_in_days', 'PC1', 'PC2'],\n",
      "      dtype='object')\n",
      "(113601, 1) Index(['MIS_Status'], dtype='object')\n",
      "(48687, 1) Index(['MIS_Status'], dtype='object')\n"
     ]
    }
   ],
   "source": [
    "#Create Master train and test sets including PCA on scaled data for classification\n",
    "\n",
    "from sklearn.model_selection import train_test_split\n",
    "\n",
    "#combine principle components, one hot encoded and scaled data\n",
    "\n",
    "df1hot = loans[['NAICS_1', 'NAICS_2', 'NAICS_3',\n",
    "                   'NAICS_4', 'NAICS_5', 'NAICS_6', 'NAICS_7', 'NAICS_8', 'NAICS_9',\n",
    "                   'ApprovalFY_decade_(1970, 1980]', 'ApprovalFY_decade_(1980, 1990]',\n",
    "                   'ApprovalFY_decade_(1990, 2000]', 'ApprovalFY_decade_(2000, 2010]',\n",
    "                   'ApprovalFY_decade_(2010, 2020]', 'UrbanRural_0', 'UrbanRural_1',\n",
    "                   'UrbanRural_2', 'NewExist_0', 'NewExist_1', 'NewExist_2',\n",
    "                   'State_midwest', 'State_northeast', 'State_southeast',\n",
    "                   'State_southwest', 'State_west']]\n",
    "\n",
    "dfscaled = df_scaled[['NoEmp', 'Term', 'DisbursementGross', 'difference_in_days']]\n",
    "\n",
    "dfcombined = pd.concat([df1hot, dfscaled, prin_com], axis=1, join='inner')\n",
    "\n",
    "# dataframe for the classifier response MIS_status as 0 or 1\n",
    "dfrspcl = loans[['MIS_Status']] # nest values to create dataframe for results\n",
    "\n",
    "# create dataframes for master train and test sets on scaled data. Data is split 70% train, 30% test\n",
    "X_mtrain_cl, X_mtest_cl, y_mtrain_cl, y_mtest_cl = train_test_split(dfcombined, dfrspcl, test_size = .3, random_state = 42)\n",
    "\n",
    "print(X_mtrain_cl.shape, X_mtrain_cl.columns)\n",
    "print(X_mtest_cl.shape, X_mtest_cl.columns)\n",
    "print(y_mtrain_cl.shape, y_mtrain_cl.columns)\n",
    "print(y_mtest_cl.shape, y_mtest_cl.columns)\n"
   ]
  },
  {
   "cell_type": "markdown",
   "metadata": {},
   "source": [
    "### Balanced data set using undersampling\n",
    "\n",
    "The response variable in the data set is unbalanced. Approximately one sixth of the responses indicate a failed loan. The remaining five sixths responses indicate successful loans. Balanced training sets with equal numbers of failed and successful loans were created using under sampling."
   ]
  },
  {
   "cell_type": "code",
   "execution_count": 46,
   "metadata": {},
   "outputs": [
    {
     "ename": "ValueError",
     "evalue": "Cannot take a larger sample than population when 'replace=False'",
     "output_type": "error",
     "traceback": [
      "\u001b[1;31m---------------------------------------------------------------------------\u001b[0m",
      "\u001b[1;31mValueError\u001b[0m                                Traceback (most recent call last)",
      "\u001b[1;32m<ipython-input-46-3c6a8182f92f>\u001b[0m in \u001b[0;36m<module>\u001b[1;34m\u001b[0m\n\u001b[0;32m     18\u001b[0m \u001b[0mcountSamples\u001b[0m \u001b[1;33m=\u001b[0m \u001b[0my_mtrain_cl_0\u001b[0m\u001b[1;33m.\u001b[0m\u001b[0mshape\u001b[0m\u001b[1;33m[\u001b[0m\u001b[1;36m0\u001b[0m\u001b[1;33m]\u001b[0m\u001b[1;33m\u001b[0m\u001b[1;33m\u001b[0m\u001b[0m\n\u001b[0;32m     19\u001b[0m \u001b[1;33m\u001b[0m\u001b[0m\n\u001b[1;32m---> 20\u001b[1;33m \u001b[0mX_mtrain_cl_1_sub\u001b[0m \u001b[1;33m=\u001b[0m \u001b[0mX_mtrain_cl_1\u001b[0m\u001b[1;33m.\u001b[0m\u001b[0msample\u001b[0m\u001b[1;33m(\u001b[0m\u001b[0mn\u001b[0m\u001b[1;33m=\u001b[0m\u001b[0mcountSamples\u001b[0m\u001b[1;33m,\u001b[0m \u001b[0mrandom_state\u001b[0m\u001b[1;33m=\u001b[0m\u001b[1;36m42\u001b[0m\u001b[1;33m)\u001b[0m\u001b[1;33m\u001b[0m\u001b[1;33m\u001b[0m\u001b[0m\n\u001b[0m\u001b[0;32m     21\u001b[0m \u001b[1;33m\u001b[0m\u001b[0m\n\u001b[0;32m     22\u001b[0m \u001b[1;31m#get the index so we can pick the corresponding y's\u001b[0m\u001b[1;33m\u001b[0m\u001b[1;33m\u001b[0m\u001b[1;33m\u001b[0m\u001b[0m\n",
      "\u001b[1;32m~\\Anaconda3\\lib\\site-packages\\pandas\\core\\generic.py\u001b[0m in \u001b[0;36msample\u001b[1;34m(self, n, frac, replace, weights, random_state, axis)\u001b[0m\n\u001b[0;32m   5059\u001b[0m             )\n\u001b[0;32m   5060\u001b[0m \u001b[1;33m\u001b[0m\u001b[0m\n\u001b[1;32m-> 5061\u001b[1;33m         \u001b[0mlocs\u001b[0m \u001b[1;33m=\u001b[0m \u001b[0mrs\u001b[0m\u001b[1;33m.\u001b[0m\u001b[0mchoice\u001b[0m\u001b[1;33m(\u001b[0m\u001b[0maxis_length\u001b[0m\u001b[1;33m,\u001b[0m \u001b[0msize\u001b[0m\u001b[1;33m=\u001b[0m\u001b[0mn\u001b[0m\u001b[1;33m,\u001b[0m \u001b[0mreplace\u001b[0m\u001b[1;33m=\u001b[0m\u001b[0mreplace\u001b[0m\u001b[1;33m,\u001b[0m \u001b[0mp\u001b[0m\u001b[1;33m=\u001b[0m\u001b[0mweights\u001b[0m\u001b[1;33m)\u001b[0m\u001b[1;33m\u001b[0m\u001b[1;33m\u001b[0m\u001b[0m\n\u001b[0m\u001b[0;32m   5062\u001b[0m         \u001b[1;32mreturn\u001b[0m \u001b[0mself\u001b[0m\u001b[1;33m.\u001b[0m\u001b[0mtake\u001b[0m\u001b[1;33m(\u001b[0m\u001b[0mlocs\u001b[0m\u001b[1;33m,\u001b[0m \u001b[0maxis\u001b[0m\u001b[1;33m=\u001b[0m\u001b[0maxis\u001b[0m\u001b[1;33m)\u001b[0m\u001b[1;33m\u001b[0m\u001b[1;33m\u001b[0m\u001b[0m\n\u001b[0;32m   5063\u001b[0m \u001b[1;33m\u001b[0m\u001b[0m\n",
      "\u001b[1;32mmtrand.pyx\u001b[0m in \u001b[0;36mnumpy.random.mtrand.RandomState.choice\u001b[1;34m()\u001b[0m\n",
      "\u001b[1;31mValueError\u001b[0m: Cannot take a larger sample than population when 'replace=False'"
     ]
    }
   ],
   "source": [
    "#create balanced response set out of just training data. We have more 1's than 0's so find the number of 0's and \n",
    "#undersample from the 1's. All final datasets will still be Pandas Dataframes\n",
    "\n",
    "# first get the indexes for all 0's and all 1's\n",
    "\n",
    "y_mtrain_cl_1_idx = y_mtrain_cl.loc[y_mtrain_cl.MIS_Status==1].index.values.tolist()\n",
    "y_mtrain_cl_0_idx = y_mtrain_cl.loc[y_mtrain_cl.MIS_Status==0].index.values.tolist()\n",
    "\n",
    "#Create data sets that correspond to the response variable while preserving the original index\n",
    "\n",
    "X_mtrain_cl_0 = X_mtrain_cl[X_mtrain_cl.index.isin(y_mtrain_cl_0_idx)]\n",
    "y_mtrain_cl_0 = y_mtrain_cl[y_mtrain_cl.index.isin(y_mtrain_cl_0_idx)]\n",
    "\n",
    "X_mtrain_cl_1 = X_mtrain_cl[X_mtrain_cl.index.isin(y_mtrain_cl_1_idx)]\n",
    "y_mtrain_cl_1 = y_mtrain_cl[y_mtrain_cl.index.isin(y_mtrain_cl_1_idx)]\n",
    "\n",
    "# create an undersample of correct length from the 1's. must have the same number of entries as the 0's datasets\n",
    "countSamples = y_mtrain_cl_0.shape[0]\n",
    "\n",
    "X_mtrain_cl_1_sub = X_mtrain_cl_1.sample(n=countSamples, random_state=42)\n",
    "\n",
    "#get the index so we can pick the corresponding y's\n",
    "\n",
    "subsample_1s_idx = X_mtrain_cl_1_sub.index.values.tolist()\n",
    "y_mtrain_cl_1_sub = y_mtrain_cl_1[y_mtrain_cl_1.index.isin(subsample_1s_idx)]\n",
    "\n",
    "#Combined undersampled 1's with original 0's to form undersampled data\n",
    "\n",
    "X_mtrain_cl_us = pd.concat([X_mtrain_cl_0, X_mtrain_cl_1_sub])\n",
    "y_mtrain_cl_us = pd.concat([y_mtrain_cl_0, y_mtrain_cl_1_sub])\n",
    "\n",
    "print(X_mtrain_cl_us.shape, X_mtrain_cl_us.columns)\n",
    "print(y_mtrain_cl_us.shape, y_mtrain_cl_us.columns)\n"
   ]
  },
  {
   "cell_type": "markdown",
   "metadata": {},
   "source": [
    "### Data sets for Regression\n",
    "\n",
    "The second problem solved in this paper uses regression. However, regression is applied only over the subset of loans that failed. The regression models attempt to predict the amount of failure for the loan. The data set utilizes the same 70-30 train test split as the base classification data sets. However it only includes records where the “MIS_Status” indicates a failed loan"
   ]
  },
  {
   "cell_type": "code",
   "execution_count": 36,
   "metadata": {},
   "outputs": [
    {
     "ename": "NameError",
     "evalue": "name 'X_mtrain_cl' is not defined",
     "output_type": "error",
     "traceback": [
      "\u001b[1;31m---------------------------------------------------------------------------\u001b[0m",
      "\u001b[1;31mNameError\u001b[0m                                 Traceback (most recent call last)",
      "\u001b[1;32m<ipython-input-36-dddf77f0b7f1>\u001b[0m in \u001b[0;36m<module>\u001b[1;34m\u001b[0m\n\u001b[0;32m      7\u001b[0m \u001b[0mfailed_loan_idx\u001b[0m \u001b[1;33m=\u001b[0m \u001b[0mloans\u001b[0m\u001b[1;33m.\u001b[0m\u001b[0mloc\u001b[0m\u001b[1;33m[\u001b[0m\u001b[1;33m(\u001b[0m\u001b[0mloans\u001b[0m\u001b[1;33m.\u001b[0m\u001b[0mMIS_Status\u001b[0m\u001b[1;33m==\u001b[0m\u001b[1;36m0\u001b[0m\u001b[1;33m)\u001b[0m \u001b[1;33m&\u001b[0m \u001b[1;33m(\u001b[0m\u001b[0mloans\u001b[0m\u001b[1;33m.\u001b[0m\u001b[0mChgOffPrinGr\u001b[0m \u001b[1;33m>\u001b[0m \u001b[1;36m0\u001b[0m\u001b[1;33m)\u001b[0m\u001b[1;33m]\u001b[0m\u001b[1;33m.\u001b[0m\u001b[0mindex\u001b[0m\u001b[1;33m.\u001b[0m\u001b[0mvalues\u001b[0m\u001b[1;33m.\u001b[0m\u001b[0mtolist\u001b[0m\u001b[1;33m(\u001b[0m\u001b[1;33m)\u001b[0m\u001b[1;33m\u001b[0m\u001b[1;33m\u001b[0m\u001b[0m\n\u001b[0;32m      8\u001b[0m \u001b[1;33m\u001b[0m\u001b[0m\n\u001b[1;32m----> 9\u001b[1;33m \u001b[0mX_mtrain_rg\u001b[0m \u001b[1;33m=\u001b[0m \u001b[0mX_mtrain_cl\u001b[0m\u001b[1;33m[\u001b[0m\u001b[0mX_mtrain_cl\u001b[0m\u001b[1;33m.\u001b[0m\u001b[0mindex\u001b[0m\u001b[1;33m.\u001b[0m\u001b[0misin\u001b[0m\u001b[1;33m(\u001b[0m\u001b[0mfailed_loan_idx\u001b[0m\u001b[1;33m)\u001b[0m\u001b[1;33m]\u001b[0m\u001b[1;33m\u001b[0m\u001b[1;33m\u001b[0m\u001b[0m\n\u001b[0m\u001b[0;32m     10\u001b[0m \u001b[1;33m\u001b[0m\u001b[0m\n\u001b[0;32m     11\u001b[0m \u001b[0mX_mtest_rg\u001b[0m \u001b[1;33m=\u001b[0m \u001b[0mX_mtest_cl\u001b[0m\u001b[1;33m[\u001b[0m\u001b[0mX_mtest_cl\u001b[0m\u001b[1;33m.\u001b[0m\u001b[0mindex\u001b[0m\u001b[1;33m.\u001b[0m\u001b[0misin\u001b[0m\u001b[1;33m(\u001b[0m\u001b[0mfailed_loan_idx\u001b[0m\u001b[1;33m)\u001b[0m\u001b[1;33m]\u001b[0m\u001b[1;33m\u001b[0m\u001b[1;33m\u001b[0m\u001b[0m\n",
      "\u001b[1;31mNameError\u001b[0m: name 'X_mtrain_cl' is not defined"
     ]
    }
   ],
   "source": [
    "# Data for Regression\n",
    "# We want only data for failed loans that have a postive value for chrgoffpriciple\n",
    "# We drop less than 2K records by specifying a positive chrgoffpriciple\n",
    "\n",
    "# Identify indexes of failed laons with posiitve chrgoffprinciple\n",
    "\n",
    "failed_loan_idx = loans.loc[(loans.MIS_Status==0) & (loans.ChgOffPrinGr > 0)].index.values.tolist()\n",
    "\n",
    "X_mtrain_rg = X_mtrain_cl[X_mtrain_cl.index.isin(failed_loan_idx)]\n",
    "\n",
    "X_mtest_rg = X_mtest_cl[X_mtest_cl.index.isin(failed_loan_idx)]\n",
    "\n",
    "train_idx = y_mtrain_cl.index.values.tolist()\n",
    "test_idx = y_mtest_cl.index.values.tolist()\n",
    "\n",
    "y_mtrain_rg = loans.loc[(loans.index.isin(failed_loan_idx)) & (loans.index.isin(train_idx)),['ChgOffPrinGr']]\n",
    "y_mtest_rg = loans.loc[(loans.index.isin(failed_loan_idx)) & (loans.index.isin(test_idx)),['ChgOffPrinGr']]\n",
    "\n",
    "print(X_mtrain_rg.shape, X_mtrain_rg.columns)\n",
    "print(X_mtest_rg.shape, X_mtest_rg.columns)\n",
    "print(y_mtrain_rg.shape, y_mtrain_rg.columns)\n",
    "print(y_mtest_rg.shape, y_mtest_rg.columns)"
   ]
  },
  {
   "cell_type": "markdown",
   "metadata": {},
   "source": [
    "# Modeling and Evaluation 1"
   ]
  },
  {
   "cell_type": "code",
   "execution_count": null,
   "metadata": {},
   "outputs": [],
   "source": []
  },
  {
   "cell_type": "markdown",
   "metadata": {},
   "source": [
    "# Modeling and Evaluation 2"
   ]
  },
  {
   "cell_type": "markdown",
   "metadata": {},
   "source": [
    "# Modeling and Evaluation 3"
   ]
  },
  {
   "cell_type": "markdown",
   "metadata": {},
   "source": [
    "# Modeling and Evaluation 4"
   ]
  },
  {
   "cell_type": "markdown",
   "metadata": {},
   "source": [
    "# Deployment"
   ]
  },
  {
   "cell_type": "markdown",
   "metadata": {
    "colab_type": "text",
    "id": "sfYvCS0LZkps"
   },
   "source": [
    "# Exceptional Work"
   ]
  },
  {
   "cell_type": "markdown",
   "metadata": {
    "colab_type": "text",
    "id": "xFEujonaT9aD"
   },
   "source": [
    "We would like to have the following considered for exceptional work:\n",
    "1. The creation of a gridsearch() helper function that preforms grid-search for hyperparameter tunning, and displays a plot of f1-score per response class;  additionally this helper function is able to be used for both regression and classifcation tasks.\n",
    "2. We have a separate hold-out set for final model testing to prevent \"model-doping\" or the potenial of mixing training and test data from a standard CV process.\n",
    "3. Creation of MTAS metric and utilizing make_scorer so that it was accessable to sklearn and mlextend funcitons \n",
    "4. T-Test for models in addition to ROC curves"
   ]
  }
 ],
 "metadata": {
  "colab": {
   "collapsed_sections": [],
   "name": "Mini-Project1_20200613.ipynb",
   "provenance": [],
   "toc_visible": true
  },
  "kernelspec": {
   "display_name": "Python 3",
   "language": "python",
   "name": "python3"
  },
  "language_info": {
   "codemirror_mode": {
    "name": "ipython",
    "version": 3
   },
   "file_extension": ".py",
   "mimetype": "text/x-python",
   "name": "python",
   "nbconvert_exporter": "python",
   "pygments_lexer": "ipython3",
   "version": "3.7.6"
  }
 },
 "nbformat": 4,
 "nbformat_minor": 1
}
