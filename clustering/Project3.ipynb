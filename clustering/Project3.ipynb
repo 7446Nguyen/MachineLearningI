{
 "cells": [
  {
   "cell_type": "markdown",
   "metadata": {
    "colab_type": "text",
    "id": "fbCFSJkrZknc"
   },
   "source": [
    "# Project 3: Clustering\n",
    "**Group 5:** Jeff Nguyen, William Hinton, Adam Ruthford  \n",
    "**09AUG2020**"
   ]
  },
  {
   "cell_type": "markdown",
   "metadata": {},
   "source": [
    "# Business Understanding"
   ]
  },
  {
   "cell_type": "markdown",
   "metadata": {
    "colab_type": "text",
    "id": "KWZO5VxSZkne"
   },
   "source": [
    "# Data Understanding 1"
   ]
  },
  {
   "cell_type": "markdown",
   "metadata": {
    "colab_type": "text",
    "id": "gQ4fiALTZkno"
   },
   "source": [
    "Initial data cleaning and preparation code was derived from **Project 1**, where data types and null values were addressed.  Data were first imported into a pandas dataframe, followed by each feature getting set to the appropriate data type based on data dictionary definitions.  For example, features that have currencies are set to the float data type as they are a continuous feature; whereas features like **NewExist** is categorical in nature and set to the object data type."
   ]
  },
  {
   "cell_type": "code",
   "execution_count": 1,
   "metadata": {
    "colab": {
     "base_uri": "https://localhost:8080/",
     "height": 53
    },
    "colab_type": "code",
    "id": "ZikYRgAFZkno",
    "outputId": "3a695b12-a1ce-43f9-8f0f-9184459a20bc"
   },
   "outputs": [
    {
     "name": "stderr",
     "output_type": "stream",
     "text": [
      "C:\\Users\\Jeff\\Anaconda3\\lib\\site-packages\\IPython\\core\\interactiveshell.py:3063: DtypeWarning: Columns (9) have mixed types.Specify dtype option on import or set low_memory=False.\n",
      "  interactivity=interactivity, compiler=compiler, result=result)\n"
     ]
    }
   ],
   "source": [
    "#Import data manipulation, vizulization, and ML Packages\n",
    "import pandas as pd\n",
    "import time\n",
    "#load data into pandas dataframe\n",
    "loans = pd.read_csv('C:/Users/Jeff/Desktop/ML1/SBAnational.csv')\n",
    "#loans = pd.read_csv('C:\\Data\\DS7331\\Project\\should-this-loan-be-approved-or-denied/SBAnational.csv')"
   ]
  },
  {
   "cell_type": "markdown",
   "metadata": {},
   "source": [
    "A detailed explanation for each variable follows.\n",
    "\n",
    "**LoanNr_ChkDgt:**  Defined as an integer. This number represent a primary key that distinguishes one loan from another. The number itself is not useful for predictive purposes. However, it can be checked to ensure the dataset does not have duplicates.  \n",
    "\n",
    "**Name:** The name of the entity receiving a loan. Defined in the data set as an object/string. As is this data would be of little use. Derived variable could be made from this column such. For instance, from the examples above all records with \"DDS\" could be obtained and questions could be answered about how loans to dentist performance.  \n",
    "  \n",
    "**City, State, Zip:** Standard geographic information fields for the loan recipient define as object/string for City and State and int for zip code. Data can be broken down by any of these columns to see if regional differences play a part in loan performance.  \n",
    "  \n",
    "**Bank:** The name of the bank presented as an object/string. Could be used to detail bank specific performance with respect to loan performance. Allows us to ask and answer questions like \"Which bank has the worst performing loan portfolio?\"\n",
    "\n",
    "**BankState:** This column is presented as an object/string. The state the bank making the loan is located in. All references to \"Bank\" probably need to include the \"BankState\" to ensure different banks are not mixed.  \n",
    "  \n",
    "**NAICS:** The column is presented as an integer. \"NAICS\" stands for \"North American Industry Classification System\". This code consists of six digits, the first two digits are used to indicate the industry sector the company receiving the loan is in. The other digits in the code further identify which subsector, industry group, NAICS industry, and national industry the company receiving the loan belongs to. This will allow detailed information to be obtained on loan performance by sector. However, even the small sampling of data above reveals that missing data in the form of \"0\"s exist for some records and some method of accounting for the missing data will need to be devised. The following website was used in researching the [NAISC codes](https://www.naics.com/).  \n",
    "  \n",
    "**ApprovalDate and ApprovalFY:** These columns are presented as an object/string. The date and fiscal year the loan was approved by the SBA. Performance can be grouped by year and date, as necessary.  \n",
    "  \n",
    "**Term:** The column is presented as an integer. This is the loan term in months. This column can be used as a continuous variable as well as being binned and used as an ordered categorical variable, \"short term\", \"long term\" loans as an example.\n",
    "\n",
    "**NoEmp:** The column is presented as an integer. The column contains the number of employees in the business. This column can be used as a continuous variable as well as being binned and used as an ordered categorical variable, \"sole proprietorship\", \"under 5 employees\", \"between 5 and 20 employees\", and \"over 20 employees\" as an example.\n",
    "\n",
    "**NewExist:** The column is presented as a integer. This categorical variable indicates whether the business receiving the loan is a new or existing business. This column will need to be recoded in our dataset.\n",
    "\n",
    "**CreateJob and RetainedJob:** These columns are presented as an integer. The column records the number of jobs created or retained respectively. These variables cannot be used as explanatory variables as they indicate the success of the loan. They are a proxy for loan  success. However, these variables can be used as the response variable in a model that would attempt to maximize job creation and or retention.\n",
    "\n",
    "**FranchiseCode:** The column is presented as an integer. The column will need to be recast to a category. Values that have \"0\" or \"1\" indicate that the small business is not a franchise. Other values indicate the business is a franchise.\n",
    "\n",
    "**UrbanRural:** The column is presented as an integer. The column will need to be recast to a category. The data in this column is categorical with \"Urban\" being a 1, \"Rural\" being a \"2\", and \"0\" representing \"undefined\".\n",
    "\n",
    "**RevLineCr:** This column is presented as an object/string. The column indicates whether the loan is available as a revolving line of credit. The primary responses are \"Y\" and \"N\" although it appears that other values exist.\n",
    "\n",
    "**LowDoc:** This column is presented as an object/string. The column indicates whether the loan was obtained using a one page \"low document\" application. The primary responses are \"Y\" and \"N\".\n",
    "\n",
    "**ChgOffDate:** This column is presented as an object/string. As expected, many of the values in this column are \"NaN\". The column contains the date the loan was written off as uncollectable. Successful loans would have the value of \"NaN\".\n",
    "\n",
    "**DisbursementDate:** This column is presented as an object/string. The column has the date the loan money was disbursed to the small business.\n",
    "\n",
    "**DisbursementGross:** This column is presented as an object/string. The column needs to be converted to a numeric. The gross amount of money loaned to the small business.\n",
    "\n",
    "**BalanceGross:** This column is presented as an object/string. The column needs to be converted to a numeric. The column contains the remaining balance of the loan.\n",
    "\n",
    "**MIS_Status:** This column is presented as an object/string. The column is categorical data with values \"P I F\" and \"CHGOFF\". This column is the main response column of the dataset.\n",
    "\n",
    "**ChgOffPrinGr:** This column is presented as an object/string. The column needs to be converted to a numeric. The total amount for failed loans that was non recoverable.\n",
    "\n",
    "**GrAppv:** This column is presented as an object/string. The column needs to be converted to a numeric. The total amount approved for the loan.\n",
    "\n",
    "**SBA_Appv:** This column is presented as an object/string. The column needs to be converted to a numeric. This column contains the total amount approved and guaranteed by the SBA.\n"
   ]
  },
  {
   "cell_type": "code",
   "execution_count": 2,
   "metadata": {},
   "outputs": [
    {
     "data": {
      "text/html": [
       "<div>\n",
       "<style scoped>\n",
       "    .dataframe tbody tr th:only-of-type {\n",
       "        vertical-align: middle;\n",
       "    }\n",
       "\n",
       "    .dataframe tbody tr th {\n",
       "        vertical-align: top;\n",
       "    }\n",
       "\n",
       "    .dataframe thead th {\n",
       "        text-align: right;\n",
       "    }\n",
       "</style>\n",
       "<table border=\"1\" class=\"dataframe\">\n",
       "  <thead>\n",
       "    <tr style=\"text-align: right;\">\n",
       "      <th></th>\n",
       "      <th>Feature Name</th>\n",
       "      <th>Data type</th>\n",
       "      <th>Count</th>\n",
       "      <th>Preferred Format</th>\n",
       "      <th>Description</th>\n",
       "    </tr>\n",
       "  </thead>\n",
       "  <tbody>\n",
       "    <tr>\n",
       "      <th>1</th>\n",
       "      <td>LoanNr_ChkDgt</td>\n",
       "      <td>int64</td>\n",
       "      <td>899164</td>\n",
       "      <td>Number</td>\n",
       "      <td>Primary Key</td>\n",
       "    </tr>\n",
       "    <tr>\n",
       "      <th>2</th>\n",
       "      <td>Name</td>\n",
       "      <td>object</td>\n",
       "      <td>899164</td>\n",
       "      <td>Text</td>\n",
       "      <td>Borrower name</td>\n",
       "    </tr>\n",
       "    <tr>\n",
       "      <th>3</th>\n",
       "      <td>City</td>\n",
       "      <td>object</td>\n",
       "      <td>899164</td>\n",
       "      <td>Text</td>\n",
       "      <td>Borrower city</td>\n",
       "    </tr>\n",
       "    <tr>\n",
       "      <th>4</th>\n",
       "      <td>State</td>\n",
       "      <td>object</td>\n",
       "      <td>899164</td>\n",
       "      <td>Text</td>\n",
       "      <td>Borrower state</td>\n",
       "    </tr>\n",
       "    <tr>\n",
       "      <th>5</th>\n",
       "      <td>Zip</td>\n",
       "      <td>int64</td>\n",
       "      <td>899164</td>\n",
       "      <td>Number</td>\n",
       "      <td>Borrower zip code</td>\n",
       "    </tr>\n",
       "    <tr>\n",
       "      <th>6</th>\n",
       "      <td>Bank</td>\n",
       "      <td>object</td>\n",
       "      <td>899164</td>\n",
       "      <td>Text</td>\n",
       "      <td>Bank name</td>\n",
       "    </tr>\n",
       "    <tr>\n",
       "      <th>7</th>\n",
       "      <td>BankState</td>\n",
       "      <td>object</td>\n",
       "      <td>899164</td>\n",
       "      <td>Text</td>\n",
       "      <td>Bank state</td>\n",
       "    </tr>\n",
       "    <tr>\n",
       "      <th>8</th>\n",
       "      <td>NAICS</td>\n",
       "      <td>int64</td>\n",
       "      <td>899164</td>\n",
       "      <td>Number</td>\n",
       "      <td>NAICS Classification code</td>\n",
       "    </tr>\n",
       "    <tr>\n",
       "      <th>9</th>\n",
       "      <td>ApprovalDate</td>\n",
       "      <td>object</td>\n",
       "      <td>899164</td>\n",
       "      <td>Date/Time</td>\n",
       "      <td>Date SBA commitment issued</td>\n",
       "    </tr>\n",
       "    <tr>\n",
       "      <th>10</th>\n",
       "      <td>ApprovalFY</td>\n",
       "      <td>object</td>\n",
       "      <td>899164</td>\n",
       "      <td>Text</td>\n",
       "      <td>Fiscal year of commitment</td>\n",
       "    </tr>\n",
       "    <tr>\n",
       "      <th>11</th>\n",
       "      <td>Term</td>\n",
       "      <td>int64</td>\n",
       "      <td>899164</td>\n",
       "      <td>Number</td>\n",
       "      <td>Loan term - months</td>\n",
       "    </tr>\n",
       "    <tr>\n",
       "      <th>12</th>\n",
       "      <td>NoEmp</td>\n",
       "      <td>int64</td>\n",
       "      <td>899164</td>\n",
       "      <td>Number</td>\n",
       "      <td>Business employee count</td>\n",
       "    </tr>\n",
       "    <tr>\n",
       "      <th>13</th>\n",
       "      <td>NewExist</td>\n",
       "      <td>float64</td>\n",
       "      <td>899164</td>\n",
       "      <td>Number</td>\n",
       "      <td>Existing=1 or New=2 business</td>\n",
       "    </tr>\n",
       "    <tr>\n",
       "      <th>14</th>\n",
       "      <td>CreateJob</td>\n",
       "      <td>int64</td>\n",
       "      <td>899164</td>\n",
       "      <td>Number</td>\n",
       "      <td>Number of Jobs Created</td>\n",
       "    </tr>\n",
       "    <tr>\n",
       "      <th>15</th>\n",
       "      <td>RetainedJob</td>\n",
       "      <td>int64</td>\n",
       "      <td>899164</td>\n",
       "      <td>Number</td>\n",
       "      <td>Number of jobs retained</td>\n",
       "    </tr>\n",
       "    <tr>\n",
       "      <th>16</th>\n",
       "      <td>FranchiseCode</td>\n",
       "      <td>int64</td>\n",
       "      <td>899164</td>\n",
       "      <td>Number</td>\n",
       "      <td>Franchise code</td>\n",
       "    </tr>\n",
       "    <tr>\n",
       "      <th>17</th>\n",
       "      <td>UrbanRural</td>\n",
       "      <td>int64</td>\n",
       "      <td>899164</td>\n",
       "      <td>Number</td>\n",
       "      <td>Urban=1, Rural =2, undefined = 0</td>\n",
       "    </tr>\n",
       "    <tr>\n",
       "      <th>18</th>\n",
       "      <td>RevLineCr</td>\n",
       "      <td>object</td>\n",
       "      <td>899164</td>\n",
       "      <td>Text</td>\n",
       "      <td>Revolving line of credit: Y/N</td>\n",
       "    </tr>\n",
       "    <tr>\n",
       "      <th>19</th>\n",
       "      <td>LowDoc</td>\n",
       "      <td>object</td>\n",
       "      <td>899164</td>\n",
       "      <td>Text</td>\n",
       "      <td>LowDoc Loan Program: Y/N</td>\n",
       "    </tr>\n",
       "    <tr>\n",
       "      <th>20</th>\n",
       "      <td>ChgOffDate</td>\n",
       "      <td>object</td>\n",
       "      <td>899164</td>\n",
       "      <td>Date/Time</td>\n",
       "      <td>Loan default date</td>\n",
       "    </tr>\n",
       "    <tr>\n",
       "      <th>21</th>\n",
       "      <td>DisbursementDate</td>\n",
       "      <td>object</td>\n",
       "      <td>899164</td>\n",
       "      <td>Date/Time</td>\n",
       "      <td>Disbursement date</td>\n",
       "    </tr>\n",
       "    <tr>\n",
       "      <th>22</th>\n",
       "      <td>DisbursementGross</td>\n",
       "      <td>object</td>\n",
       "      <td>899164</td>\n",
       "      <td>Currency</td>\n",
       "      <td>Disbursed armount</td>\n",
       "    </tr>\n",
       "    <tr>\n",
       "      <th>23</th>\n",
       "      <td>BalanceGross</td>\n",
       "      <td>object</td>\n",
       "      <td>899164</td>\n",
       "      <td>Currency</td>\n",
       "      <td>Gross amount outstanding</td>\n",
       "    </tr>\n",
       "    <tr>\n",
       "      <th>24</th>\n",
       "      <td>MIS_Status</td>\n",
       "      <td>object</td>\n",
       "      <td>899164</td>\n",
       "      <td>Text</td>\n",
       "      <td>loans status</td>\n",
       "    </tr>\n",
       "    <tr>\n",
       "      <th>25</th>\n",
       "      <td>ChgOffPrinGr</td>\n",
       "      <td>object</td>\n",
       "      <td>899164</td>\n",
       "      <td>Currency</td>\n",
       "      <td>Charged-off amount</td>\n",
       "    </tr>\n",
       "    <tr>\n",
       "      <th>26</th>\n",
       "      <td>GrAppv</td>\n",
       "      <td>object</td>\n",
       "      <td>899164</td>\n",
       "      <td>Currency</td>\n",
       "      <td>Gross amount approved by bank</td>\n",
       "    </tr>\n",
       "    <tr>\n",
       "      <th>27</th>\n",
       "      <td>SBA_Appv</td>\n",
       "      <td>object</td>\n",
       "      <td>899164</td>\n",
       "      <td>Currency</td>\n",
       "      <td>SBA guaranteed amount of approved loan</td>\n",
       "    </tr>\n",
       "  </tbody>\n",
       "</table>\n",
       "</div>"
      ],
      "text/plain": [
       "         Feature Name Data type   Count Preferred Format  \\\n",
       "1       LoanNr_ChkDgt     int64  899164           Number   \n",
       "2                Name    object  899164             Text   \n",
       "3                City    object  899164             Text   \n",
       "4               State    object  899164             Text   \n",
       "5                 Zip     int64  899164           Number   \n",
       "6                Bank    object  899164             Text   \n",
       "7           BankState    object  899164             Text   \n",
       "8               NAICS     int64  899164           Number   \n",
       "9        ApprovalDate    object  899164        Date/Time   \n",
       "10         ApprovalFY    object  899164             Text   \n",
       "11               Term     int64  899164           Number   \n",
       "12              NoEmp     int64  899164           Number   \n",
       "13           NewExist   float64  899164           Number   \n",
       "14          CreateJob     int64  899164           Number   \n",
       "15        RetainedJob     int64  899164           Number   \n",
       "16      FranchiseCode     int64  899164           Number   \n",
       "17         UrbanRural     int64  899164           Number   \n",
       "18          RevLineCr    object  899164             Text   \n",
       "19             LowDoc    object  899164             Text   \n",
       "20         ChgOffDate    object  899164        Date/Time   \n",
       "21   DisbursementDate    object  899164        Date/Time   \n",
       "22  DisbursementGross    object  899164         Currency   \n",
       "23       BalanceGross    object  899164         Currency   \n",
       "24         MIS_Status    object  899164             Text   \n",
       "25       ChgOffPrinGr    object  899164         Currency   \n",
       "26             GrAppv    object  899164         Currency   \n",
       "27           SBA_Appv    object  899164         Currency   \n",
       "\n",
       "                               Description  \n",
       "1                              Primary Key  \n",
       "2                            Borrower name  \n",
       "3                            Borrower city  \n",
       "4                           Borrower state  \n",
       "5                        Borrower zip code  \n",
       "6                                Bank name  \n",
       "7                               Bank state  \n",
       "8                NAICS Classification code  \n",
       "9               Date SBA commitment issued  \n",
       "10               Fiscal year of commitment  \n",
       "11                      Loan term - months  \n",
       "12                 Business employee count  \n",
       "13            Existing=1 or New=2 business  \n",
       "14                  Number of Jobs Created  \n",
       "15                 Number of jobs retained  \n",
       "16                          Franchise code  \n",
       "17        Urban=1, Rural =2, undefined = 0  \n",
       "18           Revolving line of credit: Y/N  \n",
       "19                LowDoc Loan Program: Y/N  \n",
       "20                       Loan default date  \n",
       "21                       Disbursement date  \n",
       "22                       Disbursed armount  \n",
       "23                Gross amount outstanding  \n",
       "24                            loans status  \n",
       "25                      Charged-off amount  \n",
       "26           Gross amount approved by bank  \n",
       "27  SBA guaranteed amount of approved loan  "
      ]
     },
     "execution_count": 2,
     "metadata": {},
     "output_type": "execute_result"
    }
   ],
   "source": [
    "#Create table containing information about features, data types, formats, and descriptions\n",
    "loan_info = pd.DataFrame(columns=['Feature Name', 'Data type', 'Count','Preferred Format', 'Description'])\n",
    "loan_info['Feature Name']=list(loans.columns.values) \n",
    "loan_info['Data type']= list(loans.dtypes)\n",
    "\n",
    "loan_info['Count'] = loans.shape[0]\n",
    "loan_info['Description']= ['Primary Key', ' Borrower name', 'Borrower city', 'Borrower state', 'Borrower zip code',\n",
    "                        'Bank name', 'Bank state', 'NAICS Classification code','Date SBA commitment issued',\n",
    "                        'Fiscal year of commitment','Loan term - months', 'Business employee count', \n",
    "                        'Existing=1 or New=2 business','Number of Jobs Created','Number of jobs retained','Franchise code',\n",
    "                        'Urban=1, Rural =2, undefined = 0','Revolving line of credit: Y/N','LowDoc Loan Program: Y/N',\n",
    "                        'Loan default date','Disbursement date','Disbursed armount','Gross amount outstanding',\n",
    "                        'loans status','Charged-off amount','Gross amount approved by bank','SBA guaranteed amount of approved loan']\n",
    "\n",
    "loan_info['Preferred Format'] = ['Number','Text','Text','Text','Number','Text','Text','Number','Date/Time','Text','Number','Number',\n",
    "                           'Number','Number','Number','Number','Number','Text','Text','Date/Time','Date/Time','Currency',\n",
    "                           'Currency','Text','Currency','Currency','Currency']                                  \n",
    "\n",
    "#Start Table Index at 1 instead of 0\n",
    "loan_info.index = loan_info.index + 1\n",
    "loan_info"
   ]
  },
  {
   "cell_type": "markdown",
   "metadata": {},
   "source": [
    "The table shows that this data is acceptable for use in this project as there are more than 10 features, it has over 30,000 records, and has a mix of continuous and categorical variables.\n",
    "\n",
    "We can see that there are discrepancies between data type and preferred format.  The preferred format is the format a feature should take given if it categorical, nominal, ordinal, interval, or ratio data.  Integer and float data types should correspond to nominal, ordinal, interval, and ratio data.  While categorical data should correspond string if it is text in nature or integer if the data has several levels or is dummy coded.  Feature data types, along with missing values, duplicate data, and outliers will be address in the Data Quality section."
   ]
  },
  {
   "cell_type": "markdown",
   "metadata": {},
   "source": [
    "## Data Quality"
   ]
  },
  {
   "cell_type": "markdown",
   "metadata": {},
   "source": [
    "Before addressing missing values, duplicate data and outliers, several feature data types from the raw data are not in the desired format for use.  Several features contain continuous data or date data are coded as strings and need to be converted to the apporpriate data type to allow for proper ingestion when modeling is performed.\n",
    "\n",
    "**DisbursementGross**, **BalanceGross**, **ChgOffPrinGr**, **GrAppv**, **SBA_Appv** are features that deal with currency and are coded as strings which include '$' and ',' characters. Used this website for help with [converting currency to float.](\n",
    "https://stackoverflow.com/questions/32464280/converting-currency-with-to-numbers-in-python-pandas)\n",
    "  To treat these features as continuous data the special characters were removed, and the data was converted to the float data type.  This will allow for the data to be used by methods that utilize continous data.  **ApprovalDate**, **ChgOffDate**, and **DisbursementDate** are features that contain dates and were converted to the date/time data type.  This will be usefull for potential time series analysis.  **NewExist** is a categorical feature but has a float data type.  This feature was converted to an integer data type since float is better suited for continuous data.  **Zip**, **NAICS**, **FranchiseCode** are nominal features, but will be converted to strings for ease of manipulation and data cleaning.\n"
   ]
  },
  {
   "cell_type": "code",
   "execution_count": 3,
   "metadata": {
    "colab": {},
    "colab_type": "code",
    "id": "4EHw49FdZknt"
   },
   "outputs": [],
   "source": [
    "import numpy as np\n",
    "\n",
    "# Create lists of features that need their data types converted\n",
    "currency = ['DisbursementGross','BalanceGross','ChgOffPrinGr','GrAppv','SBA_Appv']\n",
    "date = ['ApprovalDate','ChgOffDate','DisbursementDate']\n",
    "cat_variables = ['Zip']\n",
    "\n",
    "# Convert features to appropriate data types\n",
    "loans[currency] = loans[currency].replace('[\\$,]', '', regex=True).astype(float)\n",
    "loans[date]= loans[date].astype(np.datetime64)\n",
    "loans['NewExist'] = loans['NewExist'].astype('Int64')\n",
    "loans[cat_variables] = loans[cat_variables].astype(str)"
   ]
  },
  {
   "cell_type": "code",
   "execution_count": 4,
   "metadata": {},
   "outputs": [
    {
     "data": {
      "text/html": [
       "<div>\n",
       "<style scoped>\n",
       "    .dataframe tbody tr th:only-of-type {\n",
       "        vertical-align: middle;\n",
       "    }\n",
       "\n",
       "    .dataframe tbody tr th {\n",
       "        vertical-align: top;\n",
       "    }\n",
       "\n",
       "    .dataframe thead th {\n",
       "        text-align: right;\n",
       "    }\n",
       "</style>\n",
       "<table border=\"1\" class=\"dataframe\">\n",
       "  <thead>\n",
       "    <tr style=\"text-align: right;\">\n",
       "      <th></th>\n",
       "      <th>Null_Record_Count</th>\n",
       "      <th>Number_of_Unique_Values</th>\n",
       "    </tr>\n",
       "  </thead>\n",
       "  <tbody>\n",
       "    <tr>\n",
       "      <th>LoanNr_ChkDgt</th>\n",
       "      <td>0</td>\n",
       "      <td>899164</td>\n",
       "    </tr>\n",
       "    <tr>\n",
       "      <th>Name</th>\n",
       "      <td>14</td>\n",
       "      <td>779583</td>\n",
       "    </tr>\n",
       "    <tr>\n",
       "      <th>City</th>\n",
       "      <td>30</td>\n",
       "      <td>32581</td>\n",
       "    </tr>\n",
       "    <tr>\n",
       "      <th>State</th>\n",
       "      <td>14</td>\n",
       "      <td>51</td>\n",
       "    </tr>\n",
       "    <tr>\n",
       "      <th>Zip</th>\n",
       "      <td>0</td>\n",
       "      <td>33611</td>\n",
       "    </tr>\n",
       "    <tr>\n",
       "      <th>Bank</th>\n",
       "      <td>1559</td>\n",
       "      <td>5802</td>\n",
       "    </tr>\n",
       "    <tr>\n",
       "      <th>BankState</th>\n",
       "      <td>1566</td>\n",
       "      <td>56</td>\n",
       "    </tr>\n",
       "    <tr>\n",
       "      <th>NAICS</th>\n",
       "      <td>0</td>\n",
       "      <td>1312</td>\n",
       "    </tr>\n",
       "    <tr>\n",
       "      <th>ApprovalDate</th>\n",
       "      <td>0</td>\n",
       "      <td>9859</td>\n",
       "    </tr>\n",
       "    <tr>\n",
       "      <th>ApprovalFY</th>\n",
       "      <td>0</td>\n",
       "      <td>70</td>\n",
       "    </tr>\n",
       "    <tr>\n",
       "      <th>Term</th>\n",
       "      <td>0</td>\n",
       "      <td>412</td>\n",
       "    </tr>\n",
       "    <tr>\n",
       "      <th>NoEmp</th>\n",
       "      <td>0</td>\n",
       "      <td>599</td>\n",
       "    </tr>\n",
       "    <tr>\n",
       "      <th>NewExist</th>\n",
       "      <td>136</td>\n",
       "      <td>3</td>\n",
       "    </tr>\n",
       "    <tr>\n",
       "      <th>CreateJob</th>\n",
       "      <td>0</td>\n",
       "      <td>246</td>\n",
       "    </tr>\n",
       "    <tr>\n",
       "      <th>RetainedJob</th>\n",
       "      <td>0</td>\n",
       "      <td>358</td>\n",
       "    </tr>\n",
       "    <tr>\n",
       "      <th>FranchiseCode</th>\n",
       "      <td>0</td>\n",
       "      <td>2768</td>\n",
       "    </tr>\n",
       "    <tr>\n",
       "      <th>UrbanRural</th>\n",
       "      <td>0</td>\n",
       "      <td>3</td>\n",
       "    </tr>\n",
       "    <tr>\n",
       "      <th>RevLineCr</th>\n",
       "      <td>4528</td>\n",
       "      <td>18</td>\n",
       "    </tr>\n",
       "    <tr>\n",
       "      <th>LowDoc</th>\n",
       "      <td>2582</td>\n",
       "      <td>8</td>\n",
       "    </tr>\n",
       "    <tr>\n",
       "      <th>ChgOffDate</th>\n",
       "      <td>736465</td>\n",
       "      <td>6448</td>\n",
       "    </tr>\n",
       "    <tr>\n",
       "      <th>DisbursementDate</th>\n",
       "      <td>2368</td>\n",
       "      <td>8472</td>\n",
       "    </tr>\n",
       "    <tr>\n",
       "      <th>DisbursementGross</th>\n",
       "      <td>0</td>\n",
       "      <td>118859</td>\n",
       "    </tr>\n",
       "    <tr>\n",
       "      <th>BalanceGross</th>\n",
       "      <td>0</td>\n",
       "      <td>15</td>\n",
       "    </tr>\n",
       "    <tr>\n",
       "      <th>MIS_Status</th>\n",
       "      <td>1997</td>\n",
       "      <td>2</td>\n",
       "    </tr>\n",
       "    <tr>\n",
       "      <th>ChgOffPrinGr</th>\n",
       "      <td>0</td>\n",
       "      <td>83165</td>\n",
       "    </tr>\n",
       "    <tr>\n",
       "      <th>GrAppv</th>\n",
       "      <td>0</td>\n",
       "      <td>22128</td>\n",
       "    </tr>\n",
       "    <tr>\n",
       "      <th>SBA_Appv</th>\n",
       "      <td>0</td>\n",
       "      <td>38326</td>\n",
       "    </tr>\n",
       "  </tbody>\n",
       "</table>\n",
       "</div>"
      ],
      "text/plain": [
       "                   Null_Record_Count  Number_of_Unique_Values\n",
       "LoanNr_ChkDgt                      0                   899164\n",
       "Name                              14                   779583\n",
       "City                              30                    32581\n",
       "State                             14                       51\n",
       "Zip                                0                    33611\n",
       "Bank                            1559                     5802\n",
       "BankState                       1566                       56\n",
       "NAICS                              0                     1312\n",
       "ApprovalDate                       0                     9859\n",
       "ApprovalFY                         0                       70\n",
       "Term                               0                      412\n",
       "NoEmp                              0                      599\n",
       "NewExist                         136                        3\n",
       "CreateJob                          0                      246\n",
       "RetainedJob                        0                      358\n",
       "FranchiseCode                      0                     2768\n",
       "UrbanRural                         0                        3\n",
       "RevLineCr                       4528                       18\n",
       "LowDoc                          2582                        8\n",
       "ChgOffDate                    736465                     6448\n",
       "DisbursementDate                2368                     8472\n",
       "DisbursementGross                  0                   118859\n",
       "BalanceGross                       0                       15\n",
       "MIS_Status                      1997                        2\n",
       "ChgOffPrinGr                       0                    83165\n",
       "GrAppv                             0                    22128\n",
       "SBA_Appv                           0                    38326"
      ]
     },
     "execution_count": 4,
     "metadata": {},
     "output_type": "execute_result"
    }
   ],
   "source": [
    "# code gives list of columns and count of nulls and uniques values\n",
    "LoanCol = pd.Series(loans.columns)\n",
    "LoanCountDF = loans[LoanCol].agg(['count', 'size', 'nunique']).T\n",
    "LoanCountDF['Null_Record_Count'] = LoanCountDF['size'] - LoanCountDF['count']\n",
    "LoanCountDF['Number_of_Unique_Values'] = LoanCountDF['nunique']\n",
    "LoanCountDF = LoanCountDF.loc[:,['Null_Record_Count','Number_of_Unique_Values']]\n",
    "LoanCountDF"
   ]
  },
  {
   "cell_type": "markdown",
   "metadata": {},
   "source": [
    "Names for 14 applications found in **Name** are not contained in the dataset and cannot be filled without identifying the loan applicant.  Since there are 14 rows with missing values they will be removed since they will not significantly impact the data. If unique identification of records is required **'LoanNr_ChkDgt'** values can be used to uniquely identify each row since it serves as a primary key.\n",
    "\n",
    "**City** and **State** null values were addressed, and the methodology can be seen at the end of this section.\n",
    "\n",
    "**Bank** contain 1559 null records and **BankState** contained 1566 missing records. It was difficult to identify a bank's state if the name of the bank is not recorded, and difficult to identify the bank's name regardless of other the other features as it must be entered at the time of application.  For these features null values were replaced as \"Not Listed\".\n",
    "\n",
    "136 records were null for the **NewExist** feature.  These records were replaced with 0 to match the data type of integer for the feature and indicate that no values were entered for that particular record.\n",
    "\n",
    "**RevLineCr** and **LowDoc** are both nominal categorical records with 4528 and 2582 missing records respectively. Missing values were replaced with \"Not Provided\".\n",
    "\n",
    "**ChgoffDate** contained 736465 null values which indicates that the loan did not default.  Because this features data type is date/time were changed to '0000-00-00' to indicate that the loan is **not** in default.\n",
    "\n",
    "The 2368 null values for **DisbursementDate** suggest that loan capital was not disbursed.  Records that did not have a disbursement date were assigned \"0000-00-00\" to indicate that there is no disbursement date associated with the record.\n",
    "\n",
    "Addressing 1997 null records for **MIS_Status** was unique in that it was dependent on several attributes in the dataset. There were four different combinations of code used to address the null records for this feature.  The first combination identified null values that had a non-null value in the **ChgOffDate** feature and that the **ChgOffPrinGr** feature was not equal to zero; this combination of conditional requirements identified records that defaulted and had a charge off balance and renamed the null values as \"CHGOFF\".  The second combination identified null values where **DisbursementDate** was not null and the **BalanceGross** was equal to zero; this combination of features identifies records that did not receive funds and do not have a balance, this labeled the null values as \"P I F\".  The third and fourth combination identify null MIS_Status records where funds were not disbursed by checking **DisbursementGross** and **BalanceGross** features.  If the **DisbursementGross**was zero or null and the **BalanceGross** was 0, the missing data was labels as \"Not Disbursed\"."
   ]
  },
  {
   "cell_type": "markdown",
   "metadata": {
    "colab_type": "text",
    "id": "1KanFqxwrQmg"
   },
   "source": [
    "Several null values were also present in the City and State features. City contained 14 null values and State contained 30 null values. Both features describe the loan applicant's address information. For City null values, zip codes from the Zip feature and the United States Postal Service Zip Code Lookup tool (https://tools.usps.com/zip-code-lookup.htm?citybyzipcode) were used to identify the correct city or state name. Two zip-codes in City feature and two zip-codes in the State feature did not return a city in the United States and were left as 'NaN'. Since there are only 4 rows of data that do not have proper city or state data, they will be kept or removed depending on the machine learning algorithm used."
   ]
  },
  {
   "cell_type": "code",
   "execution_count": 5,
   "metadata": {
    "colab": {},
    "colab_type": "code",
    "id": "JDFMgqwPZknx"
   },
   "outputs": [],
   "source": [
    "# Replace City NA with appropriate state/city name\n",
    "cityList = ['Salt Lake City','New Orleans','Chicago','Chicago','San Diego','San Diego','San Diego','San Diego',\n",
    "            'San Diego','San Diego','Clevland','St. Louis','St. Louis','St. Louis','St. Louis','St. Louis',\n",
    "            'St. Louis','Seattle','Des Moines','San Antonio','Kansas City','Kansas City','Quincy','Quincy','Boston',\n",
    "            'NaN','NaN','Louisville','Wilmington','Flint']\n",
    "stateList = ['NaN','NaN','CA','AP','KS','TX','FL','WI','NJ','UT','MO','TX','TX','TX']\n",
    "\n",
    "#Replace Cities with NAs with appropriate City or State    \n",
    "loans.loc[loans.City.isnull(),'City'] = cityList\n",
    "loans.loc[loans.State.isnull(),'State'] = stateList"
   ]
  },
  {
   "cell_type": "markdown",
   "metadata": {
    "colab_type": "text",
    "id": "77v4TNEG6GgC"
   },
   "source": [
    "A new feature called **difference_in_days** was created by subtracting DisbursementDate minus ApprovalDate.  This will explain the relationship between time the loan was approved to disbursement date. There may be some correlation to why a loan is defaulted on depending on disbursement date."
   ]
  },
  {
   "cell_type": "code",
   "execution_count": 6,
   "metadata": {
    "colab": {},
    "colab_type": "code",
    "id": "Bi4lLS5IG8Wz"
   },
   "outputs": [],
   "source": [
    "#Create new Time feature and convert to int\n",
    "from datetime import datetime, timedelta\n",
    "d1 = loans.DisbursementDate\n",
    "d2 = loans.ApprovalDate\n",
    "def days_between(d1, d2):\n",
    "    d1 = datetime.strptime(d1, \"%d-%m-%Y\")\n",
    "    d2 = datetime.strptime(d2, \"%d-%m-%Y\")\n",
    "    return abs((d2 - d1).days)\n",
    "\n",
    "difference_in_days = abs((d2-d1))/ timedelta(days=1)\n",
    "\n",
    "loans['difference_in_days'] = difference_in_days"
   ]
  },
  {
   "cell_type": "markdown",
   "metadata": {
    "colab_type": "text",
    "id": "EdyD9nqyraa_"
   },
   "source": [
    "Addressing 1997 null records for MIS_Status was unique in that it was depedent on several attributes in the dataset. There were four different combinations of code used to address the null records for this feature. The first combination identified null values that had a non-null value in the ChgOffDate feature and that the ChgOffPrinGr feature was not equal to zero; this combination of conditional requirements identified records that defaulted and had a charge off balance and renamed the null values as \"CHGOFF\". The second combination identified null values where DisbursementDate was not null and the BalanceGross was equal to zero; this combination of features identifies records that did not receive funds and do not have a balance, this labeled the null values as \"P I F\". The third and fourth combination identify null MIS_Status records where funds were not disbursed by checking DisbursementGross and BalanceGross features. If the DisbursementGross was zero or null and the BalanceGross was 0, the missing data was labels as \"Not Disbursed\".\n",
    "\n",
    "Each combination has a null count below the code to show how many of the 1997 null records remain.\n"
   ]
  },
  {
   "cell_type": "code",
   "execution_count": 7,
   "metadata": {},
   "outputs": [
    {
     "data": {
      "text/plain": [
       "1997"
      ]
     },
     "execution_count": 7,
     "metadata": {},
     "output_type": "execute_result"
    }
   ],
   "source": [
    "loans['MIS_Status'].isnull().sum()"
   ]
  },
  {
   "cell_type": "code",
   "execution_count": 8,
   "metadata": {
    "colab": {},
    "colab_type": "code",
    "id": "keGIuZ1cZkn6"
   },
   "outputs": [
    {
     "data": {
      "text/plain": [
       "1736"
      ]
     },
     "execution_count": 8,
     "metadata": {},
     "output_type": "execute_result"
    }
   ],
   "source": [
    "#--------------------------------------------------------------------------------------------------------------------\n",
    "#Fill In NaN fields\n",
    "loans.dropna(subset = ['Name'], inplace = True)\n",
    "loans[\"Bank\"].fillna(\"Not Listed\", inplace = True) \n",
    "loans[\"BankState\"].fillna(\"Not Listed\", inplace = True) \n",
    "loans['NewExist'].fillna(0, inplace = True)\n",
    "loans['RevLineCr'].fillna(\"Not Provided\", inplace = True)\n",
    "loans['LowDoc'].fillna(\"Not Provided\", inplace = True)\n",
    "#loans['ChgOffDate'].fillna(\"0000-00-00\",inplace = True)\n",
    "#loans['DisbursementDate'].fillna(\"0000-00-00\",inplace = True)\n",
    "\n",
    "#Replace NaT MIS_status with CHGOFF if their ChgOffDate is not null\n",
    "#If MIS_Status has value, \n",
    "loans['MIS_Status'].mask((loans['MIS_Status'].isnull()) & \n",
    "                         ((loans['ChgOffDate'].notnull()) |\n",
    "                          (loans['ChgOffPrinGr']!=0.0)),'CHGOFF',inplace=True) \n",
    "\n",
    "loans['MIS_Status'].isnull().sum()"
   ]
  },
  {
   "cell_type": "code",
   "execution_count": 9,
   "metadata": {},
   "outputs": [
    {
     "data": {
      "text/plain": [
       "117"
      ]
     },
     "execution_count": 9,
     "metadata": {},
     "output_type": "execute_result"
    }
   ],
   "source": [
    "loans['MIS_Status'].mask((loans['MIS_Status'].isnull()) &\n",
    "                         (loans['DisbursementDate'].notnull()) & \n",
    "                         (loans['BalanceGross']==0.0),'P I F',inplace=True)\n",
    "\n",
    "loans['MIS_Status'].isnull().sum()"
   ]
  },
  {
   "cell_type": "code",
   "execution_count": 10,
   "metadata": {},
   "outputs": [
    {
     "name": "stdout",
     "output_type": "stream",
     "text": [
      "36\n"
     ]
    }
   ],
   "source": [
    "loans['MIS_Status'].mask((loans['MIS_Status'].isnull()) &\n",
    "                         (loans['DisbursementGross']==0.0) & \n",
    "                         (loans['BalanceGross']==0.0),'Not Disbursed',inplace=True)\n",
    "print(loans['MIS_Status'].isnull().sum())\n",
    "\n",
    "##Delete these records"
   ]
  },
  {
   "cell_type": "code",
   "execution_count": 11,
   "metadata": {},
   "outputs": [
    {
     "name": "stdout",
     "output_type": "stream",
     "text": [
      "(899069, 28)\n"
     ]
    }
   ],
   "source": [
    "loans.drop(loans[loans['MIS_Status'] == 'Not Disbursed'].index,inplace = True)\n",
    "loans = loans.reset_index(drop=True) \n",
    "print(loans.shape)"
   ]
  },
  {
   "cell_type": "code",
   "execution_count": 12,
   "metadata": {},
   "outputs": [
    {
     "data": {
      "text/plain": [
       "36"
      ]
     },
     "execution_count": 12,
     "metadata": {},
     "output_type": "execute_result"
    }
   ],
   "source": [
    "loans['MIS_Status'].isnull().sum()\n",
    "# delete these records instead"
   ]
  },
  {
   "cell_type": "code",
   "execution_count": 13,
   "metadata": {},
   "outputs": [],
   "source": [
    "#--------------------------------------------------------------------------------------------------------------------\n",
    "loans['MIS_Status'].replace(to_replace = 'P I F', value = 1, inplace = True)\n",
    "loans['MIS_Status'].replace(to_replace = 'CHGOFF', value = 0, inplace = True)"
   ]
  },
  {
   "cell_type": "markdown",
   "metadata": {
    "colab_type": "text",
    "id": "bggH3PV8Zkn9"
   },
   "source": [
    "After null values were removed, the index was reset for the loans data frame.  When rows are removed from a data frame, the index for that row remains.  If the indcies are not reset, null values will be assigned to indicies that had rows removed. Since sklearn algorithms require matricies and arrays, when a data frame with surplus incies are converted to a matrix, there will be a shape mismatch causing an error.  The .info() function was run to check on null values and the range index."
   ]
  },
  {
   "cell_type": "code",
   "execution_count": 14,
   "metadata": {
    "colab": {},
    "colab_type": "code",
    "id": "kQXVveN2AlpL"
   },
   "outputs": [],
   "source": [
    "loans = loans.reset_index(drop=True) #resets index, important when converting to array"
   ]
  },
  {
   "cell_type": "code",
   "execution_count": 15,
   "metadata": {
    "colab": {
     "base_uri": "https://localhost:8080/",
     "height": 654
    },
    "colab_type": "code",
    "id": "1SSyeIdrZkn-",
    "outputId": "4b027b48-08d1-4935-a804-96d47e3a8c8a"
   },
   "outputs": [
    {
     "name": "stdout",
     "output_type": "stream",
     "text": [
      "<class 'pandas.core.frame.DataFrame'>\n",
      "RangeIndex: 899069 entries, 0 to 899068\n",
      "Data columns (total 28 columns):\n",
      " #   Column              Non-Null Count   Dtype         \n",
      "---  ------              --------------   -----         \n",
      " 0   LoanNr_ChkDgt       899069 non-null  int64         \n",
      " 1   Name                899069 non-null  object        \n",
      " 2   City                899069 non-null  object        \n",
      " 3   State               899069 non-null  object        \n",
      " 4   Zip                 899069 non-null  object        \n",
      " 5   Bank                899069 non-null  object        \n",
      " 6   BankState           899069 non-null  object        \n",
      " 7   NAICS               899069 non-null  int64         \n",
      " 8   ApprovalDate        899069 non-null  datetime64[ns]\n",
      " 9   ApprovalFY          899069 non-null  object        \n",
      " 10  Term                899069 non-null  int64         \n",
      " 11  NoEmp               899069 non-null  int64         \n",
      " 12  NewExist            899069 non-null  Int64         \n",
      " 13  CreateJob           899069 non-null  int64         \n",
      " 14  RetainedJob         899069 non-null  int64         \n",
      " 15  FranchiseCode       899069 non-null  int64         \n",
      " 16  UrbanRural          899069 non-null  int64         \n",
      " 17  RevLineCr           899069 non-null  object        \n",
      " 18  LowDoc              899069 non-null  object        \n",
      " 19  ChgOffDate          162698 non-null  datetime64[ns]\n",
      " 20  DisbursementDate    896782 non-null  datetime64[ns]\n",
      " 21  DisbursementGross   899069 non-null  float64       \n",
      " 22  BalanceGross        899069 non-null  float64       \n",
      " 23  MIS_Status          899033 non-null  float64       \n",
      " 24  ChgOffPrinGr        899069 non-null  float64       \n",
      " 25  GrAppv              899069 non-null  float64       \n",
      " 26  SBA_Appv            899069 non-null  float64       \n",
      " 27  difference_in_days  896782 non-null  float64       \n",
      "dtypes: Int64(1), datetime64[ns](3), float64(7), int64(8), object(9)\n",
      "memory usage: 192.9+ MB\n"
     ]
    }
   ],
   "source": [
    "loans.info()"
   ]
  },
  {
   "cell_type": "markdown",
   "metadata": {},
   "source": [
    "### Outliers"
   ]
  },
  {
   "cell_type": "markdown",
   "metadata": {},
   "source": [
    "Boxplots were used to visually identify the number of potential outliers for the continuous data in the **loans** dataframe.  The data was plotted without modification, and with values transformed using log10.  **DisbursementGross**, **BalanceGross**, **ChgOffPrinGr**, **GrAppv**, and **SBA_Appv** were plotted separately as the range of their data is much larger than **NoEmp**, **Term**, **CreateJob**, and **RetainedJob**.  Plotting these features together would have made it difficult to spot outliers since there are two groups of continuous data have vastly different ranges.  For the raw data seen in the 'Continuous Currency Features' plot a large volume of outliers are present as the amount of money considered and disbursed to a company is dependent on the small business' needs and their size.  For the 'Business Attribute Features' plot **NoEmp**, **CreateJob**, **RetainedJob** related to employees for each business and the variation and spread seen in the boxplots is dependent on the size and type of work each of the small businesses preform; due to this large spread there are also a large volume of outliers.  For **Term** the variation is much less as banks offer a limited variety of options for loan repayment, there are still several outliers as the small companies requesting longer loans may be a smaller company that prefers smaller loan payments. "
   ]
  },
  {
   "cell_type": "code",
   "execution_count": 16,
   "metadata": {},
   "outputs": [
    {
     "data": {
      "text/plain": [
       "Text(0, 0.5, 'Loan Amount - $')"
      ]
     },
     "execution_count": 16,
     "metadata": {},
     "output_type": "execute_result"
    },
    {
     "data": {
      "image/png": "[encoded data removed]",
      "text/plain": [
       "<Figure size 432x288 with 1 Axes>"
      ]
     },
     "metadata": {
      "needs_background": "light"
     },
     "output_type": "display_data"
    }
   ],
   "source": [
    "import matplotlib.pyplot as plt\n",
    "#create matrix of continuous data\n",
    "continuous_data2 = loans[['BalanceGross','ChgOffPrinGr','GrAppv','SBA_Appv']]\n",
    "#plot the data\n",
    "continuous_data2.boxplot()\n",
    "plt.xticks(rotation=45, horizontalalignment='right', fontweight='light', fontsize='medium')\n",
    "plt.suptitle('Continuous Currency Features', fontsize=16)\n",
    "plt.xlabel('Feature', fontsize=10)\n",
    "plt.ylabel('Loan Amount - $', fontsize=10)"
   ]
  },
  {
   "cell_type": "code",
   "execution_count": 17,
   "metadata": {},
   "outputs": [
    {
     "data": {
      "text/plain": [
       "Text(0, 0.5, 'Count')"
      ]
     },
     "execution_count": 17,
     "metadata": {},
     "output_type": "execute_result"
    },
    {
     "data": {
      "image/png": "[encoded data removed]",
      "text/plain": [
       "<Figure size 432x288 with 1 Axes>"
      ]
     },
     "metadata": {
      "needs_background": "light"
     },
     "output_type": "display_data"
    }
   ],
   "source": [
    "continuous_data1 = loans[['NoEmp','Term','CreateJob','RetainedJob']]\n",
    "#plot the data\n",
    "continuous_data1.boxplot()\n",
    "plt.xticks(rotation=45, horizontalalignment='right', fontweight='light', fontsize='medium')\n",
    "plt.suptitle('Business Attribute Features', fontsize=16)\n",
    "plt.xlabel('Feature', fontsize=10)\n",
    "plt.ylabel('Count', fontsize=10)"
   ]
  },
  {
   "cell_type": "markdown",
   "metadata": {},
   "source": [
    "After log10 transformation GrAppv and SBA_Appr feautre appear more symetric, however still contain outliers. BalanceGross and ChgOffPrinGr appear to be all outliers. ChgoffPrinGr 737139 and BalanceGross 899136 features contain values that captures the amount of loan that is owed when it has defaulted and the remaining balance of a loan. Both ChgoffPrinGr and BalanceGross have median values of 0, with 737139 and 899136 zero values, respectively. For these features if there are large values, and much of the data is zero valued, they will show as outliers.\n",
    "\n",
    "For the 'Business Attribute Features': NoEmp, Term, CreateJobs, and RetainedJobs contain a large number of outliers in the tails. Converting heavily skewed features removes the normality requirement for required for some machine learning algorithms.\n"
   ]
  },
  {
   "cell_type": "code",
   "execution_count": 18,
   "metadata": {},
   "outputs": [
    {
     "data": {
      "text/plain": [
       "Text(0, 0.5, 'Loan Amount - $')"
      ]
     },
     "execution_count": 18,
     "metadata": {},
     "output_type": "execute_result"
    },
    {
     "data": {
      "image/png": "[encoded data removed]",
      "text/plain": [
       "<Figure size 432x288 with 1 Axes>"
      ]
     },
     "metadata": {
      "needs_background": "light"
     },
     "output_type": "display_data"
    }
   ],
   "source": [
    "ax2 = continuous_data2.boxplot()\n",
    "ax2.set_yscale('log')\n",
    "plt.xticks(rotation=45, horizontalalignment='right', fontweight='light', fontsize='medium')\n",
    "plt.suptitle('Continuous Currency Features - Log10', fontsize=16)\n",
    "plt.xlabel('Feature', fontsize=12)\n",
    "plt.ylabel('Loan Amount - $', fontsize=12)"
   ]
  },
  {
   "cell_type": "code",
   "execution_count": 19,
   "metadata": {},
   "outputs": [
    {
     "data": {
      "text/plain": [
       "Text(0, 0.5, 'Count')"
      ]
     },
     "execution_count": 19,
     "metadata": {},
     "output_type": "execute_result"
    },
    {
     "data": {
      "image/png": "[encoded data removed]",
      "text/plain": [
       "<Figure size 432x288 with 1 Axes>"
      ]
     },
     "metadata": {
      "needs_background": "light"
     },
     "output_type": "display_data"
    }
   ],
   "source": [
    "ax2 = continuous_data1.boxplot()\n",
    "ax2.set_yscale('log')\n",
    "plt.xticks(rotation=45, horizontalalignment='right', fontweight='light', fontsize='medium')\n",
    "plt.suptitle('Business Attribute Features - Log10', fontsize=16)\n",
    "plt.xlabel('Feature', fontsize=12)\n",
    "plt.ylabel('Count', fontsize=12)"
   ]
  },
  {
   "cell_type": "markdown",
   "metadata": {},
   "source": [
    "Outliers will be addressed on a case-by-case basis.  Several machine learning algorithms, such as multiple linear regression (MLR), prefer data to be normal.  If MLR is used the data will be transformed via log transform or standardization and outliers can be removed if the they are egregious and significantly away from the main distribution of data. Alternatively, features with large numbers of outliers can be converted to categorical features by creating bins that capture all values within the feature of concern. For some classification algorithms normality and outliers are not a requirement of the algorithm and may not adversely affect its operation.  In these cases, the outliers may be kept.  For exploratory analysis we will keep outliers, as we will be using log distributions since they are easier to visualize and are easier to interpret.  Please see the data visualization section for more detail."
   ]
  },
  {
   "cell_type": "markdown",
   "metadata": {},
   "source": [
    "# Data Understanding 2"
   ]
  },
  {
   "cell_type": "markdown",
   "metadata": {
    "colab_type": "text",
    "id": "s7TWKfMGZkoB"
   },
   "source": [
    "## Response and Explanatory Feature Descriptions, and Feature Engineering"
   ]
  },
  {
   "cell_type": "markdown",
   "metadata": {
    "colab_type": "text",
    "id": "OeCRoXsYZkoC"
   },
   "source": [
    "### Response Feature\n",
    "\n",
    "Three features in the SBAnational dataset can serve as response variables.  Two are continuous and one is categorical.  These features were choosen to be response variables as they are good indicators of loan success or failure.\n",
    "\n",
    "**CreateJob and RetainedJob:** These columns are presented as an integer. The column records the number of jobs created or retained, respectively. These variables cannot be used as explanatory variables as they indicate the success of the loan. They are a proxy for loan success. However, these variables can be used as the response variable in a model that would attempt to maximize job creation and or retention. Thus, any of these response terms correlated with explanatory terms are significant and noteworthy due to their possible predictive power.  Since we are more interested in the classification of accounts having paid in full or were charged off; these featuers will be exclued from the model.\n",
    "\n",
    "**MIS_Status:** This column is presented as an object/string. The column is categorical data with values \"P I F\" and \"CHGOFF\". This column is the main response column of the dataset.  This feature will be used to determine if a loan has succeeded or failed, where 'P I F' is a success, and a 'CHGOFF' is a failure.  Approximately 18% of loans were marked for a 'CHGOFF' and 82% successful repaid their loans.  This feature will serve as the response feature for our logistic and SVM models as it is dichotmous and indicates whether or not a loan applicant has paid their loan back or not.  **MIS_Status** will also be converted to numeric values instead of character for use in the model."
   ]
  },
  {
   "cell_type": "code",
   "execution_count": 20,
   "metadata": {
    "colab": {
     "base_uri": "https://localhost:8080/",
     "height": 443
    },
    "colab_type": "code",
    "id": "gSSjGbNHZkoD",
    "outputId": "40053d47-8ea1-41ad-cec9-e4a5686e0563"
   },
   "outputs": [
    {
     "data": {
      "image/png": "[encoded data removed]",
      "text/plain": [
       "<Figure size 576x432 with 1 Axes>"
      ]
     },
     "metadata": {
      "needs_background": "light"
     },
     "output_type": "display_data"
    }
   ],
   "source": [
    "import matplotlib.pyplot as plt\n",
    "import seaborn as sns\n",
    "\n",
    "plt.figure(figsize=(8, 6))\n",
    "ax = sns.countplot(x =loans['MIS_Status'] )\n",
    "plt.title(\"Response Feature (MIS_Status) Frequency\",fontsize= 16)\n",
    "\n",
    "for p in ax.patches:\n",
    "    ax.annotate(p.get_height(),\n",
    "                (p.get_x() + p.get_width() / 2, p.get_height()),  ha = 'center', va = 'center', \n",
    "                xytext = (0, 10), textcoords = 'offset points')"
   ]
  },
  {
   "cell_type": "markdown",
   "metadata": {
    "colab_type": "text",
    "id": "bPT-5l1lZkoH"
   },
   "source": [
    "**ApprovalDate**, **DisbursementDate**, and **ChgOffDate** are features that contain dates.  Since there are a large volume of dates, these features would not be suited for conversion to categorical features unless they were binned.  **ApprovalFY** is similar to **ApprovalDate** and may better be suited for use in the model; this feature can be binned to reduce the number of levels in the feature. This model does not address time series analysis or autocorrelation structures.  If a record contains a value from **ChgOffDate**, then the loan defaulted.  This information is more sussenctly captured in the **MIS_Status** level 'CHGOFF'; due to the redundancy **ChgOffDate** would be more useful in a new feature that captures a time difference with another time feild.\n",
    "\n",
    "One assumption for logistic regression is minimal multicollinearity.  **DisbursmentGross**, **GRAppv**, and **SBA_Appv** are highly correlated (r > 0.90) with each other as they all describe the amount of money that is given to a loan applicant. **SBA_Appv** will be kept, while **DisbursementGross** and **GrAppv** will be removed as they are both like **SBA_Appv**, but do not represent the final loan amount an applicant will receive.  Please see the correlation matrix in the **Data Preparation** section for more details.\n",
    "\n",
    "**LoannNr_ChkDgt** is the primary key for this dataset.  They were removed.   \n",
    "**Name** remove – there was no need to know the name of the loan applicate or business.  \n",
    "**City** remove - how this might be useful we decided that there is no need to have city due to loans can originate from different cities where the applicant works and uses the loan.   \n",
    "**Zip** remove – it is ideal to have the zip code of where the loan originated so we can see where the demographics of most loans are generated but that is not part of this exercise, so we got rid of the zip.   \n",
    "**BankState** remove – this is not good to use because well known banks will be in most popular area and not the rural area. The demographic is skewed as we have identified in the bank state demographic graph.   \n",
    "**ChgOffDate** remove – once a loan has defaulted, there is a charge off date. We are not using it.   \n",
    "**Term** keep – this is a good indicator to determine if the loan will be defaulted due to the terms, some loans have short terms and most of them have long terms.   \n",
    "**NoEmp** keep – this is the number of employees generated from the loan.    \n",
    "**FranchiseCode** keep – this indicates what type of businesses are requesting loans and which ones are likely to pay back the loan.    \n",
    "**BalanceGross** keep – this variable indicates how much needs to be repaid. Larger loan might have large balances if they are not paid back quickly.  \n"
   ]
  },
  {
   "cell_type": "markdown",
   "metadata": {
    "colab_type": "text",
    "id": "-lvRtp_vZkoJ"
   },
   "source": [
    "### Feature Engineering"
   ]
  },
  {
   "cell_type": "markdown",
   "metadata": {
    "colab_type": "text",
    "id": "QbZNiPlHZkoJ"
   },
   "source": [
    "**State**, **Bank**, **NAICS**, **ApprovalFY, **NewExist**, **UrbanRural**, **RevlineCr**, and **LowDoc** are features that require binning and/or one-hot-encoding.  These features may require additional cleaning and may have many categories.  Consolidating the number of categories can assist with reducing overfitting and reduce the computational load it would take to find weights for the numerous levels that exist in some of the features."
   ]
  },
  {
   "cell_type": "markdown",
   "metadata": {
    "colab_type": "text",
    "id": "TT_AiPgEZkoL"
   },
   "source": [
    "#### Categorical Features"
   ]
  },
  {
   "cell_type": "markdown",
   "metadata": {
    "colab_type": "text",
    "id": "4wj0HCfOZkoL"
   },
   "source": [
    "**Bank** contains over 5,803 unique levels.  Using this many levels in a model may lead to overfitting.  To avoid this situation the large volume of banks will be reduced by consolidating and binning into nine bins.  These bins will contain the top eight banks, and an 'other' category containing the other smaller banks.  The other category was created by renaming all banks that were not in the 'major_banks' list to 'other'.  The .describe() function was then run on the modified feature to confirm that the correct number of categories were created."
   ]
  },
  {
   "cell_type": "code",
   "execution_count": 21,
   "metadata": {
    "colab": {
     "base_uri": "https://localhost:8080/",
     "height": 308
    },
    "colab_type": "code",
    "id": "vfrlck4sZkoP",
    "outputId": "e32ccc57-a205-4f5b-daeb-e20a09786d19"
   },
   "outputs": [
    {
     "data": {
      "text/plain": [
       "BANK OF AMERICA NATL ASSOC        86847\n",
       "WELLS FARGO BANK NATL ASSOC       63491\n",
       "JPMORGAN CHASE BANK NATL ASSOC    48160\n",
       "U.S. BANK NATIONAL ASSOCIATION    35142\n",
       "CITIZENS BANK NATL ASSOC          35053\n",
       "PNC BANK, NATIONAL ASSOCIATION    27351\n",
       "BBCN BANK                         22978\n",
       "CAPITAL ONE NATL ASSOC            22247\n",
       "MANUFACTURERS & TRADERS TR CO     11262\n",
       "READYCAP LENDING, LLC             10664\n",
       "THE HUNTINGTON NATIONAL BANK       9605\n",
       "KEYBANK NATIONAL ASSOCIATION       9259\n",
       "TD BANK, NATIONAL ASSOCIATION      9007\n",
       "BRANCH BK. & TR CO                 8262\n",
       "ZIONS FIRST NATIONAL BANK          7954\n",
       "Name: Bank, dtype: int64"
      ]
     },
     "execution_count": 21,
     "metadata": {},
     "output_type": "execute_result"
    }
   ],
   "source": [
    "loans['Bank'].value_counts().head(15)"
   ]
  },
  {
   "cell_type": "code",
   "execution_count": 22,
   "metadata": {
    "colab": {},
    "colab_type": "code",
    "id": "9j2Ek81CZkoT"
   },
   "outputs": [],
   "source": [
    "# Banks create buckets for top 19 banks + other\n",
    "major_bank = ['BANK OF AMERICA NATL ASSOC', 'WELLS FARGO BANK NATL ASSOC',\n",
    "              'JPMORGAN CHASE BANK NATL ASSOC','U.S. BANK NATIONAL ASSOCIATION',\n",
    "              'CITIZENS BANK NATL ASSOC','PNC BANK, NATIONAL ASSOCIATION',\n",
    "             'BBCN BANK','CAPITAL ONE NATL ASSOC']\n",
    "\n",
    "loans.loc[~loans[\"Bank\"].isin(major_bank), \"Bank\"] = \"Other\""
   ]
  },
  {
   "cell_type": "markdown",
   "metadata": {
    "colab_type": "text",
    "id": "ybwRZPI0ZkoV"
   },
   "source": [
    "A barchart was also created for the modified **Bank** to visually confirm that there are eight major banks followed by an 'other' category.  We can see that the Bank of America is one of the larger banks by loan applicaiton volume followed by Wells Fargo.  However, many loans are aquired through other banks, perhaps many of them local.  A for loop was applied to show the frequencies of loans that the banks have per bin."
   ]
  },
  {
   "cell_type": "code",
   "execution_count": 23,
   "metadata": {
    "colab": {
     "base_uri": "https://localhost:8080/",
     "height": 536
    },
    "colab_type": "code",
    "id": "d3sGQ_9NZkoW",
    "outputId": "096ac271-c3c9-4615-f715-d0a171790833",
    "scrolled": true
   },
   "outputs": [
    {
     "data": {
      "image/png": "[encoded data removed]",
      "text/plain": [
       "<Figure size 720x432 with 1 Axes>"
      ]
     },
     "metadata": {
      "needs_background": "light"
     },
     "output_type": "display_data"
    }
   ],
   "source": [
    "plt.figure(figsize=(10, 6))\n",
    "ax = sns.countplot(x =loans['Bank'] )\n",
    "plt.title(\"Bank Requency\",fontsize= 16)\n",
    "plt.xticks(rotation=45, horizontalalignment='right', fontweight='light', fontsize='medium')\n",
    "\n",
    "for p in ax.patches:#provides frequency counts\n",
    "    ax.annotate(p.get_height(),\n",
    "                (p.get_x() + p.get_width() / 2, p.get_height()),  ha = 'center', va = 'center', \n",
    "                xytext = (0, 10), textcoords = 'offset points')"
   ]
  },
  {
   "cell_type": "markdown",
   "metadata": {
    "colab_type": "text",
    "id": "Lkbm0XdiZkoa"
   },
   "source": [
    "The North American Industry Classification System (**NAICS**) is used to classify a business into 19+ sectors that specialize in different services.  To reduce the number of levels, sectors were grouped based on similar attributes. The list of sectors can be viewed in the 'Data Dictionary' section of this link:https://www.kaggle.com/mirbektoktogaraev/should-this-loan-be-approved-or-denied?select=SBAnational.csv \n",
    "\n",
    "Sectors were grouped by the first digit in their code as seen below:\n",
    "- 1 Agriculture\n",
    "- 2 Mining, Utilities, Construction\n",
    "- 3 Manufacturing\n",
    "- 4 Trade and Transportation\n",
    "- 5 Professional and Scientific\n",
    "- 6 Education and Health\n",
    "- 7 Arts and Hospitality\n",
    "- 8 other\n",
    "- 9 Public Administration\n"
   ]
  },
  {
   "cell_type": "code",
   "execution_count": 24,
   "metadata": {
    "colab": {},
    "colab_type": "code",
    "id": "_hN9Q-5RZkoa"
   },
   "outputs": [],
   "source": [
    "# create NAICS bins for 0,1,2,3,4,5,6,7,8,9\n",
    "'NAICS'\n",
    "loans['NAICS'].replace(to_replace = 0, value = 800000, inplace = True)\n",
    "loans['NAICS']= pd.cut(loans['NAICS'],\n",
    "                       [100000,200000,300000,400000,500000,600000,700000,800000,900000,1000000],\n",
    "                       labels = ['1','2','3','4','5','6','7','8','9'])"
   ]
  },
  {
   "cell_type": "code",
   "execution_count": 25,
   "metadata": {
    "colab": {
     "base_uri": "https://localhost:8080/",
     "height": 408
    },
    "colab_type": "code",
    "id": "jr2LtIcMZkod",
    "outputId": "b9154b0f-6c0b-4af4-88f5-e9b12f3aef23"
   },
   "outputs": [
    {
     "data": {
      "image/png": "[encoded data removed]",
      "text/plain": [
       "<Figure size 720x432 with 1 Axes>"
      ]
     },
     "metadata": {
      "needs_background": "light"
     },
     "output_type": "display_data"
    }
   ],
   "source": [
    "plt.figure(figsize=(10, 6))\n",
    "ax = sns.countplot(x =loans['NAICS'] )\n",
    "plt.title(\"NAICS Sectors\",fontsize= 16)\n",
    "plt.xticks(rotation=45, horizontalalignment='right', fontweight='light', fontsize='medium')\n",
    "\n",
    "for p in ax.patches:\n",
    "    ax.annotate(p.get_height(),\n",
    "                (p.get_x() + p.get_width() / 2, p.get_height()), \n",
    "                ha = 'center', va = 'center', \n",
    "                xytext = (0, 10), textcoords = 'offset points')"
   ]
  },
  {
   "cell_type": "markdown",
   "metadata": {
    "colab_type": "text",
    "id": "YXtCnh2_Zkol"
   },
   "source": [
    "**RevLineCr**, or Revolving Line of Credit should have values coded \"Y\" or \"N\".  We can see that there are 18 categories when there should be two.  All values coded \"0\" were converted to \"N\"; all values with \"1\" were coded to \"Y\", and all character values were coded as \"N\".  A plot below confirms that after cleaning that there are two classes."
   ]
  },
  {
   "cell_type": "code",
   "execution_count": 26,
   "metadata": {
    "colab": {
     "base_uri": "https://localhost:8080/",
     "height": 376
    },
    "colab_type": "code",
    "id": "vaxqO16yZkom",
    "outputId": "86f06b69-57b7-4829-aebc-a1aba6bf37db"
   },
   "outputs": [
    {
     "data": {
      "text/plain": [
       "(array([ 0,  1,  2,  3,  4,  5,  6,  7,  8,  9, 10, 11, 12, 13, 14, 15, 16,\n",
       "        17, 18]),\n",
       " <a list of 19 Text xticklabel objects>)"
      ]
     },
     "execution_count": 26,
     "metadata": {},
     "output_type": "execute_result"
    },
    {
     "data": {
      "image/png": "[encoded data removed]",
      "text/plain": [
       "<Figure size 432x288 with 1 Axes>"
      ]
     },
     "metadata": {
      "needs_background": "light"
     },
     "output_type": "display_data"
    }
   ],
   "source": [
    "# RevLineCredit: delete special characters 14 total, recode numbers to letters\n",
    "ax = sns.countplot(x =loans['RevLineCr'] )\n",
    "plt.title(\"RevLineCr Frequencies\",fontsize= 16)\n",
    "plt.xticks(rotation=45, horizontalalignment='right', fontweight='light', fontsize='medium')"
   ]
  },
  {
   "cell_type": "code",
   "execution_count": 27,
   "metadata": {
    "colab": {
     "base_uri": "https://localhost:8080/",
     "height": 317
    },
    "colab_type": "code",
    "id": "bIJ84rA2Zkoo",
    "outputId": "cc33c194-bb49-4919-c0b5-91aa431e2296"
   },
   "outputs": [
    {
     "data": {
      "text/plain": [
       "(array([0, 1]), <a list of 2 Text xticklabel objects>)"
      ]
     },
     "execution_count": 27,
     "metadata": {},
     "output_type": "execute_result"
    },
    {
     "data": {
      "image/png": "[encoded data removed]",
      "text/plain": [
       "<Figure size 432x288 with 1 Axes>"
      ]
     },
     "metadata": {
      "needs_background": "light"
     },
     "output_type": "display_data"
    }
   ],
   "source": [
    "loans['RevLineCr'].replace(to_replace = ['Y','1'], value = 1, inplace = True)\n",
    "loans['RevLineCr'].replace(to_replace = ['N','0'], value = 0, inplace = True)\n",
    "no = ['T','`','Not Provided',\",\",'C','3','2','R','7','A','5','.','4',\"'\",'Q','-']\n",
    "loans['RevLineCr'].replace(to_replace = no, value = 0, inplace = True)\n",
    "\n",
    "ax = sns.countplot(x =loans['RevLineCr'] )\n",
    "plt.title(\"RevLineCr Frequencies\",fontsize= 16)\n",
    "plt.xticks(rotation=45, horizontalalignment='right', fontweight='light', fontsize='medium')"
   ]
  },
  {
   "cell_type": "markdown",
   "metadata": {
    "colab_type": "text",
    "id": "I5co8qWPZkor"
   },
   "source": [
    "**LowDoc** has 9 categories when it should have 3.  All values with \"Y\" will be coded as 1; values with \"N\" will be coded as 0; all other values will be coded as 0.  We can see that most loan applicants are not part of the LowDoc loan program in the barchart below.  After reorganization we can see that there are 2 categories with 0 being the largest with 788,817 records."
   ]
  },
  {
   "cell_type": "code",
   "execution_count": 28,
   "metadata": {
    "colab": {
     "base_uri": "https://localhost:8080/",
     "height": 376
    },
    "colab_type": "code",
    "id": "rGwoZ2nUZkou",
    "outputId": "700694e5-f230-4913-fa02-4385bc16205c"
   },
   "outputs": [
    {
     "data": {
      "text/plain": [
       "(array([0, 1, 2, 3, 4, 5, 6, 7, 8]), <a list of 9 Text xticklabel objects>)"
      ]
     },
     "execution_count": 28,
     "metadata": {},
     "output_type": "execute_result"
    },
    {
     "data": {
      "image/png": "[encoded data removed]",
      "text/plain": [
       "<Figure size 432x288 with 1 Axes>"
      ]
     },
     "metadata": {
      "needs_background": "light"
     },
     "output_type": "display_data"
    }
   ],
   "source": [
    "# LowDoc: covert everything to Y or N\n",
    "ax = sns.countplot(x =loans['LowDoc'] )\n",
    "plt.title(\"LowDoc Frequencies\",fontsize= 16)\n",
    "plt.xticks(rotation=45, horizontalalignment='right', fontweight='light', fontsize='medium')"
   ]
  },
  {
   "cell_type": "code",
   "execution_count": 29,
   "metadata": {
    "colab": {},
    "colab_type": "code",
    "id": "JBBCJ7qRZkow"
   },
   "outputs": [],
   "source": [
    "loans['LowDoc'].replace(to_replace = ['Y','1'], value = 1, inplace = True)\n",
    "loans['LowDoc'].replace(to_replace = ['N','0'], value = 0, inplace = True)\n",
    "no = ['C','S','Not Provided','S','R','A']\n",
    "loans['LowDoc'].replace(to_replace = no, value = 0, inplace = True)"
   ]
  },
  {
   "cell_type": "code",
   "execution_count": 30,
   "metadata": {
    "colab": {
     "base_uri": "https://localhost:8080/",
     "height": 317
    },
    "colab_type": "code",
    "id": "JfKfuChtZkoy",
    "outputId": "57c4dac9-8896-45f1-c986-81de8e34a163"
   },
   "outputs": [
    {
     "data": {
      "text/plain": [
       "(array([0, 1]), <a list of 2 Text xticklabel objects>)"
      ]
     },
     "execution_count": 30,
     "metadata": {},
     "output_type": "execute_result"
    },
    {
     "data": {
      "image/png": "[encoded data removed]",
      "text/plain": [
       "<Figure size 432x288 with 1 Axes>"
      ]
     },
     "metadata": {
      "needs_background": "light"
     },
     "output_type": "display_data"
    }
   ],
   "source": [
    "ax = sns.countplot(x =loans['LowDoc'] )\n",
    "plt.title(\"LowDoc Frequencies\",fontsize= 16)\n",
    "plt.xticks(rotation=45, horizontalalignment='right', fontweight='light', fontsize='medium')"
   ]
  },
  {
   "cell_type": "markdown",
   "metadata": {
    "colab_type": "text",
    "id": "zEULAVtxZko1"
   },
   "source": [
    "**FRANCHISE CODE** is a feature that describes if a business is a franchise or not and is denoted with '0' being no, and '1' being yes.  All records that were not coded as '0' were recoded to '1'.  Some examples of this would be records with 'Y', which would then be recoded to '1'.  The plot below confirms the cleaning and that two classes remain."
   ]
  },
  {
   "cell_type": "code",
   "execution_count": 31,
   "metadata": {
    "colab": {
     "base_uri": "https://localhost:8080/",
     "height": 408
    },
    "colab_type": "code",
    "id": "F76CLTq7Zko1",
    "outputId": "a891901d-8a36-4f0b-fc26-08ae98e1868f"
   },
   "outputs": [
    {
     "name": "stderr",
     "output_type": "stream",
     "text": [
      "C:\\Users\\Jeff\\Anaconda3\\lib\\site-packages\\pandas\\core\\indexing.py:670: SettingWithCopyWarning: \n",
      "A value is trying to be set on a copy of a slice from a DataFrame\n",
      "\n",
      "See the caveats in the documentation: https://pandas.pydata.org/pandas-docs/stable/user_guide/indexing.html#returning-a-view-versus-a-copy\n",
      "  self._setitem_with_indexer(indexer, value)\n"
     ]
    },
    {
     "data": {
      "text/plain": [
       "(array([0, 1]), <a list of 2 Text xticklabel objects>)"
      ]
     },
     "execution_count": 31,
     "metadata": {},
     "output_type": "execute_result"
    },
    {
     "data": {
      "image/png": "[encoded data removed]",
      "text/plain": [
       "<Figure size 432x288 with 1 Axes>"
      ]
     },
     "metadata": {
      "needs_background": "light"
     },
     "output_type": "display_data"
    }
   ],
   "source": [
    "loans['FranchiseCode'].loc[(loans['FranchiseCode'] !=0)] = 1\n",
    "\n",
    "ax = sns.countplot(x =loans['FranchiseCode'] )\n",
    "plt.title(\"FranchiseCode Frequencies\",fontsize= 16)\n",
    "plt.xticks(rotation=45, horizontalalignment='right', fontweight='light', fontsize='medium')"
   ]
  },
  {
   "cell_type": "markdown",
   "metadata": {
    "colab_type": "text",
    "id": "PMsU-FAvZko4"
   },
   "source": [
    "There are over 50 categories for the **State** feature, where each category is a state or military address.  If all the states were converted via one-hot-encoding, or dummy coding, there would be a risk of overfitting.  To address this states will be grouped into the following regions: West, Midwest, Southwest, Southeast, and Northeast."
   ]
  },
  {
   "cell_type": "code",
   "execution_count": 32,
   "metadata": {
    "colab": {
     "base_uri": "https://localhost:8080/",
     "height": 600
    },
    "colab_type": "code",
    "id": "zVeMNdzvZko5",
    "outputId": "4aebcfc8-33bd-457b-e5b2-c0f0627309fe"
   },
   "outputs": [
    {
     "data": {
      "text/plain": [
       "(array([ 0,  1,  2,  3,  4,  5,  6,  7,  8,  9, 10, 11, 12, 13, 14, 15, 16,\n",
       "        17, 18, 19, 20, 21, 22, 23, 24, 25, 26, 27, 28, 29, 30, 31, 32, 33,\n",
       "        34, 35, 36, 37, 38, 39, 40, 41, 42, 43, 44, 45, 46, 47, 48, 49, 50,\n",
       "        51, 52]),\n",
       " <a list of 53 Text xticklabel objects>)"
      ]
     },
     "execution_count": 32,
     "metadata": {},
     "output_type": "execute_result"
    },
    {
     "data": {
      "image/png": "[encoded data removed]",
      "text/plain": [
       "<Figure size 1152x576 with 1 Axes>"
      ]
     },
     "metadata": {
      "needs_background": "light"
     },
     "output_type": "display_data"
    }
   ],
   "source": [
    "# State Distribution\n",
    "plt.figure(figsize=(16,8))\n",
    "ax = sns.countplot(x =loans['State'] )\n",
    "plt.title(\"State Frequencies\",fontsize= 16)\n",
    "plt.xticks(rotation=45, horizontalalignment='right', fontweight='light', fontsize='medium')"
   ]
  },
  {
   "cell_type": "markdown",
   "metadata": {
    "colab_type": "text",
    "id": "ZUsJp4jCZko6"
   },
   "source": [
    "After the **State** feature was binned by region, we can see that the 'West' has the most loan applocations, followed by the 'Northeast' and 'Midwest'.  The code below assigns each state to a region based on this map found on National Geographic:https://www.nationalgeographic.org/maps/united-states-regions/\n",
    "\n",
    "The binning was confirmed by a barchart to ensure that all states were properly assigned to a region.  The barchart include frequency counts for ease of reading and was generated using a for loop."
   ]
  },
  {
   "cell_type": "code",
   "execution_count": 33,
   "metadata": {
    "colab": {
     "base_uri": "https://localhost:8080/",
     "height": 548
    },
    "colab_type": "code",
    "id": "4-ljO1jZZko7",
    "outputId": "81d8dee1-975b-4e12-fd94-5fee9f69233a"
   },
   "outputs": [
    {
     "data": {
      "image/png": "[encoded data removed]",
      "text/plain": [
       "<Figure size 1152x576 with 1 Axes>"
      ]
     },
     "metadata": {
      "needs_background": "light"
     },
     "output_type": "display_data"
    }
   ],
   "source": [
    "#Generate list of states\n",
    "west = ['WA','OR','CA','NV','UT','CO','WY','MT','ID','AK','HI','AP','NaN']\n",
    "midwest =['ND','SD','NE','KS','MO','IA','MN','MI','IL','IN','OH','WI']\n",
    "southeast = ['AR','LA','MS','TN','KY','WV','VA','NC','SC','GA','FL','AL']\n",
    "southwest = ['AZ','TX','NM','OK']\n",
    "northeast = ['ME','VT','NH','CT','RI','NY','NJ','DE','MD','MA','PA','DC']\n",
    "\n",
    "loans['State'].replace(to_replace = west, value = 'west', inplace = True)\n",
    "loans['State'].replace(to_replace = midwest, value = 'midwest', inplace = True)\n",
    "loans['State'].replace(to_replace = southeast, value = 'southeast', inplace = True)\n",
    "loans['State'].replace(to_replace = southwest, value = 'southwest', inplace = True)\n",
    "loans['State'].replace(to_replace = northeast, value = 'northeast', inplace = True)\n",
    "\n",
    "plt.figure(figsize=(16,8))\n",
    "ax = sns.countplot(x =loans['State'] )\n",
    "plt.title(\"US Region Frequencies\",fontsize= 16)\n",
    "plt.xticks(rotation=45, horizontalalignment='right', fontweight='light', fontsize='medium')\n",
    "\n",
    "for p in ax.patches:\n",
    "    ax.annotate(p.get_height(),\n",
    "                (p.get_x() + p.get_width() / 2, p.get_height()), \n",
    "                ha = 'center', va = 'center', \n",
    "                xytext = (0, 10), textcoords = 'offset points')"
   ]
  },
  {
   "cell_type": "markdown",
   "metadata": {
    "colab_type": "text",
    "id": "tXXY-ddBZko-"
   },
   "source": [
    "#### Categorical One-hot-encoding"
   ]
  },
  {
   "cell_type": "markdown",
   "metadata": {
    "colab_type": "text",
    "id": "QKr83tF_Zko_"
   },
   "source": [
    "**Bank**, **NAICS**, **ApprovalFY_decade**, **UrbanRural**, **NewExist**, and **State** are nominal categorical features and are best represented by one-hot-encoding or as an integer.  For our models, these features will be converted to on hot encoding and the old feature will be removed.  After one-hot-encoding was complete, the .info() function was run to visually check to ensure that the function created new features and removed the old features.  Failure to remove features used to create on-hot-encoded features would introduce multicollinearity.  This property would result in an over-inflation of model metrics."
   ]
  },
  {
   "cell_type": "code",
   "execution_count": 34,
   "metadata": {
    "colab": {},
    "colab_type": "code",
    "id": "BXdTbkuJsRrt"
   },
   "outputs": [],
   "source": [
    "loans = loans.reset_index(drop=True) #resets index, important when converting to array"
   ]
  },
  {
   "cell_type": "code",
   "execution_count": 35,
   "metadata": {
    "colab": {
     "base_uri": "https://localhost:8080/",
     "height": 1000
    },
    "colab_type": "code",
    "id": "U_-kAd51ZkpC",
    "outputId": "f8ba937a-bff0-40f6-9123-c54a3f869860"
   },
   "outputs": [
    {
     "name": "stdout",
     "output_type": "stream",
     "text": [
      "<class 'pandas.core.frame.DataFrame'>\n",
      "RangeIndex: 899069 entries, 0 to 899068\n",
      "Data columns (total 28 columns):\n",
      " #   Column              Non-Null Count   Dtype         \n",
      "---  ------              --------------   -----         \n",
      " 0   LoanNr_ChkDgt       899069 non-null  int64         \n",
      " 1   Name                899069 non-null  object        \n",
      " 2   City                899069 non-null  object        \n",
      " 3   State               899069 non-null  object        \n",
      " 4   Zip                 899069 non-null  object        \n",
      " 5   Bank                899069 non-null  object        \n",
      " 6   BankState           899069 non-null  object        \n",
      " 7   NAICS               899069 non-null  category      \n",
      " 8   ApprovalDate        899069 non-null  datetime64[ns]\n",
      " 9   ApprovalFY          899069 non-null  object        \n",
      " 10  Term                899069 non-null  int64         \n",
      " 11  NoEmp               899069 non-null  int64         \n",
      " 12  NewExist            899069 non-null  Int64         \n",
      " 13  CreateJob           899069 non-null  int64         \n",
      " 14  RetainedJob         899069 non-null  int64         \n",
      " 15  FranchiseCode       899069 non-null  int64         \n",
      " 16  UrbanRural          899069 non-null  int64         \n",
      " 17  RevLineCr           899069 non-null  int64         \n",
      " 18  LowDoc              899069 non-null  int64         \n",
      " 19  ChgOffDate          162698 non-null  datetime64[ns]\n",
      " 20  DisbursementDate    896782 non-null  datetime64[ns]\n",
      " 21  DisbursementGross   899069 non-null  float64       \n",
      " 22  BalanceGross        899069 non-null  float64       \n",
      " 23  MIS_Status          899033 non-null  float64       \n",
      " 24  ChgOffPrinGr        899069 non-null  float64       \n",
      " 25  GrAppv              899069 non-null  float64       \n",
      " 26  SBA_Appv            899069 non-null  float64       \n",
      " 27  difference_in_days  896782 non-null  float64       \n",
      "dtypes: Int64(1), category(1), datetime64[ns](3), float64(7), int64(9), object(7)\n",
      "memory usage: 186.9+ MB\n"
     ]
    }
   ],
   "source": [
    "loans.info()"
   ]
  },
  {
   "cell_type": "markdown",
   "metadata": {
    "colab_type": "text",
    "id": "Wz6uOvNIZkpE"
   },
   "source": [
    "After additional cleaning and binning of the categorical features we can see that the number of unique levels has decreased.  Having fewer levels per features should reduce the computational load and potential overfitting when running our classification algorithms."
   ]
  },
  {
   "cell_type": "markdown",
   "metadata": {
    "colab_type": "text",
    "id": "m1hoIm-4ZkpF"
   },
   "source": [
    "### Quantitative Features"
   ]
  },
  {
   "cell_type": "markdown",
   "metadata": {
    "colab_type": "text",
    "id": "0raKEMwEZkpF"
   },
   "source": [
    "The correlation matrix below shows continuous features that help determine if a loan is paid in full or if it defaults.  The correlation matrix shows that **DisbursementGross** is strongly and positively with **SBA_Appr** and **GrAppv**; and **SBA_Appr** is strongly and positively correlated with **GrAppv**. **NoEmp** and **Term** feature show moderate or low correlation compared to the remaining features. **DisbursementGross**, **SBA_Appr** and **GrAppv** all relate to the amount of money a small business is approved for or received and the correlation matrix shows how strongly correlated those values are. It is most likely that values from DisbursementGross, **SBA_Appr** and **GrAppv** are the same or are very close to each other.\n",
    "\n",
    "One assumption for logistic regression is minimal multicollinearity.  **DisbursmentGross**, **GRAppv**, and **SBA_Appv** are highly correlated (r > 0.90) with each other as they all describe the amount of money that is given to a loan applicant.  Since the **SBA_Appv** feature describes the amount of money that is approved and guaranteed to an applicant it will be kept.  **DisbursementGross** and **GrAppv** will be removed as they are both like **SBA_Appv**, but do not represent the final loan amount an applicant will receive."
   ]
  },
  {
   "cell_type": "code",
   "execution_count": 36,
   "metadata": {
    "colab": {
     "base_uri": "https://localhost:8080/",
     "height": 388
    },
    "colab_type": "code",
    "id": "IMKZIorqZkpF",
    "outputId": "833ea2cf-d47d-4b04-826e-fb6cef8e046e"
   },
   "outputs": [
    {
     "data": {
      "text/plain": [
       "<matplotlib.axes._subplots.AxesSubplot at 0x198e31a08c8>"
      ]
     },
     "execution_count": 36,
     "metadata": {},
     "output_type": "execute_result"
    },
    {
     "data": {
      "image/png": "[encoded data removed]",
      "text/plain": [
       "<Figure size 432x288 with 2 Axes>"
      ]
     },
     "metadata": {},
     "output_type": "display_data"
    }
   ],
   "source": [
    "normal_data =['DisbursementGross', 'GrAppv', 'NoEmp', 'Term', 'SBA_Appv','ChgOffPrinGr', \n",
    "              'BalanceGross','BankState','difference_in_days']\n",
    "loans_corr = loans[normal_data]\n",
    "\n",
    "cmap = sns.diverging_palette(220, 10, as_cmap=True) # one of the many color mappings\n",
    "\n",
    "#Generate a correlation matrix of transformed data\n",
    "sns.set(style=\"darkgrid\") # one of the many styles to plot using\n",
    "sns.heatmap(loans_corr.corr(), cmap=cmap, annot=True)"
   ]
  },
  {
   "cell_type": "code",
   "execution_count": 37,
   "metadata": {},
   "outputs": [
    {
     "name": "stdout",
     "output_type": "stream",
     "text": [
      "<class 'pandas.core.frame.DataFrame'>\n",
      "RangeIndex: 157818 entries, 0 to 157817\n",
      "Data columns (total 16 columns):\n",
      " #   Column           Non-Null Count   Dtype  \n",
      "---  ------           --------------   -----  \n",
      " 0   Term             157818 non-null  int64  \n",
      " 1   SBA_Appv         157818 non-null  float64\n",
      " 2   NAICS_1          157818 non-null  uint8  \n",
      " 3   NAICS_2          157818 non-null  uint8  \n",
      " 4   NAICS_3          157818 non-null  uint8  \n",
      " 5   NAICS_4          157818 non-null  uint8  \n",
      " 6   NAICS_5          157818 non-null  uint8  \n",
      " 7   NAICS_6          157818 non-null  uint8  \n",
      " 8   NAICS_7          157818 non-null  uint8  \n",
      " 9   NAICS_8          157818 non-null  uint8  \n",
      " 10  NAICS_9          157818 non-null  uint8  \n",
      " 11  State_midwest    157818 non-null  uint8  \n",
      " 12  State_northeast  157818 non-null  uint8  \n",
      " 13  State_southeast  157818 non-null  uint8  \n",
      " 14  State_southwest  157818 non-null  uint8  \n",
      " 15  State_west       157818 non-null  uint8  \n",
      "dtypes: float64(1), int64(1), uint8(14)\n",
      "memory usage: 4.5 MB\n"
     ]
    }
   ],
   "source": [
    "defaults = loans[loans['MIS_Status']==0]\n",
    "defaults = defaults.reset_index(drop=True)\n",
    "default_features = ['State','NAICS','Term','SBA_Appv']\n",
    "\n",
    "chg_off_data = defaults[default_features]\n",
    "\n",
    "chg_off_data = pd.get_dummies(chg_off_data,columns=['NAICS','State'])\n",
    "\n",
    "if 'NAICS' in chg_off_data:    \n",
    "    del chg_off_data['NAICS']\n",
    "    \n",
    "if 'State' in chg_off_data:    \n",
    "    del chg_off_data['State']  \n",
    "    \n",
    "chg_off_data.info()"
   ]
  },
  {
   "cell_type": "markdown",
   "metadata": {},
   "source": []
  },
  {
   "cell_type": "code",
   "execution_count": 38,
   "metadata": {},
   "outputs": [],
   "source": [
    "#Standardize Data\n",
    "%matplotlib inline\n",
    "# chg_off_data['NAICS']= chg_off_data['NAICS'].astype(float)\n",
    "\n",
    "y = chg_off_data['SBA_Appv']\n",
    "chg_off_data['SBA_Appv_std'] =(chg_off_data['SBA_Appv'] - chg_off_data['SBA_Appv'].mean())/chg_off_data['SBA_Appv'].std()\n",
    "#defaults[['SBA_Apprv_std']]"
   ]
  },
  {
   "cell_type": "code",
   "execution_count": 39,
   "metadata": {},
   "outputs": [
    {
     "name": "stdout",
     "output_type": "stream",
     "text": [
      "<class 'pandas.core.frame.DataFrame'>\n",
      "RangeIndex: 157818 entries, 0 to 157817\n",
      "Data columns (total 17 columns):\n",
      " #   Column           Non-Null Count   Dtype  \n",
      "---  ------           --------------   -----  \n",
      " 0   Term             157818 non-null  int64  \n",
      " 1   SBA_Appv         157818 non-null  float64\n",
      " 2   NAICS_1          157818 non-null  uint8  \n",
      " 3   NAICS_2          157818 non-null  uint8  \n",
      " 4   NAICS_3          157818 non-null  uint8  \n",
      " 5   NAICS_4          157818 non-null  uint8  \n",
      " 6   NAICS_5          157818 non-null  uint8  \n",
      " 7   NAICS_6          157818 non-null  uint8  \n",
      " 8   NAICS_7          157818 non-null  uint8  \n",
      " 9   NAICS_8          157818 non-null  uint8  \n",
      " 10  NAICS_9          157818 non-null  uint8  \n",
      " 11  State_midwest    157818 non-null  uint8  \n",
      " 12  State_northeast  157818 non-null  uint8  \n",
      " 13  State_southeast  157818 non-null  uint8  \n",
      " 14  State_southwest  157818 non-null  uint8  \n",
      " 15  State_west       157818 non-null  uint8  \n",
      " 16  SBA_Appv_std     157818 non-null  float64\n",
      "dtypes: float64(2), int64(1), uint8(14)\n",
      "memory usage: 5.7 MB\n"
     ]
    }
   ],
   "source": [
    "chg_off_data.info()"
   ]
  },
  {
   "cell_type": "markdown",
   "metadata": {},
   "source": [
    "# Modeling and Evaluation 1"
   ]
  },
  {
   "cell_type": "markdown",
   "metadata": {},
   "source": [
    "## Agglomerative Clustering"
   ]
  },
  {
   "cell_type": "markdown",
   "metadata": {},
   "source": [
    "Running agglomerative clustering on all 157,818 \"CHGOFF\" records caused memory errors as the proximity matrix generated by the clustering algorithm was too large for RAM.  A random sample of n = 20000 was taken using pandas' sample() function to avoid memory errors and allow for rapid prototyping."
   ]
  },
  {
   "cell_type": "code",
   "execution_count": 40,
   "metadata": {},
   "outputs": [],
   "source": [
    "cluster_sample=chg_off_data.sample(n=20000, replace=False, random_state=45)"
   ]
  },
  {
   "cell_type": "markdown",
   "metadata": {},
   "source": [
    "### Agglomerative Helper Function"
   ]
  },
  {
   "cell_type": "markdown",
   "metadata": {},
   "source": [
    "Since there are more than two features that were used for agglomerative clustering, visualizing the clusters was performed by a dendrogram instead of a scatterplot.  A dendrogram is ideal since there were 15 features used for this clustering algorithm.  Since scatterplots are intended for 2-dimensional data, showing clusters based on 15 features on scatter plots would result in a loss of information since only two features can be shown at a time.\n",
    "\n",
    "Dendrograms show the hierarchical structure of the data as the agglomerative clustering algorithm cluster based on a distance measure such as, but not limited to: euclidiean, manhattan, or cosine distances.  The plot_dendrogram() helper function was used to show the clusters generated by an agglomerative clustering model by showing each data points distance from each other in a hierarchical diagram.  This code was referenced from sklearn [here](https://scikit-learn.org/stable/auto_examples/cluster/plot_agglomerative_dendrogram.html#sphx-glr-auto-examples-cluster-plot-agglomerative-dendrogram-py)."
   ]
  },
  {
   "cell_type": "code",
   "execution_count": 41,
   "metadata": {},
   "outputs": [],
   "source": [
    "from sklearn import manifold\n",
    "from scipy.cluster.hierarchy import dendrogram\n",
    "\n",
    "def plot_dendrogram(model, **kwargs):\n",
    "    # Create linkage matrix and then plot the dendrogram\n",
    "\n",
    "    # create the counts of samples under each node\n",
    "    counts = np.zeros(model.children_.shape[0])\n",
    "    n_samples = len(model.labels_)\n",
    "    for i, merge in enumerate(model.children_):\n",
    "        current_count = 0\n",
    "        for child_idx in merge:\n",
    "            if child_idx < n_samples:\n",
    "                current_count += 1  # leaf node\n",
    "            else:\n",
    "                current_count += counts[child_idx - n_samples]\n",
    "        counts[i] = current_count\n",
    "\n",
    "    linkage_matrix = np.column_stack([model.children_, model.distances_,\n",
    "                                      counts]).astype(float)\n",
    "\n",
    "    # Plot the corresponding dendrogram\n",
    "    dendrogram(linkage_matrix, **kwargs)"
   ]
  },
  {
   "cell_type": "markdown",
   "metadata": {},
   "source": [
    "The **linkage** parameter in the AgglomerativeClustering() function was adjusted to generate different clusters by defining intercluster similarity using either: minimum similarity, maximum similarity, group average, distance between centroids, or the use of an objective function.  For this project, the minimum distance (single linkage) and an objective function (Ward's method) will be used by the clustering algorithm to determine similarity.  Single linkages generate clusters based on minimizing the distance between data, while ward linkages aim to minimize the SSE.\n",
    "\n",
    "For initial agglomerative modeling, the **distance_threshold** was set to 0 to allow the algorithm to determine the minimal value for distance or SSE based on the **linkage** method.  When **distance_threshold** parameter was set to 0, the algorithm requires that the **n_clusters** parameter be set to \"None\".  This allows the algorithm to generate its own clusters.\n",
    "\n",
    "After each agglomerative clustering model was run, it was fit.  Fitting the models allowed for clusters to be identified through the use of dendrograms generated from the labels_ and children_ attributes utilized by the plot_dendrogram() helper function."
   ]
  },
  {
   "cell_type": "code",
   "execution_count": 42,
   "metadata": {},
   "outputs": [
    {
     "data": {
      "text/plain": [
       "AgglomerativeClustering(affinity='euclidean', compute_full_tree='auto',\n",
       "                        connectivity=None, distance_threshold=0,\n",
       "                        linkage='single', memory=None, n_clusters=None)"
      ]
     },
     "execution_count": 42,
     "metadata": {},
     "output_type": "execute_result"
    }
   ],
   "source": [
    "#Single Linkage\n",
    "from sklearn.cluster import AgglomerativeClustering\n",
    "\n",
    "cluster_model1 = AgglomerativeClustering(linkage='single',distance_threshold=0, n_clusters=None)\n",
    "cluster_model1.fit(cluster_sample)"
   ]
  },
  {
   "cell_type": "code",
   "execution_count": 43,
   "metadata": {},
   "outputs": [
    {
     "data": {
      "text/plain": [
       "AgglomerativeClustering(affinity='euclidean', compute_full_tree='auto',\n",
       "                        connectivity=None, distance_threshold=0, linkage='ward',\n",
       "                        memory=None, n_clusters=None)"
      ]
     },
     "execution_count": 43,
     "metadata": {},
     "output_type": "execute_result"
    }
   ],
   "source": [
    "#Ward\n",
    "cluster_model2 = AgglomerativeClustering(linkage='ward',distance_threshold=0, n_clusters=None)\n",
    "cluster_model2.fit(cluster_sample)"
   ]
  },
  {
   "cell_type": "markdown",
   "metadata": {},
   "source": [
    "After the inital models generated clusters, a final agglomerative model was created to allow for labeling of data.  Based on visual inspection of dendrograms in \"Model Evaluation 3\" and analysis of summary stats and counts from \"Model Evaluation 2\" parameters for the final model were set.\n",
    "\n",
    "Initial models for both single and Ward linkage dendrograms showed there were two clusters.  For the final model, the **n_clusters** parameter was then set to two.  When looking at the dendrograms, the summary statistics and counts between the two linkages, the single linkage clustering were not ideal as one cluster took up most of the records.  We can see that for the Ward linkage that the dendrograms show a more even distribution in the clusters.  Single linkage has a tendancy to be sensitive to outliers, whereas the Ward method is more robust to outliers.  This shows that the single linkage cluster potentially over generalized some of the records into a cluster that may not adequately describe the data. Based on these observations the **linkage** parameter was set to \"ward\".\n",
    "\n",
    "The affinity parameter was adjusted to identify if different clustering would be generated.  For the Ward linkage only Euclidean can be used.  For single linkage Manhattan and Euclidean were used.  Three features were created to capture the cluster labels for each linkage-affinity combination. The labels were generated by the fit_predict() function and stored in the .labels_ attribute."
   ]
  },
  {
   "cell_type": "code",
   "execution_count": 44,
   "metadata": {},
   "outputs": [],
   "source": [
    "# create 3 models based on adjusting affinity\n",
    "cluster_model3ward = AgglomerativeClustering(n_clusters=2, affinity='euclidean', linkage='ward')\n",
    "cluster_model3_single_eucl = AgglomerativeClustering(n_clusters=2, affinity='euclidean', linkage='single')\n",
    "cluster_model3_single_man = AgglomerativeClustering(n_clusters=2, affinity='manhattan', linkage='single')\n",
    "\n",
    "#Fit models\n",
    "cluster_model3ward.fit_predict(cluster_sample)\n",
    "cluster_model3_single_eucl.fit_predict(cluster_sample)\n",
    "cluster_model3_single_man.fit_predict(cluster_sample)\n",
    "\n",
    "#label clusters in data\n",
    "cluster_sample['cluster_ward'] = cluster_model3ward.labels_\n",
    "cluster_sample['cluster_se'] = cluster_model3_single_eucl.labels_\n",
    "cluster_sample['cluster_sm'] = cluster_model3_single_man.labels_"
   ]
  },
  {
   "cell_type": "markdown",
   "metadata": {},
   "source": [
    "# Modeling and Evaluation 2"
   ]
  },
  {
   "cell_type": "markdown",
   "metadata": {},
   "source": [
    "Explanatory data analysis was preformed on the clusters to determine which model preformed best. For visualizations of this EDA please see the \"Model and Evaluation 3\" section."
   ]
  },
  {
   "cell_type": "markdown",
   "metadata": {},
   "source": [
    "## Agglomerative Clustering EDA"
   ]
  },
  {
   "cell_type": "markdown",
   "metadata": {},
   "source": [
    "Continuous and categorical features were specified, and Clusters were separated into sets for exploratory data analysis and summary statistics.  The one_hot_counter() helper function was created to provide counts from each one-hot-encoded feature.\n",
    "\n",
    "one_hot counter() takes a cluster set, and list of one-hot-encoded columns from a feature as arguments.  It uses a loop to iterate over each one-hot-encoded column, counts all non-zero values, adds it to a list, and returns the list.  The list returned by one_hot_counter() can then be used for EDA or visualization."
   ]
  },
  {
   "cell_type": "code",
   "execution_count": 45,
   "metadata": {},
   "outputs": [],
   "source": [
    "cluster1w = cluster_sample[cluster_sample['cluster_ward']==0]\n",
    "cluster2w = cluster_sample[cluster_sample['cluster_ward']==1]\n",
    "\n",
    "cluster1se = cluster_sample[cluster_sample['cluster_se']==0]\n",
    "cluster2se = cluster_sample[cluster_sample['cluster_se']==1]\n",
    "\n",
    "cluster1sm = cluster_sample[cluster_sample['cluster_sm']==0]\n",
    "cluster2sm = cluster_sample[cluster_sample['cluster_sm']==1]\n",
    "\n",
    "continuous_var = ['Term','SBA_Appv','SBA_Appv_std']\n",
    "NAICS = ['NAICS_1', 'NAICS_2', 'NAICS_3', 'NAICS_4', \n",
    "           'NAICS_5', 'NAICS_6', 'NAICS_7', 'NAICS_8', 'NAICS_9']\n",
    "region = ['State_midwest', 'State_northeast', 'State_southeast', \n",
    "          'State_southwest', 'State_west']"
   ]
  },
  {
   "cell_type": "code",
   "execution_count": 46,
   "metadata": {},
   "outputs": [],
   "source": [
    "def one_hot_counter(cluster, variable_name):\n",
    "    #iterates over a list of one-hot-encoded columns and return a count of non-zero values\n",
    "    var_count = []\n",
    "    for var_name in variable_name:\n",
    "        var_count.append(np.count_nonzero(cluster[var_name]==1))\n",
    "    return var_count"
   ]
  },
  {
   "cell_type": "markdown",
   "metadata": {},
   "source": [
    "### Categorical EDA"
   ]
  },
  {
   "cell_type": "markdown",
   "metadata": {},
   "source": [
    "Clusters for each linkage type were separated in individual sets and filtered for the categorical features.  When looking at NAICS we can see that the Euclidean and Manhattan linkages cluster most of the data into cluster 1.  However, when we look at cluster 2 for both Euclidean and Manhattan linkages there are minimal records.  The Ward method puts more data into cluster 2, but still was able to include a decent number of records into cluster 1.\n",
    "\n",
    "When the Ward method was used NAICS_7 (Arts and Hospitality) for cluster 1 and NAICS_4 (Trade and Transportation) for cluster 2 are most common.  When Euclidean or Manhattan linkages are used, NAICS_4 (Trade and Transportation) for cluster 1 and NAICS_7 (Trade and Transportation) for cluster 2 are most common.  The main difference between the linkages are that the most common sectors are the same but are flipped for each cluster; and the cluster 2 counts for Euclidean and Manhattan are very low."
   ]
  },
  {
   "cell_type": "code",
   "execution_count": 47,
   "metadata": {},
   "outputs": [
    {
     "data": {
      "text/html": [
       "<div>\n",
       "<style scoped>\n",
       "    .dataframe tbody tr th:only-of-type {\n",
       "        vertical-align: middle;\n",
       "    }\n",
       "\n",
       "    .dataframe tbody tr th {\n",
       "        vertical-align: top;\n",
       "    }\n",
       "\n",
       "    .dataframe thead th {\n",
       "        text-align: right;\n",
       "    }\n",
       "</style>\n",
       "<table border=\"1\" class=\"dataframe\">\n",
       "  <thead>\n",
       "    <tr style=\"text-align: right;\">\n",
       "      <th></th>\n",
       "      <th>NAICS</th>\n",
       "      <th>Cluster 1 Counts (Ward)</th>\n",
       "      <th>Cluster 1 Counts (Single Euclidean)</th>\n",
       "      <th>Cluster 1 Counts (Single Manhattan)</th>\n",
       "      <th>Cluster 2 Counts (Ward)</th>\n",
       "      <th>Cluster 2 Counts (Single Euclidean)</th>\n",
       "      <th>Cluster 2 Counts (Single Manhattan)</th>\n",
       "    </tr>\n",
       "  </thead>\n",
       "  <tbody>\n",
       "    <tr>\n",
       "      <th>0</th>\n",
       "      <td>NAICS_1</td>\n",
       "      <td>38</td>\n",
       "      <td>101</td>\n",
       "      <td>101</td>\n",
       "      <td>64</td>\n",
       "      <td>1</td>\n",
       "      <td>1</td>\n",
       "    </tr>\n",
       "    <tr>\n",
       "      <th>1</th>\n",
       "      <td>NAICS_2</td>\n",
       "      <td>103</td>\n",
       "      <td>1931</td>\n",
       "      <td>1931</td>\n",
       "      <td>1833</td>\n",
       "      <td>5</td>\n",
       "      <td>5</td>\n",
       "    </tr>\n",
       "    <tr>\n",
       "      <th>2</th>\n",
       "      <td>NAICS_3</td>\n",
       "      <td>181</td>\n",
       "      <td>1318</td>\n",
       "      <td>1318</td>\n",
       "      <td>1139</td>\n",
       "      <td>2</td>\n",
       "      <td>2</td>\n",
       "    </tr>\n",
       "    <tr>\n",
       "      <th>3</th>\n",
       "      <td>NAICS_4</td>\n",
       "      <td>346</td>\n",
       "      <td>5505</td>\n",
       "      <td>5505</td>\n",
       "      <td>5166</td>\n",
       "      <td>7</td>\n",
       "      <td>7</td>\n",
       "    </tr>\n",
       "    <tr>\n",
       "      <th>4</th>\n",
       "      <td>NAICS_5</td>\n",
       "      <td>135</td>\n",
       "      <td>3949</td>\n",
       "      <td>3949</td>\n",
       "      <td>3816</td>\n",
       "      <td>2</td>\n",
       "      <td>2</td>\n",
       "    </tr>\n",
       "    <tr>\n",
       "      <th>5</th>\n",
       "      <td>NAICS_6</td>\n",
       "      <td>105</td>\n",
       "      <td>900</td>\n",
       "      <td>900</td>\n",
       "      <td>796</td>\n",
       "      <td>1</td>\n",
       "      <td>1</td>\n",
       "    </tr>\n",
       "    <tr>\n",
       "      <th>6</th>\n",
       "      <td>NAICS_7</td>\n",
       "      <td>807</td>\n",
       "      <td>4468</td>\n",
       "      <td>4468</td>\n",
       "      <td>3672</td>\n",
       "      <td>11</td>\n",
       "      <td>11</td>\n",
       "    </tr>\n",
       "    <tr>\n",
       "      <th>7</th>\n",
       "      <td>NAICS_8</td>\n",
       "      <td>138</td>\n",
       "      <td>1796</td>\n",
       "      <td>1796</td>\n",
       "      <td>1659</td>\n",
       "      <td>1</td>\n",
       "      <td>1</td>\n",
       "    </tr>\n",
       "    <tr>\n",
       "      <th>8</th>\n",
       "      <td>NAICS_9</td>\n",
       "      <td>1</td>\n",
       "      <td>2</td>\n",
       "      <td>2</td>\n",
       "      <td>1</td>\n",
       "      <td>0</td>\n",
       "      <td>0</td>\n",
       "    </tr>\n",
       "  </tbody>\n",
       "</table>\n",
       "</div>"
      ],
      "text/plain": [
       "     NAICS  Cluster 1 Counts (Ward)  Cluster 1 Counts (Single Euclidean)  \\\n",
       "0  NAICS_1                       38                                  101   \n",
       "1  NAICS_2                      103                                 1931   \n",
       "2  NAICS_3                      181                                 1318   \n",
       "3  NAICS_4                      346                                 5505   \n",
       "4  NAICS_5                      135                                 3949   \n",
       "5  NAICS_6                      105                                  900   \n",
       "6  NAICS_7                      807                                 4468   \n",
       "7  NAICS_8                      138                                 1796   \n",
       "8  NAICS_9                        1                                    2   \n",
       "\n",
       "   Cluster 1 Counts (Single Manhattan)  Cluster 2 Counts (Ward)  \\\n",
       "0                                  101                       64   \n",
       "1                                 1931                     1833   \n",
       "2                                 1318                     1139   \n",
       "3                                 5505                     5166   \n",
       "4                                 3949                     3816   \n",
       "5                                  900                      796   \n",
       "6                                 4468                     3672   \n",
       "7                                 1796                     1659   \n",
       "8                                    2                        1   \n",
       "\n",
       "   Cluster 2 Counts (Single Euclidean)  Cluster 2 Counts (Single Manhattan)  \n",
       "0                                    1                                    1  \n",
       "1                                    5                                    5  \n",
       "2                                    2                                    2  \n",
       "3                                    7                                    7  \n",
       "4                                    2                                    2  \n",
       "5                                    1                                    1  \n",
       "6                                   11                                   11  \n",
       "7                                    1                                    1  \n",
       "8                                    0                                    0  "
      ]
     },
     "execution_count": 47,
     "metadata": {},
     "output_type": "execute_result"
    }
   ],
   "source": [
    "c1_naics_ct_w = one_hot_counter(cluster1w, NAICS) \n",
    "c2_naics_ct_w = one_hot_counter(cluster2w, NAICS)   \n",
    "c1_naics_ct_se = one_hot_counter(cluster1se, NAICS)\n",
    "c2_naics_ct_se = one_hot_counter(cluster2se, NAICS) \n",
    "c1_naics_ct_sm = one_hot_counter(cluster1sm, NAICS) \n",
    "c2_naics_ct_sm = one_hot_counter(cluster2sm, NAICS) \n",
    "\n",
    "d = {'NAICS':NAICS, 'Cluster 1 Counts (Ward)':c1_naics_ct_w,'Cluster 1 Counts (Single Euclidean)':c1_naics_ct_se,\n",
    "     'Cluster 1 Counts (Single Manhattan)':c1_naics_ct_sm,'Cluster 2 Counts (Ward)':c2_naics_ct_w,\n",
    "     'Cluster 2 Counts (Single Euclidean)':c2_naics_ct_se,'Cluster 2 Counts (Single Manhattan)':c2_naics_ct_sm,}\n",
    "pd.DataFrame(data=d)"
   ]
  },
  {
   "cell_type": "markdown",
   "metadata": {},
   "source": [
    "Like the cluster 1 summary stats, the Euclidean and Manhattan distances clustered most of the data into cluster 1, and few records into cluster 2 for the **Region** feature.  For the Ward linkage, most of the data was clustered into cluster 2, however there were still many records for cluster 1.\n",
    "\n",
    "For the Euclidean and Manhattan distances for single linkage, the region with the most records was the West for cluster 1 and the Southeast for cluster 2.  For the Ward method, the West was most common for cluster 1, and the west was also most common for cluster 2."
   ]
  },
  {
   "cell_type": "code",
   "execution_count": 48,
   "metadata": {},
   "outputs": [
    {
     "data": {
      "text/html": [
       "<div>\n",
       "<style scoped>\n",
       "    .dataframe tbody tr th:only-of-type {\n",
       "        vertical-align: middle;\n",
       "    }\n",
       "\n",
       "    .dataframe tbody tr th {\n",
       "        vertical-align: top;\n",
       "    }\n",
       "\n",
       "    .dataframe thead th {\n",
       "        text-align: right;\n",
       "    }\n",
       "</style>\n",
       "<table border=\"1\" class=\"dataframe\">\n",
       "  <thead>\n",
       "    <tr style=\"text-align: right;\">\n",
       "      <th></th>\n",
       "      <th>Region</th>\n",
       "      <th>Cluster 1 Counts (Ward)</th>\n",
       "      <th>Cluster 1 Counts (Single Euclidean)</th>\n",
       "      <th>Cluster 1 Counts (Single Manhattan)</th>\n",
       "      <th>Cluster 2 Counts (Ward)</th>\n",
       "      <th>Cluster 2 Counts (Single Euclidean)</th>\n",
       "      <th>Cluster 2 Counts (Single Manhattan)</th>\n",
       "    </tr>\n",
       "  </thead>\n",
       "  <tbody>\n",
       "    <tr>\n",
       "      <th>0</th>\n",
       "      <td>State_midwest</td>\n",
       "      <td>398</td>\n",
       "      <td>4058</td>\n",
       "      <td>4058</td>\n",
       "      <td>3664</td>\n",
       "      <td>4</td>\n",
       "      <td>4</td>\n",
       "    </tr>\n",
       "    <tr>\n",
       "      <th>1</th>\n",
       "      <td>State_northeast</td>\n",
       "      <td>248</td>\n",
       "      <td>4198</td>\n",
       "      <td>4198</td>\n",
       "      <td>3952</td>\n",
       "      <td>2</td>\n",
       "      <td>2</td>\n",
       "    </tr>\n",
       "    <tr>\n",
       "      <th>2</th>\n",
       "      <td>State_southeast</td>\n",
       "      <td>432</td>\n",
       "      <td>4072</td>\n",
       "      <td>4072</td>\n",
       "      <td>3651</td>\n",
       "      <td>11</td>\n",
       "      <td>11</td>\n",
       "    </tr>\n",
       "    <tr>\n",
       "      <th>3</th>\n",
       "      <td>State_southwest</td>\n",
       "      <td>343</td>\n",
       "      <td>2501</td>\n",
       "      <td>2501</td>\n",
       "      <td>2163</td>\n",
       "      <td>5</td>\n",
       "      <td>5</td>\n",
       "    </tr>\n",
       "    <tr>\n",
       "      <th>4</th>\n",
       "      <td>State_west</td>\n",
       "      <td>433</td>\n",
       "      <td>5141</td>\n",
       "      <td>5141</td>\n",
       "      <td>4716</td>\n",
       "      <td>8</td>\n",
       "      <td>8</td>\n",
       "    </tr>\n",
       "  </tbody>\n",
       "</table>\n",
       "</div>"
      ],
      "text/plain": [
       "            Region  Cluster 1 Counts (Ward)  \\\n",
       "0    State_midwest                      398   \n",
       "1  State_northeast                      248   \n",
       "2  State_southeast                      432   \n",
       "3  State_southwest                      343   \n",
       "4       State_west                      433   \n",
       "\n",
       "   Cluster 1 Counts (Single Euclidean)  Cluster 1 Counts (Single Manhattan)  \\\n",
       "0                                 4058                                 4058   \n",
       "1                                 4198                                 4198   \n",
       "2                                 4072                                 4072   \n",
       "3                                 2501                                 2501   \n",
       "4                                 5141                                 5141   \n",
       "\n",
       "   Cluster 2 Counts (Ward)  Cluster 2 Counts (Single Euclidean)  \\\n",
       "0                     3664                                    4   \n",
       "1                     3952                                    2   \n",
       "2                     3651                                   11   \n",
       "3                     2163                                    5   \n",
       "4                     4716                                    8   \n",
       "\n",
       "   Cluster 2 Counts (Single Manhattan)  \n",
       "0                                    4  \n",
       "1                                    2  \n",
       "2                                   11  \n",
       "3                                    5  \n",
       "4                                    8  "
      ]
     },
     "execution_count": 48,
     "metadata": {},
     "output_type": "execute_result"
    }
   ],
   "source": [
    "c1_region_ct_w =one_hot_counter(cluster1w, region) \n",
    "c2_region_ct_w =one_hot_counter(cluster2w, region)\n",
    "c1_region_ct_se =one_hot_counter(cluster1se, region)  \n",
    "c2_region_ct_se =one_hot_counter(cluster2se, region)\n",
    "c1_region_ct_sm =one_hot_counter(cluster1sm, region)   \n",
    "c2_region_ct_sm =one_hot_counter(cluster2sm, region)\n",
    "\n",
    "d2 = {'Region': region,'Cluster 1 Counts (Ward)':c1_region_ct_w,'Cluster 1 Counts (Single Euclidean)':c1_region_ct_se,\n",
    "     'Cluster 1 Counts (Single Manhattan)':c1_region_ct_sm,'Cluster 2 Counts (Ward)':c2_region_ct_w,\n",
    "     'Cluster 2 Counts (Single Euclidean)':c2_region_ct_se,'Cluster 2 Counts (Single Manhattan)':c2_region_ct_sm,}\n",
    "\n",
    "pd.DataFrame(data=d2)"
   ]
  },
  {
   "cell_type": "markdown",
   "metadata": {},
   "source": [
    "### Continuous Feature EDA\n",
    "#### Cluster 1"
   ]
  },
  {
   "cell_type": "markdown",
   "metadata": {},
   "source": [
    "The Ward linkage Cluster 1's continuous feature summary statistics show that the median **Term** length was 101 months.  The 75th percentile is further from the 50th percentile and the mean is greater than the 50th percentile.  This suggests that this feature is slightly right skewed.\n",
    "\n",
    "The median **SBA_Appv** amount was $40,500, with the 75th percentile further from the 50th percentile compared to the 25th percentile distance from the 50th percentile.  This also suggests that the data is right skewed for SBA_Appv for this cluster.  **SBA_Appv_std** is the standardized version of **SBA_Apprv**; this feature was used for clustering to reduce the effects of the large dynamic range that is present in **SBA_Appv**."
   ]
  },
  {
   "cell_type": "code",
   "execution_count": 49,
   "metadata": {},
   "outputs": [
    {
     "data": {
      "text/html": [
       "<div>\n",
       "<style scoped>\n",
       "    .dataframe tbody tr th:only-of-type {\n",
       "        vertical-align: middle;\n",
       "    }\n",
       "\n",
       "    .dataframe tbody tr th {\n",
       "        vertical-align: top;\n",
       "    }\n",
       "\n",
       "    .dataframe thead th {\n",
       "        text-align: right;\n",
       "    }\n",
       "</style>\n",
       "<table border=\"1\" class=\"dataframe\">\n",
       "  <thead>\n",
       "    <tr style=\"text-align: right;\">\n",
       "      <th></th>\n",
       "      <th>Term</th>\n",
       "      <th>SBA_Appv</th>\n",
       "      <th>SBA_Appv_std</th>\n",
       "    </tr>\n",
       "  </thead>\n",
       "  <tbody>\n",
       "    <tr>\n",
       "      <th>count</th>\n",
       "      <td>1854.000000</td>\n",
       "      <td>1.854000e+03</td>\n",
       "      <td>1854.000000</td>\n",
       "    </tr>\n",
       "    <tr>\n",
       "      <th>mean</th>\n",
       "      <td>126.498921</td>\n",
       "      <td>4.940270e+05</td>\n",
       "      <td>2.623507</td>\n",
       "    </tr>\n",
       "    <tr>\n",
       "      <th>std</th>\n",
       "      <td>76.275516</td>\n",
       "      <td>2.628003e+05</td>\n",
       "      <td>1.682375</td>\n",
       "    </tr>\n",
       "    <tr>\n",
       "      <th>min</th>\n",
       "      <td>0.000000</td>\n",
       "      <td>2.322000e+05</td>\n",
       "      <td>0.947363</td>\n",
       "    </tr>\n",
       "    <tr>\n",
       "      <th>25%</th>\n",
       "      <td>73.000000</td>\n",
       "      <td>3.000000e+05</td>\n",
       "      <td>1.381399</td>\n",
       "    </tr>\n",
       "    <tr>\n",
       "      <th>50%</th>\n",
       "      <td>101.000000</td>\n",
       "      <td>4.050000e+05</td>\n",
       "      <td>2.053580</td>\n",
       "    </tr>\n",
       "    <tr>\n",
       "      <th>75%</th>\n",
       "      <td>184.000000</td>\n",
       "      <td>6.152625e+05</td>\n",
       "      <td>3.399623</td>\n",
       "    </tr>\n",
       "    <tr>\n",
       "      <th>max</th>\n",
       "      <td>421.000000</td>\n",
       "      <td>1.500000e+06</td>\n",
       "      <td>9.063468</td>\n",
       "    </tr>\n",
       "  </tbody>\n",
       "</table>\n",
       "</div>"
      ],
      "text/plain": [
       "              Term      SBA_Appv  SBA_Appv_std\n",
       "count  1854.000000  1.854000e+03   1854.000000\n",
       "mean    126.498921  4.940270e+05      2.623507\n",
       "std      76.275516  2.628003e+05      1.682375\n",
       "min       0.000000  2.322000e+05      0.947363\n",
       "25%      73.000000  3.000000e+05      1.381399\n",
       "50%     101.000000  4.050000e+05      2.053580\n",
       "75%     184.000000  6.152625e+05      3.399623\n",
       "max     421.000000  1.500000e+06      9.063468"
      ]
     },
     "execution_count": 49,
     "metadata": {},
     "output_type": "execute_result"
    }
   ],
   "source": [
    "cluster1w[continuous_var].describe()"
   ]
  },
  {
   "cell_type": "markdown",
   "metadata": {},
   "source": [
    "The Single linkage utlizing the Euclidean distance for Cluster 1's continuous feature summary statistics show that the median **Term** length was 50 months.  The 75th percentile is rougly the same distance as the 25th percental from the median.  This suggests that the data is roughly normal in shape, however the maximum values shows a long thin tail.\n",
    "\n",
    "The median **SBA_Appv** amount was $25,000, with the 75th percentile closer from the 50th percentile compared to the 25th percentile.  This suggests that the data slightly left skewed for SBA_Appv for this cluster.  **SBA_Appv_std** is the standardized version of **SBA_Apprv**; this feature was used for clustering to reduce the effects of the large dynamic range that is present in **SBA_Appv**."
   ]
  },
  {
   "cell_type": "code",
   "execution_count": 50,
   "metadata": {},
   "outputs": [
    {
     "data": {
      "text/html": [
       "<div>\n",
       "<style scoped>\n",
       "    .dataframe tbody tr th:only-of-type {\n",
       "        vertical-align: middle;\n",
       "    }\n",
       "\n",
       "    .dataframe tbody tr th {\n",
       "        vertical-align: top;\n",
       "    }\n",
       "\n",
       "    .dataframe thead th {\n",
       "        text-align: right;\n",
       "    }\n",
       "</style>\n",
       "<table border=\"1\" class=\"dataframe\">\n",
       "  <thead>\n",
       "    <tr style=\"text-align: right;\">\n",
       "      <th></th>\n",
       "      <th>Term</th>\n",
       "      <th>SBA_Appv</th>\n",
       "      <th>SBA_Appv_std</th>\n",
       "    </tr>\n",
       "  </thead>\n",
       "  <tbody>\n",
       "    <tr>\n",
       "      <th>count</th>\n",
       "      <td>19970.000000</td>\n",
       "      <td>1.997000e+04</td>\n",
       "      <td>19970.000000</td>\n",
       "    </tr>\n",
       "    <tr>\n",
       "      <th>mean</th>\n",
       "      <td>57.287381</td>\n",
       "      <td>8.285681e+04</td>\n",
       "      <td>-0.008691</td>\n",
       "    </tr>\n",
       "    <tr>\n",
       "      <th>std</th>\n",
       "      <td>46.402713</td>\n",
       "      <td>1.509249e+05</td>\n",
       "      <td>0.966179</td>\n",
       "    </tr>\n",
       "    <tr>\n",
       "      <th>min</th>\n",
       "      <td>0.000000</td>\n",
       "      <td>1.500000e+02</td>\n",
       "      <td>-0.538157</td>\n",
       "    </tr>\n",
       "    <tr>\n",
       "      <th>25%</th>\n",
       "      <td>30.000000</td>\n",
       "      <td>1.250000e+04</td>\n",
       "      <td>-0.459096</td>\n",
       "    </tr>\n",
       "    <tr>\n",
       "      <th>50%</th>\n",
       "      <td>50.000000</td>\n",
       "      <td>2.500000e+04</td>\n",
       "      <td>-0.379075</td>\n",
       "    </tr>\n",
       "    <tr>\n",
       "      <th>75%</th>\n",
       "      <td>69.000000</td>\n",
       "      <td>7.920000e+04</td>\n",
       "      <td>-0.032101</td>\n",
       "    </tr>\n",
       "    <tr>\n",
       "      <th>max</th>\n",
       "      <td>421.000000</td>\n",
       "      <td>1.378875e+06</td>\n",
       "      <td>8.288059</td>\n",
       "    </tr>\n",
       "  </tbody>\n",
       "</table>\n",
       "</div>"
      ],
      "text/plain": [
       "               Term      SBA_Appv  SBA_Appv_std\n",
       "count  19970.000000  1.997000e+04  19970.000000\n",
       "mean      57.287381  8.285681e+04     -0.008691\n",
       "std       46.402713  1.509249e+05      0.966179\n",
       "min        0.000000  1.500000e+02     -0.538157\n",
       "25%       30.000000  1.250000e+04     -0.459096\n",
       "50%       50.000000  2.500000e+04     -0.379075\n",
       "75%       69.000000  7.920000e+04     -0.032101\n",
       "max      421.000000  1.378875e+06      8.288059"
      ]
     },
     "execution_count": 50,
     "metadata": {},
     "output_type": "execute_result"
    }
   ],
   "source": [
    "cluster1se[continuous_var].describe()"
   ]
  },
  {
   "cell_type": "markdown",
   "metadata": {},
   "source": [
    "The Single linkage utlizing the Manhattan distance for Cluster 1's continuous feature summary statistics show that the median **Term** length was 50 months.  The 75th percentile is rougly the same distance as the 25th percental from the median.  This suggests that the data is roughly normal in shape, however the maximum values shows a long thin tail.\n",
    "\n",
    "The median **SBA_Appv** amount was $25,000, with the 75th percentile closer from the 50th percentile compared to the 25th percentile.  This suggests that the data slightly left skewed for SBA_Appv for this cluster.  **SBA_Appv_std** is the standardized version of **SBA_Apprv**; this feature was used for clustering to reduce the effects of the large dynamic range that is present in **SBA_Appv**."
   ]
  },
  {
   "cell_type": "code",
   "execution_count": 51,
   "metadata": {},
   "outputs": [
    {
     "data": {
      "text/html": [
       "<div>\n",
       "<style scoped>\n",
       "    .dataframe tbody tr th:only-of-type {\n",
       "        vertical-align: middle;\n",
       "    }\n",
       "\n",
       "    .dataframe tbody tr th {\n",
       "        vertical-align: top;\n",
       "    }\n",
       "\n",
       "    .dataframe thead th {\n",
       "        text-align: right;\n",
       "    }\n",
       "</style>\n",
       "<table border=\"1\" class=\"dataframe\">\n",
       "  <thead>\n",
       "    <tr style=\"text-align: right;\">\n",
       "      <th></th>\n",
       "      <th>Term</th>\n",
       "      <th>SBA_Appv</th>\n",
       "      <th>SBA_Appv_std</th>\n",
       "    </tr>\n",
       "  </thead>\n",
       "  <tbody>\n",
       "    <tr>\n",
       "      <th>count</th>\n",
       "      <td>19970.000000</td>\n",
       "      <td>1.997000e+04</td>\n",
       "      <td>19970.000000</td>\n",
       "    </tr>\n",
       "    <tr>\n",
       "      <th>mean</th>\n",
       "      <td>57.287381</td>\n",
       "      <td>8.285681e+04</td>\n",
       "      <td>-0.008691</td>\n",
       "    </tr>\n",
       "    <tr>\n",
       "      <th>std</th>\n",
       "      <td>46.402713</td>\n",
       "      <td>1.509249e+05</td>\n",
       "      <td>0.966179</td>\n",
       "    </tr>\n",
       "    <tr>\n",
       "      <th>min</th>\n",
       "      <td>0.000000</td>\n",
       "      <td>1.500000e+02</td>\n",
       "      <td>-0.538157</td>\n",
       "    </tr>\n",
       "    <tr>\n",
       "      <th>25%</th>\n",
       "      <td>30.000000</td>\n",
       "      <td>1.250000e+04</td>\n",
       "      <td>-0.459096</td>\n",
       "    </tr>\n",
       "    <tr>\n",
       "      <th>50%</th>\n",
       "      <td>50.000000</td>\n",
       "      <td>2.500000e+04</td>\n",
       "      <td>-0.379075</td>\n",
       "    </tr>\n",
       "    <tr>\n",
       "      <th>75%</th>\n",
       "      <td>69.000000</td>\n",
       "      <td>7.920000e+04</td>\n",
       "      <td>-0.032101</td>\n",
       "    </tr>\n",
       "    <tr>\n",
       "      <th>max</th>\n",
       "      <td>421.000000</td>\n",
       "      <td>1.378875e+06</td>\n",
       "      <td>8.288059</td>\n",
       "    </tr>\n",
       "  </tbody>\n",
       "</table>\n",
       "</div>"
      ],
      "text/plain": [
       "               Term      SBA_Appv  SBA_Appv_std\n",
       "count  19970.000000  1.997000e+04  19970.000000\n",
       "mean      57.287381  8.285681e+04     -0.008691\n",
       "std       46.402713  1.509249e+05      0.966179\n",
       "min        0.000000  1.500000e+02     -0.538157\n",
       "25%       30.000000  1.250000e+04     -0.459096\n",
       "50%       50.000000  2.500000e+04     -0.379075\n",
       "75%       69.000000  7.920000e+04     -0.032101\n",
       "max      421.000000  1.378875e+06      8.288059"
      ]
     },
     "execution_count": 51,
     "metadata": {},
     "output_type": "execute_result"
    }
   ],
   "source": [
    "cluster1sm[continuous_var].describe()"
   ]
  },
  {
   "cell_type": "markdown",
   "metadata": {},
   "source": [
    "#### Cluster 2"
   ]
  },
  {
   "cell_type": "markdown",
   "metadata": {},
   "source": [
    "The Ward Cluster 2's continuous feature summary statistics show that the median **Term** length was 47 months.  The 75th percentile is roughly the same distance from the 50th percentile as the 25th percentile.  This suggests that this feature is normal in shape, however there is a long thing tail as shown by the max value.\n",
    "\n",
    "The mean **SBA_Appv** amount was $25,000, with the 75th percentile further from the 50th percentile compared to the 25th percentile distance from the 50th percentile.  This suggests that the data is right skewed for SBA_Appv for this cluster.  **SBA_Appv_std** is the standardized version of **SBA_Apprv**; this feature was used for clustering to reduce the effects of the large dynamic range that is present in **SBA_Appv**."
   ]
  },
  {
   "cell_type": "code",
   "execution_count": 52,
   "metadata": {},
   "outputs": [
    {
     "data": {
      "text/html": [
       "<div>\n",
       "<style scoped>\n",
       "    .dataframe tbody tr th:only-of-type {\n",
       "        vertical-align: middle;\n",
       "    }\n",
       "\n",
       "    .dataframe tbody tr th {\n",
       "        vertical-align: top;\n",
       "    }\n",
       "\n",
       "    .dataframe thead th {\n",
       "        text-align: right;\n",
       "    }\n",
       "</style>\n",
       "<table border=\"1\" class=\"dataframe\">\n",
       "  <thead>\n",
       "    <tr style=\"text-align: right;\">\n",
       "      <th></th>\n",
       "      <th>Term</th>\n",
       "      <th>SBA_Appv</th>\n",
       "      <th>SBA_Appv_std</th>\n",
       "    </tr>\n",
       "  </thead>\n",
       "  <tbody>\n",
       "    <tr>\n",
       "      <th>count</th>\n",
       "      <td>18146.000000</td>\n",
       "      <td>18146.000000</td>\n",
       "      <td>18146.000000</td>\n",
       "    </tr>\n",
       "    <tr>\n",
       "      <th>mean</th>\n",
       "      <td>50.375289</td>\n",
       "      <td>43163.301940</td>\n",
       "      <td>-0.262798</td>\n",
       "    </tr>\n",
       "    <tr>\n",
       "      <th>std</th>\n",
       "      <td>35.562366</td>\n",
       "      <td>49112.358532</td>\n",
       "      <td>0.314404</td>\n",
       "    </tr>\n",
       "    <tr>\n",
       "      <th>min</th>\n",
       "      <td>0.000000</td>\n",
       "      <td>150.000000</td>\n",
       "      <td>-0.538157</td>\n",
       "    </tr>\n",
       "    <tr>\n",
       "      <th>25%</th>\n",
       "      <td>28.000000</td>\n",
       "      <td>12500.000000</td>\n",
       "      <td>-0.459096</td>\n",
       "    </tr>\n",
       "    <tr>\n",
       "      <th>50%</th>\n",
       "      <td>47.000000</td>\n",
       "      <td>25000.000000</td>\n",
       "      <td>-0.379075</td>\n",
       "    </tr>\n",
       "    <tr>\n",
       "      <th>75%</th>\n",
       "      <td>65.000000</td>\n",
       "      <td>50000.000000</td>\n",
       "      <td>-0.219031</td>\n",
       "    </tr>\n",
       "    <tr>\n",
       "      <th>max</th>\n",
       "      <td>413.000000</td>\n",
       "      <td>231375.000000</td>\n",
       "      <td>0.942081</td>\n",
       "    </tr>\n",
       "  </tbody>\n",
       "</table>\n",
       "</div>"
      ],
      "text/plain": [
       "               Term       SBA_Appv  SBA_Appv_std\n",
       "count  18146.000000   18146.000000  18146.000000\n",
       "mean      50.375289   43163.301940     -0.262798\n",
       "std       35.562366   49112.358532      0.314404\n",
       "min        0.000000     150.000000     -0.538157\n",
       "25%       28.000000   12500.000000     -0.459096\n",
       "50%       47.000000   25000.000000     -0.379075\n",
       "75%       65.000000   50000.000000     -0.219031\n",
       "max      413.000000  231375.000000      0.942081"
      ]
     },
     "execution_count": 52,
     "metadata": {},
     "output_type": "execute_result"
    }
   ],
   "source": [
    "cluster2w[continuous_var].describe()"
   ]
  },
  {
   "cell_type": "markdown",
   "metadata": {},
   "source": [
    "The Single linkage utilizing the euclidean distance for Cluster 2's continuous feature summary statistics show that the median **Term** length was 149 months.  The 75th percentile further distance from the 50th percentile compared to the 25th percentile.  This suggests that this featureright skewed in shape.\n",
    "\n",
    "The mean **SBA_Appv** amount was $1,500,000, with the 75th is the same as the 50th percentile and the 25th percentile is further from the median than the 75th percentile.  This suggests that the data is left skewed for SBA_Appv for this cluster.  **SBA_Appv_std** is the standardized version of **SBA_Apprv**; this feature was used for clustering to reduce the effects of the large dynamic range that is present in **SBA_Appv**."
   ]
  },
  {
   "cell_type": "code",
   "execution_count": 53,
   "metadata": {},
   "outputs": [
    {
     "data": {
      "text/html": [
       "<div>\n",
       "<style scoped>\n",
       "    .dataframe tbody tr th:only-of-type {\n",
       "        vertical-align: middle;\n",
       "    }\n",
       "\n",
       "    .dataframe tbody tr th {\n",
       "        vertical-align: top;\n",
       "    }\n",
       "\n",
       "    .dataframe thead th {\n",
       "        text-align: right;\n",
       "    }\n",
       "</style>\n",
       "<table border=\"1\" class=\"dataframe\">\n",
       "  <thead>\n",
       "    <tr style=\"text-align: right;\">\n",
       "      <th></th>\n",
       "      <th>Term</th>\n",
       "      <th>SBA_Appv</th>\n",
       "      <th>SBA_Appv_std</th>\n",
       "    </tr>\n",
       "  </thead>\n",
       "  <tbody>\n",
       "    <tr>\n",
       "      <th>count</th>\n",
       "      <td>30.000000</td>\n",
       "      <td>3.000000e+01</td>\n",
       "      <td>30.000000</td>\n",
       "    </tr>\n",
       "    <tr>\n",
       "      <th>mean</th>\n",
       "      <td>153.666667</td>\n",
       "      <td>1.483894e+06</td>\n",
       "      <td>8.960365</td>\n",
       "    </tr>\n",
       "    <tr>\n",
       "      <th>std</th>\n",
       "      <td>83.092941</td>\n",
       "      <td>2.848580e+04</td>\n",
       "      <td>0.182358</td>\n",
       "    </tr>\n",
       "    <tr>\n",
       "      <th>min</th>\n",
       "      <td>8.000000</td>\n",
       "      <td>1.413225e+06</td>\n",
       "      <td>8.507958</td>\n",
       "    </tr>\n",
       "    <tr>\n",
       "      <th>25%</th>\n",
       "      <td>83.000000</td>\n",
       "      <td>1.476225e+06</td>\n",
       "      <td>8.911267</td>\n",
       "    </tr>\n",
       "    <tr>\n",
       "      <th>50%</th>\n",
       "      <td>149.000000</td>\n",
       "      <td>1.500000e+06</td>\n",
       "      <td>9.063468</td>\n",
       "    </tr>\n",
       "    <tr>\n",
       "      <th>75%</th>\n",
       "      <td>222.750000</td>\n",
       "      <td>1.500000e+06</td>\n",
       "      <td>9.063468</td>\n",
       "    </tr>\n",
       "    <tr>\n",
       "      <th>max</th>\n",
       "      <td>284.000000</td>\n",
       "      <td>1.500000e+06</td>\n",
       "      <td>9.063468</td>\n",
       "    </tr>\n",
       "  </tbody>\n",
       "</table>\n",
       "</div>"
      ],
      "text/plain": [
       "             Term      SBA_Appv  SBA_Appv_std\n",
       "count   30.000000  3.000000e+01     30.000000\n",
       "mean   153.666667  1.483894e+06      8.960365\n",
       "std     83.092941  2.848580e+04      0.182358\n",
       "min      8.000000  1.413225e+06      8.507958\n",
       "25%     83.000000  1.476225e+06      8.911267\n",
       "50%    149.000000  1.500000e+06      9.063468\n",
       "75%    222.750000  1.500000e+06      9.063468\n",
       "max    284.000000  1.500000e+06      9.063468"
      ]
     },
     "execution_count": 53,
     "metadata": {},
     "output_type": "execute_result"
    }
   ],
   "source": [
    "cluster2se[continuous_var].describe()"
   ]
  },
  {
   "cell_type": "markdown",
   "metadata": {},
   "source": [
    "The Single linkage utilizing the Manhattan distance for Cluster 2's continuous feature summary statistics show that the median **Term** length was 149 months.  The 75th percentile further distance from the 50th percentile compared to the 25th percentile.  This suggests that this featureright skewed in shape.\n",
    "\n",
    "The mean **SBA_Appv** amount was $1,500,000, with the 75th is the same as the 50th percentile and the 25th percentile is further from the median than the 75th percentile.  This suggests that the data is left skewed for SBA_Appv for this cluster.  **SBA_Appv_std** is the standardized version of **SBA_Apprv**; this feature was used for clustering to reduce the effects of the large dynamic range that is present in **SBA_Appv**."
   ]
  },
  {
   "cell_type": "code",
   "execution_count": 54,
   "metadata": {},
   "outputs": [
    {
     "data": {
      "text/html": [
       "<div>\n",
       "<style scoped>\n",
       "    .dataframe tbody tr th:only-of-type {\n",
       "        vertical-align: middle;\n",
       "    }\n",
       "\n",
       "    .dataframe tbody tr th {\n",
       "        vertical-align: top;\n",
       "    }\n",
       "\n",
       "    .dataframe thead th {\n",
       "        text-align: right;\n",
       "    }\n",
       "</style>\n",
       "<table border=\"1\" class=\"dataframe\">\n",
       "  <thead>\n",
       "    <tr style=\"text-align: right;\">\n",
       "      <th></th>\n",
       "      <th>Term</th>\n",
       "      <th>SBA_Appv</th>\n",
       "      <th>SBA_Appv_std</th>\n",
       "    </tr>\n",
       "  </thead>\n",
       "  <tbody>\n",
       "    <tr>\n",
       "      <th>count</th>\n",
       "      <td>30.000000</td>\n",
       "      <td>3.000000e+01</td>\n",
       "      <td>30.000000</td>\n",
       "    </tr>\n",
       "    <tr>\n",
       "      <th>mean</th>\n",
       "      <td>153.666667</td>\n",
       "      <td>1.483894e+06</td>\n",
       "      <td>8.960365</td>\n",
       "    </tr>\n",
       "    <tr>\n",
       "      <th>std</th>\n",
       "      <td>83.092941</td>\n",
       "      <td>2.848580e+04</td>\n",
       "      <td>0.182358</td>\n",
       "    </tr>\n",
       "    <tr>\n",
       "      <th>min</th>\n",
       "      <td>8.000000</td>\n",
       "      <td>1.413225e+06</td>\n",
       "      <td>8.507958</td>\n",
       "    </tr>\n",
       "    <tr>\n",
       "      <th>25%</th>\n",
       "      <td>83.000000</td>\n",
       "      <td>1.476225e+06</td>\n",
       "      <td>8.911267</td>\n",
       "    </tr>\n",
       "    <tr>\n",
       "      <th>50%</th>\n",
       "      <td>149.000000</td>\n",
       "      <td>1.500000e+06</td>\n",
       "      <td>9.063468</td>\n",
       "    </tr>\n",
       "    <tr>\n",
       "      <th>75%</th>\n",
       "      <td>222.750000</td>\n",
       "      <td>1.500000e+06</td>\n",
       "      <td>9.063468</td>\n",
       "    </tr>\n",
       "    <tr>\n",
       "      <th>max</th>\n",
       "      <td>284.000000</td>\n",
       "      <td>1.500000e+06</td>\n",
       "      <td>9.063468</td>\n",
       "    </tr>\n",
       "  </tbody>\n",
       "</table>\n",
       "</div>"
      ],
      "text/plain": [
       "             Term      SBA_Appv  SBA_Appv_std\n",
       "count   30.000000  3.000000e+01     30.000000\n",
       "mean   153.666667  1.483894e+06      8.960365\n",
       "std     83.092941  2.848580e+04      0.182358\n",
       "min      8.000000  1.413225e+06      8.507958\n",
       "25%     83.000000  1.476225e+06      8.911267\n",
       "50%    149.000000  1.500000e+06      9.063468\n",
       "75%    222.750000  1.500000e+06      9.063468\n",
       "max    284.000000  1.500000e+06      9.063468"
      ]
     },
     "execution_count": 54,
     "metadata": {},
     "output_type": "execute_result"
    }
   ],
   "source": [
    "cluster2sm[continuous_var].describe()"
   ]
  },
  {
   "cell_type": "markdown",
   "metadata": {},
   "source": [
    "### Agglomerative Clustering Comparison"
   ]
  },
  {
   "cell_type": "markdown",
   "metadata": {},
   "source": [
    "When comparing the Ward method versus the Euclidean and Manhattan distances, the Ward method did a better job of creating clusters that had numerous records with distinct summary statistics and categorical feature counts.  Both Euclidean and Manhattan distance measures are not optimal for higher dimensional data, due to the curse of dimensionality as the number of features increase the volume of calculations increases dramatically.\n",
    "\n",
    "Although the Ward method clustered a large volume into Cluster 2, there were still many records for cluster 1.  When looking at the summary statistics and categorical counts we can see that \"CHGOFFS\" with a median **Term** of 101 months from the Arts and Hospitality industry and the Southeast are most common in cluster 1; while cluster 2 has a median term of 47 months with Trade and Transportation and the West region being most common.\n",
    "\n",
    "When looking at the Euclidean and Manhattan distance clustering most data was clustered into cluster 1 with a median **Term** of 50 months from the \"Trade and Transportation\" Sector and the West region.  Cluster 2 has so few records that it is not informative to use that cluster as most records are in cluster 1.\n",
    "\n",
    "Given this information, the Ward methods provides 2 clusters with a good volume of records for both clusters with distinct and separate medians and categorical counts.  The use of this model will be explained in \"Model and Evaluation 4\"."
   ]
  },
  {
   "cell_type": "markdown",
   "metadata": {},
   "source": [
    "### K-Modes and Agglomerative Clustering Comparison"
   ]
  },
  {
   "cell_type": "markdown",
   "metadata": {},
   "source": [
    "# Modeling and Evaluation 3"
   ]
  },
  {
   "cell_type": "markdown",
   "metadata": {},
   "source": [
    "## Agglomerative Clustering Visualizations"
   ]
  },
  {
   "cell_type": "markdown",
   "metadata": {},
   "source": [
    "The dendrogram generated by the plot_dendrogram() helper function shows the clusters present for agglomerative clustering utilizing single linkages with Euclidean distance as a similarity measure.  We can see that there are two distinct clusters, however most of the data is in the red cluster and few records are in the green cluster."
   ]
  },
  {
   "cell_type": "code",
   "execution_count": 55,
   "metadata": {},
   "outputs": [
    {
     "data": {
      "image/png": "[encoded data removed]",
      "text/plain": [
       "<Figure size 432x288 with 1 Axes>"
      ]
     },
     "metadata": {
      "needs_background": "light"
     },
     "output_type": "display_data"
    }
   ],
   "source": [
    "# Single Linkage Dendrogram\n",
    "plt.title('Single Hierarchical Clustering Dendrogram')\n",
    "# plot the top three levels of the dendrogram\n",
    "plot_dendrogram(cluster_model1, truncate_mode='level', p=15)\n",
    "plt.xlabel(\"Number of points in node (or index of point if no parenthesis).\")\n",
    "plt.show()"
   ]
  },
  {
   "cell_type": "markdown",
   "metadata": {},
   "source": [
    "The dendrogram generated below is for an agglomerative cluster model utilizing the Ward Method with Euclidean distance as a similarity measure.  We can see two distinct clusters with most of the data in the green cluster and a large number of records in the red cluster."
   ]
  },
  {
   "cell_type": "code",
   "execution_count": null,
   "metadata": {},
   "outputs": [],
   "source": [
    "# Ward Linkage Dendrogram\n",
    "plt.title('Ward Hierarchical Clustering Dendrogram')\n",
    "# plot the top three levels of the dendrogram\n",
    "plot_dendrogram(cluster_model2, truncate_mode='level', p=15)\n",
    "plt.xlabel(\"Number of points in node (or index of point if no parenthesis).\")\n",
    "plt.show()"
   ]
  },
  {
   "cell_type": "markdown",
   "metadata": {},
   "source": [
    "The two dendrograms above were used to help visually determine how many clusters and which linkage method was ideal for the data for the final model.  Based on visual inspection and the results from the \"Model Evaluation 2\" section the Ward method yeilds better clusters.\n",
    "\n",
    "The categorical_plot() helper function was created to visualize counts of a one-hot-encoded feature.  This function has two arguments: cluster and variable_name.  These arguments are fed into one_hot_counter() helper funciton, which then returns a list of counts for each one-hot-encoded level of a feature for visualization."
   ]
  },
  {
   "cell_type": "code",
   "execution_count": null,
   "metadata": {},
   "outputs": [],
   "source": [
    "def categorical_plot(cluster, variable_name):\n",
    "    #counts non-zero values from one-hot encoded column and returns a list\n",
    "    var_count = one_hot_counter(cluster, variable_name)\n",
    "        \n",
    "    plt.figure(figsize=(8, 6))\n",
    "    ax = plt.bar(x = variable_name, height = var_count)\n",
    "    plt.title(\"Cluster Frequency\",fontsize= 16)\n",
    "    plt.xticks(rotation=45) \n",
    "    print(var_count)"
   ]
  },
  {
   "cell_type": "markdown",
   "metadata": {},
   "source": [
    "### Ward Method\n",
    "\n",
    "For cluster 1 we can see that NAICS_7 (Arts and Hospitality) and for cluster 2 NAICS_4 (Trade and Transportation) are most prelvant for their respective clusters.  The \"Model Evaluation 2\" section goes into more detail for these clusters.\n",
    "\n",
    "For cluster 1 and cluster 2 the West region is most common. The \"Model Evaluation 2\" section goes into more detail for these clusters."
   ]
  },
  {
   "cell_type": "code",
   "execution_count": null,
   "metadata": {},
   "outputs": [],
   "source": [
    "# Cluster 1 NAICS\n",
    "categorical_plot(cluster1w, NAICS)"
   ]
  },
  {
   "cell_type": "code",
   "execution_count": null,
   "metadata": {},
   "outputs": [],
   "source": [
    "#Cluster 2 NAICS\n",
    "categorical_plot(cluster2w, NAICS)"
   ]
  },
  {
   "cell_type": "code",
   "execution_count": null,
   "metadata": {},
   "outputs": [],
   "source": [
    "#Cluster 1 Regions\n",
    "categorical_plot(cluster1w, region)"
   ]
  },
  {
   "cell_type": "code",
   "execution_count": null,
   "metadata": {},
   "outputs": [],
   "source": [
    "#Cluster 2 Regions\n",
    "categorical_plot(cluster2w, region)"
   ]
  },
  {
   "cell_type": "markdown",
   "metadata": {},
   "source": [
    "### Euclidean and Manhattan\n",
    "\n",
    "For cluster 1 we can see that NAICS_4 (Trade and Transportation) and for cluster 2 NAICS_7 (Arts and Hospitality) are most prelvant for their respective clusters.  The \"Model Evaluation 2\" section goes into more detail for these clusters.\n",
    "\n",
    "For cluster 1 the West region is most common, for cluster 2 the Southeast region is most common. The \"Model Evaluation 2\" section goes into more detail for these clusters."
   ]
  },
  {
   "cell_type": "code",
   "execution_count": null,
   "metadata": {},
   "outputs": [],
   "source": [
    "categorical_plot(cluster1se, NAICS)"
   ]
  },
  {
   "cell_type": "code",
   "execution_count": null,
   "metadata": {},
   "outputs": [],
   "source": [
    "categorical_plot(cluster2se, NAICS)"
   ]
  },
  {
   "cell_type": "code",
   "execution_count": null,
   "metadata": {},
   "outputs": [],
   "source": [
    "categorical_plot(cluster1se, region)"
   ]
  },
  {
   "cell_type": "code",
   "execution_count": null,
   "metadata": {},
   "outputs": [],
   "source": [
    "categorical_plot(cluster2se, region)"
   ]
  },
  {
   "cell_type": "markdown",
   "metadata": {},
   "source": [
    "# Modeling and Evaluation 4"
   ]
  },
  {
   "cell_type": "markdown",
   "metadata": {},
   "source": [
    "# Deployment"
   ]
  },
  {
   "cell_type": "markdown",
   "metadata": {
    "colab_type": "text",
    "id": "sfYvCS0LZkps"
   },
   "source": [
    "# Exceptional Work"
   ]
  },
  {
   "cell_type": "markdown",
   "metadata": {
    "colab_type": "text",
    "id": "xFEujonaT9aD"
   },
   "source": [
    "We would like to have the following considered for exceptional work:\n",
    "1. EDA was preformed on the K-Modes and Agglomerative Clustering to determine the best clusters\n",
    "2. plot_dendrogram(), one_hot_counter() and categorical_plot() helper functions were created to reduce the amount of repeated code.\n",
    "3. K-modes was not covered in class and used as one of the clustering methods.  Additionally there is an appendix explaining the function, its arguments, and attributes."
   ]
  },
  {
   "cell_type": "code",
   "execution_count": null,
   "metadata": {},
   "outputs": [],
   "source": []
  }
 ],
 "metadata": {
  "colab": {
   "collapsed_sections": [],
   "name": "Mini-Project1_20200613.ipynb",
   "provenance": [],
   "toc_visible": true
  },
  "kernelspec": {
   "display_name": "Python 3",
   "language": "python",
   "name": "python3"
  },
  "language_info": {
   "codemirror_mode": {
    "name": "ipython",
    "version": 3
   },
   "file_extension": ".py",
   "mimetype": "text/x-python",
   "name": "python",
   "nbconvert_exporter": "python",
   "pygments_lexer": "ipython3",
   "version": "3.7.6"
  }
 },
 "nbformat": 4,
 "nbformat_minor": 1
}
